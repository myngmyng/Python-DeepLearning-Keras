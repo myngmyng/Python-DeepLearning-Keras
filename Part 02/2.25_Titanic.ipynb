{
 "cells": [
  {
   "cell_type": "markdown",
   "metadata": {
    "id": "ASaC9V0LELN_"
   },
   "source": [
    "# 3.8 타이타닉 생존율 예측"
   ]
  },
  {
   "cell_type": "markdown",
   "metadata": {
    "id": "kBC2sAw-EQc5"
   },
   "source": [
    "##3.8.1 문제 정의"
   ]
  },
  {
   "cell_type": "code",
   "execution_count": 25,
   "metadata": {
    "id": "v2L8vtGmmE6Q"
   },
   "outputs": [],
   "source": [
    "import tensorflow as tf\n",
    "import keras"
   ]
  },
  {
   "cell_type": "markdown",
   "metadata": {
    "id": "uLu2cc5ynUx4"
   },
   "source": [
    "## 3.8.2 다양한 형태로 데이터 구성 및 준비하기"
   ]
  },
  {
   "cell_type": "code",
   "execution_count": 2,
   "metadata": {
    "colab": {
     "base_uri": "https://localhost:8080/"
    },
    "executionInfo": {
     "elapsed": 326,
     "status": "ok",
     "timestamp": 1665324595064,
     "user": {
      "displayName": "한성",
      "userId": "01280908312724634418"
     },
     "user_tz": -540
    },
    "id": "ONO67pzymuai",
    "outputId": "b00a2a13-9a0b-4c3c-fd33-056628428ec3"
   },
   "outputs": [
    {
     "data": {
      "text/plain": [
       "pandas.core.frame.DataFrame"
      ]
     },
     "execution_count": 2,
     "metadata": {},
     "output_type": "execute_result"
    }
   ],
   "source": [
    "import pandas as pd\n",
    "\n",
    "URL = 'https://storage.googleapis.com/tf-datasets/titanic/train.csv'\n",
    "df = pd.read_csv(URL)\n",
    "\n",
    "type(df)"
   ]
  },
  {
   "cell_type": "code",
   "execution_count": 3,
   "metadata": {
    "colab": {
     "base_uri": "https://localhost:8080/",
     "height": 224
    },
    "executionInfo": {
     "elapsed": 410,
     "status": "ok",
     "timestamp": 1665324597385,
     "user": {
      "displayName": "한성",
      "userId": "01280908312724634418"
     },
     "user_tz": -540
    },
    "id": "AmMA1bY4m2XN",
    "outputId": "21fe5c05-7833-4bd7-d7fb-25b34aca5bcd"
   },
   "outputs": [
    {
     "name": "stdout",
     "output_type": "stream",
     "text": [
      "(627, 10)\n"
     ]
    },
    {
     "data": {
      "application/vnd.microsoft.datawrangler.viewer.v0+json": {
       "columns": [
        {
         "name": "index",
         "rawType": "int64",
         "type": "integer"
        },
        {
         "name": "survived",
         "rawType": "int64",
         "type": "integer"
        },
        {
         "name": "sex",
         "rawType": "object",
         "type": "string"
        },
        {
         "name": "age",
         "rawType": "float64",
         "type": "float"
        },
        {
         "name": "n_siblings_spouses",
         "rawType": "int64",
         "type": "integer"
        },
        {
         "name": "parch",
         "rawType": "int64",
         "type": "integer"
        },
        {
         "name": "fare",
         "rawType": "float64",
         "type": "float"
        },
        {
         "name": "class",
         "rawType": "object",
         "type": "string"
        },
        {
         "name": "deck",
         "rawType": "object",
         "type": "string"
        },
        {
         "name": "embark_town",
         "rawType": "object",
         "type": "string"
        },
        {
         "name": "alone",
         "rawType": "object",
         "type": "string"
        }
       ],
       "conversionMethod": "pd.DataFrame",
       "ref": "addfeb30-3da3-46bb-83b9-cc835a66f9ed",
       "rows": [
        [
         "0",
         "0",
         "male",
         "22.0",
         "1",
         "0",
         "7.25",
         "Third",
         "unknown",
         "Southampton",
         "n"
        ],
        [
         "1",
         "1",
         "female",
         "38.0",
         "1",
         "0",
         "71.2833",
         "First",
         "C",
         "Cherbourg",
         "n"
        ],
        [
         "2",
         "1",
         "female",
         "26.0",
         "0",
         "0",
         "7.925",
         "Third",
         "unknown",
         "Southampton",
         "y"
        ],
        [
         "3",
         "1",
         "female",
         "35.0",
         "1",
         "0",
         "53.1",
         "First",
         "C",
         "Southampton",
         "n"
        ],
        [
         "4",
         "0",
         "male",
         "28.0",
         "0",
         "0",
         "8.4583",
         "Third",
         "unknown",
         "Queenstown",
         "y"
        ]
       ],
       "shape": {
        "columns": 10,
        "rows": 5
       }
      },
      "text/html": [
       "<div>\n",
       "<style scoped>\n",
       "    .dataframe tbody tr th:only-of-type {\n",
       "        vertical-align: middle;\n",
       "    }\n",
       "\n",
       "    .dataframe tbody tr th {\n",
       "        vertical-align: top;\n",
       "    }\n",
       "\n",
       "    .dataframe thead th {\n",
       "        text-align: right;\n",
       "    }\n",
       "</style>\n",
       "<table border=\"1\" class=\"dataframe\">\n",
       "  <thead>\n",
       "    <tr style=\"text-align: right;\">\n",
       "      <th></th>\n",
       "      <th>survived</th>\n",
       "      <th>sex</th>\n",
       "      <th>age</th>\n",
       "      <th>n_siblings_spouses</th>\n",
       "      <th>parch</th>\n",
       "      <th>fare</th>\n",
       "      <th>class</th>\n",
       "      <th>deck</th>\n",
       "      <th>embark_town</th>\n",
       "      <th>alone</th>\n",
       "    </tr>\n",
       "  </thead>\n",
       "  <tbody>\n",
       "    <tr>\n",
       "      <th>0</th>\n",
       "      <td>0</td>\n",
       "      <td>male</td>\n",
       "      <td>22.0</td>\n",
       "      <td>1</td>\n",
       "      <td>0</td>\n",
       "      <td>7.2500</td>\n",
       "      <td>Third</td>\n",
       "      <td>unknown</td>\n",
       "      <td>Southampton</td>\n",
       "      <td>n</td>\n",
       "    </tr>\n",
       "    <tr>\n",
       "      <th>1</th>\n",
       "      <td>1</td>\n",
       "      <td>female</td>\n",
       "      <td>38.0</td>\n",
       "      <td>1</td>\n",
       "      <td>0</td>\n",
       "      <td>71.2833</td>\n",
       "      <td>First</td>\n",
       "      <td>C</td>\n",
       "      <td>Cherbourg</td>\n",
       "      <td>n</td>\n",
       "    </tr>\n",
       "    <tr>\n",
       "      <th>2</th>\n",
       "      <td>1</td>\n",
       "      <td>female</td>\n",
       "      <td>26.0</td>\n",
       "      <td>0</td>\n",
       "      <td>0</td>\n",
       "      <td>7.9250</td>\n",
       "      <td>Third</td>\n",
       "      <td>unknown</td>\n",
       "      <td>Southampton</td>\n",
       "      <td>y</td>\n",
       "    </tr>\n",
       "    <tr>\n",
       "      <th>3</th>\n",
       "      <td>1</td>\n",
       "      <td>female</td>\n",
       "      <td>35.0</td>\n",
       "      <td>1</td>\n",
       "      <td>0</td>\n",
       "      <td>53.1000</td>\n",
       "      <td>First</td>\n",
       "      <td>C</td>\n",
       "      <td>Southampton</td>\n",
       "      <td>n</td>\n",
       "    </tr>\n",
       "    <tr>\n",
       "      <th>4</th>\n",
       "      <td>0</td>\n",
       "      <td>male</td>\n",
       "      <td>28.0</td>\n",
       "      <td>0</td>\n",
       "      <td>0</td>\n",
       "      <td>8.4583</td>\n",
       "      <td>Third</td>\n",
       "      <td>unknown</td>\n",
       "      <td>Queenstown</td>\n",
       "      <td>y</td>\n",
       "    </tr>\n",
       "  </tbody>\n",
       "</table>\n",
       "</div>"
      ],
      "text/plain": [
       "   survived     sex   age  n_siblings_spouses  parch     fare  class     deck  \\\n",
       "0         0    male  22.0                   1      0   7.2500  Third  unknown   \n",
       "1         1  female  38.0                   1      0  71.2833  First        C   \n",
       "2         1  female  26.0                   0      0   7.9250  Third  unknown   \n",
       "3         1  female  35.0                   1      0  53.1000  First        C   \n",
       "4         0    male  28.0                   0      0   8.4583  Third  unknown   \n",
       "\n",
       "   embark_town alone  \n",
       "0  Southampton     n  \n",
       "1    Cherbourg     n  \n",
       "2  Southampton     y  \n",
       "3  Southampton     n  \n",
       "4   Queenstown     y  "
      ]
     },
     "execution_count": 3,
     "metadata": {},
     "output_type": "execute_result"
    }
   ],
   "source": [
    "print(df.shape)\n",
    "\n",
    "df.head()"
   ]
  },
  {
   "cell_type": "code",
   "execution_count": 4,
   "metadata": {
    "colab": {
     "base_uri": "https://localhost:8080/"
    },
    "executionInfo": {
     "elapsed": 2355,
     "status": "ok",
     "timestamp": 1665324602602,
     "user": {
      "displayName": "한성",
      "userId": "01280908312724634418"
     },
     "user_tz": -540
    },
    "id": "wQ0-cOU_m46W",
    "outputId": "b426e716-ec77-4a32-9022-dcccf4d9f12e"
   },
   "outputs": [
    {
     "data": {
      "text/plain": [
       "['abstract_reasoning', 'accentdb', 'aeslc', 'aflw2k3d', 'ag_news_subset']"
      ]
     },
     "execution_count": 4,
     "metadata": {},
     "output_type": "execute_result"
    }
   ],
   "source": [
    "import tensorflow_datasets as tfds\n",
    "\n",
    "tfds.list_builders()[:5]"
   ]
  },
  {
   "cell_type": "code",
   "execution_count": 5,
   "metadata": {
    "colab": {
     "base_uri": "https://localhost:8080/",
     "height": 135,
     "referenced_widgets": [
      "6eb4f62f262f48f585524071c4bc139e",
      "4ead96f23c6946219a5872ecad273c70",
      "59ed361682e84e12b86b6e1f947d0ea3",
      "d2175d18aa6d4d2c8d7a738f5c990e7d",
      "57afadf199d248e6a89f08436e6131d1",
      "5d08d119019a4ccc924a9ab245270b1e",
      "1c8ffaa7fa7a4a54b9e588b447ca7cd7",
      "3fca8b6259204b4a80870651082bcb16",
      "ae18550933ce439a85294cb6c850e35c",
      "0456f3c143704a75b69e107d16b9bbe1",
      "032c9cbdfcb44b46a2a5cb20b6d8fd78",
      "d0eb070c2fa144a796413b8fb8b1121f",
      "6a2ea2a2bb1140f9af40009e89479412",
      "9dbefa6280aa41d7b5367b5c7d6ed5a5",
      "593ad060d4a846ed9ce63827cfe58907",
      "7994cda63d814499922c1f3324326f1f",
      "79b77d2d2a7f4d15b0f4015ce6c5c53d",
      "82804e670a6c45f3bb72e07f7d123d49",
      "bb2ef85791e64242bb3bb4bcbb73be41",
      "d60b08ce2d5841d7a7e82027be02cb93",
      "0e6e3a798a024bdfac336e92a4d42ec1",
      "0bf030da2d9644389e55b61dbfd6f4e1",
      "d7510ea083e84fb087eb4d3a37680f9a",
      "140dea88318b49efaf34d9bfcba7595d",
      "2b5e1f9a0c264107820a7e962dffcd11",
      "fbd949dc5c8e4a239f4b602b7cb4c653",
      "dd3c792ab7234337b818f037da84613d",
      "3059e6a77bed48d3924e029e6c1c8273",
      "a3562c0c263e4e87924e9c765b910dc9",
      "09308a7de55f408a8ec94a3760e91e4f",
      "030b93d5f255487a87d551ecf63a6937",
      "fb711203acc544bc8598e0af5308d392",
      "f9742b35504a43cda4f61b22de5331d6",
      "72671fcf1e41466eb9c321a248e4035a",
      "c36a3096576c47ab90fa2a3c29b75cc9",
      "bdca6d813c09413baa8833944efbf0d2",
      "f532e0bb4a914675b407c2968e9bf1af",
      "c5e304056b2a4d1f9b956092dc7a41a8",
      "743de78d723b4bd6a44f4269c24b0787",
      "94ce9c207d7b4ba78136b9d3d897b239",
      "db50f5da021d4088a4e553ec3f593ea6",
      "898d5997a02f460a8d56be2be6fec679",
      "8a611b3c168048309b814c9536692c53",
      "d6346664f82f4ee1b9c2001828e37497",
      "576f55a6dbcd4db29744349b72d2dfd3",
      "0fcd7ce89e4a453299847830340612bb",
      "872e20a8ecca4dd2b0c9c7edfe71de49",
      "38e21a982ca74cd19bfa50c01cb6dacc",
      "86432c7083934648a0a82744b73a15ae",
      "fa0f6a6bb61f4af49c90396d1bf62978",
      "9c71422dede84bf69802937ffac79950",
      "eeca1ed153584b83a92601d8f800b5ec",
      "8e5f488097a744789bec83d763b3297e",
      "880a463c4474462488772cf4dd710547",
      "2f612c69bd134a5db9de1763d8f8cd63"
     ]
    },
    "executionInfo": {
     "elapsed": 3794,
     "status": "ok",
     "timestamp": 1665324608242,
     "user": {
      "displayName": "한성",
      "userId": "01280908312724634418"
     },
     "user_tz": -540
    },
    "id": "d2qii9qVm7Wy",
    "outputId": "75faecc0-d99c-47d5-cdf1-e50ddda517d3"
   },
   "outputs": [
    {
     "name": "stderr",
     "output_type": "stream",
     "text": [
      "WARNING:absl:You use TensorFlow DType <dtype: 'string'> in tfds.features This will soon be deprecated in favor of NumPy DTypes. In the meantime it was converted to object.\n",
      "WARNING:absl:You use TensorFlow DType <dtype: 'float32'> in tfds.features This will soon be deprecated in favor of NumPy DTypes. In the meantime it was converted to float32.\n",
      "WARNING:absl:You use TensorFlow DType <dtype: 'int32'> in tfds.features This will soon be deprecated in favor of NumPy DTypes. In the meantime it was converted to int32.\n"
     ]
    },
    {
     "data": {
      "text/plain": [
       "tensorflow.python.data.ops.prefetch_op._PrefetchDataset"
      ]
     },
     "execution_count": 5,
     "metadata": {},
     "output_type": "execute_result"
    }
   ],
   "source": [
    "import tensorflow_datasets as tfds\n",
    "\n",
    "ds, info = tfds.load('titanic', split='train', with_info=True)\n",
    "\n",
    "type(ds)"
   ]
  },
  {
   "cell_type": "code",
   "execution_count": 6,
   "metadata": {
    "colab": {
     "base_uri": "https://localhost:8080/"
    },
    "executionInfo": {
     "elapsed": 336,
     "status": "ok",
     "timestamp": 1665324616937,
     "user": {
      "displayName": "한성",
      "userId": "01280908312724634418"
     },
     "user_tz": -540
    },
    "id": "wN0pENlpm_Zv",
    "outputId": "41a91ef5-e5e7-4178-91fa-69949179a7b4"
   },
   "outputs": [
    {
     "data": {
      "text/plain": [
       "tfds.core.DatasetInfo(\n",
       "    name='titanic',\n",
       "    full_name='titanic/4.0.0',\n",
       "    description=\"\"\"\n",
       "    Dataset describing the survival status of individual passengers on the Titanic.\n",
       "    Missing values in the original dataset are represented using ?. Float and int\n",
       "    missing values are replaced with -1, string missing values are replaced with\n",
       "    'Unknown'.\n",
       "    \"\"\",\n",
       "    homepage='https://www.openml.org/d/40945',\n",
       "    data_dir='C:\\\\Users\\\\myngmyng\\\\tensorflow_datasets\\\\titanic\\\\4.0.0',\n",
       "    file_format=tfrecord,\n",
       "    download_size=114.98 KiB,\n",
       "    dataset_size=382.58 KiB,\n",
       "    features=FeaturesDict({\n",
       "        'age': float32,\n",
       "        'boat': string,\n",
       "        'body': int32,\n",
       "        'cabin': string,\n",
       "        'embarked': ClassLabel(shape=(), dtype=int64, num_classes=4),\n",
       "        'fare': float32,\n",
       "        'home.dest': string,\n",
       "        'name': string,\n",
       "        'parch': int32,\n",
       "        'pclass': ClassLabel(shape=(), dtype=int64, num_classes=3),\n",
       "        'sex': ClassLabel(shape=(), dtype=int64, num_classes=2),\n",
       "        'sibsp': int32,\n",
       "        'survived': ClassLabel(shape=(), dtype=int64, num_classes=2),\n",
       "        'ticket': string,\n",
       "    }),\n",
       "    supervised_keys=({'age': 'age', 'boat': 'boat', 'body': 'body', 'cabin': 'cabin', 'embarked': 'embarked', 'fare': 'fare', 'home.dest': 'home.dest', 'name': 'name', 'parch': 'parch', 'pclass': 'pclass', 'sex': 'sex', 'sibsp': 'sibsp', 'ticket': 'ticket'}, 'survived'),\n",
       "    disable_shuffling=False,\n",
       "    nondeterministic_order=False,\n",
       "    splits={\n",
       "        'train': <SplitInfo num_examples=1309, num_shards=1>,\n",
       "    },\n",
       "    citation=\"\"\"@ONLINE {titanic,\n",
       "    author = \"Frank E. Harrell Jr., Thomas Cason\",\n",
       "    title  = \"Titanic dataset\",\n",
       "    month  = \"oct\",\n",
       "    year   = \"2017\",\n",
       "    url    = \"https://www.openml.org/d/40945\"\n",
       "    }\"\"\",\n",
       ")"
      ]
     },
     "execution_count": 6,
     "metadata": {},
     "output_type": "execute_result"
    }
   ],
   "source": [
    "info"
   ]
  },
  {
   "cell_type": "code",
   "execution_count": 7,
   "metadata": {
    "colab": {
     "base_uri": "https://localhost:8080/",
     "height": 126
    },
    "executionInfo": {
     "elapsed": 421,
     "status": "ok",
     "timestamp": 1665324647519,
     "user": {
      "displayName": "한성",
      "userId": "01280908312724634418"
     },
     "user_tz": -540
    },
    "id": "9kZyEE8gnE8R",
    "outputId": "9e147840-479c-490d-a5a3-b9aa10022d32"
   },
   "outputs": [
    {
     "data": {
      "text/html": [
       "<style type=\"text/css\">\n",
       "</style>\n",
       "<table id=\"T_ffee9\">\n",
       "  <thead>\n",
       "    <tr>\n",
       "      <th class=\"blank level0\" >&nbsp;</th>\n",
       "      <th id=\"T_ffee9_level0_col0\" class=\"col_heading level0 col0\" >age</th>\n",
       "      <th id=\"T_ffee9_level0_col1\" class=\"col_heading level0 col1\" >boat</th>\n",
       "      <th id=\"T_ffee9_level0_col2\" class=\"col_heading level0 col2\" >body</th>\n",
       "      <th id=\"T_ffee9_level0_col3\" class=\"col_heading level0 col3\" >cabin</th>\n",
       "      <th id=\"T_ffee9_level0_col4\" class=\"col_heading level0 col4\" >embarked</th>\n",
       "      <th id=\"T_ffee9_level0_col5\" class=\"col_heading level0 col5\" >fare</th>\n",
       "      <th id=\"T_ffee9_level0_col6\" class=\"col_heading level0 col6\" >home.dest</th>\n",
       "      <th id=\"T_ffee9_level0_col7\" class=\"col_heading level0 col7\" >name</th>\n",
       "      <th id=\"T_ffee9_level0_col8\" class=\"col_heading level0 col8\" >parch</th>\n",
       "      <th id=\"T_ffee9_level0_col9\" class=\"col_heading level0 col9\" >pclass</th>\n",
       "      <th id=\"T_ffee9_level0_col10\" class=\"col_heading level0 col10\" >sex</th>\n",
       "      <th id=\"T_ffee9_level0_col11\" class=\"col_heading level0 col11\" >sibsp</th>\n",
       "      <th id=\"T_ffee9_level0_col12\" class=\"col_heading level0 col12\" >survived</th>\n",
       "      <th id=\"T_ffee9_level0_col13\" class=\"col_heading level0 col13\" >ticket</th>\n",
       "    </tr>\n",
       "  </thead>\n",
       "  <tbody>\n",
       "    <tr>\n",
       "      <th id=\"T_ffee9_level0_row0\" class=\"row_heading level0 row0\" >0</th>\n",
       "      <td id=\"T_ffee9_row0_col0\" class=\"data row0 col0\" >30.0</td>\n",
       "      <td id=\"T_ffee9_row0_col1\" class=\"data row0 col1\" >b&#x27;Unknown&#x27;</td>\n",
       "      <td id=\"T_ffee9_row0_col2\" class=\"data row0 col2\" >-1</td>\n",
       "      <td id=\"T_ffee9_row0_col3\" class=\"data row0 col3\" >b&#x27;Unknown&#x27;</td>\n",
       "      <td id=\"T_ffee9_row0_col4\" class=\"data row0 col4\" >2 (Southampton)</td>\n",
       "      <td id=\"T_ffee9_row0_col5\" class=\"data row0 col5\" >13.0</td>\n",
       "      <td id=\"T_ffee9_row0_col6\" class=\"data row0 col6\" >b&#x27;Sarnia, ON&#x27;</td>\n",
       "      <td id=\"T_ffee9_row0_col7\" class=\"data row0 col7\" >b&#x27;McCrie, Mr. James Matthew&#x27;</td>\n",
       "      <td id=\"T_ffee9_row0_col8\" class=\"data row0 col8\" >0</td>\n",
       "      <td id=\"T_ffee9_row0_col9\" class=\"data row0 col9\" >1 (2nd_class)</td>\n",
       "      <td id=\"T_ffee9_row0_col10\" class=\"data row0 col10\" >0 (male)</td>\n",
       "      <td id=\"T_ffee9_row0_col11\" class=\"data row0 col11\" >0</td>\n",
       "      <td id=\"T_ffee9_row0_col12\" class=\"data row0 col12\" >0 (died)</td>\n",
       "      <td id=\"T_ffee9_row0_col13\" class=\"data row0 col13\" >b&#x27;233478&#x27;</td>\n",
       "    </tr>\n",
       "    <tr>\n",
       "      <th id=\"T_ffee9_level0_row1\" class=\"row_heading level0 row1\" >1</th>\n",
       "      <td id=\"T_ffee9_row1_col0\" class=\"data row1 col0\" >37.0</td>\n",
       "      <td id=\"T_ffee9_row1_col1\" class=\"data row1 col1\" >b&#x27;Unknown&#x27;</td>\n",
       "      <td id=\"T_ffee9_row1_col2\" class=\"data row1 col2\" >98</td>\n",
       "      <td id=\"T_ffee9_row1_col3\" class=\"data row1 col3\" >b&#x27;Unknown&#x27;</td>\n",
       "      <td id=\"T_ffee9_row1_col4\" class=\"data row1 col4\" >2 (Southampton)</td>\n",
       "      <td id=\"T_ffee9_row1_col5\" class=\"data row1 col5\" >7.925000190734863</td>\n",
       "      <td id=\"T_ffee9_row1_col6\" class=\"data row1 col6\" >b&#x27;Ruotsinphytaa, Finland New York, NY&#x27;</td>\n",
       "      <td id=\"T_ffee9_row1_col7\" class=\"data row1 col7\" >b&#x27;Gustafsson, Mr. Anders Vilhelm&#x27;</td>\n",
       "      <td id=\"T_ffee9_row1_col8\" class=\"data row1 col8\" >0</td>\n",
       "      <td id=\"T_ffee9_row1_col9\" class=\"data row1 col9\" >2 (3rd_class)</td>\n",
       "      <td id=\"T_ffee9_row1_col10\" class=\"data row1 col10\" >0 (male)</td>\n",
       "      <td id=\"T_ffee9_row1_col11\" class=\"data row1 col11\" >2</td>\n",
       "      <td id=\"T_ffee9_row1_col12\" class=\"data row1 col12\" >0 (died)</td>\n",
       "      <td id=\"T_ffee9_row1_col13\" class=\"data row1 col13\" >b&#x27;3101276&#x27;</td>\n",
       "    </tr>\n",
       "    <tr>\n",
       "      <th id=\"T_ffee9_level0_row2\" class=\"row_heading level0 row2\" >2</th>\n",
       "      <td id=\"T_ffee9_row2_col0\" class=\"data row2 col0\" >28.0</td>\n",
       "      <td id=\"T_ffee9_row2_col1\" class=\"data row2 col1\" >b&#x27;9&#x27;</td>\n",
       "      <td id=\"T_ffee9_row2_col2\" class=\"data row2 col2\" >-1</td>\n",
       "      <td id=\"T_ffee9_row2_col3\" class=\"data row2 col3\" >b&#x27;Unknown&#x27;</td>\n",
       "      <td id=\"T_ffee9_row2_col4\" class=\"data row2 col4\" >2 (Southampton)</td>\n",
       "      <td id=\"T_ffee9_row2_col5\" class=\"data row2 col5\" >13.0</td>\n",
       "      <td id=\"T_ffee9_row2_col6\" class=\"data row2 col6\" >b&#x27;Spain&#x27;</td>\n",
       "      <td id=\"T_ffee9_row2_col7\" class=\"data row2 col7\" >b&#x27;Reynaldo, Ms. Encarnacion&#x27;</td>\n",
       "      <td id=\"T_ffee9_row2_col8\" class=\"data row2 col8\" >0</td>\n",
       "      <td id=\"T_ffee9_row2_col9\" class=\"data row2 col9\" >1 (2nd_class)</td>\n",
       "      <td id=\"T_ffee9_row2_col10\" class=\"data row2 col10\" >1 (female)</td>\n",
       "      <td id=\"T_ffee9_row2_col11\" class=\"data row2 col11\" >0</td>\n",
       "      <td id=\"T_ffee9_row2_col12\" class=\"data row2 col12\" >1 (survived)</td>\n",
       "      <td id=\"T_ffee9_row2_col13\" class=\"data row2 col13\" >b&#x27;230434&#x27;</td>\n",
       "    </tr>\n",
       "    <tr>\n",
       "      <th id=\"T_ffee9_level0_row3\" class=\"row_heading level0 row3\" >3</th>\n",
       "      <td id=\"T_ffee9_row3_col0\" class=\"data row3 col0\" >18.0</td>\n",
       "      <td id=\"T_ffee9_row3_col1\" class=\"data row3 col1\" >b&#x27;Unknown&#x27;</td>\n",
       "      <td id=\"T_ffee9_row3_col2\" class=\"data row3 col2\" >-1</td>\n",
       "      <td id=\"T_ffee9_row3_col3\" class=\"data row3 col3\" >b&#x27;Unknown&#x27;</td>\n",
       "      <td id=\"T_ffee9_row3_col4\" class=\"data row3 col4\" >2 (Southampton)</td>\n",
       "      <td id=\"T_ffee9_row3_col5\" class=\"data row3 col5\" >73.5</td>\n",
       "      <td id=\"T_ffee9_row3_col6\" class=\"data row3 col6\" >b&#x27;Lyndhurst, England&#x27;</td>\n",
       "      <td id=\"T_ffee9_row3_col7\" class=\"data row3 col7\" >b&#x27;Davies, Mr. Charles Henry&#x27;</td>\n",
       "      <td id=\"T_ffee9_row3_col8\" class=\"data row3 col8\" >0</td>\n",
       "      <td id=\"T_ffee9_row3_col9\" class=\"data row3 col9\" >1 (2nd_class)</td>\n",
       "      <td id=\"T_ffee9_row3_col10\" class=\"data row3 col10\" >0 (male)</td>\n",
       "      <td id=\"T_ffee9_row3_col11\" class=\"data row3 col11\" >0</td>\n",
       "      <td id=\"T_ffee9_row3_col12\" class=\"data row3 col12\" >0 (died)</td>\n",
       "      <td id=\"T_ffee9_row3_col13\" class=\"data row3 col13\" >b&#x27;S.O.C. 14879&#x27;</td>\n",
       "    </tr>\n",
       "  </tbody>\n",
       "</table>\n"
      ],
      "text/plain": [
       "    age        boat  body       cabin  embarked    fare  \\\n",
       "0  30.0  b'Unknown'    -1  b'Unknown'         2  13.000   \n",
       "1  37.0  b'Unknown'    98  b'Unknown'         2   7.925   \n",
       "2  28.0        b'9'    -1  b'Unknown'         2  13.000   \n",
       "3  18.0  b'Unknown'    -1  b'Unknown'         2  73.500   \n",
       "\n",
       "                                home.dest                               name  \\\n",
       "0                           b'Sarnia, ON'       b'McCrie, Mr. James Matthew'   \n",
       "1  b'Ruotsinphytaa, Finland New York, NY'  b'Gustafsson, Mr. Anders Vilhelm'   \n",
       "2                                b'Spain'       b'Reynaldo, Ms. Encarnacion'   \n",
       "3                   b'Lyndhurst, England'       b'Davies, Mr. Charles Henry'   \n",
       "\n",
       "   parch  pclass  sex  sibsp  survived           ticket  \n",
       "0      0       1    0      0         0        b'233478'  \n",
       "1      0       2    0      2         0       b'3101276'  \n",
       "2      0       1    1      0         1        b'230434'  \n",
       "3      0       1    0      0         0  b'S.O.C. 14879'  "
      ]
     },
     "execution_count": 7,
     "metadata": {},
     "output_type": "execute_result"
    }
   ],
   "source": [
    "tfds.as_dataframe(ds.take(4), info)"
   ]
  },
  {
   "cell_type": "markdown",
   "metadata": {
    "id": "DkMQBHuKnQN9"
   },
   "source": [
    "## 3.8.3 모델에서 활용할 수 있도록 데이터 전처리"
   ]
  },
  {
   "cell_type": "code",
   "execution_count": 8,
   "metadata": {
    "colab": {
     "base_uri": "https://localhost:8080/"
    },
    "executionInfo": {
     "elapsed": 384,
     "status": "ok",
     "timestamp": 1665324670751,
     "user": {
      "displayName": "한성",
      "userId": "01280908312724634418"
     },
     "user_tz": -540
    },
    "id": "VUHqfAIEnKVk",
    "outputId": "a7f895d4-96c7-47c1-cfbd-fa581d166b89"
   },
   "outputs": [
    {
     "name": "stdout",
     "output_type": "stream",
     "text": [
      "<class 'pandas.core.frame.DataFrame'>\n",
      "RangeIndex: 627 entries, 0 to 626\n",
      "Data columns (total 10 columns):\n",
      " #   Column              Non-Null Count  Dtype  \n",
      "---  ------              --------------  -----  \n",
      " 0   survived            627 non-null    int64  \n",
      " 1   sex                 627 non-null    object \n",
      " 2   age                 627 non-null    float64\n",
      " 3   n_siblings_spouses  627 non-null    int64  \n",
      " 4   parch               627 non-null    int64  \n",
      " 5   fare                627 non-null    float64\n",
      " 6   class               627 non-null    object \n",
      " 7   deck                627 non-null    object \n",
      " 8   embark_town         627 non-null    object \n",
      " 9   alone               627 non-null    object \n",
      "dtypes: float64(2), int64(3), object(5)\n",
      "memory usage: 49.1+ KB\n"
     ]
    }
   ],
   "source": [
    "import pandas as pd\n",
    "\n",
    "url = 'https://storage.googleapis.com/tf-datasets/titanic/train.csv'\n",
    "df = pd.read_csv(url)\n",
    "\n",
    "df.info()"
   ]
  },
  {
   "cell_type": "code",
   "execution_count": 9,
   "metadata": {
    "colab": {
     "base_uri": "https://localhost:8080/",
     "height": 671
    },
    "executionInfo": {
     "elapsed": 1120,
     "status": "ok",
     "timestamp": 1665324681232,
     "user": {
      "displayName": "한성",
      "userId": "01280908312724634418"
     },
     "user_tz": -540
    },
    "id": "nCyK7OYYnM_A",
    "outputId": "be911d95-07ad-4d50-ae18-05a155a7733d"
   },
   "outputs": [
    {
     "data": {
      "text/plain": [
       "<Axes: >"
      ]
     },
     "execution_count": 9,
     "metadata": {},
     "output_type": "execute_result"
    },
    {
     "data": {
      "image/png": "[encoded data removed]",
      "text/plain": [
       "<Figure size 2500x1000 with 2 Axes>"
      ]
     },
     "metadata": {},
     "output_type": "display_data"
    }
   ],
   "source": [
    "import missingno\n",
    "\n",
    "missingno.matrix(df)"
   ]
  },
  {
   "cell_type": "code",
   "execution_count": 10,
   "metadata": {
    "colab": {
     "base_uri": "https://localhost:8080/",
     "height": 206
    },
    "executionInfo": {
     "elapsed": 375,
     "status": "ok",
     "timestamp": 1665324705177,
     "user": {
      "displayName": "한성",
      "userId": "01280908312724634418"
     },
     "user_tz": -540
    },
    "id": "Jz7fYgVAneQi",
    "outputId": "56e44ef6-5b2b-4027-996d-cc4786d122aa"
   },
   "outputs": [
    {
     "data": {
      "application/vnd.microsoft.datawrangler.viewer.v0+json": {
       "columns": [
        {
         "name": "index",
         "rawType": "int64",
         "type": "integer"
        },
        {
         "name": "survived",
         "rawType": "int64",
         "type": "integer"
        },
        {
         "name": "sex",
         "rawType": "int32",
         "type": "integer"
        },
        {
         "name": "age",
         "rawType": "float64",
         "type": "float"
        },
        {
         "name": "n_siblings_spouses",
         "rawType": "int64",
         "type": "integer"
        },
        {
         "name": "parch",
         "rawType": "int64",
         "type": "integer"
        },
        {
         "name": "fare",
         "rawType": "float64",
         "type": "float"
        },
        {
         "name": "class",
         "rawType": "int32",
         "type": "integer"
        },
        {
         "name": "deck",
         "rawType": "int32",
         "type": "integer"
        },
        {
         "name": "embark_town",
         "rawType": "int32",
         "type": "integer"
        },
        {
         "name": "alone",
         "rawType": "int32",
         "type": "integer"
        }
       ],
       "conversionMethod": "pd.DataFrame",
       "ref": "d73739c3-f4bc-4395-a949-abeb18c55946",
       "rows": [
        [
         "0",
         "0",
         "1",
         "22.0",
         "1",
         "0",
         "7.25",
         "2",
         "7",
         "2",
         "0"
        ],
        [
         "1",
         "1",
         "0",
         "38.0",
         "1",
         "0",
         "71.2833",
         "0",
         "2",
         "0",
         "0"
        ],
        [
         "2",
         "1",
         "0",
         "26.0",
         "0",
         "0",
         "7.925",
         "2",
         "7",
         "2",
         "1"
        ],
        [
         "3",
         "1",
         "0",
         "35.0",
         "1",
         "0",
         "53.1",
         "0",
         "2",
         "2",
         "0"
        ],
        [
         "4",
         "0",
         "1",
         "28.0",
         "0",
         "0",
         "8.4583",
         "2",
         "7",
         "1",
         "1"
        ]
       ],
       "shape": {
        "columns": 10,
        "rows": 5
       }
      },
      "text/html": [
       "<div>\n",
       "<style scoped>\n",
       "    .dataframe tbody tr th:only-of-type {\n",
       "        vertical-align: middle;\n",
       "    }\n",
       "\n",
       "    .dataframe tbody tr th {\n",
       "        vertical-align: top;\n",
       "    }\n",
       "\n",
       "    .dataframe thead th {\n",
       "        text-align: right;\n",
       "    }\n",
       "</style>\n",
       "<table border=\"1\" class=\"dataframe\">\n",
       "  <thead>\n",
       "    <tr style=\"text-align: right;\">\n",
       "      <th></th>\n",
       "      <th>survived</th>\n",
       "      <th>sex</th>\n",
       "      <th>age</th>\n",
       "      <th>n_siblings_spouses</th>\n",
       "      <th>parch</th>\n",
       "      <th>fare</th>\n",
       "      <th>class</th>\n",
       "      <th>deck</th>\n",
       "      <th>embark_town</th>\n",
       "      <th>alone</th>\n",
       "    </tr>\n",
       "  </thead>\n",
       "  <tbody>\n",
       "    <tr>\n",
       "      <th>0</th>\n",
       "      <td>0</td>\n",
       "      <td>1</td>\n",
       "      <td>22.0</td>\n",
       "      <td>1</td>\n",
       "      <td>0</td>\n",
       "      <td>7.2500</td>\n",
       "      <td>2</td>\n",
       "      <td>7</td>\n",
       "      <td>2</td>\n",
       "      <td>0</td>\n",
       "    </tr>\n",
       "    <tr>\n",
       "      <th>1</th>\n",
       "      <td>1</td>\n",
       "      <td>0</td>\n",
       "      <td>38.0</td>\n",
       "      <td>1</td>\n",
       "      <td>0</td>\n",
       "      <td>71.2833</td>\n",
       "      <td>0</td>\n",
       "      <td>2</td>\n",
       "      <td>0</td>\n",
       "      <td>0</td>\n",
       "    </tr>\n",
       "    <tr>\n",
       "      <th>2</th>\n",
       "      <td>1</td>\n",
       "      <td>0</td>\n",
       "      <td>26.0</td>\n",
       "      <td>0</td>\n",
       "      <td>0</td>\n",
       "      <td>7.9250</td>\n",
       "      <td>2</td>\n",
       "      <td>7</td>\n",
       "      <td>2</td>\n",
       "      <td>1</td>\n",
       "    </tr>\n",
       "    <tr>\n",
       "      <th>3</th>\n",
       "      <td>1</td>\n",
       "      <td>0</td>\n",
       "      <td>35.0</td>\n",
       "      <td>1</td>\n",
       "      <td>0</td>\n",
       "      <td>53.1000</td>\n",
       "      <td>0</td>\n",
       "      <td>2</td>\n",
       "      <td>2</td>\n",
       "      <td>0</td>\n",
       "    </tr>\n",
       "    <tr>\n",
       "      <th>4</th>\n",
       "      <td>0</td>\n",
       "      <td>1</td>\n",
       "      <td>28.0</td>\n",
       "      <td>0</td>\n",
       "      <td>0</td>\n",
       "      <td>8.4583</td>\n",
       "      <td>2</td>\n",
       "      <td>7</td>\n",
       "      <td>1</td>\n",
       "      <td>1</td>\n",
       "    </tr>\n",
       "  </tbody>\n",
       "</table>\n",
       "</div>"
      ],
      "text/plain": [
       "   survived  sex   age  n_siblings_spouses  parch     fare  class  deck  \\\n",
       "0         0    1  22.0                   1      0   7.2500      2     7   \n",
       "1         1    0  38.0                   1      0  71.2833      0     2   \n",
       "2         1    0  26.0                   0      0   7.9250      2     7   \n",
       "3         1    0  35.0                   1      0  53.1000      0     2   \n",
       "4         0    1  28.0                   0      0   8.4583      2     7   \n",
       "\n",
       "   embark_town  alone  \n",
       "0            2      0  \n",
       "1            0      0  \n",
       "2            2      1  \n",
       "3            2      0  \n",
       "4            1      1  "
      ]
     },
     "execution_count": 10,
     "metadata": {},
     "output_type": "execute_result"
    }
   ],
   "source": [
    "# from sklearn.preprocessing import LabelEncoder\n",
    "\n",
    "# le = LabelEncoder()\n",
    "# le = df[['sex', 'class', 'deck', 'embark_town','alone']].apply(le.fit_transform)\n",
    "\n",
    "# df['sex'] = le['sex']\n",
    "# df['class'] = le['class']\n",
    "# df['deck'] = le['deck']\n",
    "# df['embark_town'] = le['embark_town']\n",
    "# df['alone'] = le['alone']\n",
    "\n",
    "# df.head()\n",
    "# -----------------------------------------\n",
    "\n",
    "# 여러개의 컬럼인 경우 OrdinalEncoder 권장\n",
    "from sklearn.preprocessing import OrdinalEncoder\n",
    "import numpy as np\n",
    "col_names = [\"sex\", \"class\", \"deck\", \"embark_town\", \"alone\"]\n",
    "oe = OrdinalEncoder()\n",
    "df[col_names] = oe.fit_transform(df[col_names]).astype(np.int32)\n",
    "\n",
    "df.head()"
   ]
  },
  {
   "cell_type": "code",
   "execution_count": 11,
   "metadata": {
    "id": "fLoZmxwTnheh"
   },
   "outputs": [],
   "source": [
    "df_y = df.pop('survived')\n",
    "df_x = df.loc[:,['age','fare']].copy()"
   ]
  },
  {
   "cell_type": "code",
   "execution_count": 12,
   "metadata": {
    "colab": {
     "base_uri": "https://localhost:8080/"
    },
    "executionInfo": {
     "elapsed": 289,
     "status": "ok",
     "timestamp": 1663489198193,
     "user": {
      "displayName": "한성",
      "userId": "01280908312724634418"
     },
     "user_tz": -540
    },
    "id": "yi1XBexHnkiN",
    "outputId": "4859bdcf-7212-4fc8-afb7-4726b0bd622f"
   },
   "outputs": [
    {
     "data": {
      "text/plain": [
       "0      0\n",
       "1      1\n",
       "2      1\n",
       "3      1\n",
       "4      0\n",
       "      ..\n",
       "622    0\n",
       "623    0\n",
       "624    1\n",
       "625    0\n",
       "626    0\n",
       "Name: survived, Length: 627, dtype: int64"
      ]
     },
     "execution_count": 12,
     "metadata": {},
     "output_type": "execute_result"
    }
   ],
   "source": [
    "df_y"
   ]
  },
  {
   "cell_type": "code",
   "execution_count": 13,
   "metadata": {
    "colab": {
     "base_uri": "https://localhost:8080/",
     "height": 141
    },
    "executionInfo": {
     "elapsed": 388,
     "status": "ok",
     "timestamp": 1665324723698,
     "user": {
      "displayName": "한성",
      "userId": "01280908312724634418"
     },
     "user_tz": -540
    },
    "id": "9YEmylzZnnqB",
    "outputId": "93ad1bb4-188b-44cd-c6cc-6dfb5e737748"
   },
   "outputs": [
    {
     "data": {
      "application/vnd.microsoft.datawrangler.viewer.v0+json": {
       "columns": [
        {
         "name": "index",
         "rawType": "object",
         "type": "string"
        },
        {
         "name": "0",
         "rawType": "float64",
         "type": "float"
        },
        {
         "name": "1",
         "rawType": "float64",
         "type": "float"
        },
        {
         "name": "2",
         "rawType": "float64",
         "type": "float"
        },
        {
         "name": "3",
         "rawType": "float64",
         "type": "float"
        },
        {
         "name": "4",
         "rawType": "float64",
         "type": "float"
        },
        {
         "name": "5",
         "rawType": "float64",
         "type": "float"
        },
        {
         "name": "6",
         "rawType": "float64",
         "type": "float"
        },
        {
         "name": "7",
         "rawType": "float64",
         "type": "float"
        },
        {
         "name": "8",
         "rawType": "float64",
         "type": "float"
        },
        {
         "name": "9",
         "rawType": "float64",
         "type": "float"
        },
        {
         "name": "10",
         "rawType": "float64",
         "type": "float"
        },
        {
         "name": "11",
         "rawType": "float64",
         "type": "float"
        },
        {
         "name": "12",
         "rawType": "float64",
         "type": "float"
        },
        {
         "name": "13",
         "rawType": "float64",
         "type": "float"
        },
        {
         "name": "14",
         "rawType": "float64",
         "type": "float"
        },
        {
         "name": "15",
         "rawType": "float64",
         "type": "float"
        },
        {
         "name": "16",
         "rawType": "float64",
         "type": "float"
        },
        {
         "name": "17",
         "rawType": "float64",
         "type": "float"
        },
        {
         "name": "18",
         "rawType": "float64",
         "type": "float"
        },
        {
         "name": "19",
         "rawType": "float64",
         "type": "float"
        },
        {
         "name": "20",
         "rawType": "float64",
         "type": "float"
        },
        {
         "name": "21",
         "rawType": "float64",
         "type": "float"
        },
        {
         "name": "22",
         "rawType": "float64",
         "type": "float"
        },
        {
         "name": "23",
         "rawType": "float64",
         "type": "float"
        },
        {
         "name": "24",
         "rawType": "float64",
         "type": "float"
        },
        {
         "name": "25",
         "rawType": "float64",
         "type": "float"
        },
        {
         "name": "26",
         "rawType": "float64",
         "type": "float"
        },
        {
         "name": "27",
         "rawType": "float64",
         "type": "float"
        },
        {
         "name": "28",
         "rawType": "float64",
         "type": "float"
        },
        {
         "name": "29",
         "rawType": "float64",
         "type": "float"
        },
        {
         "name": "30",
         "rawType": "float64",
         "type": "float"
        },
        {
         "name": "31",
         "rawType": "float64",
         "type": "float"
        },
        {
         "name": "32",
         "rawType": "float64",
         "type": "float"
        },
        {
         "name": "33",
         "rawType": "float64",
         "type": "float"
        },
        {
         "name": "34",
         "rawType": "float64",
         "type": "float"
        },
        {
         "name": "35",
         "rawType": "float64",
         "type": "float"
        },
        {
         "name": "36",
         "rawType": "float64",
         "type": "float"
        },
        {
         "name": "37",
         "rawType": "float64",
         "type": "float"
        },
        {
         "name": "38",
         "rawType": "float64",
         "type": "float"
        },
        {
         "name": "39",
         "rawType": "float64",
         "type": "float"
        },
        {
         "name": "40",
         "rawType": "float64",
         "type": "float"
        },
        {
         "name": "41",
         "rawType": "float64",
         "type": "float"
        },
        {
         "name": "42",
         "rawType": "float64",
         "type": "float"
        },
        {
         "name": "43",
         "rawType": "float64",
         "type": "float"
        },
        {
         "name": "44",
         "rawType": "float64",
         "type": "float"
        },
        {
         "name": "45",
         "rawType": "float64",
         "type": "float"
        },
        {
         "name": "46",
         "rawType": "float64",
         "type": "float"
        },
        {
         "name": "47",
         "rawType": "float64",
         "type": "float"
        },
        {
         "name": "48",
         "rawType": "float64",
         "type": "float"
        },
        {
         "name": "49",
         "rawType": "float64",
         "type": "float"
        },
        {
         "name": "50",
         "rawType": "float64",
         "type": "float"
        },
        {
         "name": "51",
         "rawType": "float64",
         "type": "float"
        },
        {
         "name": "52",
         "rawType": "float64",
         "type": "float"
        },
        {
         "name": "53",
         "rawType": "float64",
         "type": "float"
        },
        {
         "name": "54",
         "rawType": "float64",
         "type": "float"
        },
        {
         "name": "55",
         "rawType": "float64",
         "type": "float"
        },
        {
         "name": "56",
         "rawType": "float64",
         "type": "float"
        },
        {
         "name": "57",
         "rawType": "float64",
         "type": "float"
        },
        {
         "name": "58",
         "rawType": "float64",
         "type": "float"
        },
        {
         "name": "59",
         "rawType": "float64",
         "type": "float"
        },
        {
         "name": "60",
         "rawType": "float64",
         "type": "float"
        },
        {
         "name": "61",
         "rawType": "float64",
         "type": "float"
        },
        {
         "name": "62",
         "rawType": "float64",
         "type": "float"
        },
        {
         "name": "63",
         "rawType": "float64",
         "type": "float"
        },
        {
         "name": "64",
         "rawType": "float64",
         "type": "float"
        },
        {
         "name": "65",
         "rawType": "float64",
         "type": "float"
        },
        {
         "name": "66",
         "rawType": "float64",
         "type": "float"
        },
        {
         "name": "67",
         "rawType": "float64",
         "type": "float"
        },
        {
         "name": "68",
         "rawType": "float64",
         "type": "float"
        },
        {
         "name": "69",
         "rawType": "float64",
         "type": "float"
        },
        {
         "name": "70",
         "rawType": "float64",
         "type": "float"
        },
        {
         "name": "71",
         "rawType": "float64",
         "type": "float"
        },
        {
         "name": "72",
         "rawType": "float64",
         "type": "float"
        },
        {
         "name": "73",
         "rawType": "float64",
         "type": "float"
        },
        {
         "name": "74",
         "rawType": "float64",
         "type": "float"
        },
        {
         "name": "75",
         "rawType": "float64",
         "type": "float"
        },
        {
         "name": "76",
         "rawType": "float64",
         "type": "float"
        },
        {
         "name": "77",
         "rawType": "float64",
         "type": "float"
        },
        {
         "name": "78",
         "rawType": "float64",
         "type": "float"
        },
        {
         "name": "79",
         "rawType": "float64",
         "type": "float"
        },
        {
         "name": "80",
         "rawType": "float64",
         "type": "float"
        },
        {
         "name": "81",
         "rawType": "float64",
         "type": "float"
        },
        {
         "name": "82",
         "rawType": "float64",
         "type": "float"
        },
        {
         "name": "83",
         "rawType": "float64",
         "type": "float"
        },
        {
         "name": "84",
         "rawType": "float64",
         "type": "float"
        },
        {
         "name": "85",
         "rawType": "float64",
         "type": "float"
        },
        {
         "name": "86",
         "rawType": "float64",
         "type": "float"
        },
        {
         "name": "87",
         "rawType": "float64",
         "type": "float"
        },
        {
         "name": "88",
         "rawType": "float64",
         "type": "float"
        },
        {
         "name": "89",
         "rawType": "float64",
         "type": "float"
        },
        {
         "name": "90",
         "rawType": "float64",
         "type": "float"
        },
        {
         "name": "91",
         "rawType": "float64",
         "type": "float"
        },
        {
         "name": "92",
         "rawType": "float64",
         "type": "float"
        },
        {
         "name": "93",
         "rawType": "float64",
         "type": "float"
        },
        {
         "name": "94",
         "rawType": "float64",
         "type": "float"
        },
        {
         "name": "95",
         "rawType": "float64",
         "type": "float"
        },
        {
         "name": "96",
         "rawType": "float64",
         "type": "float"
        },
        {
         "name": "97",
         "rawType": "float64",
         "type": "float"
        },
        {
         "name": "98",
         "rawType": "float64",
         "type": "float"
        },
        {
         "name": "99",
         "rawType": "float64",
         "type": "float"
        },
        {
         "name": "100",
         "rawType": "float64",
         "type": "float"
        },
        {
         "name": "101",
         "rawType": "float64",
         "type": "float"
        },
        {
         "name": "102",
         "rawType": "float64",
         "type": "float"
        },
        {
         "name": "103",
         "rawType": "float64",
         "type": "float"
        },
        {
         "name": "104",
         "rawType": "float64",
         "type": "float"
        },
        {
         "name": "105",
         "rawType": "float64",
         "type": "float"
        },
        {
         "name": "106",
         "rawType": "float64",
         "type": "float"
        },
        {
         "name": "107",
         "rawType": "float64",
         "type": "float"
        },
        {
         "name": "108",
         "rawType": "float64",
         "type": "float"
        },
        {
         "name": "109",
         "rawType": "float64",
         "type": "float"
        },
        {
         "name": "110",
         "rawType": "float64",
         "type": "float"
        },
        {
         "name": "111",
         "rawType": "float64",
         "type": "float"
        },
        {
         "name": "112",
         "rawType": "float64",
         "type": "float"
        },
        {
         "name": "113",
         "rawType": "float64",
         "type": "float"
        },
        {
         "name": "114",
         "rawType": "float64",
         "type": "float"
        },
        {
         "name": "115",
         "rawType": "float64",
         "type": "float"
        },
        {
         "name": "116",
         "rawType": "float64",
         "type": "float"
        },
        {
         "name": "117",
         "rawType": "float64",
         "type": "float"
        },
        {
         "name": "118",
         "rawType": "float64",
         "type": "float"
        },
        {
         "name": "119",
         "rawType": "float64",
         "type": "float"
        },
        {
         "name": "120",
         "rawType": "float64",
         "type": "float"
        },
        {
         "name": "121",
         "rawType": "float64",
         "type": "float"
        },
        {
         "name": "122",
         "rawType": "float64",
         "type": "float"
        },
        {
         "name": "123",
         "rawType": "float64",
         "type": "float"
        },
        {
         "name": "124",
         "rawType": "float64",
         "type": "float"
        },
        {
         "name": "125",
         "rawType": "float64",
         "type": "float"
        },
        {
         "name": "126",
         "rawType": "float64",
         "type": "float"
        },
        {
         "name": "127",
         "rawType": "float64",
         "type": "float"
        },
        {
         "name": "128",
         "rawType": "float64",
         "type": "float"
        },
        {
         "name": "129",
         "rawType": "float64",
         "type": "float"
        },
        {
         "name": "130",
         "rawType": "float64",
         "type": "float"
        },
        {
         "name": "131",
         "rawType": "float64",
         "type": "float"
        },
        {
         "name": "132",
         "rawType": "float64",
         "type": "float"
        },
        {
         "name": "133",
         "rawType": "float64",
         "type": "float"
        },
        {
         "name": "134",
         "rawType": "float64",
         "type": "float"
        },
        {
         "name": "135",
         "rawType": "float64",
         "type": "float"
        },
        {
         "name": "136",
         "rawType": "float64",
         "type": "float"
        },
        {
         "name": "137",
         "rawType": "float64",
         "type": "float"
        },
        {
         "name": "138",
         "rawType": "float64",
         "type": "float"
        },
        {
         "name": "139",
         "rawType": "float64",
         "type": "float"
        },
        {
         "name": "140",
         "rawType": "float64",
         "type": "float"
        },
        {
         "name": "141",
         "rawType": "float64",
         "type": "float"
        },
        {
         "name": "142",
         "rawType": "float64",
         "type": "float"
        },
        {
         "name": "143",
         "rawType": "float64",
         "type": "float"
        },
        {
         "name": "144",
         "rawType": "float64",
         "type": "float"
        },
        {
         "name": "145",
         "rawType": "float64",
         "type": "float"
        },
        {
         "name": "146",
         "rawType": "float64",
         "type": "float"
        },
        {
         "name": "147",
         "rawType": "float64",
         "type": "float"
        },
        {
         "name": "148",
         "rawType": "float64",
         "type": "float"
        },
        {
         "name": "149",
         "rawType": "float64",
         "type": "float"
        },
        {
         "name": "150",
         "rawType": "float64",
         "type": "float"
        },
        {
         "name": "151",
         "rawType": "float64",
         "type": "float"
        },
        {
         "name": "152",
         "rawType": "float64",
         "type": "float"
        },
        {
         "name": "153",
         "rawType": "float64",
         "type": "float"
        },
        {
         "name": "154",
         "rawType": "float64",
         "type": "float"
        },
        {
         "name": "155",
         "rawType": "float64",
         "type": "float"
        },
        {
         "name": "156",
         "rawType": "float64",
         "type": "float"
        },
        {
         "name": "157",
         "rawType": "float64",
         "type": "float"
        },
        {
         "name": "158",
         "rawType": "float64",
         "type": "float"
        },
        {
         "name": "159",
         "rawType": "float64",
         "type": "float"
        },
        {
         "name": "160",
         "rawType": "float64",
         "type": "float"
        },
        {
         "name": "161",
         "rawType": "float64",
         "type": "float"
        },
        {
         "name": "162",
         "rawType": "float64",
         "type": "float"
        },
        {
         "name": "163",
         "rawType": "float64",
         "type": "float"
        },
        {
         "name": "164",
         "rawType": "float64",
         "type": "float"
        },
        {
         "name": "165",
         "rawType": "float64",
         "type": "float"
        },
        {
         "name": "166",
         "rawType": "float64",
         "type": "float"
        },
        {
         "name": "167",
         "rawType": "float64",
         "type": "float"
        },
        {
         "name": "168",
         "rawType": "float64",
         "type": "float"
        },
        {
         "name": "169",
         "rawType": "float64",
         "type": "float"
        },
        {
         "name": "170",
         "rawType": "float64",
         "type": "float"
        },
        {
         "name": "171",
         "rawType": "float64",
         "type": "float"
        },
        {
         "name": "172",
         "rawType": "float64",
         "type": "float"
        },
        {
         "name": "173",
         "rawType": "float64",
         "type": "float"
        },
        {
         "name": "174",
         "rawType": "float64",
         "type": "float"
        },
        {
         "name": "175",
         "rawType": "float64",
         "type": "float"
        },
        {
         "name": "176",
         "rawType": "float64",
         "type": "float"
        },
        {
         "name": "177",
         "rawType": "float64",
         "type": "float"
        },
        {
         "name": "178",
         "rawType": "float64",
         "type": "float"
        },
        {
         "name": "179",
         "rawType": "float64",
         "type": "float"
        },
        {
         "name": "180",
         "rawType": "float64",
         "type": "float"
        },
        {
         "name": "181",
         "rawType": "float64",
         "type": "float"
        },
        {
         "name": "182",
         "rawType": "float64",
         "type": "float"
        },
        {
         "name": "183",
         "rawType": "float64",
         "type": "float"
        },
        {
         "name": "184",
         "rawType": "float64",
         "type": "float"
        },
        {
         "name": "185",
         "rawType": "float64",
         "type": "float"
        },
        {
         "name": "186",
         "rawType": "float64",
         "type": "float"
        },
        {
         "name": "187",
         "rawType": "float64",
         "type": "float"
        },
        {
         "name": "188",
         "rawType": "float64",
         "type": "float"
        },
        {
         "name": "189",
         "rawType": "float64",
         "type": "float"
        },
        {
         "name": "190",
         "rawType": "float64",
         "type": "float"
        },
        {
         "name": "191",
         "rawType": "float64",
         "type": "float"
        },
        {
         "name": "192",
         "rawType": "float64",
         "type": "float"
        },
        {
         "name": "193",
         "rawType": "float64",
         "type": "float"
        },
        {
         "name": "194",
         "rawType": "float64",
         "type": "float"
        },
        {
         "name": "195",
         "rawType": "float64",
         "type": "float"
        },
        {
         "name": "196",
         "rawType": "float64",
         "type": "float"
        },
        {
         "name": "197",
         "rawType": "float64",
         "type": "float"
        },
        {
         "name": "198",
         "rawType": "float64",
         "type": "float"
        },
        {
         "name": "199",
         "rawType": "float64",
         "type": "float"
        },
        {
         "name": "200",
         "rawType": "float64",
         "type": "float"
        },
        {
         "name": "201",
         "rawType": "float64",
         "type": "float"
        },
        {
         "name": "202",
         "rawType": "float64",
         "type": "float"
        },
        {
         "name": "203",
         "rawType": "float64",
         "type": "float"
        },
        {
         "name": "204",
         "rawType": "float64",
         "type": "float"
        },
        {
         "name": "205",
         "rawType": "float64",
         "type": "float"
        },
        {
         "name": "206",
         "rawType": "float64",
         "type": "float"
        },
        {
         "name": "207",
         "rawType": "float64",
         "type": "float"
        },
        {
         "name": "208",
         "rawType": "float64",
         "type": "float"
        },
        {
         "name": "209",
         "rawType": "float64",
         "type": "float"
        },
        {
         "name": "210",
         "rawType": "float64",
         "type": "float"
        },
        {
         "name": "211",
         "rawType": "float64",
         "type": "float"
        },
        {
         "name": "212",
         "rawType": "float64",
         "type": "float"
        },
        {
         "name": "213",
         "rawType": "float64",
         "type": "float"
        },
        {
         "name": "214",
         "rawType": "float64",
         "type": "float"
        },
        {
         "name": "215",
         "rawType": "float64",
         "type": "float"
        },
        {
         "name": "216",
         "rawType": "float64",
         "type": "float"
        },
        {
         "name": "217",
         "rawType": "float64",
         "type": "float"
        },
        {
         "name": "218",
         "rawType": "float64",
         "type": "float"
        },
        {
         "name": "219",
         "rawType": "float64",
         "type": "float"
        },
        {
         "name": "220",
         "rawType": "float64",
         "type": "float"
        },
        {
         "name": "221",
         "rawType": "float64",
         "type": "float"
        },
        {
         "name": "222",
         "rawType": "float64",
         "type": "float"
        },
        {
         "name": "223",
         "rawType": "float64",
         "type": "float"
        },
        {
         "name": "224",
         "rawType": "float64",
         "type": "float"
        },
        {
         "name": "225",
         "rawType": "float64",
         "type": "float"
        },
        {
         "name": "226",
         "rawType": "float64",
         "type": "float"
        },
        {
         "name": "227",
         "rawType": "float64",
         "type": "float"
        },
        {
         "name": "228",
         "rawType": "float64",
         "type": "float"
        },
        {
         "name": "229",
         "rawType": "float64",
         "type": "float"
        },
        {
         "name": "230",
         "rawType": "float64",
         "type": "float"
        },
        {
         "name": "231",
         "rawType": "float64",
         "type": "float"
        },
        {
         "name": "232",
         "rawType": "float64",
         "type": "float"
        },
        {
         "name": "233",
         "rawType": "float64",
         "type": "float"
        },
        {
         "name": "234",
         "rawType": "float64",
         "type": "float"
        },
        {
         "name": "235",
         "rawType": "float64",
         "type": "float"
        },
        {
         "name": "236",
         "rawType": "float64",
         "type": "float"
        },
        {
         "name": "237",
         "rawType": "float64",
         "type": "float"
        },
        {
         "name": "238",
         "rawType": "float64",
         "type": "float"
        },
        {
         "name": "239",
         "rawType": "float64",
         "type": "float"
        },
        {
         "name": "240",
         "rawType": "float64",
         "type": "float"
        },
        {
         "name": "241",
         "rawType": "float64",
         "type": "float"
        },
        {
         "name": "242",
         "rawType": "float64",
         "type": "float"
        },
        {
         "name": "243",
         "rawType": "float64",
         "type": "float"
        },
        {
         "name": "244",
         "rawType": "float64",
         "type": "float"
        },
        {
         "name": "245",
         "rawType": "float64",
         "type": "float"
        },
        {
         "name": "246",
         "rawType": "float64",
         "type": "float"
        },
        {
         "name": "247",
         "rawType": "float64",
         "type": "float"
        },
        {
         "name": "248",
         "rawType": "float64",
         "type": "float"
        },
        {
         "name": "249",
         "rawType": "float64",
         "type": "float"
        },
        {
         "name": "250",
         "rawType": "float64",
         "type": "float"
        },
        {
         "name": "251",
         "rawType": "float64",
         "type": "float"
        },
        {
         "name": "252",
         "rawType": "float64",
         "type": "float"
        },
        {
         "name": "253",
         "rawType": "float64",
         "type": "float"
        },
        {
         "name": "254",
         "rawType": "float64",
         "type": "float"
        },
        {
         "name": "255",
         "rawType": "float64",
         "type": "float"
        },
        {
         "name": "256",
         "rawType": "float64",
         "type": "float"
        },
        {
         "name": "257",
         "rawType": "float64",
         "type": "float"
        },
        {
         "name": "258",
         "rawType": "float64",
         "type": "float"
        },
        {
         "name": "259",
         "rawType": "float64",
         "type": "float"
        },
        {
         "name": "260",
         "rawType": "float64",
         "type": "float"
        },
        {
         "name": "261",
         "rawType": "float64",
         "type": "float"
        },
        {
         "name": "262",
         "rawType": "float64",
         "type": "float"
        },
        {
         "name": "263",
         "rawType": "float64",
         "type": "float"
        },
        {
         "name": "264",
         "rawType": "float64",
         "type": "float"
        },
        {
         "name": "265",
         "rawType": "float64",
         "type": "float"
        },
        {
         "name": "266",
         "rawType": "float64",
         "type": "float"
        },
        {
         "name": "267",
         "rawType": "float64",
         "type": "float"
        },
        {
         "name": "268",
         "rawType": "float64",
         "type": "float"
        },
        {
         "name": "269",
         "rawType": "float64",
         "type": "float"
        },
        {
         "name": "270",
         "rawType": "float64",
         "type": "float"
        },
        {
         "name": "271",
         "rawType": "float64",
         "type": "float"
        },
        {
         "name": "272",
         "rawType": "float64",
         "type": "float"
        },
        {
         "name": "273",
         "rawType": "float64",
         "type": "float"
        },
        {
         "name": "274",
         "rawType": "float64",
         "type": "float"
        },
        {
         "name": "275",
         "rawType": "float64",
         "type": "float"
        },
        {
         "name": "276",
         "rawType": "float64",
         "type": "float"
        },
        {
         "name": "277",
         "rawType": "float64",
         "type": "float"
        },
        {
         "name": "278",
         "rawType": "float64",
         "type": "float"
        },
        {
         "name": "279",
         "rawType": "float64",
         "type": "float"
        },
        {
         "name": "280",
         "rawType": "float64",
         "type": "float"
        },
        {
         "name": "281",
         "rawType": "float64",
         "type": "float"
        },
        {
         "name": "282",
         "rawType": "float64",
         "type": "float"
        },
        {
         "name": "283",
         "rawType": "float64",
         "type": "float"
        },
        {
         "name": "284",
         "rawType": "float64",
         "type": "float"
        },
        {
         "name": "285",
         "rawType": "float64",
         "type": "float"
        },
        {
         "name": "286",
         "rawType": "float64",
         "type": "float"
        },
        {
         "name": "287",
         "rawType": "float64",
         "type": "float"
        },
        {
         "name": "288",
         "rawType": "float64",
         "type": "float"
        },
        {
         "name": "289",
         "rawType": "float64",
         "type": "float"
        },
        {
         "name": "290",
         "rawType": "float64",
         "type": "float"
        },
        {
         "name": "291",
         "rawType": "float64",
         "type": "float"
        },
        {
         "name": "292",
         "rawType": "float64",
         "type": "float"
        },
        {
         "name": "293",
         "rawType": "float64",
         "type": "float"
        },
        {
         "name": "294",
         "rawType": "float64",
         "type": "float"
        },
        {
         "name": "295",
         "rawType": "float64",
         "type": "float"
        },
        {
         "name": "296",
         "rawType": "float64",
         "type": "float"
        },
        {
         "name": "297",
         "rawType": "float64",
         "type": "float"
        },
        {
         "name": "298",
         "rawType": "float64",
         "type": "float"
        },
        {
         "name": "299",
         "rawType": "float64",
         "type": "float"
        },
        {
         "name": "300",
         "rawType": "float64",
         "type": "float"
        },
        {
         "name": "301",
         "rawType": "float64",
         "type": "float"
        },
        {
         "name": "302",
         "rawType": "float64",
         "type": "float"
        },
        {
         "name": "303",
         "rawType": "float64",
         "type": "float"
        },
        {
         "name": "304",
         "rawType": "float64",
         "type": "float"
        },
        {
         "name": "305",
         "rawType": "float64",
         "type": "float"
        },
        {
         "name": "306",
         "rawType": "float64",
         "type": "float"
        },
        {
         "name": "307",
         "rawType": "float64",
         "type": "float"
        },
        {
         "name": "308",
         "rawType": "float64",
         "type": "float"
        },
        {
         "name": "309",
         "rawType": "float64",
         "type": "float"
        },
        {
         "name": "310",
         "rawType": "float64",
         "type": "float"
        },
        {
         "name": "311",
         "rawType": "float64",
         "type": "float"
        },
        {
         "name": "312",
         "rawType": "float64",
         "type": "float"
        },
        {
         "name": "313",
         "rawType": "float64",
         "type": "float"
        },
        {
         "name": "314",
         "rawType": "float64",
         "type": "float"
        },
        {
         "name": "315",
         "rawType": "float64",
         "type": "float"
        },
        {
         "name": "316",
         "rawType": "float64",
         "type": "float"
        },
        {
         "name": "317",
         "rawType": "float64",
         "type": "float"
        },
        {
         "name": "318",
         "rawType": "float64",
         "type": "float"
        },
        {
         "name": "319",
         "rawType": "float64",
         "type": "float"
        },
        {
         "name": "320",
         "rawType": "float64",
         "type": "float"
        },
        {
         "name": "321",
         "rawType": "float64",
         "type": "float"
        },
        {
         "name": "322",
         "rawType": "float64",
         "type": "float"
        },
        {
         "name": "323",
         "rawType": "float64",
         "type": "float"
        },
        {
         "name": "324",
         "rawType": "float64",
         "type": "float"
        },
        {
         "name": "325",
         "rawType": "float64",
         "type": "float"
        },
        {
         "name": "326",
         "rawType": "float64",
         "type": "float"
        },
        {
         "name": "327",
         "rawType": "float64",
         "type": "float"
        },
        {
         "name": "328",
         "rawType": "float64",
         "type": "float"
        },
        {
         "name": "329",
         "rawType": "float64",
         "type": "float"
        },
        {
         "name": "330",
         "rawType": "float64",
         "type": "float"
        },
        {
         "name": "331",
         "rawType": "float64",
         "type": "float"
        },
        {
         "name": "332",
         "rawType": "float64",
         "type": "float"
        },
        {
         "name": "333",
         "rawType": "float64",
         "type": "float"
        },
        {
         "name": "334",
         "rawType": "float64",
         "type": "float"
        },
        {
         "name": "335",
         "rawType": "float64",
         "type": "float"
        },
        {
         "name": "336",
         "rawType": "float64",
         "type": "float"
        },
        {
         "name": "337",
         "rawType": "float64",
         "type": "float"
        },
        {
         "name": "338",
         "rawType": "float64",
         "type": "float"
        },
        {
         "name": "339",
         "rawType": "float64",
         "type": "float"
        },
        {
         "name": "340",
         "rawType": "float64",
         "type": "float"
        },
        {
         "name": "341",
         "rawType": "float64",
         "type": "float"
        },
        {
         "name": "342",
         "rawType": "float64",
         "type": "float"
        },
        {
         "name": "343",
         "rawType": "float64",
         "type": "float"
        },
        {
         "name": "344",
         "rawType": "float64",
         "type": "float"
        },
        {
         "name": "345",
         "rawType": "float64",
         "type": "float"
        },
        {
         "name": "346",
         "rawType": "float64",
         "type": "float"
        },
        {
         "name": "347",
         "rawType": "float64",
         "type": "float"
        },
        {
         "name": "348",
         "rawType": "float64",
         "type": "float"
        },
        {
         "name": "349",
         "rawType": "float64",
         "type": "float"
        },
        {
         "name": "350",
         "rawType": "float64",
         "type": "float"
        },
        {
         "name": "351",
         "rawType": "float64",
         "type": "float"
        },
        {
         "name": "352",
         "rawType": "float64",
         "type": "float"
        },
        {
         "name": "353",
         "rawType": "float64",
         "type": "float"
        },
        {
         "name": "354",
         "rawType": "float64",
         "type": "float"
        },
        {
         "name": "355",
         "rawType": "float64",
         "type": "float"
        },
        {
         "name": "356",
         "rawType": "float64",
         "type": "float"
        },
        {
         "name": "357",
         "rawType": "float64",
         "type": "float"
        },
        {
         "name": "358",
         "rawType": "float64",
         "type": "float"
        },
        {
         "name": "359",
         "rawType": "float64",
         "type": "float"
        },
        {
         "name": "360",
         "rawType": "float64",
         "type": "float"
        },
        {
         "name": "361",
         "rawType": "float64",
         "type": "float"
        },
        {
         "name": "362",
         "rawType": "float64",
         "type": "float"
        },
        {
         "name": "363",
         "rawType": "float64",
         "type": "float"
        },
        {
         "name": "364",
         "rawType": "float64",
         "type": "float"
        },
        {
         "name": "365",
         "rawType": "float64",
         "type": "float"
        },
        {
         "name": "366",
         "rawType": "float64",
         "type": "float"
        },
        {
         "name": "367",
         "rawType": "float64",
         "type": "float"
        },
        {
         "name": "368",
         "rawType": "float64",
         "type": "float"
        },
        {
         "name": "369",
         "rawType": "float64",
         "type": "float"
        },
        {
         "name": "370",
         "rawType": "float64",
         "type": "float"
        },
        {
         "name": "371",
         "rawType": "float64",
         "type": "float"
        },
        {
         "name": "372",
         "rawType": "float64",
         "type": "float"
        },
        {
         "name": "373",
         "rawType": "float64",
         "type": "float"
        },
        {
         "name": "374",
         "rawType": "float64",
         "type": "float"
        },
        {
         "name": "375",
         "rawType": "float64",
         "type": "float"
        },
        {
         "name": "376",
         "rawType": "float64",
         "type": "float"
        },
        {
         "name": "377",
         "rawType": "float64",
         "type": "float"
        },
        {
         "name": "378",
         "rawType": "float64",
         "type": "float"
        },
        {
         "name": "379",
         "rawType": "float64",
         "type": "float"
        },
        {
         "name": "380",
         "rawType": "float64",
         "type": "float"
        },
        {
         "name": "381",
         "rawType": "float64",
         "type": "float"
        },
        {
         "name": "382",
         "rawType": "float64",
         "type": "float"
        },
        {
         "name": "383",
         "rawType": "float64",
         "type": "float"
        },
        {
         "name": "384",
         "rawType": "float64",
         "type": "float"
        },
        {
         "name": "385",
         "rawType": "float64",
         "type": "float"
        },
        {
         "name": "386",
         "rawType": "float64",
         "type": "float"
        },
        {
         "name": "387",
         "rawType": "float64",
         "type": "float"
        },
        {
         "name": "388",
         "rawType": "float64",
         "type": "float"
        },
        {
         "name": "389",
         "rawType": "float64",
         "type": "float"
        },
        {
         "name": "390",
         "rawType": "float64",
         "type": "float"
        },
        {
         "name": "391",
         "rawType": "float64",
         "type": "float"
        },
        {
         "name": "392",
         "rawType": "float64",
         "type": "float"
        },
        {
         "name": "393",
         "rawType": "float64",
         "type": "float"
        },
        {
         "name": "394",
         "rawType": "float64",
         "type": "float"
        },
        {
         "name": "395",
         "rawType": "float64",
         "type": "float"
        },
        {
         "name": "396",
         "rawType": "float64",
         "type": "float"
        },
        {
         "name": "397",
         "rawType": "float64",
         "type": "float"
        },
        {
         "name": "398",
         "rawType": "float64",
         "type": "float"
        },
        {
         "name": "399",
         "rawType": "float64",
         "type": "float"
        },
        {
         "name": "400",
         "rawType": "float64",
         "type": "float"
        },
        {
         "name": "401",
         "rawType": "float64",
         "type": "float"
        },
        {
         "name": "402",
         "rawType": "float64",
         "type": "float"
        },
        {
         "name": "403",
         "rawType": "float64",
         "type": "float"
        },
        {
         "name": "404",
         "rawType": "float64",
         "type": "float"
        },
        {
         "name": "405",
         "rawType": "float64",
         "type": "float"
        },
        {
         "name": "406",
         "rawType": "float64",
         "type": "float"
        },
        {
         "name": "407",
         "rawType": "float64",
         "type": "float"
        },
        {
         "name": "408",
         "rawType": "float64",
         "type": "float"
        },
        {
         "name": "409",
         "rawType": "float64",
         "type": "float"
        },
        {
         "name": "410",
         "rawType": "float64",
         "type": "float"
        },
        {
         "name": "411",
         "rawType": "float64",
         "type": "float"
        },
        {
         "name": "412",
         "rawType": "float64",
         "type": "float"
        },
        {
         "name": "413",
         "rawType": "float64",
         "type": "float"
        },
        {
         "name": "414",
         "rawType": "float64",
         "type": "float"
        },
        {
         "name": "415",
         "rawType": "float64",
         "type": "float"
        },
        {
         "name": "416",
         "rawType": "float64",
         "type": "float"
        },
        {
         "name": "417",
         "rawType": "float64",
         "type": "float"
        },
        {
         "name": "418",
         "rawType": "float64",
         "type": "float"
        },
        {
         "name": "419",
         "rawType": "float64",
         "type": "float"
        },
        {
         "name": "420",
         "rawType": "float64",
         "type": "float"
        },
        {
         "name": "421",
         "rawType": "float64",
         "type": "float"
        },
        {
         "name": "422",
         "rawType": "float64",
         "type": "float"
        },
        {
         "name": "423",
         "rawType": "float64",
         "type": "float"
        },
        {
         "name": "424",
         "rawType": "float64",
         "type": "float"
        },
        {
         "name": "425",
         "rawType": "float64",
         "type": "float"
        },
        {
         "name": "426",
         "rawType": "float64",
         "type": "float"
        },
        {
         "name": "427",
         "rawType": "float64",
         "type": "float"
        },
        {
         "name": "428",
         "rawType": "float64",
         "type": "float"
        },
        {
         "name": "429",
         "rawType": "float64",
         "type": "float"
        },
        {
         "name": "430",
         "rawType": "float64",
         "type": "float"
        },
        {
         "name": "431",
         "rawType": "float64",
         "type": "float"
        },
        {
         "name": "432",
         "rawType": "float64",
         "type": "float"
        },
        {
         "name": "433",
         "rawType": "float64",
         "type": "float"
        },
        {
         "name": "434",
         "rawType": "float64",
         "type": "float"
        },
        {
         "name": "435",
         "rawType": "float64",
         "type": "float"
        },
        {
         "name": "436",
         "rawType": "float64",
         "type": "float"
        },
        {
         "name": "437",
         "rawType": "float64",
         "type": "float"
        },
        {
         "name": "438",
         "rawType": "float64",
         "type": "float"
        },
        {
         "name": "439",
         "rawType": "float64",
         "type": "float"
        },
        {
         "name": "440",
         "rawType": "float64",
         "type": "float"
        },
        {
         "name": "441",
         "rawType": "float64",
         "type": "float"
        },
        {
         "name": "442",
         "rawType": "float64",
         "type": "float"
        },
        {
         "name": "443",
         "rawType": "float64",
         "type": "float"
        },
        {
         "name": "444",
         "rawType": "float64",
         "type": "float"
        },
        {
         "name": "445",
         "rawType": "float64",
         "type": "float"
        },
        {
         "name": "446",
         "rawType": "float64",
         "type": "float"
        },
        {
         "name": "447",
         "rawType": "float64",
         "type": "float"
        },
        {
         "name": "448",
         "rawType": "float64",
         "type": "float"
        },
        {
         "name": "449",
         "rawType": "float64",
         "type": "float"
        },
        {
         "name": "450",
         "rawType": "float64",
         "type": "float"
        },
        {
         "name": "451",
         "rawType": "float64",
         "type": "float"
        },
        {
         "name": "452",
         "rawType": "float64",
         "type": "float"
        },
        {
         "name": "453",
         "rawType": "float64",
         "type": "float"
        },
        {
         "name": "454",
         "rawType": "float64",
         "type": "float"
        },
        {
         "name": "455",
         "rawType": "float64",
         "type": "float"
        },
        {
         "name": "456",
         "rawType": "float64",
         "type": "float"
        },
        {
         "name": "457",
         "rawType": "float64",
         "type": "float"
        },
        {
         "name": "458",
         "rawType": "float64",
         "type": "float"
        },
        {
         "name": "459",
         "rawType": "float64",
         "type": "float"
        },
        {
         "name": "460",
         "rawType": "float64",
         "type": "float"
        },
        {
         "name": "461",
         "rawType": "float64",
         "type": "float"
        },
        {
         "name": "462",
         "rawType": "float64",
         "type": "float"
        },
        {
         "name": "463",
         "rawType": "float64",
         "type": "float"
        },
        {
         "name": "464",
         "rawType": "float64",
         "type": "float"
        },
        {
         "name": "465",
         "rawType": "float64",
         "type": "float"
        },
        {
         "name": "466",
         "rawType": "float64",
         "type": "float"
        },
        {
         "name": "467",
         "rawType": "float64",
         "type": "float"
        },
        {
         "name": "468",
         "rawType": "float64",
         "type": "float"
        },
        {
         "name": "469",
         "rawType": "float64",
         "type": "float"
        },
        {
         "name": "470",
         "rawType": "float64",
         "type": "float"
        },
        {
         "name": "471",
         "rawType": "float64",
         "type": "float"
        },
        {
         "name": "472",
         "rawType": "float64",
         "type": "float"
        },
        {
         "name": "473",
         "rawType": "float64",
         "type": "float"
        },
        {
         "name": "474",
         "rawType": "float64",
         "type": "float"
        },
        {
         "name": "475",
         "rawType": "float64",
         "type": "float"
        },
        {
         "name": "476",
         "rawType": "float64",
         "type": "float"
        },
        {
         "name": "477",
         "rawType": "float64",
         "type": "float"
        },
        {
         "name": "478",
         "rawType": "float64",
         "type": "float"
        },
        {
         "name": "479",
         "rawType": "float64",
         "type": "float"
        },
        {
         "name": "480",
         "rawType": "float64",
         "type": "float"
        },
        {
         "name": "481",
         "rawType": "float64",
         "type": "float"
        },
        {
         "name": "482",
         "rawType": "float64",
         "type": "float"
        },
        {
         "name": "483",
         "rawType": "float64",
         "type": "float"
        },
        {
         "name": "484",
         "rawType": "float64",
         "type": "float"
        },
        {
         "name": "485",
         "rawType": "float64",
         "type": "float"
        },
        {
         "name": "486",
         "rawType": "float64",
         "type": "float"
        },
        {
         "name": "487",
         "rawType": "float64",
         "type": "float"
        },
        {
         "name": "488",
         "rawType": "float64",
         "type": "float"
        },
        {
         "name": "489",
         "rawType": "float64",
         "type": "float"
        },
        {
         "name": "490",
         "rawType": "float64",
         "type": "float"
        },
        {
         "name": "491",
         "rawType": "float64",
         "type": "float"
        },
        {
         "name": "492",
         "rawType": "float64",
         "type": "float"
        },
        {
         "name": "493",
         "rawType": "float64",
         "type": "float"
        },
        {
         "name": "494",
         "rawType": "float64",
         "type": "float"
        },
        {
         "name": "495",
         "rawType": "float64",
         "type": "float"
        },
        {
         "name": "496",
         "rawType": "float64",
         "type": "float"
        },
        {
         "name": "497",
         "rawType": "float64",
         "type": "float"
        },
        {
         "name": "498",
         "rawType": "float64",
         "type": "float"
        },
        {
         "name": "499",
         "rawType": "float64",
         "type": "float"
        },
        {
         "name": "500",
         "rawType": "float64",
         "type": "float"
        },
        {
         "name": "501",
         "rawType": "float64",
         "type": "float"
        },
        {
         "name": "502",
         "rawType": "float64",
         "type": "float"
        },
        {
         "name": "503",
         "rawType": "float64",
         "type": "float"
        },
        {
         "name": "504",
         "rawType": "float64",
         "type": "float"
        },
        {
         "name": "505",
         "rawType": "float64",
         "type": "float"
        },
        {
         "name": "506",
         "rawType": "float64",
         "type": "float"
        },
        {
         "name": "507",
         "rawType": "float64",
         "type": "float"
        },
        {
         "name": "508",
         "rawType": "float64",
         "type": "float"
        },
        {
         "name": "509",
         "rawType": "float64",
         "type": "float"
        },
        {
         "name": "510",
         "rawType": "float64",
         "type": "float"
        },
        {
         "name": "511",
         "rawType": "float64",
         "type": "float"
        },
        {
         "name": "512",
         "rawType": "float64",
         "type": "float"
        },
        {
         "name": "513",
         "rawType": "float64",
         "type": "float"
        },
        {
         "name": "514",
         "rawType": "float64",
         "type": "float"
        },
        {
         "name": "515",
         "rawType": "float64",
         "type": "float"
        },
        {
         "name": "516",
         "rawType": "float64",
         "type": "float"
        },
        {
         "name": "517",
         "rawType": "float64",
         "type": "float"
        },
        {
         "name": "518",
         "rawType": "float64",
         "type": "float"
        },
        {
         "name": "519",
         "rawType": "float64",
         "type": "float"
        },
        {
         "name": "520",
         "rawType": "float64",
         "type": "float"
        },
        {
         "name": "521",
         "rawType": "float64",
         "type": "float"
        },
        {
         "name": "522",
         "rawType": "float64",
         "type": "float"
        },
        {
         "name": "523",
         "rawType": "float64",
         "type": "float"
        },
        {
         "name": "524",
         "rawType": "float64",
         "type": "float"
        },
        {
         "name": "525",
         "rawType": "float64",
         "type": "float"
        },
        {
         "name": "526",
         "rawType": "float64",
         "type": "float"
        },
        {
         "name": "527",
         "rawType": "float64",
         "type": "float"
        },
        {
         "name": "528",
         "rawType": "float64",
         "type": "float"
        },
        {
         "name": "529",
         "rawType": "float64",
         "type": "float"
        },
        {
         "name": "530",
         "rawType": "float64",
         "type": "float"
        },
        {
         "name": "531",
         "rawType": "float64",
         "type": "float"
        },
        {
         "name": "532",
         "rawType": "float64",
         "type": "float"
        },
        {
         "name": "533",
         "rawType": "float64",
         "type": "float"
        },
        {
         "name": "534",
         "rawType": "float64",
         "type": "float"
        },
        {
         "name": "535",
         "rawType": "float64",
         "type": "float"
        },
        {
         "name": "536",
         "rawType": "float64",
         "type": "float"
        },
        {
         "name": "537",
         "rawType": "float64",
         "type": "float"
        },
        {
         "name": "538",
         "rawType": "float64",
         "type": "float"
        },
        {
         "name": "539",
         "rawType": "float64",
         "type": "float"
        },
        {
         "name": "540",
         "rawType": "float64",
         "type": "float"
        },
        {
         "name": "541",
         "rawType": "float64",
         "type": "float"
        },
        {
         "name": "542",
         "rawType": "float64",
         "type": "float"
        },
        {
         "name": "543",
         "rawType": "float64",
         "type": "float"
        },
        {
         "name": "544",
         "rawType": "float64",
         "type": "float"
        },
        {
         "name": "545",
         "rawType": "float64",
         "type": "float"
        },
        {
         "name": "546",
         "rawType": "float64",
         "type": "float"
        },
        {
         "name": "547",
         "rawType": "float64",
         "type": "float"
        },
        {
         "name": "548",
         "rawType": "float64",
         "type": "float"
        },
        {
         "name": "549",
         "rawType": "float64",
         "type": "float"
        },
        {
         "name": "550",
         "rawType": "float64",
         "type": "float"
        },
        {
         "name": "551",
         "rawType": "float64",
         "type": "float"
        },
        {
         "name": "552",
         "rawType": "float64",
         "type": "float"
        },
        {
         "name": "553",
         "rawType": "float64",
         "type": "float"
        },
        {
         "name": "554",
         "rawType": "float64",
         "type": "float"
        },
        {
         "name": "555",
         "rawType": "float64",
         "type": "float"
        },
        {
         "name": "556",
         "rawType": "float64",
         "type": "float"
        },
        {
         "name": "557",
         "rawType": "float64",
         "type": "float"
        },
        {
         "name": "558",
         "rawType": "float64",
         "type": "float"
        },
        {
         "name": "559",
         "rawType": "float64",
         "type": "float"
        },
        {
         "name": "560",
         "rawType": "float64",
         "type": "float"
        },
        {
         "name": "561",
         "rawType": "float64",
         "type": "float"
        },
        {
         "name": "562",
         "rawType": "float64",
         "type": "float"
        },
        {
         "name": "563",
         "rawType": "float64",
         "type": "float"
        },
        {
         "name": "564",
         "rawType": "float64",
         "type": "float"
        },
        {
         "name": "565",
         "rawType": "float64",
         "type": "float"
        },
        {
         "name": "566",
         "rawType": "float64",
         "type": "float"
        },
        {
         "name": "567",
         "rawType": "float64",
         "type": "float"
        },
        {
         "name": "568",
         "rawType": "float64",
         "type": "float"
        },
        {
         "name": "569",
         "rawType": "float64",
         "type": "float"
        },
        {
         "name": "570",
         "rawType": "float64",
         "type": "float"
        },
        {
         "name": "571",
         "rawType": "float64",
         "type": "float"
        },
        {
         "name": "572",
         "rawType": "float64",
         "type": "float"
        },
        {
         "name": "573",
         "rawType": "float64",
         "type": "float"
        },
        {
         "name": "574",
         "rawType": "float64",
         "type": "float"
        },
        {
         "name": "575",
         "rawType": "float64",
         "type": "float"
        },
        {
         "name": "576",
         "rawType": "float64",
         "type": "float"
        },
        {
         "name": "577",
         "rawType": "float64",
         "type": "float"
        },
        {
         "name": "578",
         "rawType": "float64",
         "type": "float"
        },
        {
         "name": "579",
         "rawType": "float64",
         "type": "float"
        },
        {
         "name": "580",
         "rawType": "float64",
         "type": "float"
        },
        {
         "name": "581",
         "rawType": "float64",
         "type": "float"
        },
        {
         "name": "582",
         "rawType": "float64",
         "type": "float"
        },
        {
         "name": "583",
         "rawType": "float64",
         "type": "float"
        },
        {
         "name": "584",
         "rawType": "float64",
         "type": "float"
        },
        {
         "name": "585",
         "rawType": "float64",
         "type": "float"
        },
        {
         "name": "586",
         "rawType": "float64",
         "type": "float"
        },
        {
         "name": "587",
         "rawType": "float64",
         "type": "float"
        },
        {
         "name": "588",
         "rawType": "float64",
         "type": "float"
        },
        {
         "name": "589",
         "rawType": "float64",
         "type": "float"
        },
        {
         "name": "590",
         "rawType": "float64",
         "type": "float"
        },
        {
         "name": "591",
         "rawType": "float64",
         "type": "float"
        },
        {
         "name": "592",
         "rawType": "float64",
         "type": "float"
        },
        {
         "name": "593",
         "rawType": "float64",
         "type": "float"
        },
        {
         "name": "594",
         "rawType": "float64",
         "type": "float"
        },
        {
         "name": "595",
         "rawType": "float64",
         "type": "float"
        },
        {
         "name": "596",
         "rawType": "float64",
         "type": "float"
        },
        {
         "name": "597",
         "rawType": "float64",
         "type": "float"
        },
        {
         "name": "598",
         "rawType": "float64",
         "type": "float"
        },
        {
         "name": "599",
         "rawType": "float64",
         "type": "float"
        },
        {
         "name": "600",
         "rawType": "float64",
         "type": "float"
        },
        {
         "name": "601",
         "rawType": "float64",
         "type": "float"
        },
        {
         "name": "602",
         "rawType": "float64",
         "type": "float"
        },
        {
         "name": "603",
         "rawType": "float64",
         "type": "float"
        },
        {
         "name": "604",
         "rawType": "float64",
         "type": "float"
        },
        {
         "name": "605",
         "rawType": "float64",
         "type": "float"
        },
        {
         "name": "606",
         "rawType": "float64",
         "type": "float"
        },
        {
         "name": "607",
         "rawType": "float64",
         "type": "float"
        },
        {
         "name": "608",
         "rawType": "float64",
         "type": "float"
        },
        {
         "name": "609",
         "rawType": "float64",
         "type": "float"
        },
        {
         "name": "610",
         "rawType": "float64",
         "type": "float"
        },
        {
         "name": "611",
         "rawType": "float64",
         "type": "float"
        },
        {
         "name": "612",
         "rawType": "float64",
         "type": "float"
        },
        {
         "name": "613",
         "rawType": "float64",
         "type": "float"
        },
        {
         "name": "614",
         "rawType": "float64",
         "type": "float"
        },
        {
         "name": "615",
         "rawType": "float64",
         "type": "float"
        },
        {
         "name": "616",
         "rawType": "float64",
         "type": "float"
        },
        {
         "name": "617",
         "rawType": "float64",
         "type": "float"
        },
        {
         "name": "618",
         "rawType": "float64",
         "type": "float"
        },
        {
         "name": "619",
         "rawType": "float64",
         "type": "float"
        },
        {
         "name": "620",
         "rawType": "float64",
         "type": "float"
        },
        {
         "name": "621",
         "rawType": "float64",
         "type": "float"
        },
        {
         "name": "622",
         "rawType": "float64",
         "type": "float"
        },
        {
         "name": "623",
         "rawType": "float64",
         "type": "float"
        },
        {
         "name": "624",
         "rawType": "float64",
         "type": "float"
        },
        {
         "name": "625",
         "rawType": "float64",
         "type": "float"
        },
        {
         "name": "626",
         "rawType": "float64",
         "type": "float"
        }
       ],
       "conversionMethod": "pd.DataFrame",
       "ref": "04d9a9de-e152-4415-b449-89376ebda8d0",
       "rows": [
        [
         "age",
         "22.0",
         "38.0",
         "26.0",
         "35.0",
         "28.0",
         "2.0",
         "27.0",
         "14.0",
         "4.0",
         "20.0",
         "39.0",
         "14.0",
         "2.0",
         "28.0",
         "31.0",
         "28.0",
         "35.0",
         "28.0",
         "38.0",
         "28.0",
         "19.0",
         "28.0",
         "28.0",
         "40.0",
         "28.0",
         "28.0",
         "66.0",
         "28.0",
         "42.0",
         "28.0",
         "14.0",
         "40.0",
         "27.0",
         "28.0",
         "3.0",
         "28.0",
         "28.0",
         "28.0",
         "18.0",
         "7.0",
         "49.0",
         "29.0",
         "65.0",
         "28.0",
         "21.0",
         "28.5",
         "11.0",
         "22.0",
         "38.0",
         "45.0",
         "4.0",
         "28.0",
         "19.0",
         "17.0",
         "26.0",
         "32.0",
         "21.0",
         "32.0",
         "25.0",
         "28.0",
         "28.0",
         "0.83",
         "30.0",
         "22.0",
         "29.0",
         "28.0",
         "28.0",
         "16.0",
         "28.0",
         "23.0",
         "24.0",
         "46.0",
         "59.0",
         "28.0",
         "71.0",
         "23.0",
         "34.0",
         "34.0",
         "28.0",
         "28.0",
         "21.0",
         "33.0",
         "37.0",
         "28.0",
         "28.0",
         "28.0",
         "47.0",
         "14.5",
         "22.0",
         "17.0",
         "21.0",
         "70.5",
         "29.0",
         "24.0",
         "28.0",
         "32.5",
         "32.5",
         "28.0",
         "24.0",
         "45.0",
         "20.0",
         "47.0",
         "23.0",
         "19.0",
         "37.0",
         "16.0",
         "24.0",
         "28.0",
         "22.0",
         "19.0",
         "18.0",
         "9.0",
         "51.0",
         "55.5",
         "40.5",
         "28.0",
         "51.0",
         "16.0",
         "28.0",
         "28.0",
         "44.0",
         "26.0",
         "17.0",
         "1.0",
         "28.0",
         "28.0",
         "4.0",
         "18.0",
         "28.0",
         "50.0",
         "30.0",
         "36.0",
         "28.0",
         "28.0",
         "9.0",
         "4.0",
         "28.0",
         "45.0",
         "36.0",
         "32.0",
         "19.0",
         "3.0",
         "44.0",
         "58.0",
         "28.0",
         "28.0",
         "24.0",
         "28.0",
         "28.0",
         "34.0",
         "2.0",
         "32.0",
         "26.0",
         "16.0",
         "40.0",
         "35.0",
         "22.0",
         "28.0",
         "31.0",
         "27.0",
         "42.0",
         "30.0",
         "16.0",
         "51.0",
         "22.0",
         "19.0",
         "20.5",
         "18.0",
         "28.0",
         "35.0",
         "29.0",
         "59.0",
         "28.0",
         "44.0",
         "19.0",
         "33.0",
         "28.0",
         "28.0",
         "22.0",
         "30.0",
         "44.0",
         "24.0",
         "28.0",
         "29.0",
         "30.0",
         "41.0",
         "28.0",
         "35.0",
         "50.0",
         "28.0",
         "3.0",
         "40.0",
         "28.0",
         "36.0",
         "16.0",
         "25.0",
         "58.0",
         "35.0",
         "28.0",
         "25.0",
         "41.0",
         "37.0",
         "28.0",
         "63.0",
         "45.0",
         "28.0",
         "7.0",
         "35.0",
         "28.0",
         "16.0",
         "28.0",
         "26.0",
         "36.0",
         "24.0",
         "28.0",
         "50.0",
         "28.0",
         "19.0",
         "28.0",
         "28.0",
         "28.0",
         "17.0",
         "30.0",
         "30.0",
         "24.0",
         "18.0",
         "26.0",
         "28.0",
         "43.0",
         "24.0",
         "31.0",
         "40.0",
         "22.0",
         "27.0",
         "22.0",
         "28.0",
         "36.0",
         "61.0",
         "31.0",
         "28.0",
         "38.0",
         "28.0",
         "28.0",
         "29.0",
         "45.0",
         "45.0",
         "28.0",
         "25.0",
         "36.0",
         "24.0",
         "40.0",
         "28.0",
         "15.0",
         "25.0",
         "28.0",
         "28.0",
         "22.0",
         "38.0",
         "28.0",
         "28.0",
         "40.0",
         "29.0",
         "45.0",
         "35.0",
         "28.0",
         "60.0",
         "28.0",
         "28.0",
         "24.0",
         "18.0",
         "19.0",
         "28.0",
         "27.0",
         "19.0",
         "42.0",
         "32.0",
         "28.0",
         "18.0",
         "1.0",
         "28.0",
         "17.0",
         "36.0",
         "21.0",
         "23.0",
         "24.0",
         "22.0",
         "31.0",
         "46.0",
         "23.0",
         "39.0",
         "26.0",
         "28.0",
         "34.0",
         "3.0",
         "21.0",
         "28.0",
         "28.0",
         "28.0",
         "28.0",
         "44.0",
         "28.0",
         "34.0",
         "18.0",
         "30.0",
         "28.0",
         "21.0",
         "18.0",
         "19.0",
         "28.0",
         "32.0",
         "28.0",
         "28.0",
         "42.0",
         "17.0",
         "50.0",
         "14.0",
         "24.0",
         "64.0",
         "31.0",
         "45.0",
         "20.0",
         "28.0",
         "28.0",
         "34.0",
         "5.0",
         "52.0",
         "36.0",
         "30.0",
         "49.0",
         "29.0",
         "65.0",
         "28.0",
         "48.0",
         "34.0",
         "47.0",
         "28.0",
         "38.0",
         "56.0",
         "28.0",
         "0.75",
         "28.0",
         "33.0",
         "23.0",
         "28.0",
         "34.0",
         "29.0",
         "2.0",
         "9.0",
         "28.0",
         "63.0",
         "25.0",
         "28.0",
         "35.0",
         "58.0",
         "9.0",
         "28.0",
         "71.0",
         "21.0",
         "25.0",
         "17.0",
         "21.0",
         "37.0",
         "18.0",
         "33.0",
         "28.0",
         "26.0",
         "54.0",
         "24.0",
         "47.0",
         "34.0",
         "36.0",
         "32.0",
         "30.0",
         "22.0",
         "44.0",
         "28.0",
         "40.5",
         "50.0",
         "28.0",
         "23.0",
         "2.0",
         "17.0",
         "28.0",
         "30.0",
         "7.0",
         "45.0",
         "30.0",
         "22.0",
         "36.0",
         "9.0",
         "11.0",
         "50.0",
         "19.0",
         "28.0",
         "33.0",
         "17.0",
         "27.0",
         "28.0",
         "22.0",
         "48.0",
         "28.0",
         "39.0",
         "36.0",
         "28.0",
         "40.0",
         "28.0",
         "24.0",
         "19.0",
         "29.0",
         "32.0",
         "62.0",
         "53.0",
         "36.0",
         "16.0",
         "34.0",
         "25.0",
         "36.0",
         "47.0",
         "60.0",
         "28.0",
         "35.0",
         "52.0",
         "47.0",
         "28.0",
         "37.0",
         "36.0",
         "28.0",
         "49.0",
         "28.0",
         "49.0",
         "35.0",
         "36.0",
         "30.0",
         "27.0",
         "22.0",
         "40.0",
         "39.0",
         "28.0",
         "28.0",
         "35.0",
         "24.0",
         "34.0",
         "26.0",
         "20.0",
         "61.0",
         "57.0",
         "21.0",
         "26.0",
         "28.0",
         "80.0",
         "51.0",
         "32.0",
         "9.0",
         "28.0",
         "32.0",
         "41.0",
         "28.0",
         "20.0",
         "28.0",
         "0.75",
         "48.0",
         "28.0",
         "23.0",
         "28.0",
         "18.0",
         "21.0",
         "24.0",
         "28.0",
         "32.0",
         "50.0",
         "47.0",
         "36.0",
         "20.0",
         "25.0",
         "28.0",
         "43.0",
         "40.0",
         "31.0",
         "31.0",
         "28.0",
         "18.0",
         "18.0",
         "36.0",
         "27.0",
         "20.0",
         "14.0",
         "60.0",
         "19.0",
         "18.0",
         "15.0",
         "31.0",
         "4.0",
         "28.0",
         "60.0",
         "28.0",
         "49.0",
         "35.0",
         "25.0",
         "39.0",
         "22.0",
         "28.0",
         "24.0",
         "28.0",
         "48.0",
         "29.0",
         "19.0",
         "38.0",
         "27.0",
         "28.0",
         "33.0",
         "6.0",
         "50.0",
         "27.0",
         "30.0",
         "25.0",
         "25.0",
         "29.0",
         "11.0",
         "28.0",
         "23.0",
         "23.0",
         "35.0",
         "28.0",
         "28.0",
         "36.0",
         "21.0",
         "24.0",
         "70.0",
         "4.0",
         "6.0",
         "33.0",
         "23.0",
         "48.0",
         "28.0",
         "34.0",
         "28.0",
         "41.0",
         "20.0",
         "51.0",
         "28.0",
         "28.0",
         "32.0",
         "48.0",
         "57.0",
         "18.0",
         "28.0",
         "5.0",
         "17.0",
         "29.0",
         "28.0",
         "25.0",
         "1.0",
         "46.0",
         "28.0",
         "16.0",
         "28.0",
         "28.0",
         "25.0",
         "39.0",
         "49.0",
         "31.0",
         "30.0",
         "30.0",
         "34.0",
         "31.0",
         "11.0",
         "31.0",
         "39.0",
         "39.0",
         "33.0",
         "26.0",
         "39.0",
         "35.0",
         "30.5",
         "28.0",
         "23.0",
         "31.0",
         "10.0",
         "52.0",
         "27.0",
         "2.0",
         "28.0",
         "28.0",
         "28.0",
         "15.0",
         "28.0",
         "23.0",
         "18.0",
         "39.0",
         "21.0",
         "28.0",
         "28.0",
         "16.0",
         "30.0",
         "34.5",
         "42.0",
         "28.0",
         "35.0",
         "28.0",
         "28.0",
         "4.0",
         "16.0",
         "18.0",
         "45.0",
         "51.0",
         "24.0",
         "41.0",
         "24.0",
         "42.0",
         "27.0",
         "31.0",
         "4.0",
         "26.0",
         "47.0",
         "33.0",
         "47.0",
         "28.0",
         "15.0",
         "20.0",
         "19.0",
         "28.0",
         "22.0",
         "28.0",
         "25.0",
         "19.0",
         "28.0",
         "32.0"
        ],
        [
         "fare",
         "7.25",
         "71.2833",
         "7.925",
         "53.1",
         "8.4583",
         "21.075",
         "11.1333",
         "30.0708",
         "16.7",
         "8.05",
         "31.275",
         "7.8542",
         "29.125",
         "13.0",
         "18.0",
         "7.225",
         "26.0",
         "35.5",
         "31.3875",
         "7.225",
         "263.0",
         "7.8792",
         "7.8958",
         "27.7208",
         "146.5208",
         "7.75",
         "10.5",
         "82.1708",
         "52.0",
         "7.2292",
         "11.2417",
         "9.475",
         "21.0",
         "7.8958",
         "41.5792",
         "8.05",
         "15.5",
         "21.6792",
         "17.8",
         "39.6875",
         "76.7292",
         "26.0",
         "61.9792",
         "35.5",
         "10.5",
         "7.2292",
         "46.9",
         "7.2292",
         "80.0",
         "83.475",
         "27.9",
         "15.2458",
         "8.1583",
         "7.925",
         "8.6625",
         "10.5",
         "73.5",
         "56.4958",
         "7.65",
         "7.8958",
         "8.05",
         "29.0",
         "12.475",
         "9.0",
         "9.5",
         "7.7875",
         "47.1",
         "34.375",
         "8.05",
         "263.0",
         "8.05",
         "61.175",
         "7.25",
         "8.05",
         "34.6542",
         "63.3583",
         "23.0",
         "26.0",
         "7.8958",
         "7.8958",
         "77.2875",
         "8.6542",
         "7.925",
         "7.8958",
         "7.775",
         "24.15",
         "52.0",
         "14.4542",
         "8.05",
         "14.4583",
         "7.925",
         "7.75",
         "21.0",
         "247.5208",
         "8.05",
         "30.0708",
         "13.0",
         "7.75",
         "7.1417",
         "6.975",
         "7.05",
         "14.5",
         "15.0458",
         "26.2833",
         "53.1",
         "9.2167",
         "79.2",
         "15.2458",
         "7.75",
         "6.75",
         "11.5",
         "34.375",
         "12.525",
         "8.05",
         "14.5",
         "7.3125",
         "61.3792",
         "7.7333",
         "8.6625",
         "69.55",
         "16.1",
         "7.775",
         "8.6625",
         "39.6875",
         "55.0",
         "56.4958",
         "29.125",
         "7.8542",
         "25.4667",
         "28.7125",
         "13.0",
         "0.0",
         "69.55",
         "15.05",
         "31.3875",
         "22.025",
         "15.5",
         "26.55",
         "7.8958",
         "13.0",
         "7.8542",
         "26.0",
         "27.7208",
         "146.5208",
         "7.75",
         "7.75",
         "13.0",
         "9.5",
         "69.55",
         "6.4958",
         "10.4625",
         "15.85",
         "18.7875",
         "7.75",
         "31.0",
         "21.0",
         "7.25",
         "7.75",
         "113.275",
         "7.925",
         "27.0",
         "10.5",
         "8.05",
         "8.05",
         "9.35",
         "10.5",
         "7.25",
         "13.0",
         "25.4667",
         "83.475",
         "7.775",
         "13.5",
         "7.55",
         "26.0",
         "10.5",
         "12.275",
         "14.4542",
         "15.5",
         "7.125",
         "7.225",
         "90.0",
         "14.5",
         "7.25",
         "10.4625",
         "16.1",
         "20.2125",
         "79.2",
         "512.3292",
         "26.0",
         "7.75",
         "31.3875",
         "0.0",
         "7.75",
         "10.5",
         "39.6875",
         "7.775",
         "153.4625",
         "135.6333",
         "31.0",
         "0.0",
         "19.5",
         "29.7",
         "7.75",
         "77.9583",
         "7.75",
         "0.0",
         "29.125",
         "20.25",
         "7.8542",
         "9.5",
         "26.0",
         "78.85",
         "12.875",
         "7.8958",
         "30.5",
         "247.5208",
         "7.75",
         "0.0",
         "12.35",
         "8.05",
         "110.8833",
         "108.9",
         "24.0",
         "56.9292",
         "83.1583",
         "262.375",
         "26.0",
         "7.8958",
         "26.25",
         "26.0",
         "164.8667",
         "134.5",
         "7.25",
         "7.8958",
         "29.0",
         "69.55",
         "135.6333",
         "6.2375",
         "20.525",
         "23.25",
         "153.4625",
         "133.65",
         "7.8958",
         "66.6",
         "8.05",
         "35.5",
         "13.0",
         "13.0",
         "13.0",
         "13.0",
         "13.0",
         "16.1",
         "7.2292",
         "17.8",
         "7.225",
         "9.5",
         "55.0",
         "13.0",
         "7.8792",
         "7.8792",
         "27.9",
         "27.7208",
         "14.4542",
         "7.05",
         "15.5",
         "75.25",
         "7.2292",
         "7.75",
         "69.3",
         "6.4958",
         "8.05",
         "82.1708",
         "211.5",
         "7.775",
         "227.525",
         "7.925",
         "7.8958",
         "73.5",
         "46.9",
         "7.7292",
         "12.0",
         "120.0",
         "7.7958",
         "113.275",
         "16.7",
         "7.7958",
         "7.8542",
         "26.0",
         "10.5",
         "7.925",
         "8.05",
         "15.85",
         "21.0",
         "18.75",
         "7.775",
         "25.4667",
         "7.8958",
         "6.8583",
         "0.0",
         "7.925",
         "8.05",
         "32.5",
         "13.0",
         "13.0",
         "7.8958",
         "7.7333",
         "20.2125",
         "26.0",
         "7.75",
         "8.05",
         "26.55",
         "16.1",
         "26.0",
         "7.125",
         "55.9",
         "120.0",
         "18.75",
         "263.0",
         "10.5",
         "26.25",
         "9.5",
         "13.0",
         "8.1125",
         "26.55",
         "19.2583",
         "30.5",
         "27.75",
         "27.75",
         "89.1042",
         "7.8958",
         "26.55",
         "51.8625",
         "26.55",
         "8.05",
         "38.5",
         "8.05",
         "7.05",
         "26.55",
         "7.725",
         "19.2583",
         "7.25",
         "27.75",
         "13.7917",
         "52.0",
         "21.0",
         "7.0458",
         "12.2875",
         "46.9",
         "0.0",
         "9.5875",
         "91.0792",
         "25.4667",
         "90.0",
         "29.7",
         "15.9",
         "19.9667",
         "49.5042",
         "8.05",
         "151.55",
         "8.6625",
         "7.75",
         "9.5875",
         "108.9",
         "26.0",
         "26.55",
         "56.4958",
         "59.4",
         "7.4958",
         "34.0208",
         "10.5",
         "26.0",
         "7.8958",
         "93.5",
         "7.8958",
         "57.9792",
         "7.2292",
         "7.75",
         "10.5",
         "221.7792",
         "11.5",
         "26.0",
         "7.2292",
         "22.3583",
         "8.6625",
         "26.25",
         "26.55",
         "106.425",
         "49.5",
         "71.0",
         "31.275",
         "31.275",
         "106.425",
         "26.0",
         "13.8625",
         "20.525",
         "110.8833",
         "26.0",
         "7.8292",
         "7.775",
         "39.6",
         "227.525",
         "79.65",
         "17.4",
         "7.75",
         "7.8958",
         "8.05",
         "24.15",
         "7.8958",
         "21.075",
         "7.8542",
         "10.5",
         "51.4792",
         "26.3875",
         "8.05",
         "13.0",
         "30.0",
         "40.125",
         "15.0",
         "79.2",
         "8.05",
         "7.125",
         "78.2667",
         "7.25",
         "7.75",
         "26.0",
         "24.15",
         "33.0",
         "0.0",
         "7.225",
         "56.9292",
         "26.55",
         "15.55",
         "7.8958",
         "30.5",
         "41.5792",
         "153.4625",
         "31.275",
         "7.05",
         "15.5",
         "8.05",
         "65.0",
         "14.4",
         "10.5",
         "15.7417",
         "32.3208",
         "12.35",
         "77.9583",
         "7.8958",
         "7.7333",
         "30.0",
         "7.0542",
         "30.5",
         "27.9",
         "13.0",
         "7.925",
         "39.6875",
         "16.1",
         "7.8542",
         "56.4958",
         "19.2583",
         "76.7292",
         "7.55",
         "7.55",
         "7.8958",
         "23.0",
         "8.4333",
         "73.5",
         "7.8958",
         "15.5",
         "133.65",
         "25.5875",
         "7.4958",
         "7.925",
         "13.0",
         "7.775",
         "8.05",
         "39.0",
         "52.0",
         "13.0",
         "0.0",
         "7.775",
         "9.8417",
         "512.3292",
         "76.7292",
         "9.225",
         "46.9",
         "39.0",
         "10.1708",
         "7.7958",
         "211.3375",
         "57.0",
         "13.4167",
         "56.4958",
         "26.55",
         "7.7333",
         "110.8833",
         "26.2875",
         "7.7417",
         "26.0",
         "151.55",
         "15.2458",
         "49.5042",
         "26.55",
         "52.0",
         "9.4833",
         "7.65",
         "227.525",
         "10.5",
         "15.5",
         "7.775",
         "33.0",
         "13.0",
         "53.1",
         "21.0",
         "26.0",
         "7.925",
         "211.3375",
         "18.7875",
         "0.0",
         "13.0",
         "13.0",
         "512.3292",
         "7.8958",
         "7.8958",
         "78.85",
         "262.375",
         "16.1",
         "71.0",
         "23.0",
         "12.475",
         "9.5",
         "7.8958",
         "65.0",
         "7.7958",
         "8.05",
         "14.5",
         "7.125",
         "7.2292",
         "77.9583",
         "39.6",
         "24.15",
         "8.3625",
         "7.8542",
         "10.5",
         "7.75",
         "7.75",
         "12.475",
         "57.0",
         "30.0",
         "23.45",
         "7.05",
         "20.575",
         "79.2",
         "7.75",
         "26.0",
         "69.55",
         "30.6958",
         "7.8958",
         "13.0",
         "25.9292",
         "8.6833",
         "7.2292",
         "24.15",
         "13.0",
         "26.25",
         "120.0",
         "7.775",
         "0.0",
         "13.0",
         "53.1",
         "7.8875",
         "24.15",
         "10.5",
         "8.05",
         "0.0",
         "7.925",
         "37.0042",
         "27.9",
         "93.5",
         "8.6625",
         "39.6875",
         "6.95",
         "56.4958",
         "7.75",
         "14.4542",
         "7.2292",
         "7.8542",
         "8.3",
         "83.1583",
         "8.6625",
         "8.05",
         "29.7",
         "10.5",
         "31.0",
         "6.4375",
         "7.55",
         "69.55",
         "7.8958",
         "33.0",
         "89.1042",
         "31.275",
         "39.4",
         "9.35",
         "164.8667",
         "26.55",
         "19.2583",
         "14.1083",
         "13.0",
         "13.0",
         "13.8583",
         "50.4958",
         "11.1333",
         "7.8958",
         "52.5542",
         "5.0",
         "9.0",
         "24.0",
         "7.225",
         "9.8458",
         "7.8958",
         "7.8958",
         "10.5167",
         "10.5",
         "7.05",
         "30.0",
         "23.45",
         "7.75"
        ]
       ],
       "shape": {
        "columns": 627,
        "rows": 2
       }
      },
      "text/html": [
       "<div>\n",
       "<style scoped>\n",
       "    .dataframe tbody tr th:only-of-type {\n",
       "        vertical-align: middle;\n",
       "    }\n",
       "\n",
       "    .dataframe tbody tr th {\n",
       "        vertical-align: top;\n",
       "    }\n",
       "\n",
       "    .dataframe thead th {\n",
       "        text-align: right;\n",
       "    }\n",
       "</style>\n",
       "<table border=\"1\" class=\"dataframe\">\n",
       "  <thead>\n",
       "    <tr style=\"text-align: right;\">\n",
       "      <th></th>\n",
       "      <th>0</th>\n",
       "      <th>1</th>\n",
       "      <th>2</th>\n",
       "      <th>3</th>\n",
       "      <th>4</th>\n",
       "      <th>5</th>\n",
       "      <th>6</th>\n",
       "      <th>7</th>\n",
       "      <th>8</th>\n",
       "      <th>9</th>\n",
       "      <th>...</th>\n",
       "      <th>617</th>\n",
       "      <th>618</th>\n",
       "      <th>619</th>\n",
       "      <th>620</th>\n",
       "      <th>621</th>\n",
       "      <th>622</th>\n",
       "      <th>623</th>\n",
       "      <th>624</th>\n",
       "      <th>625</th>\n",
       "      <th>626</th>\n",
       "    </tr>\n",
       "  </thead>\n",
       "  <tbody>\n",
       "    <tr>\n",
       "      <th>age</th>\n",
       "      <td>22.00</td>\n",
       "      <td>38.0000</td>\n",
       "      <td>26.000</td>\n",
       "      <td>35.0</td>\n",
       "      <td>28.0000</td>\n",
       "      <td>2.000</td>\n",
       "      <td>27.0000</td>\n",
       "      <td>14.0000</td>\n",
       "      <td>4.0</td>\n",
       "      <td>20.00</td>\n",
       "      <td>...</td>\n",
       "      <td>15.000</td>\n",
       "      <td>20.0000</td>\n",
       "      <td>19.0000</td>\n",
       "      <td>28.0000</td>\n",
       "      <td>22.0000</td>\n",
       "      <td>28.0</td>\n",
       "      <td>25.00</td>\n",
       "      <td>19.0</td>\n",
       "      <td>28.00</td>\n",
       "      <td>32.00</td>\n",
       "    </tr>\n",
       "    <tr>\n",
       "      <th>fare</th>\n",
       "      <td>7.25</td>\n",
       "      <td>71.2833</td>\n",
       "      <td>7.925</td>\n",
       "      <td>53.1</td>\n",
       "      <td>8.4583</td>\n",
       "      <td>21.075</td>\n",
       "      <td>11.1333</td>\n",
       "      <td>30.0708</td>\n",
       "      <td>16.7</td>\n",
       "      <td>8.05</td>\n",
       "      <td>...</td>\n",
       "      <td>7.225</td>\n",
       "      <td>9.8458</td>\n",
       "      <td>7.8958</td>\n",
       "      <td>7.8958</td>\n",
       "      <td>10.5167</td>\n",
       "      <td>10.5</td>\n",
       "      <td>7.05</td>\n",
       "      <td>30.0</td>\n",
       "      <td>23.45</td>\n",
       "      <td>7.75</td>\n",
       "    </tr>\n",
       "  </tbody>\n",
       "</table>\n",
       "<p>2 rows × 627 columns</p>\n",
       "</div>"
      ],
      "text/plain": [
       "        0        1       2     3        4       5        6        7     8    \\\n",
       "age   22.00  38.0000  26.000  35.0  28.0000   2.000  27.0000  14.0000   4.0   \n",
       "fare   7.25  71.2833   7.925  53.1   8.4583  21.075  11.1333  30.0708  16.7   \n",
       "\n",
       "        9    ...     617      618      619      620      621   622    623  \\\n",
       "age   20.00  ...  15.000  20.0000  19.0000  28.0000  22.0000  28.0  25.00   \n",
       "fare   8.05  ...   7.225   9.8458   7.8958   7.8958  10.5167  10.5   7.05   \n",
       "\n",
       "       624    625    626  \n",
       "age   19.0  28.00  32.00  \n",
       "fare  30.0  23.45   7.75  \n",
       "\n",
       "[2 rows x 627 columns]"
      ]
     },
     "execution_count": 13,
     "metadata": {},
     "output_type": "execute_result"
    }
   ],
   "source": [
    "df_x.T"
   ]
  },
  {
   "cell_type": "code",
   "execution_count": 14,
   "metadata": {
    "colab": {
     "base_uri": "https://localhost:8080/"
    },
    "executionInfo": {
     "elapsed": 429,
     "status": "ok",
     "timestamp": 1665324732497,
     "user": {
      "displayName": "한성",
      "userId": "01280908312724634418"
     },
     "user_tz": -540
    },
    "id": "keOn5552nqO3",
    "outputId": "25fc9831-34dd-49b8-9c13-676f99b1a952"
   },
   "outputs": [
    {
     "name": "stdout",
     "output_type": "stream",
     "text": [
      "train dataset : (501, 2) (501,)\n",
      "test dataset : (126, 2) (126,)\n"
     ]
    }
   ],
   "source": [
    "from sklearn.model_selection import train_test_split\n",
    "\n",
    "x_train, x_test, y_train, y_test = train_test_split(df_x, df_y, test_size=0.2)\n",
    "\n",
    "print('train dataset :', x_train.shape, y_train.shape)\n",
    "print('test dataset :', x_test.shape, y_test.shape)"
   ]
  },
  {
   "cell_type": "markdown",
   "metadata": {
    "id": "hA9fYuGanvSg"
   },
   "source": [
    "## 3.8.4 다양한 레이어로 순차적인 모델 빌드\n"
   ]
  },
  {
   "cell_type": "code",
   "execution_count": 15,
   "metadata": {
    "colab": {
     "base_uri": "https://localhost:8080/"
    },
    "executionInfo": {
     "elapsed": 369,
     "status": "ok",
     "timestamp": 1665324879017,
     "user": {
      "displayName": "한성",
      "userId": "01280908312724634418"
     },
     "user_tz": -540
    },
    "id": "Hb1QCBRKnsmD",
    "outputId": "658a76e5-3fe5-4893-9148-dce4c53841aa"
   },
   "outputs": [
    {
     "data": {
      "text/html": [
       "<pre style=\"white-space:pre;overflow-x:auto;line-height:normal;font-family:Menlo,'DejaVu Sans Mono',consolas,'Courier New',monospace\"><span style=\"font-weight: bold\">Model: \"sequential\"</span>\n",
       "</pre>\n"
      ],
      "text/plain": [
       "\u001b[1mModel: \"sequential\"\u001b[0m\n"
      ]
     },
     "metadata": {},
     "output_type": "display_data"
    },
    {
     "data": {
      "text/html": [
       "<pre style=\"white-space:pre;overflow-x:auto;line-height:normal;font-family:Menlo,'DejaVu Sans Mono',consolas,'Courier New',monospace\">┏━━━━━━━━━━━━━━━━━━━━━━━━━━━━━━━━━┳━━━━━━━━━━━━━━━━━━━━━━━━┳━━━━━━━━━━━━━━━┓\n",
       "┃<span style=\"font-weight: bold\"> Layer (type)                    </span>┃<span style=\"font-weight: bold\"> Output Shape           </span>┃<span style=\"font-weight: bold\">       Param # </span>┃\n",
       "┡━━━━━━━━━━━━━━━━━━━━━━━━━━━━━━━━━╇━━━━━━━━━━━━━━━━━━━━━━━━╇━━━━━━━━━━━━━━━┩\n",
       "│ dense (<span style=\"color: #0087ff; text-decoration-color: #0087ff\">Dense</span>)                   │ (<span style=\"color: #00d7ff; text-decoration-color: #00d7ff\">None</span>, <span style=\"color: #00af00; text-decoration-color: #00af00\">32</span>)             │            <span style=\"color: #00af00; text-decoration-color: #00af00\">96</span> │\n",
       "├─────────────────────────────────┼────────────────────────┼───────────────┤\n",
       "│ dense_1 (<span style=\"color: #0087ff; text-decoration-color: #0087ff\">Dense</span>)                 │ (<span style=\"color: #00d7ff; text-decoration-color: #00d7ff\">None</span>, <span style=\"color: #00af00; text-decoration-color: #00af00\">16</span>)             │           <span style=\"color: #00af00; text-decoration-color: #00af00\">528</span> │\n",
       "├─────────────────────────────────┼────────────────────────┼───────────────┤\n",
       "│ dense_2 (<span style=\"color: #0087ff; text-decoration-color: #0087ff\">Dense</span>)                 │ (<span style=\"color: #00d7ff; text-decoration-color: #00d7ff\">None</span>, <span style=\"color: #00af00; text-decoration-color: #00af00\">1</span>)              │            <span style=\"color: #00af00; text-decoration-color: #00af00\">17</span> │\n",
       "└─────────────────────────────────┴────────────────────────┴───────────────┘\n",
       "</pre>\n"
      ],
      "text/plain": [
       "┏━━━━━━━━━━━━━━━━━━━━━━━━━━━━━━━━━┳━━━━━━━━━━━━━━━━━━━━━━━━┳━━━━━━━━━━━━━━━┓\n",
       "┃\u001b[1m \u001b[0m\u001b[1mLayer (type)                   \u001b[0m\u001b[1m \u001b[0m┃\u001b[1m \u001b[0m\u001b[1mOutput Shape          \u001b[0m\u001b[1m \u001b[0m┃\u001b[1m \u001b[0m\u001b[1m      Param #\u001b[0m\u001b[1m \u001b[0m┃\n",
       "┡━━━━━━━━━━━━━━━━━━━━━━━━━━━━━━━━━╇━━━━━━━━━━━━━━━━━━━━━━━━╇━━━━━━━━━━━━━━━┩\n",
       "│ dense (\u001b[38;5;33mDense\u001b[0m)                   │ (\u001b[38;5;45mNone\u001b[0m, \u001b[38;5;34m32\u001b[0m)             │            \u001b[38;5;34m96\u001b[0m │\n",
       "├─────────────────────────────────┼────────────────────────┼───────────────┤\n",
       "│ dense_1 (\u001b[38;5;33mDense\u001b[0m)                 │ (\u001b[38;5;45mNone\u001b[0m, \u001b[38;5;34m16\u001b[0m)             │           \u001b[38;5;34m528\u001b[0m │\n",
       "├─────────────────────────────────┼────────────────────────┼───────────────┤\n",
       "│ dense_2 (\u001b[38;5;33mDense\u001b[0m)                 │ (\u001b[38;5;45mNone\u001b[0m, \u001b[38;5;34m1\u001b[0m)              │            \u001b[38;5;34m17\u001b[0m │\n",
       "└─────────────────────────────────┴────────────────────────┴───────────────┘\n"
      ]
     },
     "metadata": {},
     "output_type": "display_data"
    },
    {
     "data": {
      "text/html": [
       "<pre style=\"white-space:pre;overflow-x:auto;line-height:normal;font-family:Menlo,'DejaVu Sans Mono',consolas,'Courier New',monospace\"><span style=\"font-weight: bold\"> Total params: </span><span style=\"color: #00af00; text-decoration-color: #00af00\">641</span> (2.50 KB)\n",
       "</pre>\n"
      ],
      "text/plain": [
       "\u001b[1m Total params: \u001b[0m\u001b[38;5;34m641\u001b[0m (2.50 KB)\n"
      ]
     },
     "metadata": {},
     "output_type": "display_data"
    },
    {
     "data": {
      "text/html": [
       "<pre style=\"white-space:pre;overflow-x:auto;line-height:normal;font-family:Menlo,'DejaVu Sans Mono',consolas,'Courier New',monospace\"><span style=\"font-weight: bold\"> Trainable params: </span><span style=\"color: #00af00; text-decoration-color: #00af00\">641</span> (2.50 KB)\n",
       "</pre>\n"
      ],
      "text/plain": [
       "\u001b[1m Trainable params: \u001b[0m\u001b[38;5;34m641\u001b[0m (2.50 KB)\n"
      ]
     },
     "metadata": {},
     "output_type": "display_data"
    },
    {
     "data": {
      "text/html": [
       "<pre style=\"white-space:pre;overflow-x:auto;line-height:normal;font-family:Menlo,'DejaVu Sans Mono',consolas,'Courier New',monospace\"><span style=\"font-weight: bold\"> Non-trainable params: </span><span style=\"color: #00af00; text-decoration-color: #00af00\">0</span> (0.00 B)\n",
       "</pre>\n"
      ],
      "text/plain": [
       "\u001b[1m Non-trainable params: \u001b[0m\u001b[38;5;34m0\u001b[0m (0.00 B)\n"
      ]
     },
     "metadata": {},
     "output_type": "display_data"
    }
   ],
   "source": [
    "import keras\n",
    "model = keras.Sequential()\n",
    "model.add(keras.layers.Input(shape=(2,)))\n",
    "model.add(keras.layers.Dense(32, activation=\"relu\"))\n",
    "model.add(keras.layers.Dense(16, activation=\"relu\"))\n",
    "model.add(keras.layers.Dense(1, activation=\"sigmoid\"))\n",
    "\n",
    "model.summary()"
   ]
  },
  {
   "cell_type": "markdown",
   "metadata": {
    "id": "o-j0KFDXn1g7"
   },
   "source": [
    "## 3.8.5 이진 분류에 대한 모델 컴파일"
   ]
  },
  {
   "cell_type": "code",
   "execution_count": 16,
   "metadata": {
    "id": "PNScZuCMnyqx"
   },
   "outputs": [],
   "source": [
    "model.compile(loss='binary_crossentropy',\n",
    "              optimizer='adam',\n",
    "              metrics=['accuracy'])"
   ]
  },
  {
   "cell_type": "markdown",
   "metadata": {
    "id": "_tLXQuGon5rF"
   },
   "source": [
    "## 3.8.6 모델을 활용하여 학습 및 예측"
   ]
  },
  {
   "cell_type": "code",
   "execution_count": 17,
   "metadata": {
    "colab": {
     "base_uri": "https://localhost:8080/"
    },
    "executionInfo": {
     "elapsed": 5873,
     "status": "ok",
     "timestamp": 1665324945801,
     "user": {
      "displayName": "한성",
      "userId": "01280908312724634418"
     },
     "user_tz": -540
    },
    "id": "U3COlcrin39V",
    "outputId": "b7ecbd4d-5e7c-49bd-ec86-246115e6bc65"
   },
   "outputs": [
    {
     "name": "stdout",
     "output_type": "stream",
     "text": [
      "Epoch 1/5\n",
      "\u001b[1m400/400\u001b[0m \u001b[32m━━━━━━━━━━━━━━━━━━━━\u001b[0m\u001b[37m\u001b[0m \u001b[1m2s\u001b[0m 2ms/step - accuracy: 0.7066 - loss: 0.7128 - val_accuracy: 0.5446 - val_loss: 0.7121\n",
      "Epoch 2/5\n",
      "\u001b[1m400/400\u001b[0m \u001b[32m━━━━━━━━━━━━━━━━━━━━\u001b[0m\u001b[37m\u001b[0m \u001b[1m1s\u001b[0m 2ms/step - accuracy: 0.5730 - loss: 0.6850 - val_accuracy: 0.5446 - val_loss: 0.8149\n",
      "Epoch 3/5\n",
      "\u001b[1m400/400\u001b[0m \u001b[32m━━━━━━━━━━━━━━━━━━━━\u001b[0m\u001b[37m\u001b[0m \u001b[1m1s\u001b[0m 2ms/step - accuracy: 0.6416 - loss: 0.7165 - val_accuracy: 0.6733 - val_loss: 0.6736\n",
      "Epoch 4/5\n",
      "\u001b[1m400/400\u001b[0m \u001b[32m━━━━━━━━━━━━━━━━━━━━\u001b[0m\u001b[37m\u001b[0m \u001b[1m1s\u001b[0m 2ms/step - accuracy: 0.6341 - loss: 0.7322 - val_accuracy: 0.6436 - val_loss: 0.6249\n",
      "Epoch 5/5\n",
      "\u001b[1m400/400\u001b[0m \u001b[32m━━━━━━━━━━━━━━━━━━━━\u001b[0m\u001b[37m\u001b[0m \u001b[1m1s\u001b[0m 2ms/step - accuracy: 0.6526 - loss: 0.6601 - val_accuracy: 0.6733 - val_loss: 0.6504\n"
     ]
    }
   ],
   "source": [
    "history = model.fit(x_train, y_train,\n",
    "          validation_split=0.2,\n",
    "          batch_size = 1, # 기본값 32\n",
    "          epochs=5)"
   ]
  },
  {
   "cell_type": "code",
   "execution_count": 18,
   "metadata": {
    "colab": {
     "base_uri": "https://localhost:8080/"
    },
    "executionInfo": {
     "elapsed": 677,
     "status": "ok",
     "timestamp": 1665324988101,
     "user": {
      "displayName": "한성",
      "userId": "01280908312724634418"
     },
     "user_tz": -540
    },
    "id": "5cfgbsjvn8LJ",
    "outputId": "6da5d454-a34c-46c1-f7fb-a19fdf1bd177"
   },
   "outputs": [
    {
     "name": "stdout",
     "output_type": "stream",
     "text": [
      "\u001b[1m4/4\u001b[0m \u001b[32m━━━━━━━━━━━━━━━━━━━━\u001b[0m\u001b[37m\u001b[0m \u001b[1m0s\u001b[0m 7ms/step - accuracy: 0.6517 - loss: 0.7553  \n",
      "test accuracy : 0.6111111044883728\n"
     ]
    }
   ],
   "source": [
    "loss, accuracy = model.evaluate(x_test, y_test)\n",
    "\n",
    "print('test accuracy :', accuracy)"
   ]
  },
  {
   "cell_type": "code",
   "execution_count": 19,
   "metadata": {
    "colab": {
     "base_uri": "https://localhost:8080/"
    },
    "executionInfo": {
     "elapsed": 5,
     "status": "ok",
     "timestamp": 1665324990749,
     "user": {
      "displayName": "한성",
      "userId": "01280908312724634418"
     },
     "user_tz": -540
    },
    "id": "GsQFzHIpoFGn",
    "outputId": "55ead3c7-8eb1-4044-bf27-cbcde0b3a6e3"
   },
   "outputs": [
    {
     "name": "stdout",
     "output_type": "stream",
     "text": [
      "train dataset : (501, 9) (501,)\n",
      "test dataset : (126, 9) (126,)\n"
     ]
    }
   ],
   "source": [
    "from sklearn.model_selection import train_test_split\n",
    "\n",
    "df_x = df.copy()\n",
    "df_y = df_y.copy()\n",
    "\n",
    "x_train, x_test, y_train, y_test = train_test_split(df_x, df_y, test_size=0.2)\n",
    "\n",
    "print('train dataset :', x_train.shape, y_train.shape)\n",
    "print('test dataset :', x_test.shape, y_test.shape)"
   ]
  },
  {
   "cell_type": "code",
   "execution_count": 20,
   "metadata": {
    "colab": {
     "base_uri": "https://localhost:8080/"
    },
    "executionInfo": {
     "elapsed": 4755,
     "status": "ok",
     "timestamp": 1665325006037,
     "user": {
      "displayName": "한성",
      "userId": "01280908312724634418"
     },
     "user_tz": -540
    },
    "id": "ZLv0_kJooHRm",
    "outputId": "9dd547dc-6084-4bf7-f048-a29b5287e4e9"
   },
   "outputs": [
    {
     "name": "stdout",
     "output_type": "stream",
     "text": [
      "Epoch 1/100\n",
      "\u001b[1m25/25\u001b[0m \u001b[32m━━━━━━━━━━━━━━━━━━━━\u001b[0m\u001b[37m\u001b[0m \u001b[1m1s\u001b[0m 9ms/step - accuracy: 0.6111 - loss: 1.4997 - val_accuracy: 0.6337 - val_loss: 0.6813\n",
      "Epoch 2/100\n",
      "\u001b[1m25/25\u001b[0m \u001b[32m━━━━━━━━━━━━━━━━━━━━\u001b[0m\u001b[37m\u001b[0m \u001b[1m0s\u001b[0m 4ms/step - accuracy: 0.6829 - loss: 0.6767 - val_accuracy: 0.6238 - val_loss: 0.6698\n",
      "Epoch 3/100\n",
      "\u001b[1m25/25\u001b[0m \u001b[32m━━━━━━━━━━━━━━━━━━━━\u001b[0m\u001b[37m\u001b[0m \u001b[1m0s\u001b[0m 4ms/step - accuracy: 0.7110 - loss: 0.5948 - val_accuracy: 0.6832 - val_loss: 0.6266\n",
      "Epoch 4/100\n",
      "\u001b[1m25/25\u001b[0m \u001b[32m━━━━━━━━━━━━━━━━━━━━\u001b[0m\u001b[37m\u001b[0m \u001b[1m0s\u001b[0m 4ms/step - accuracy: 0.6500 - loss: 0.6231 - val_accuracy: 0.6337 - val_loss: 0.6533\n",
      "Epoch 5/100\n",
      "\u001b[1m25/25\u001b[0m \u001b[32m━━━━━━━━━━━━━━━━━━━━\u001b[0m\u001b[37m\u001b[0m \u001b[1m0s\u001b[0m 4ms/step - accuracy: 0.7031 - loss: 0.5821 - val_accuracy: 0.6634 - val_loss: 0.6505\n",
      "Epoch 6/100\n",
      "\u001b[1m25/25\u001b[0m \u001b[32m━━━━━━━━━━━━━━━━━━━━\u001b[0m\u001b[37m\u001b[0m \u001b[1m0s\u001b[0m 4ms/step - accuracy: 0.6793 - loss: 0.5946 - val_accuracy: 0.5743 - val_loss: 0.6964\n",
      "Epoch 7/100\n",
      "\u001b[1m25/25\u001b[0m \u001b[32m━━━━━━━━━━━━━━━━━━━━\u001b[0m\u001b[37m\u001b[0m \u001b[1m0s\u001b[0m 4ms/step - accuracy: 0.7037 - loss: 0.5948 - val_accuracy: 0.5347 - val_loss: 0.8823\n",
      "Epoch 8/100\n",
      "\u001b[1m25/25\u001b[0m \u001b[32m━━━━━━━━━━━━━━━━━━━━\u001b[0m\u001b[37m\u001b[0m \u001b[1m0s\u001b[0m 4ms/step - accuracy: 0.6275 - loss: 0.6734 - val_accuracy: 0.5842 - val_loss: 0.6679\n",
      "Epoch 8: early stopping\n"
     ]
    }
   ],
   "source": [
    "import keras\n",
    "\n",
    "model = keras.Sequential()\n",
    "model.add(keras.layers.Input(shape=(9,)))\n",
    "model.add(keras.layers.Dense(32, activation=\"relu\"))\n",
    "model.add(keras.layers.Dense(16, activation=\"relu\"))\n",
    "model.add(keras.layers.Dense(1, activation=\"sigmoid\"))\n",
    "\n",
    "model.compile(loss='binary_crossentropy',\n",
    "              optimizer='adam',\n",
    "              metrics=['accuracy'])\n",
    "\n",
    "callback_EarlyStopping = keras.callbacks.EarlyStopping(monitor='val_loss', patience=5, verbose=1)\n",
    "\n",
    "history = model.fit(x_train, y_train,\n",
    "          validation_split=0.2,\n",
    "          batch_size = 16, # 기본값 32\n",
    "          epochs=100,\n",
    "          callbacks=callback_EarlyStopping)"
   ]
  },
  {
   "cell_type": "code",
   "execution_count": 21,
   "metadata": {
    "colab": {
     "base_uri": "https://localhost:8080/"
    },
    "executionInfo": {
     "elapsed": 915,
     "status": "ok",
     "timestamp": 1665325083811,
     "user": {
      "displayName": "한성",
      "userId": "01280908312724634418"
     },
     "user_tz": -540
    },
    "id": "JXseioKroKe0",
    "outputId": "2cd06a4e-4efa-4cb6-dcbd-56f57def7043"
   },
   "outputs": [
    {
     "name": "stdout",
     "output_type": "stream",
     "text": [
      "\u001b[1m4/4\u001b[0m \u001b[32m━━━━━━━━━━━━━━━━━━━━\u001b[0m\u001b[37m\u001b[0m \u001b[1m0s\u001b[0m 7ms/step - accuracy: 0.7304 - loss: 0.5302 \n",
      "test accuracy : 0.6984127163887024\n"
     ]
    }
   ],
   "source": [
    "loss, accuracy = model.evaluate(x_test, y_test)\n",
    "\n",
    "print('test accuracy :', accuracy)"
   ]
  },
  {
   "cell_type": "code",
   "execution_count": 22,
   "metadata": {},
   "outputs": [
    {
     "data": {
      "text/plain": [
       "19     0\n",
       "110    0\n",
       "394    0\n",
       "217    0\n",
       "525    1\n",
       "Name: survived, dtype: int64"
      ]
     },
     "execution_count": 22,
     "metadata": {},
     "output_type": "execute_result"
    }
   ],
   "source": [
    "y_test.head()"
   ]
  },
  {
   "cell_type": "code",
   "execution_count": 23,
   "metadata": {
    "colab": {
     "base_uri": "https://localhost:8080/"
    },
    "executionInfo": {
     "elapsed": 427,
     "status": "ok",
     "timestamp": 1665325095510,
     "user": {
      "displayName": "한성",
      "userId": "01280908312724634418"
     },
     "user_tz": -540
    },
    "id": "zDHqhZRzoROY",
    "outputId": "82bd0ce4-93b9-4dbf-ed5e-5685d4aac964"
   },
   "outputs": [
    {
     "name": "stdout",
     "output_type": "stream",
     "text": [
      "\u001b[1m4/4\u001b[0m \u001b[32m━━━━━━━━━━━━━━━━━━━━\u001b[0m\u001b[37m\u001b[0m \u001b[1m0s\u001b[0m 13ms/step\n",
      "predictions:\n",
      "[[0.15714468]\n",
      " [0.37060094]\n",
      " [0.3671306 ]\n",
      " [0.15044786]\n",
      " [0.39149582]]\n",
      "y_test:\n",
      "19     0\n",
      "110    0\n",
      "394    0\n",
      "217    0\n",
      "525    1\n",
      "Name: survived, dtype: int64\n"
     ]
    }
   ],
   "source": [
    "predictions = model.predict(x_test)\n",
    "\n",
    "print(\"predictions:\", predictions[0:5], sep=\"\\n\")\n",
    "print('y_test:', y_test.head(5), sep=\"\\n\")"
   ]
  },
  {
   "cell_type": "markdown",
   "metadata": {
    "id": "yH4AUqtaobH7"
   },
   "source": [
    "## 3.8.7 훈련된 모델의 플롯 손실 및 정확도"
   ]
  },
  {
   "cell_type": "code",
   "execution_count": 24,
   "metadata": {
    "colab": {
     "base_uri": "https://localhost:8080/",
     "height": 542
    },
    "executionInfo": {
     "elapsed": 1802,
     "status": "ok",
     "timestamp": 1665325122710,
     "user": {
      "displayName": "한성",
      "userId": "01280908312724634418"
     },
     "user_tz": -540
    },
    "id": "9E92EhDV_9b3",
    "outputId": "f5804d37-f40b-48e0-b83d-294ac1ebed22"
   },
   "outputs": [
    {
     "data": {
      "application/vnd.plotly.v1+json": {
       "config": {
        "plotlyServerURL": "https://plot.ly"
       },
       "data": [
        {
         "name": "loss",
         "type": "scatter",
         "x": [
          0,
          1,
          2,
          3,
          4,
          5,
          6,
          7
         ],
         "xaxis": "x",
         "y": [
          1.0346903800964355,
          0.6761134266853333,
          0.624625027179718,
          0.6113392114639282,
          0.6046614646911621,
          0.6031777262687683,
          0.639641523361206,
          0.6429709792137146
         ],
         "yaxis": "y"
        },
        {
         "name": "val_loss",
         "type": "scatter",
         "x": [
          0,
          1,
          2,
          3,
          4,
          5,
          6,
          7
         ],
         "xaxis": "x",
         "y": [
          0.6813303828239441,
          0.6698125600814819,
          0.626625657081604,
          0.653325080871582,
          0.6504884362220764,
          0.6964280009269714,
          0.8822513222694397,
          0.6679275035858154
         ],
         "yaxis": "y"
        },
        {
         "name": "accuracy",
         "type": "scatter",
         "x": [
          0,
          1,
          2,
          3,
          4,
          5,
          6,
          7
         ],
         "xaxis": "x",
         "y": [
          0.6349999904632568,
          0.6575000286102295,
          0.6625000238418579,
          0.6675000190734863,
          0.6875,
          0.675000011920929,
          0.6700000166893005,
          0.6449999809265137
         ],
         "yaxis": "y2"
        },
        {
         "name": "val_accuracy",
         "type": "scatter",
         "x": [
          0,
          1,
          2,
          3,
          4,
          5,
          6,
          7
         ],
         "xaxis": "x",
         "y": [
          0.6336633563041687,
          0.6237623691558838,
          0.6831682920455933,
          0.6336633563041687,
          0.6633663177490234,
          0.5742574334144592,
          0.5346534848213196,
          0.5841584205627441
         ],
         "yaxis": "y2"
        }
       ],
       "layout": {
        "template": {
         "data": {
          "bar": [
           {
            "error_x": {
             "color": "#2a3f5f"
            },
            "error_y": {
             "color": "#2a3f5f"
            },
            "marker": {
             "line": {
              "color": "#E5ECF6",
              "width": 0.5
             },
             "pattern": {
              "fillmode": "overlay",
              "size": 10,
              "solidity": 0.2
             }
            },
            "type": "bar"
           }
          ],
          "barpolar": [
           {
            "marker": {
             "line": {
              "color": "#E5ECF6",
              "width": 0.5
             },
             "pattern": {
              "fillmode": "overlay",
              "size": 10,
              "solidity": 0.2
             }
            },
            "type": "barpolar"
           }
          ],
          "carpet": [
           {
            "aaxis": {
             "endlinecolor": "#2a3f5f",
             "gridcolor": "white",
             "linecolor": "white",
             "minorgridcolor": "white",
             "startlinecolor": "#2a3f5f"
            },
            "baxis": {
             "endlinecolor": "#2a3f5f",
             "gridcolor": "white",
             "linecolor": "white",
             "minorgridcolor": "white",
             "startlinecolor": "#2a3f5f"
            },
            "type": "carpet"
           }
          ],
          "choropleth": [
           {
            "colorbar": {
             "outlinewidth": 0,
             "ticks": ""
            },
            "type": "choropleth"
           }
          ],
          "contour": [
           {
            "colorbar": {
             "outlinewidth": 0,
             "ticks": ""
            },
            "colorscale": [
             [
              0,
              "#0d0887"
             ],
             [
              0.1111111111111111,
              "#46039f"
             ],
             [
              0.2222222222222222,
              "#7201a8"
             ],
             [
              0.3333333333333333,
              "#9c179e"
             ],
             [
              0.4444444444444444,
              "#bd3786"
             ],
             [
              0.5555555555555556,
              "#d8576b"
             ],
             [
              0.6666666666666666,
              "#ed7953"
             ],
             [
              0.7777777777777778,
              "#fb9f3a"
             ],
             [
              0.8888888888888888,
              "#fdca26"
             ],
             [
              1,
              "#f0f921"
             ]
            ],
            "type": "contour"
           }
          ],
          "contourcarpet": [
           {
            "colorbar": {
             "outlinewidth": 0,
             "ticks": ""
            },
            "type": "contourcarpet"
           }
          ],
          "heatmap": [
           {
            "colorbar": {
             "outlinewidth": 0,
             "ticks": ""
            },
            "colorscale": [
             [
              0,
              "#0d0887"
             ],
             [
              0.1111111111111111,
              "#46039f"
             ],
             [
              0.2222222222222222,
              "#7201a8"
             ],
             [
              0.3333333333333333,
              "#9c179e"
             ],
             [
              0.4444444444444444,
              "#bd3786"
             ],
             [
              0.5555555555555556,
              "#d8576b"
             ],
             [
              0.6666666666666666,
              "#ed7953"
             ],
             [
              0.7777777777777778,
              "#fb9f3a"
             ],
             [
              0.8888888888888888,
              "#fdca26"
             ],
             [
              1,
              "#f0f921"
             ]
            ],
            "type": "heatmap"
           }
          ],
          "histogram": [
           {
            "marker": {
             "pattern": {
              "fillmode": "overlay",
              "size": 10,
              "solidity": 0.2
             }
            },
            "type": "histogram"
           }
          ],
          "histogram2d": [
           {
            "colorbar": {
             "outlinewidth": 0,
             "ticks": ""
            },
            "colorscale": [
             [
              0,
              "#0d0887"
             ],
             [
              0.1111111111111111,
              "#46039f"
             ],
             [
              0.2222222222222222,
              "#7201a8"
             ],
             [
              0.3333333333333333,
              "#9c179e"
             ],
             [
              0.4444444444444444,
              "#bd3786"
             ],
             [
              0.5555555555555556,
              "#d8576b"
             ],
             [
              0.6666666666666666,
              "#ed7953"
             ],
             [
              0.7777777777777778,
              "#fb9f3a"
             ],
             [
              0.8888888888888888,
              "#fdca26"
             ],
             [
              1,
              "#f0f921"
             ]
            ],
            "type": "histogram2d"
           }
          ],
          "histogram2dcontour": [
           {
            "colorbar": {
             "outlinewidth": 0,
             "ticks": ""
            },
            "colorscale": [
             [
              0,
              "#0d0887"
             ],
             [
              0.1111111111111111,
              "#46039f"
             ],
             [
              0.2222222222222222,
              "#7201a8"
             ],
             [
              0.3333333333333333,
              "#9c179e"
             ],
             [
              0.4444444444444444,
              "#bd3786"
             ],
             [
              0.5555555555555556,
              "#d8576b"
             ],
             [
              0.6666666666666666,
              "#ed7953"
             ],
             [
              0.7777777777777778,
              "#fb9f3a"
             ],
             [
              0.8888888888888888,
              "#fdca26"
             ],
             [
              1,
              "#f0f921"
             ]
            ],
            "type": "histogram2dcontour"
           }
          ],
          "mesh3d": [
           {
            "colorbar": {
             "outlinewidth": 0,
             "ticks": ""
            },
            "type": "mesh3d"
           }
          ],
          "parcoords": [
           {
            "line": {
             "colorbar": {
              "outlinewidth": 0,
              "ticks": ""
             }
            },
            "type": "parcoords"
           }
          ],
          "pie": [
           {
            "automargin": true,
            "type": "pie"
           }
          ],
          "scatter": [
           {
            "fillpattern": {
             "fillmode": "overlay",
             "size": 10,
             "solidity": 0.2
            },
            "type": "scatter"
           }
          ],
          "scatter3d": [
           {
            "line": {
             "colorbar": {
              "outlinewidth": 0,
              "ticks": ""
             }
            },
            "marker": {
             "colorbar": {
              "outlinewidth": 0,
              "ticks": ""
             }
            },
            "type": "scatter3d"
           }
          ],
          "scattercarpet": [
           {
            "marker": {
             "colorbar": {
              "outlinewidth": 0,
              "ticks": ""
             }
            },
            "type": "scattercarpet"
           }
          ],
          "scattergeo": [
           {
            "marker": {
             "colorbar": {
              "outlinewidth": 0,
              "ticks": ""
             }
            },
            "type": "scattergeo"
           }
          ],
          "scattergl": [
           {
            "marker": {
             "colorbar": {
              "outlinewidth": 0,
              "ticks": ""
             }
            },
            "type": "scattergl"
           }
          ],
          "scattermap": [
           {
            "marker": {
             "colorbar": {
              "outlinewidth": 0,
              "ticks": ""
             }
            },
            "type": "scattermap"
           }
          ],
          "scattermapbox": [
           {
            "marker": {
             "colorbar": {
              "outlinewidth": 0,
              "ticks": ""
             }
            },
            "type": "scattermapbox"
           }
          ],
          "scatterpolar": [
           {
            "marker": {
             "colorbar": {
              "outlinewidth": 0,
              "ticks": ""
             }
            },
            "type": "scatterpolar"
           }
          ],
          "scatterpolargl": [
           {
            "marker": {
             "colorbar": {
              "outlinewidth": 0,
              "ticks": ""
             }
            },
            "type": "scatterpolargl"
           }
          ],
          "scatterternary": [
           {
            "marker": {
             "colorbar": {
              "outlinewidth": 0,
              "ticks": ""
             }
            },
            "type": "scatterternary"
           }
          ],
          "surface": [
           {
            "colorbar": {
             "outlinewidth": 0,
             "ticks": ""
            },
            "colorscale": [
             [
              0,
              "#0d0887"
             ],
             [
              0.1111111111111111,
              "#46039f"
             ],
             [
              0.2222222222222222,
              "#7201a8"
             ],
             [
              0.3333333333333333,
              "#9c179e"
             ],
             [
              0.4444444444444444,
              "#bd3786"
             ],
             [
              0.5555555555555556,
              "#d8576b"
             ],
             [
              0.6666666666666666,
              "#ed7953"
             ],
             [
              0.7777777777777778,
              "#fb9f3a"
             ],
             [
              0.8888888888888888,
              "#fdca26"
             ],
             [
              1,
              "#f0f921"
             ]
            ],
            "type": "surface"
           }
          ],
          "table": [
           {
            "cells": {
             "fill": {
              "color": "#EBF0F8"
             },
             "line": {
              "color": "white"
             }
            },
            "header": {
             "fill": {
              "color": "#C8D4E3"
             },
             "line": {
              "color": "white"
             }
            },
            "type": "table"
           }
          ]
         },
         "layout": {
          "annotationdefaults": {
           "arrowcolor": "#2a3f5f",
           "arrowhead": 0,
           "arrowwidth": 1
          },
          "autotypenumbers": "strict",
          "coloraxis": {
           "colorbar": {
            "outlinewidth": 0,
            "ticks": ""
           }
          },
          "colorscale": {
           "diverging": [
            [
             0,
             "#8e0152"
            ],
            [
             0.1,
             "#c51b7d"
            ],
            [
             0.2,
             "#de77ae"
            ],
            [
             0.3,
             "#f1b6da"
            ],
            [
             0.4,
             "#fde0ef"
            ],
            [
             0.5,
             "#f7f7f7"
            ],
            [
             0.6,
             "#e6f5d0"
            ],
            [
             0.7,
             "#b8e186"
            ],
            [
             0.8,
             "#7fbc41"
            ],
            [
             0.9,
             "#4d9221"
            ],
            [
             1,
             "#276419"
            ]
           ],
           "sequential": [
            [
             0,
             "#0d0887"
            ],
            [
             0.1111111111111111,
             "#46039f"
            ],
            [
             0.2222222222222222,
             "#7201a8"
            ],
            [
             0.3333333333333333,
             "#9c179e"
            ],
            [
             0.4444444444444444,
             "#bd3786"
            ],
            [
             0.5555555555555556,
             "#d8576b"
            ],
            [
             0.6666666666666666,
             "#ed7953"
            ],
            [
             0.7777777777777778,
             "#fb9f3a"
            ],
            [
             0.8888888888888888,
             "#fdca26"
            ],
            [
             1,
             "#f0f921"
            ]
           ],
           "sequentialminus": [
            [
             0,
             "#0d0887"
            ],
            [
             0.1111111111111111,
             "#46039f"
            ],
            [
             0.2222222222222222,
             "#7201a8"
            ],
            [
             0.3333333333333333,
             "#9c179e"
            ],
            [
             0.4444444444444444,
             "#bd3786"
            ],
            [
             0.5555555555555556,
             "#d8576b"
            ],
            [
             0.6666666666666666,
             "#ed7953"
            ],
            [
             0.7777777777777778,
             "#fb9f3a"
            ],
            [
             0.8888888888888888,
             "#fdca26"
            ],
            [
             1,
             "#f0f921"
            ]
           ]
          },
          "colorway": [
           "#636efa",
           "#EF553B",
           "#00cc96",
           "#ab63fa",
           "#FFA15A",
           "#19d3f3",
           "#FF6692",
           "#B6E880",
           "#FF97FF",
           "#FECB52"
          ],
          "font": {
           "color": "#2a3f5f"
          },
          "geo": {
           "bgcolor": "white",
           "lakecolor": "white",
           "landcolor": "#E5ECF6",
           "showlakes": true,
           "showland": true,
           "subunitcolor": "white"
          },
          "hoverlabel": {
           "align": "left"
          },
          "hovermode": "closest",
          "mapbox": {
           "style": "light"
          },
          "paper_bgcolor": "white",
          "plot_bgcolor": "#E5ECF6",
          "polar": {
           "angularaxis": {
            "gridcolor": "white",
            "linecolor": "white",
            "ticks": ""
           },
           "bgcolor": "#E5ECF6",
           "radialaxis": {
            "gridcolor": "white",
            "linecolor": "white",
            "ticks": ""
           }
          },
          "scene": {
           "xaxis": {
            "backgroundcolor": "#E5ECF6",
            "gridcolor": "white",
            "gridwidth": 2,
            "linecolor": "white",
            "showbackground": true,
            "ticks": "",
            "zerolinecolor": "white"
           },
           "yaxis": {
            "backgroundcolor": "#E5ECF6",
            "gridcolor": "white",
            "gridwidth": 2,
            "linecolor": "white",
            "showbackground": true,
            "ticks": "",
            "zerolinecolor": "white"
           },
           "zaxis": {
            "backgroundcolor": "#E5ECF6",
            "gridcolor": "white",
            "gridwidth": 2,
            "linecolor": "white",
            "showbackground": true,
            "ticks": "",
            "zerolinecolor": "white"
           }
          },
          "shapedefaults": {
           "line": {
            "color": "#2a3f5f"
           }
          },
          "ternary": {
           "aaxis": {
            "gridcolor": "white",
            "linecolor": "white",
            "ticks": ""
           },
           "baxis": {
            "gridcolor": "white",
            "linecolor": "white",
            "ticks": ""
           },
           "bgcolor": "#E5ECF6",
           "caxis": {
            "gridcolor": "white",
            "linecolor": "white",
            "ticks": ""
           }
          },
          "title": {
           "x": 0.05
          },
          "xaxis": {
           "automargin": true,
           "gridcolor": "white",
           "linecolor": "white",
           "ticks": "",
           "title": {
            "standoff": 15
           },
           "zerolinecolor": "white",
           "zerolinewidth": 2
          },
          "yaxis": {
           "automargin": true,
           "gridcolor": "white",
           "linecolor": "white",
           "ticks": "",
           "title": {
            "standoff": 15
           },
           "zerolinecolor": "white",
           "zerolinewidth": 2
          }
         }
        },
        "title": {
         "text": "<b>Loss/Accuracy of Model</b>"
        },
        "xaxis": {
         "anchor": "y",
         "domain": [
          0,
          0.94
         ],
         "title": {
          "text": "Epoch"
         }
        },
        "yaxis": {
         "anchor": "x",
         "domain": [
          0,
          1
         ],
         "title": {
          "text": "Loss"
         }
        },
        "yaxis2": {
         "anchor": "x",
         "overlaying": "y",
         "side": "right",
         "title": {
          "text": "Accuracy"
         }
        }
       }
      }
     },
     "metadata": {},
     "output_type": "display_data"
    }
   ],
   "source": [
    "from plotly.subplots import make_subplots\n",
    "import plotly.graph_objects as go\n",
    "\n",
    "fig = make_subplots(specs=[[{\"secondary_y\": True}]])\n",
    "\n",
    "# model history\n",
    "epoch = history.epoch\n",
    "\n",
    "loss = history.history['loss']\n",
    "val_loss = history.history['val_loss']\n",
    "accuracy = history.history['accuracy']\n",
    "val_accuracy = history.history['val_accuracy']\n",
    "\n",
    "# Scatter\n",
    "fig.add_trace(go.Scatter(x=epoch, y=loss, name=\"loss\"),secondary_y=False,)\n",
    "fig.add_trace(go.Scatter(x=epoch, y=val_loss, name=\"val_loss\"),secondary_y=False,)\n",
    "fig.add_trace(go.Scatter(x=epoch, y=accuracy, name=\"accuracy\"),secondary_y=True,)\n",
    "fig.add_trace(go.Scatter(x=epoch, y=val_accuracy, name=\"val_accuracy\"),secondary_y=True,)\n",
    "\n",
    "# Templates configuration, Default template: 'plotly'\n",
    "# Available templates: ['ggplot2', 'seaborn', 'simple_white', 'plotly','plotly_white', \n",
    "#                       'plotly_dark', 'presentation', 'xgridoff','ygridoff', 'gridon', 'none']\n",
    "fig.update_layout(title_text=\"<b>Loss/Accuracy of Model</b>\", template='plotly')\n",
    "\n",
    "fig.update_xaxes(title_text=\"Epoch\")\n",
    "fig.update_yaxes(title_text=\"Loss\", secondary_y=False)\n",
    "fig.update_yaxes(title_text=\"Accuracy\", secondary_y=True)\n",
    "\n",
    "fig.show()"
   ]
  },
  {
   "cell_type": "code",
   "execution_count": null,
   "metadata": {
    "id": "Vqo34B4kod-3"
   },
   "outputs": [],
   "source": []
  }
 ],
 "metadata": {
  "colab": {
   "authorship_tag": "ABX9TyM0cX1Kl6mRxjYn4RWkVGX7",
   "collapsed_sections": [],
   "provenance": []
  },
  "kernelspec": {
   "display_name": "base",
   "language": "python",
   "name": "python3"
  },
  "language_info": {
   "codemirror_mode": {
    "name": "ipython",
    "version": 3
   },
   "file_extension": ".py",
   "mimetype": "text/x-python",
   "name": "python",
   "nbconvert_exporter": "python",
   "pygments_lexer": "ipython3",
   "version": "3.11.12"
  },
  "widgets": {
   "application/vnd.jupyter.widget-state+json": {
    "030b93d5f255487a87d551ecf63a6937": {
     "model_module": "@jupyter-widgets/controls",
     "model_module_version": "1.5.0",
     "model_name": "ProgressStyleModel",
     "state": {
      "_model_module": "@jupyter-widgets/controls",
      "_model_module_version": "1.5.0",
      "_model_name": "ProgressStyleModel",
      "_view_count": null,
      "_view_module": "@jupyter-widgets/base",
      "_view_module_version": "1.2.0",
      "_view_name": "StyleView",
      "bar_color": null,
      "description_width": ""
     }
    },
    "032c9cbdfcb44b46a2a5cb20b6d8fd78": {
     "model_module": "@jupyter-widgets/controls",
     "model_module_version": "1.5.0",
     "model_name": "DescriptionStyleModel",
     "state": {
      "_model_module": "@jupyter-widgets/controls",
      "_model_module_version": "1.5.0",
      "_model_name": "DescriptionStyleModel",
      "_view_count": null,
      "_view_module": "@jupyter-widgets/base",
      "_view_module_version": "1.2.0",
      "_view_name": "StyleView",
      "description_width": ""
     }
    },
    "0456f3c143704a75b69e107d16b9bbe1": {
     "model_module": "@jupyter-widgets/base",
     "model_module_version": "1.2.0",
     "model_name": "LayoutModel",
     "state": {
      "_model_module": "@jupyter-widgets/base",
      "_model_module_version": "1.2.0",
      "_model_name": "LayoutModel",
      "_view_count": null,
      "_view_module": "@jupyter-widgets/base",
      "_view_module_version": "1.2.0",
      "_view_name": "LayoutView",
      "align_content": null,
      "align_items": null,
      "align_self": null,
      "border": null,
      "bottom": null,
      "display": null,
      "flex": null,
      "flex_flow": null,
      "grid_area": null,
      "grid_auto_columns": null,
      "grid_auto_flow": null,
      "grid_auto_rows": null,
      "grid_column": null,
      "grid_gap": null,
      "grid_row": null,
      "grid_template_areas": null,
      "grid_template_columns": null,
      "grid_template_rows": null,
      "height": null,
      "justify_content": null,
      "justify_items": null,
      "left": null,
      "margin": null,
      "max_height": null,
      "max_width": null,
      "min_height": null,
      "min_width": null,
      "object_fit": null,
      "object_position": null,
      "order": null,
      "overflow": null,
      "overflow_x": null,
      "overflow_y": null,
      "padding": null,
      "right": null,
      "top": null,
      "visibility": null,
      "width": null
     }
    },
    "09308a7de55f408a8ec94a3760e91e4f": {
     "model_module": "@jupyter-widgets/base",
     "model_module_version": "1.2.0",
     "model_name": "LayoutModel",
     "state": {
      "_model_module": "@jupyter-widgets/base",
      "_model_module_version": "1.2.0",
      "_model_name": "LayoutModel",
      "_view_count": null,
      "_view_module": "@jupyter-widgets/base",
      "_view_module_version": "1.2.0",
      "_view_name": "LayoutView",
      "align_content": null,
      "align_items": null,
      "align_self": null,
      "border": null,
      "bottom": null,
      "display": null,
      "flex": null,
      "flex_flow": null,
      "grid_area": null,
      "grid_auto_columns": null,
      "grid_auto_flow": null,
      "grid_auto_rows": null,
      "grid_column": null,
      "grid_gap": null,
      "grid_row": null,
      "grid_template_areas": null,
      "grid_template_columns": null,
      "grid_template_rows": null,
      "height": null,
      "justify_content": null,
      "justify_items": null,
      "left": null,
      "margin": null,
      "max_height": null,
      "max_width": null,
      "min_height": null,
      "min_width": null,
      "object_fit": null,
      "object_position": null,
      "order": null,
      "overflow": null,
      "overflow_x": null,
      "overflow_y": null,
      "padding": null,
      "right": null,
      "top": null,
      "visibility": null,
      "width": null
     }
    },
    "0bf030da2d9644389e55b61dbfd6f4e1": {
     "model_module": "@jupyter-widgets/controls",
     "model_module_version": "1.5.0",
     "model_name": "DescriptionStyleModel",
     "state": {
      "_model_module": "@jupyter-widgets/controls",
      "_model_module_version": "1.5.0",
      "_model_name": "DescriptionStyleModel",
      "_view_count": null,
      "_view_module": "@jupyter-widgets/base",
      "_view_module_version": "1.2.0",
      "_view_name": "StyleView",
      "description_width": ""
     }
    },
    "0e6e3a798a024bdfac336e92a4d42ec1": {
     "model_module": "@jupyter-widgets/base",
     "model_module_version": "1.2.0",
     "model_name": "LayoutModel",
     "state": {
      "_model_module": "@jupyter-widgets/base",
      "_model_module_version": "1.2.0",
      "_model_name": "LayoutModel",
      "_view_count": null,
      "_view_module": "@jupyter-widgets/base",
      "_view_module_version": "1.2.0",
      "_view_name": "LayoutView",
      "align_content": null,
      "align_items": null,
      "align_self": null,
      "border": null,
      "bottom": null,
      "display": null,
      "flex": null,
      "flex_flow": null,
      "grid_area": null,
      "grid_auto_columns": null,
      "grid_auto_flow": null,
      "grid_auto_rows": null,
      "grid_column": null,
      "grid_gap": null,
      "grid_row": null,
      "grid_template_areas": null,
      "grid_template_columns": null,
      "grid_template_rows": null,
      "height": null,
      "justify_content": null,
      "justify_items": null,
      "left": null,
      "margin": null,
      "max_height": null,
      "max_width": null,
      "min_height": null,
      "min_width": null,
      "object_fit": null,
      "object_position": null,
      "order": null,
      "overflow": null,
      "overflow_x": null,
      "overflow_y": null,
      "padding": null,
      "right": null,
      "top": null,
      "visibility": null,
      "width": null
     }
    },
    "0fcd7ce89e4a453299847830340612bb": {
     "model_module": "@jupyter-widgets/controls",
     "model_module_version": "1.5.0",
     "model_name": "HTMLModel",
     "state": {
      "_dom_classes": [],
      "_model_module": "@jupyter-widgets/controls",
      "_model_module_version": "1.5.0",
      "_model_name": "HTMLModel",
      "_view_count": null,
      "_view_module": "@jupyter-widgets/controls",
      "_view_module_version": "1.5.0",
      "_view_name": "HTMLView",
      "description": "",
      "description_tooltip": null,
      "layout": "IPY_MODEL_fa0f6a6bb61f4af49c90396d1bf62978",
      "placeholder": "​",
      "style": "IPY_MODEL_9c71422dede84bf69802937ffac79950",
      "value": "Shuffling ~/tensorflow_datasets/titanic/4.0.0.incompleteOGT2XB/titanic-train.tfrecord*...:   0%"
     }
    },
    "140dea88318b49efaf34d9bfcba7595d": {
     "model_module": "@jupyter-widgets/controls",
     "model_module_version": "1.5.0",
     "model_name": "HTMLModel",
     "state": {
      "_dom_classes": [],
      "_model_module": "@jupyter-widgets/controls",
      "_model_module_version": "1.5.0",
      "_model_name": "HTMLModel",
      "_view_count": null,
      "_view_module": "@jupyter-widgets/controls",
      "_view_module_version": "1.5.0",
      "_view_name": "HTMLView",
      "description": "",
      "description_tooltip": null,
      "layout": "IPY_MODEL_3059e6a77bed48d3924e029e6c1c8273",
      "placeholder": "​",
      "style": "IPY_MODEL_a3562c0c263e4e87924e9c765b910dc9",
      "value": "Generating splits...: 100%"
     }
    },
    "1c8ffaa7fa7a4a54b9e588b447ca7cd7": {
     "model_module": "@jupyter-widgets/controls",
     "model_module_version": "1.5.0",
     "model_name": "DescriptionStyleModel",
     "state": {
      "_model_module": "@jupyter-widgets/controls",
      "_model_module_version": "1.5.0",
      "_model_name": "DescriptionStyleModel",
      "_view_count": null,
      "_view_module": "@jupyter-widgets/base",
      "_view_module_version": "1.2.0",
      "_view_name": "StyleView",
      "description_width": ""
     }
    },
    "2b5e1f9a0c264107820a7e962dffcd11": {
     "model_module": "@jupyter-widgets/controls",
     "model_module_version": "1.5.0",
     "model_name": "FloatProgressModel",
     "state": {
      "_dom_classes": [],
      "_model_module": "@jupyter-widgets/controls",
      "_model_module_version": "1.5.0",
      "_model_name": "FloatProgressModel",
      "_view_count": null,
      "_view_module": "@jupyter-widgets/controls",
      "_view_module_version": "1.5.0",
      "_view_name": "ProgressView",
      "bar_style": "",
      "description": "",
      "description_tooltip": null,
      "layout": "IPY_MODEL_09308a7de55f408a8ec94a3760e91e4f",
      "max": 1,
      "min": 0,
      "orientation": "horizontal",
      "style": "IPY_MODEL_030b93d5f255487a87d551ecf63a6937",
      "value": 1
     }
    },
    "2f612c69bd134a5db9de1763d8f8cd63": {
     "model_module": "@jupyter-widgets/controls",
     "model_module_version": "1.5.0",
     "model_name": "DescriptionStyleModel",
     "state": {
      "_model_module": "@jupyter-widgets/controls",
      "_model_module_version": "1.5.0",
      "_model_name": "DescriptionStyleModel",
      "_view_count": null,
      "_view_module": "@jupyter-widgets/base",
      "_view_module_version": "1.2.0",
      "_view_name": "StyleView",
      "description_width": ""
     }
    },
    "3059e6a77bed48d3924e029e6c1c8273": {
     "model_module": "@jupyter-widgets/base",
     "model_module_version": "1.2.0",
     "model_name": "LayoutModel",
     "state": {
      "_model_module": "@jupyter-widgets/base",
      "_model_module_version": "1.2.0",
      "_model_name": "LayoutModel",
      "_view_count": null,
      "_view_module": "@jupyter-widgets/base",
      "_view_module_version": "1.2.0",
      "_view_name": "LayoutView",
      "align_content": null,
      "align_items": null,
      "align_self": null,
      "border": null,
      "bottom": null,
      "display": null,
      "flex": null,
      "flex_flow": null,
      "grid_area": null,
      "grid_auto_columns": null,
      "grid_auto_flow": null,
      "grid_auto_rows": null,
      "grid_column": null,
      "grid_gap": null,
      "grid_row": null,
      "grid_template_areas": null,
      "grid_template_columns": null,
      "grid_template_rows": null,
      "height": null,
      "justify_content": null,
      "justify_items": null,
      "left": null,
      "margin": null,
      "max_height": null,
      "max_width": null,
      "min_height": null,
      "min_width": null,
      "object_fit": null,
      "object_position": null,
      "order": null,
      "overflow": null,
      "overflow_x": null,
      "overflow_y": null,
      "padding": null,
      "right": null,
      "top": null,
      "visibility": null,
      "width": null
     }
    },
    "38e21a982ca74cd19bfa50c01cb6dacc": {
     "model_module": "@jupyter-widgets/controls",
     "model_module_version": "1.5.0",
     "model_name": "HTMLModel",
     "state": {
      "_dom_classes": [],
      "_model_module": "@jupyter-widgets/controls",
      "_model_module_version": "1.5.0",
      "_model_name": "HTMLModel",
      "_view_count": null,
      "_view_module": "@jupyter-widgets/controls",
      "_view_module_version": "1.5.0",
      "_view_name": "HTMLView",
      "description": "",
      "description_tooltip": null,
      "layout": "IPY_MODEL_880a463c4474462488772cf4dd710547",
      "placeholder": "​",
      "style": "IPY_MODEL_2f612c69bd134a5db9de1763d8f8cd63",
      "value": " 0/1309 [00:00&lt;?, ? examples/s]"
     }
    },
    "3fca8b6259204b4a80870651082bcb16": {
     "model_module": "@jupyter-widgets/base",
     "model_module_version": "1.2.0",
     "model_name": "LayoutModel",
     "state": {
      "_model_module": "@jupyter-widgets/base",
      "_model_module_version": "1.2.0",
      "_model_name": "LayoutModel",
      "_view_count": null,
      "_view_module": "@jupyter-widgets/base",
      "_view_module_version": "1.2.0",
      "_view_name": "LayoutView",
      "align_content": null,
      "align_items": null,
      "align_self": null,
      "border": null,
      "bottom": null,
      "display": null,
      "flex": null,
      "flex_flow": null,
      "grid_area": null,
      "grid_auto_columns": null,
      "grid_auto_flow": null,
      "grid_auto_rows": null,
      "grid_column": null,
      "grid_gap": null,
      "grid_row": null,
      "grid_template_areas": null,
      "grid_template_columns": null,
      "grid_template_rows": null,
      "height": null,
      "justify_content": null,
      "justify_items": null,
      "left": null,
      "margin": null,
      "max_height": null,
      "max_width": null,
      "min_height": null,
      "min_width": null,
      "object_fit": null,
      "object_position": null,
      "order": null,
      "overflow": null,
      "overflow_x": null,
      "overflow_y": null,
      "padding": null,
      "right": null,
      "top": null,
      "visibility": null,
      "width": "20px"
     }
    },
    "4ead96f23c6946219a5872ecad273c70": {
     "model_module": "@jupyter-widgets/controls",
     "model_module_version": "1.5.0",
     "model_name": "HTMLModel",
     "state": {
      "_dom_classes": [],
      "_model_module": "@jupyter-widgets/controls",
      "_model_module_version": "1.5.0",
      "_model_name": "HTMLModel",
      "_view_count": null,
      "_view_module": "@jupyter-widgets/controls",
      "_view_module_version": "1.5.0",
      "_view_name": "HTMLView",
      "description": "",
      "description_tooltip": null,
      "layout": "IPY_MODEL_5d08d119019a4ccc924a9ab245270b1e",
      "placeholder": "​",
      "style": "IPY_MODEL_1c8ffaa7fa7a4a54b9e588b447ca7cd7",
      "value": "Dl Completed...: 100%"
     }
    },
    "576f55a6dbcd4db29744349b72d2dfd3": {
     "model_module": "@jupyter-widgets/controls",
     "model_module_version": "1.5.0",
     "model_name": "HBoxModel",
     "state": {
      "_dom_classes": [],
      "_model_module": "@jupyter-widgets/controls",
      "_model_module_version": "1.5.0",
      "_model_name": "HBoxModel",
      "_view_count": null,
      "_view_module": "@jupyter-widgets/controls",
      "_view_module_version": "1.5.0",
      "_view_name": "HBoxView",
      "box_style": "",
      "children": [
       "IPY_MODEL_0fcd7ce89e4a453299847830340612bb",
       "IPY_MODEL_872e20a8ecca4dd2b0c9c7edfe71de49",
       "IPY_MODEL_38e21a982ca74cd19bfa50c01cb6dacc"
      ],
      "layout": "IPY_MODEL_86432c7083934648a0a82744b73a15ae"
     }
    },
    "57afadf199d248e6a89f08436e6131d1": {
     "model_module": "@jupyter-widgets/base",
     "model_module_version": "1.2.0",
     "model_name": "LayoutModel",
     "state": {
      "_model_module": "@jupyter-widgets/base",
      "_model_module_version": "1.2.0",
      "_model_name": "LayoutModel",
      "_view_count": null,
      "_view_module": "@jupyter-widgets/base",
      "_view_module_version": "1.2.0",
      "_view_name": "LayoutView",
      "align_content": null,
      "align_items": null,
      "align_self": null,
      "border": null,
      "bottom": null,
      "display": null,
      "flex": null,
      "flex_flow": null,
      "grid_area": null,
      "grid_auto_columns": null,
      "grid_auto_flow": null,
      "grid_auto_rows": null,
      "grid_column": null,
      "grid_gap": null,
      "grid_row": null,
      "grid_template_areas": null,
      "grid_template_columns": null,
      "grid_template_rows": null,
      "height": null,
      "justify_content": null,
      "justify_items": null,
      "left": null,
      "margin": null,
      "max_height": null,
      "max_width": null,
      "min_height": null,
      "min_width": null,
      "object_fit": null,
      "object_position": null,
      "order": null,
      "overflow": null,
      "overflow_x": null,
      "overflow_y": null,
      "padding": null,
      "right": null,
      "top": null,
      "visibility": null,
      "width": null
     }
    },
    "593ad060d4a846ed9ce63827cfe58907": {
     "model_module": "@jupyter-widgets/controls",
     "model_module_version": "1.5.0",
     "model_name": "HTMLModel",
     "state": {
      "_dom_classes": [],
      "_model_module": "@jupyter-widgets/controls",
      "_model_module_version": "1.5.0",
      "_model_name": "HTMLModel",
      "_view_count": null,
      "_view_module": "@jupyter-widgets/controls",
      "_view_module_version": "1.5.0",
      "_view_name": "HTMLView",
      "description": "",
      "description_tooltip": null,
      "layout": "IPY_MODEL_0e6e3a798a024bdfac336e92a4d42ec1",
      "placeholder": "​",
      "style": "IPY_MODEL_0bf030da2d9644389e55b61dbfd6f4e1",
      "value": " 0/0 [00:00&lt;?, ? MiB/s]"
     }
    },
    "59ed361682e84e12b86b6e1f947d0ea3": {
     "model_module": "@jupyter-widgets/controls",
     "model_module_version": "1.5.0",
     "model_name": "FloatProgressModel",
     "state": {
      "_dom_classes": [],
      "_model_module": "@jupyter-widgets/controls",
      "_model_module_version": "1.5.0",
      "_model_name": "FloatProgressModel",
      "_view_count": null,
      "_view_module": "@jupyter-widgets/controls",
      "_view_module_version": "1.5.0",
      "_view_name": "ProgressView",
      "bar_style": "success",
      "description": "",
      "description_tooltip": null,
      "layout": "IPY_MODEL_3fca8b6259204b4a80870651082bcb16",
      "max": 1,
      "min": 0,
      "orientation": "horizontal",
      "style": "IPY_MODEL_ae18550933ce439a85294cb6c850e35c",
      "value": 1
     }
    },
    "5d08d119019a4ccc924a9ab245270b1e": {
     "model_module": "@jupyter-widgets/base",
     "model_module_version": "1.2.0",
     "model_name": "LayoutModel",
     "state": {
      "_model_module": "@jupyter-widgets/base",
      "_model_module_version": "1.2.0",
      "_model_name": "LayoutModel",
      "_view_count": null,
      "_view_module": "@jupyter-widgets/base",
      "_view_module_version": "1.2.0",
      "_view_name": "LayoutView",
      "align_content": null,
      "align_items": null,
      "align_self": null,
      "border": null,
      "bottom": null,
      "display": null,
      "flex": null,
      "flex_flow": null,
      "grid_area": null,
      "grid_auto_columns": null,
      "grid_auto_flow": null,
      "grid_auto_rows": null,
      "grid_column": null,
      "grid_gap": null,
      "grid_row": null,
      "grid_template_areas": null,
      "grid_template_columns": null,
      "grid_template_rows": null,
      "height": null,
      "justify_content": null,
      "justify_items": null,
      "left": null,
      "margin": null,
      "max_height": null,
      "max_width": null,
      "min_height": null,
      "min_width": null,
      "object_fit": null,
      "object_position": null,
      "order": null,
      "overflow": null,
      "overflow_x": null,
      "overflow_y": null,
      "padding": null,
      "right": null,
      "top": null,
      "visibility": null,
      "width": null
     }
    },
    "6a2ea2a2bb1140f9af40009e89479412": {
     "model_module": "@jupyter-widgets/controls",
     "model_module_version": "1.5.0",
     "model_name": "HTMLModel",
     "state": {
      "_dom_classes": [],
      "_model_module": "@jupyter-widgets/controls",
      "_model_module_version": "1.5.0",
      "_model_name": "HTMLModel",
      "_view_count": null,
      "_view_module": "@jupyter-widgets/controls",
      "_view_module_version": "1.5.0",
      "_view_name": "HTMLView",
      "description": "",
      "description_tooltip": null,
      "layout": "IPY_MODEL_79b77d2d2a7f4d15b0f4015ce6c5c53d",
      "placeholder": "​",
      "style": "IPY_MODEL_82804e670a6c45f3bb72e07f7d123d49",
      "value": "Dl Size...: "
     }
    },
    "6eb4f62f262f48f585524071c4bc139e": {
     "model_module": "@jupyter-widgets/controls",
     "model_module_version": "1.5.0",
     "model_name": "HBoxModel",
     "state": {
      "_dom_classes": [],
      "_model_module": "@jupyter-widgets/controls",
      "_model_module_version": "1.5.0",
      "_model_name": "HBoxModel",
      "_view_count": null,
      "_view_module": "@jupyter-widgets/controls",
      "_view_module_version": "1.5.0",
      "_view_name": "HBoxView",
      "box_style": "",
      "children": [
       "IPY_MODEL_4ead96f23c6946219a5872ecad273c70",
       "IPY_MODEL_59ed361682e84e12b86b6e1f947d0ea3",
       "IPY_MODEL_d2175d18aa6d4d2c8d7a738f5c990e7d"
      ],
      "layout": "IPY_MODEL_57afadf199d248e6a89f08436e6131d1"
     }
    },
    "72671fcf1e41466eb9c321a248e4035a": {
     "model_module": "@jupyter-widgets/controls",
     "model_module_version": "1.5.0",
     "model_name": "HBoxModel",
     "state": {
      "_dom_classes": [],
      "_model_module": "@jupyter-widgets/controls",
      "_model_module_version": "1.5.0",
      "_model_name": "HBoxModel",
      "_view_count": null,
      "_view_module": "@jupyter-widgets/controls",
      "_view_module_version": "1.5.0",
      "_view_name": "HBoxView",
      "box_style": "",
      "children": [
       "IPY_MODEL_c36a3096576c47ab90fa2a3c29b75cc9",
       "IPY_MODEL_bdca6d813c09413baa8833944efbf0d2",
       "IPY_MODEL_f532e0bb4a914675b407c2968e9bf1af"
      ],
      "layout": "IPY_MODEL_c5e304056b2a4d1f9b956092dc7a41a8"
     }
    },
    "743de78d723b4bd6a44f4269c24b0787": {
     "model_module": "@jupyter-widgets/base",
     "model_module_version": "1.2.0",
     "model_name": "LayoutModel",
     "state": {
      "_model_module": "@jupyter-widgets/base",
      "_model_module_version": "1.2.0",
      "_model_name": "LayoutModel",
      "_view_count": null,
      "_view_module": "@jupyter-widgets/base",
      "_view_module_version": "1.2.0",
      "_view_name": "LayoutView",
      "align_content": null,
      "align_items": null,
      "align_self": null,
      "border": null,
      "bottom": null,
      "display": null,
      "flex": null,
      "flex_flow": null,
      "grid_area": null,
      "grid_auto_columns": null,
      "grid_auto_flow": null,
      "grid_auto_rows": null,
      "grid_column": null,
      "grid_gap": null,
      "grid_row": null,
      "grid_template_areas": null,
      "grid_template_columns": null,
      "grid_template_rows": null,
      "height": null,
      "justify_content": null,
      "justify_items": null,
      "left": null,
      "margin": null,
      "max_height": null,
      "max_width": null,
      "min_height": null,
      "min_width": null,
      "object_fit": null,
      "object_position": null,
      "order": null,
      "overflow": null,
      "overflow_x": null,
      "overflow_y": null,
      "padding": null,
      "right": null,
      "top": null,
      "visibility": null,
      "width": null
     }
    },
    "7994cda63d814499922c1f3324326f1f": {
     "model_module": "@jupyter-widgets/base",
     "model_module_version": "1.2.0",
     "model_name": "LayoutModel",
     "state": {
      "_model_module": "@jupyter-widgets/base",
      "_model_module_version": "1.2.0",
      "_model_name": "LayoutModel",
      "_view_count": null,
      "_view_module": "@jupyter-widgets/base",
      "_view_module_version": "1.2.0",
      "_view_name": "LayoutView",
      "align_content": null,
      "align_items": null,
      "align_self": null,
      "border": null,
      "bottom": null,
      "display": null,
      "flex": null,
      "flex_flow": null,
      "grid_area": null,
      "grid_auto_columns": null,
      "grid_auto_flow": null,
      "grid_auto_rows": null,
      "grid_column": null,
      "grid_gap": null,
      "grid_row": null,
      "grid_template_areas": null,
      "grid_template_columns": null,
      "grid_template_rows": null,
      "height": null,
      "justify_content": null,
      "justify_items": null,
      "left": null,
      "margin": null,
      "max_height": null,
      "max_width": null,
      "min_height": null,
      "min_width": null,
      "object_fit": null,
      "object_position": null,
      "order": null,
      "overflow": null,
      "overflow_x": null,
      "overflow_y": null,
      "padding": null,
      "right": null,
      "top": null,
      "visibility": null,
      "width": null
     }
    },
    "79b77d2d2a7f4d15b0f4015ce6c5c53d": {
     "model_module": "@jupyter-widgets/base",
     "model_module_version": "1.2.0",
     "model_name": "LayoutModel",
     "state": {
      "_model_module": "@jupyter-widgets/base",
      "_model_module_version": "1.2.0",
      "_model_name": "LayoutModel",
      "_view_count": null,
      "_view_module": "@jupyter-widgets/base",
      "_view_module_version": "1.2.0",
      "_view_name": "LayoutView",
      "align_content": null,
      "align_items": null,
      "align_self": null,
      "border": null,
      "bottom": null,
      "display": null,
      "flex": null,
      "flex_flow": null,
      "grid_area": null,
      "grid_auto_columns": null,
      "grid_auto_flow": null,
      "grid_auto_rows": null,
      "grid_column": null,
      "grid_gap": null,
      "grid_row": null,
      "grid_template_areas": null,
      "grid_template_columns": null,
      "grid_template_rows": null,
      "height": null,
      "justify_content": null,
      "justify_items": null,
      "left": null,
      "margin": null,
      "max_height": null,
      "max_width": null,
      "min_height": null,
      "min_width": null,
      "object_fit": null,
      "object_position": null,
      "order": null,
      "overflow": null,
      "overflow_x": null,
      "overflow_y": null,
      "padding": null,
      "right": null,
      "top": null,
      "visibility": null,
      "width": null
     }
    },
    "82804e670a6c45f3bb72e07f7d123d49": {
     "model_module": "@jupyter-widgets/controls",
     "model_module_version": "1.5.0",
     "model_name": "DescriptionStyleModel",
     "state": {
      "_model_module": "@jupyter-widgets/controls",
      "_model_module_version": "1.5.0",
      "_model_name": "DescriptionStyleModel",
      "_view_count": null,
      "_view_module": "@jupyter-widgets/base",
      "_view_module_version": "1.2.0",
      "_view_name": "StyleView",
      "description_width": ""
     }
    },
    "86432c7083934648a0a82744b73a15ae": {
     "model_module": "@jupyter-widgets/base",
     "model_module_version": "1.2.0",
     "model_name": "LayoutModel",
     "state": {
      "_model_module": "@jupyter-widgets/base",
      "_model_module_version": "1.2.0",
      "_model_name": "LayoutModel",
      "_view_count": null,
      "_view_module": "@jupyter-widgets/base",
      "_view_module_version": "1.2.0",
      "_view_name": "LayoutView",
      "align_content": null,
      "align_items": null,
      "align_self": null,
      "border": null,
      "bottom": null,
      "display": null,
      "flex": null,
      "flex_flow": null,
      "grid_area": null,
      "grid_auto_columns": null,
      "grid_auto_flow": null,
      "grid_auto_rows": null,
      "grid_column": null,
      "grid_gap": null,
      "grid_row": null,
      "grid_template_areas": null,
      "grid_template_columns": null,
      "grid_template_rows": null,
      "height": null,
      "justify_content": null,
      "justify_items": null,
      "left": null,
      "margin": null,
      "max_height": null,
      "max_width": null,
      "min_height": null,
      "min_width": null,
      "object_fit": null,
      "object_position": null,
      "order": null,
      "overflow": null,
      "overflow_x": null,
      "overflow_y": null,
      "padding": null,
      "right": null,
      "top": null,
      "visibility": "hidden",
      "width": null
     }
    },
    "872e20a8ecca4dd2b0c9c7edfe71de49": {
     "model_module": "@jupyter-widgets/controls",
     "model_module_version": "1.5.0",
     "model_name": "FloatProgressModel",
     "state": {
      "_dom_classes": [],
      "_model_module": "@jupyter-widgets/controls",
      "_model_module_version": "1.5.0",
      "_model_name": "FloatProgressModel",
      "_view_count": null,
      "_view_module": "@jupyter-widgets/controls",
      "_view_module_version": "1.5.0",
      "_view_name": "ProgressView",
      "bar_style": "",
      "description": "",
      "description_tooltip": null,
      "layout": "IPY_MODEL_eeca1ed153584b83a92601d8f800b5ec",
      "max": 1309,
      "min": 0,
      "orientation": "horizontal",
      "style": "IPY_MODEL_8e5f488097a744789bec83d763b3297e",
      "value": 1309
     }
    },
    "880a463c4474462488772cf4dd710547": {
     "model_module": "@jupyter-widgets/base",
     "model_module_version": "1.2.0",
     "model_name": "LayoutModel",
     "state": {
      "_model_module": "@jupyter-widgets/base",
      "_model_module_version": "1.2.0",
      "_model_name": "LayoutModel",
      "_view_count": null,
      "_view_module": "@jupyter-widgets/base",
      "_view_module_version": "1.2.0",
      "_view_name": "LayoutView",
      "align_content": null,
      "align_items": null,
      "align_self": null,
      "border": null,
      "bottom": null,
      "display": null,
      "flex": null,
      "flex_flow": null,
      "grid_area": null,
      "grid_auto_columns": null,
      "grid_auto_flow": null,
      "grid_auto_rows": null,
      "grid_column": null,
      "grid_gap": null,
      "grid_row": null,
      "grid_template_areas": null,
      "grid_template_columns": null,
      "grid_template_rows": null,
      "height": null,
      "justify_content": null,
      "justify_items": null,
      "left": null,
      "margin": null,
      "max_height": null,
      "max_width": null,
      "min_height": null,
      "min_width": null,
      "object_fit": null,
      "object_position": null,
      "order": null,
      "overflow": null,
      "overflow_x": null,
      "overflow_y": null,
      "padding": null,
      "right": null,
      "top": null,
      "visibility": null,
      "width": null
     }
    },
    "898d5997a02f460a8d56be2be6fec679": {
     "model_module": "@jupyter-widgets/controls",
     "model_module_version": "1.5.0",
     "model_name": "ProgressStyleModel",
     "state": {
      "_model_module": "@jupyter-widgets/controls",
      "_model_module_version": "1.5.0",
      "_model_name": "ProgressStyleModel",
      "_view_count": null,
      "_view_module": "@jupyter-widgets/base",
      "_view_module_version": "1.2.0",
      "_view_name": "StyleView",
      "bar_color": null,
      "description_width": ""
     }
    },
    "8a611b3c168048309b814c9536692c53": {
     "model_module": "@jupyter-widgets/base",
     "model_module_version": "1.2.0",
     "model_name": "LayoutModel",
     "state": {
      "_model_module": "@jupyter-widgets/base",
      "_model_module_version": "1.2.0",
      "_model_name": "LayoutModel",
      "_view_count": null,
      "_view_module": "@jupyter-widgets/base",
      "_view_module_version": "1.2.0",
      "_view_name": "LayoutView",
      "align_content": null,
      "align_items": null,
      "align_self": null,
      "border": null,
      "bottom": null,
      "display": null,
      "flex": null,
      "flex_flow": null,
      "grid_area": null,
      "grid_auto_columns": null,
      "grid_auto_flow": null,
      "grid_auto_rows": null,
      "grid_column": null,
      "grid_gap": null,
      "grid_row": null,
      "grid_template_areas": null,
      "grid_template_columns": null,
      "grid_template_rows": null,
      "height": null,
      "justify_content": null,
      "justify_items": null,
      "left": null,
      "margin": null,
      "max_height": null,
      "max_width": null,
      "min_height": null,
      "min_width": null,
      "object_fit": null,
      "object_position": null,
      "order": null,
      "overflow": null,
      "overflow_x": null,
      "overflow_y": null,
      "padding": null,
      "right": null,
      "top": null,
      "visibility": null,
      "width": null
     }
    },
    "8e5f488097a744789bec83d763b3297e": {
     "model_module": "@jupyter-widgets/controls",
     "model_module_version": "1.5.0",
     "model_name": "ProgressStyleModel",
     "state": {
      "_model_module": "@jupyter-widgets/controls",
      "_model_module_version": "1.5.0",
      "_model_name": "ProgressStyleModel",
      "_view_count": null,
      "_view_module": "@jupyter-widgets/base",
      "_view_module_version": "1.2.0",
      "_view_name": "StyleView",
      "bar_color": null,
      "description_width": ""
     }
    },
    "94ce9c207d7b4ba78136b9d3d897b239": {
     "model_module": "@jupyter-widgets/controls",
     "model_module_version": "1.5.0",
     "model_name": "DescriptionStyleModel",
     "state": {
      "_model_module": "@jupyter-widgets/controls",
      "_model_module_version": "1.5.0",
      "_model_name": "DescriptionStyleModel",
      "_view_count": null,
      "_view_module": "@jupyter-widgets/base",
      "_view_module_version": "1.2.0",
      "_view_name": "StyleView",
      "description_width": ""
     }
    },
    "9c71422dede84bf69802937ffac79950": {
     "model_module": "@jupyter-widgets/controls",
     "model_module_version": "1.5.0",
     "model_name": "DescriptionStyleModel",
     "state": {
      "_model_module": "@jupyter-widgets/controls",
      "_model_module_version": "1.5.0",
      "_model_name": "DescriptionStyleModel",
      "_view_count": null,
      "_view_module": "@jupyter-widgets/base",
      "_view_module_version": "1.2.0",
      "_view_name": "StyleView",
      "description_width": ""
     }
    },
    "9dbefa6280aa41d7b5367b5c7d6ed5a5": {
     "model_module": "@jupyter-widgets/controls",
     "model_module_version": "1.5.0",
     "model_name": "FloatProgressModel",
     "state": {
      "_dom_classes": [],
      "_model_module": "@jupyter-widgets/controls",
      "_model_module_version": "1.5.0",
      "_model_name": "FloatProgressModel",
      "_view_count": null,
      "_view_module": "@jupyter-widgets/controls",
      "_view_module_version": "1.5.0",
      "_view_name": "ProgressView",
      "bar_style": "success",
      "description": "",
      "description_tooltip": null,
      "layout": "IPY_MODEL_bb2ef85791e64242bb3bb4bcbb73be41",
      "max": 1,
      "min": 0,
      "orientation": "horizontal",
      "style": "IPY_MODEL_d60b08ce2d5841d7a7e82027be02cb93",
      "value": 0
     }
    },
    "a3562c0c263e4e87924e9c765b910dc9": {
     "model_module": "@jupyter-widgets/controls",
     "model_module_version": "1.5.0",
     "model_name": "DescriptionStyleModel",
     "state": {
      "_model_module": "@jupyter-widgets/controls",
      "_model_module_version": "1.5.0",
      "_model_name": "DescriptionStyleModel",
      "_view_count": null,
      "_view_module": "@jupyter-widgets/base",
      "_view_module_version": "1.2.0",
      "_view_name": "StyleView",
      "description_width": ""
     }
    },
    "ae18550933ce439a85294cb6c850e35c": {
     "model_module": "@jupyter-widgets/controls",
     "model_module_version": "1.5.0",
     "model_name": "ProgressStyleModel",
     "state": {
      "_model_module": "@jupyter-widgets/controls",
      "_model_module_version": "1.5.0",
      "_model_name": "ProgressStyleModel",
      "_view_count": null,
      "_view_module": "@jupyter-widgets/base",
      "_view_module_version": "1.2.0",
      "_view_name": "StyleView",
      "bar_color": null,
      "description_width": ""
     }
    },
    "bb2ef85791e64242bb3bb4bcbb73be41": {
     "model_module": "@jupyter-widgets/base",
     "model_module_version": "1.2.0",
     "model_name": "LayoutModel",
     "state": {
      "_model_module": "@jupyter-widgets/base",
      "_model_module_version": "1.2.0",
      "_model_name": "LayoutModel",
      "_view_count": null,
      "_view_module": "@jupyter-widgets/base",
      "_view_module_version": "1.2.0",
      "_view_name": "LayoutView",
      "align_content": null,
      "align_items": null,
      "align_self": null,
      "border": null,
      "bottom": null,
      "display": null,
      "flex": null,
      "flex_flow": null,
      "grid_area": null,
      "grid_auto_columns": null,
      "grid_auto_flow": null,
      "grid_auto_rows": null,
      "grid_column": null,
      "grid_gap": null,
      "grid_row": null,
      "grid_template_areas": null,
      "grid_template_columns": null,
      "grid_template_rows": null,
      "height": null,
      "justify_content": null,
      "justify_items": null,
      "left": null,
      "margin": null,
      "max_height": null,
      "max_width": null,
      "min_height": null,
      "min_width": null,
      "object_fit": null,
      "object_position": null,
      "order": null,
      "overflow": null,
      "overflow_x": null,
      "overflow_y": null,
      "padding": null,
      "right": null,
      "top": null,
      "visibility": null,
      "width": "20px"
     }
    },
    "bdca6d813c09413baa8833944efbf0d2": {
     "model_module": "@jupyter-widgets/controls",
     "model_module_version": "1.5.0",
     "model_name": "FloatProgressModel",
     "state": {
      "_dom_classes": [],
      "_model_module": "@jupyter-widgets/controls",
      "_model_module_version": "1.5.0",
      "_model_name": "FloatProgressModel",
      "_view_count": null,
      "_view_module": "@jupyter-widgets/controls",
      "_view_module_version": "1.5.0",
      "_view_name": "ProgressView",
      "bar_style": "",
      "description": "",
      "description_tooltip": null,
      "layout": "IPY_MODEL_db50f5da021d4088a4e553ec3f593ea6",
      "max": 1309,
      "min": 0,
      "orientation": "horizontal",
      "style": "IPY_MODEL_898d5997a02f460a8d56be2be6fec679",
      "value": 1309
     }
    },
    "c36a3096576c47ab90fa2a3c29b75cc9": {
     "model_module": "@jupyter-widgets/controls",
     "model_module_version": "1.5.0",
     "model_name": "HTMLModel",
     "state": {
      "_dom_classes": [],
      "_model_module": "@jupyter-widgets/controls",
      "_model_module_version": "1.5.0",
      "_model_name": "HTMLModel",
      "_view_count": null,
      "_view_module": "@jupyter-widgets/controls",
      "_view_module_version": "1.5.0",
      "_view_name": "HTMLView",
      "description": "",
      "description_tooltip": null,
      "layout": "IPY_MODEL_743de78d723b4bd6a44f4269c24b0787",
      "placeholder": "​",
      "style": "IPY_MODEL_94ce9c207d7b4ba78136b9d3d897b239",
      "value": "Generating train examples...:  89%"
     }
    },
    "c5e304056b2a4d1f9b956092dc7a41a8": {
     "model_module": "@jupyter-widgets/base",
     "model_module_version": "1.2.0",
     "model_name": "LayoutModel",
     "state": {
      "_model_module": "@jupyter-widgets/base",
      "_model_module_version": "1.2.0",
      "_model_name": "LayoutModel",
      "_view_count": null,
      "_view_module": "@jupyter-widgets/base",
      "_view_module_version": "1.2.0",
      "_view_name": "LayoutView",
      "align_content": null,
      "align_items": null,
      "align_self": null,
      "border": null,
      "bottom": null,
      "display": null,
      "flex": null,
      "flex_flow": null,
      "grid_area": null,
      "grid_auto_columns": null,
      "grid_auto_flow": null,
      "grid_auto_rows": null,
      "grid_column": null,
      "grid_gap": null,
      "grid_row": null,
      "grid_template_areas": null,
      "grid_template_columns": null,
      "grid_template_rows": null,
      "height": null,
      "justify_content": null,
      "justify_items": null,
      "left": null,
      "margin": null,
      "max_height": null,
      "max_width": null,
      "min_height": null,
      "min_width": null,
      "object_fit": null,
      "object_position": null,
      "order": null,
      "overflow": null,
      "overflow_x": null,
      "overflow_y": null,
      "padding": null,
      "right": null,
      "top": null,
      "visibility": "hidden",
      "width": null
     }
    },
    "d0eb070c2fa144a796413b8fb8b1121f": {
     "model_module": "@jupyter-widgets/controls",
     "model_module_version": "1.5.0",
     "model_name": "HBoxModel",
     "state": {
      "_dom_classes": [],
      "_model_module": "@jupyter-widgets/controls",
      "_model_module_version": "1.5.0",
      "_model_name": "HBoxModel",
      "_view_count": null,
      "_view_module": "@jupyter-widgets/controls",
      "_view_module_version": "1.5.0",
      "_view_name": "HBoxView",
      "box_style": "",
      "children": [
       "IPY_MODEL_6a2ea2a2bb1140f9af40009e89479412",
       "IPY_MODEL_9dbefa6280aa41d7b5367b5c7d6ed5a5",
       "IPY_MODEL_593ad060d4a846ed9ce63827cfe58907"
      ],
      "layout": "IPY_MODEL_7994cda63d814499922c1f3324326f1f"
     }
    },
    "d2175d18aa6d4d2c8d7a738f5c990e7d": {
     "model_module": "@jupyter-widgets/controls",
     "model_module_version": "1.5.0",
     "model_name": "HTMLModel",
     "state": {
      "_dom_classes": [],
      "_model_module": "@jupyter-widgets/controls",
      "_model_module_version": "1.5.0",
      "_model_name": "HTMLModel",
      "_view_count": null,
      "_view_module": "@jupyter-widgets/controls",
      "_view_module_version": "1.5.0",
      "_view_name": "HTMLView",
      "description": "",
      "description_tooltip": null,
      "layout": "IPY_MODEL_0456f3c143704a75b69e107d16b9bbe1",
      "placeholder": "​",
      "style": "IPY_MODEL_032c9cbdfcb44b46a2a5cb20b6d8fd78",
      "value": " 1/1 [00:00&lt;00:00,  1.04 url/s]"
     }
    },
    "d60b08ce2d5841d7a7e82027be02cb93": {
     "model_module": "@jupyter-widgets/controls",
     "model_module_version": "1.5.0",
     "model_name": "ProgressStyleModel",
     "state": {
      "_model_module": "@jupyter-widgets/controls",
      "_model_module_version": "1.5.0",
      "_model_name": "ProgressStyleModel",
      "_view_count": null,
      "_view_module": "@jupyter-widgets/base",
      "_view_module_version": "1.2.0",
      "_view_name": "StyleView",
      "bar_color": null,
      "description_width": ""
     }
    },
    "d6346664f82f4ee1b9c2001828e37497": {
     "model_module": "@jupyter-widgets/controls",
     "model_module_version": "1.5.0",
     "model_name": "DescriptionStyleModel",
     "state": {
      "_model_module": "@jupyter-widgets/controls",
      "_model_module_version": "1.5.0",
      "_model_name": "DescriptionStyleModel",
      "_view_count": null,
      "_view_module": "@jupyter-widgets/base",
      "_view_module_version": "1.2.0",
      "_view_name": "StyleView",
      "description_width": ""
     }
    },
    "d7510ea083e84fb087eb4d3a37680f9a": {
     "model_module": "@jupyter-widgets/controls",
     "model_module_version": "1.5.0",
     "model_name": "HBoxModel",
     "state": {
      "_dom_classes": [],
      "_model_module": "@jupyter-widgets/controls",
      "_model_module_version": "1.5.0",
      "_model_name": "HBoxModel",
      "_view_count": null,
      "_view_module": "@jupyter-widgets/controls",
      "_view_module_version": "1.5.0",
      "_view_name": "HBoxView",
      "box_style": "",
      "children": [
       "IPY_MODEL_140dea88318b49efaf34d9bfcba7595d",
       "IPY_MODEL_2b5e1f9a0c264107820a7e962dffcd11",
       "IPY_MODEL_fbd949dc5c8e4a239f4b602b7cb4c653"
      ],
      "layout": "IPY_MODEL_dd3c792ab7234337b818f037da84613d"
     }
    },
    "db50f5da021d4088a4e553ec3f593ea6": {
     "model_module": "@jupyter-widgets/base",
     "model_module_version": "1.2.0",
     "model_name": "LayoutModel",
     "state": {
      "_model_module": "@jupyter-widgets/base",
      "_model_module_version": "1.2.0",
      "_model_name": "LayoutModel",
      "_view_count": null,
      "_view_module": "@jupyter-widgets/base",
      "_view_module_version": "1.2.0",
      "_view_name": "LayoutView",
      "align_content": null,
      "align_items": null,
      "align_self": null,
      "border": null,
      "bottom": null,
      "display": null,
      "flex": null,
      "flex_flow": null,
      "grid_area": null,
      "grid_auto_columns": null,
      "grid_auto_flow": null,
      "grid_auto_rows": null,
      "grid_column": null,
      "grid_gap": null,
      "grid_row": null,
      "grid_template_areas": null,
      "grid_template_columns": null,
      "grid_template_rows": null,
      "height": null,
      "justify_content": null,
      "justify_items": null,
      "left": null,
      "margin": null,
      "max_height": null,
      "max_width": null,
      "min_height": null,
      "min_width": null,
      "object_fit": null,
      "object_position": null,
      "order": null,
      "overflow": null,
      "overflow_x": null,
      "overflow_y": null,
      "padding": null,
      "right": null,
      "top": null,
      "visibility": null,
      "width": null
     }
    },
    "dd3c792ab7234337b818f037da84613d": {
     "model_module": "@jupyter-widgets/base",
     "model_module_version": "1.2.0",
     "model_name": "LayoutModel",
     "state": {
      "_model_module": "@jupyter-widgets/base",
      "_model_module_version": "1.2.0",
      "_model_name": "LayoutModel",
      "_view_count": null,
      "_view_module": "@jupyter-widgets/base",
      "_view_module_version": "1.2.0",
      "_view_name": "LayoutView",
      "align_content": null,
      "align_items": null,
      "align_self": null,
      "border": null,
      "bottom": null,
      "display": null,
      "flex": null,
      "flex_flow": null,
      "grid_area": null,
      "grid_auto_columns": null,
      "grid_auto_flow": null,
      "grid_auto_rows": null,
      "grid_column": null,
      "grid_gap": null,
      "grid_row": null,
      "grid_template_areas": null,
      "grid_template_columns": null,
      "grid_template_rows": null,
      "height": null,
      "justify_content": null,
      "justify_items": null,
      "left": null,
      "margin": null,
      "max_height": null,
      "max_width": null,
      "min_height": null,
      "min_width": null,
      "object_fit": null,
      "object_position": null,
      "order": null,
      "overflow": null,
      "overflow_x": null,
      "overflow_y": null,
      "padding": null,
      "right": null,
      "top": null,
      "visibility": "hidden",
      "width": null
     }
    },
    "eeca1ed153584b83a92601d8f800b5ec": {
     "model_module": "@jupyter-widgets/base",
     "model_module_version": "1.2.0",
     "model_name": "LayoutModel",
     "state": {
      "_model_module": "@jupyter-widgets/base",
      "_model_module_version": "1.2.0",
      "_model_name": "LayoutModel",
      "_view_count": null,
      "_view_module": "@jupyter-widgets/base",
      "_view_module_version": "1.2.0",
      "_view_name": "LayoutView",
      "align_content": null,
      "align_items": null,
      "align_self": null,
      "border": null,
      "bottom": null,
      "display": null,
      "flex": null,
      "flex_flow": null,
      "grid_area": null,
      "grid_auto_columns": null,
      "grid_auto_flow": null,
      "grid_auto_rows": null,
      "grid_column": null,
      "grid_gap": null,
      "grid_row": null,
      "grid_template_areas": null,
      "grid_template_columns": null,
      "grid_template_rows": null,
      "height": null,
      "justify_content": null,
      "justify_items": null,
      "left": null,
      "margin": null,
      "max_height": null,
      "max_width": null,
      "min_height": null,
      "min_width": null,
      "object_fit": null,
      "object_position": null,
      "order": null,
      "overflow": null,
      "overflow_x": null,
      "overflow_y": null,
      "padding": null,
      "right": null,
      "top": null,
      "visibility": null,
      "width": null
     }
    },
    "f532e0bb4a914675b407c2968e9bf1af": {
     "model_module": "@jupyter-widgets/controls",
     "model_module_version": "1.5.0",
     "model_name": "HTMLModel",
     "state": {
      "_dom_classes": [],
      "_model_module": "@jupyter-widgets/controls",
      "_model_module_version": "1.5.0",
      "_model_name": "HTMLModel",
      "_view_count": null,
      "_view_module": "@jupyter-widgets/controls",
      "_view_module_version": "1.5.0",
      "_view_name": "HTMLView",
      "description": "",
      "description_tooltip": null,
      "layout": "IPY_MODEL_8a611b3c168048309b814c9536692c53",
      "placeholder": "​",
      "style": "IPY_MODEL_d6346664f82f4ee1b9c2001828e37497",
      "value": " 1171/1309 [00:00&lt;00:00, 2114.16 examples/s]"
     }
    },
    "f9742b35504a43cda4f61b22de5331d6": {
     "model_module": "@jupyter-widgets/controls",
     "model_module_version": "1.5.0",
     "model_name": "DescriptionStyleModel",
     "state": {
      "_model_module": "@jupyter-widgets/controls",
      "_model_module_version": "1.5.0",
      "_model_name": "DescriptionStyleModel",
      "_view_count": null,
      "_view_module": "@jupyter-widgets/base",
      "_view_module_version": "1.2.0",
      "_view_name": "StyleView",
      "description_width": ""
     }
    },
    "fa0f6a6bb61f4af49c90396d1bf62978": {
     "model_module": "@jupyter-widgets/base",
     "model_module_version": "1.2.0",
     "model_name": "LayoutModel",
     "state": {
      "_model_module": "@jupyter-widgets/base",
      "_model_module_version": "1.2.0",
      "_model_name": "LayoutModel",
      "_view_count": null,
      "_view_module": "@jupyter-widgets/base",
      "_view_module_version": "1.2.0",
      "_view_name": "LayoutView",
      "align_content": null,
      "align_items": null,
      "align_self": null,
      "border": null,
      "bottom": null,
      "display": null,
      "flex": null,
      "flex_flow": null,
      "grid_area": null,
      "grid_auto_columns": null,
      "grid_auto_flow": null,
      "grid_auto_rows": null,
      "grid_column": null,
      "grid_gap": null,
      "grid_row": null,
      "grid_template_areas": null,
      "grid_template_columns": null,
      "grid_template_rows": null,
      "height": null,
      "justify_content": null,
      "justify_items": null,
      "left": null,
      "margin": null,
      "max_height": null,
      "max_width": null,
      "min_height": null,
      "min_width": null,
      "object_fit": null,
      "object_position": null,
      "order": null,
      "overflow": null,
      "overflow_x": null,
      "overflow_y": null,
      "padding": null,
      "right": null,
      "top": null,
      "visibility": null,
      "width": null
     }
    },
    "fb711203acc544bc8598e0af5308d392": {
     "model_module": "@jupyter-widgets/base",
     "model_module_version": "1.2.0",
     "model_name": "LayoutModel",
     "state": {
      "_model_module": "@jupyter-widgets/base",
      "_model_module_version": "1.2.0",
      "_model_name": "LayoutModel",
      "_view_count": null,
      "_view_module": "@jupyter-widgets/base",
      "_view_module_version": "1.2.0",
      "_view_name": "LayoutView",
      "align_content": null,
      "align_items": null,
      "align_self": null,
      "border": null,
      "bottom": null,
      "display": null,
      "flex": null,
      "flex_flow": null,
      "grid_area": null,
      "grid_auto_columns": null,
      "grid_auto_flow": null,
      "grid_auto_rows": null,
      "grid_column": null,
      "grid_gap": null,
      "grid_row": null,
      "grid_template_areas": null,
      "grid_template_columns": null,
      "grid_template_rows": null,
      "height": null,
      "justify_content": null,
      "justify_items": null,
      "left": null,
      "margin": null,
      "max_height": null,
      "max_width": null,
      "min_height": null,
      "min_width": null,
      "object_fit": null,
      "object_position": null,
      "order": null,
      "overflow": null,
      "overflow_x": null,
      "overflow_y": null,
      "padding": null,
      "right": null,
      "top": null,
      "visibility": null,
      "width": null
     }
    },
    "fbd949dc5c8e4a239f4b602b7cb4c653": {
     "model_module": "@jupyter-widgets/controls",
     "model_module_version": "1.5.0",
     "model_name": "HTMLModel",
     "state": {
      "_dom_classes": [],
      "_model_module": "@jupyter-widgets/controls",
      "_model_module_version": "1.5.0",
      "_model_name": "HTMLModel",
      "_view_count": null,
      "_view_module": "@jupyter-widgets/controls",
      "_view_module_version": "1.5.0",
      "_view_name": "HTMLView",
      "description": "",
      "description_tooltip": null,
      "layout": "IPY_MODEL_fb711203acc544bc8598e0af5308d392",
      "placeholder": "​",
      "style": "IPY_MODEL_f9742b35504a43cda4f61b22de5331d6",
      "value": " 1/1 [00:00&lt;00:00,  1.26 splits/s]"
     }
    }
   }
  }
 },
 "nbformat": 4,
 "nbformat_minor": 0
}
