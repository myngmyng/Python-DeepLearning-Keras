{
 "cells": [
  {
   "cell_type": "markdown",
   "metadata": {
    "id": "ASaC9V0LELN_"
   },
   "source": [
    "# 3.8 타이타닉 생존율 예측"
   ]
  },
  {
   "cell_type": "markdown",
   "metadata": {
    "id": "kBC2sAw-EQc5"
   },
   "source": [
    "##3.8.1 문제 정의"
   ]
  },
  {
   "cell_type": "code",
   "execution_count": null,
   "metadata": {
    "id": "v2L8vtGmmE6Q"
   },
   "outputs": [],
   "source": [
    "import tensorflow as tf\n",
    "import keras"
   ]
  },
  {
   "cell_type": "markdown",
   "metadata": {
    "id": "uLu2cc5ynUx4"
   },
   "source": [
    "## 3.8.2 다양한 형태로 데이터 구성 및 준비하기"
   ]
  },
  {
   "cell_type": "code",
   "execution_count": null,
   "metadata": {
    "colab": {
     "base_uri": "https://localhost:8080/"
    },
    "executionInfo": {
     "elapsed": 326,
     "status": "ok",
     "timestamp": 1665324595064,
     "user": {
      "displayName": "한성",
      "userId": "01280908312724634418"
     },
     "user_tz": -540
    },
    "id": "ONO67pzymuai",
    "outputId": "b00a2a13-9a0b-4c3c-fd33-056628428ec3"
   },
   "outputs": [],
   "source": [
    "import pandas as pd\n",
    "\n",
    "URL = 'https://storage.googleapis.com/tf-datasets/titanic/train.csv'\n",
    "df = pd.read_csv(URL)\n",
    "\n",
    "type(df)"
   ]
  },
  {
   "cell_type": "code",
   "execution_count": null,
   "metadata": {
    "colab": {
     "base_uri": "https://localhost:8080/",
     "height": 224
    },
    "executionInfo": {
     "elapsed": 410,
     "status": "ok",
     "timestamp": 1665324597385,
     "user": {
      "displayName": "한성",
      "userId": "01280908312724634418"
     },
     "user_tz": -540
    },
    "id": "AmMA1bY4m2XN",
    "outputId": "21fe5c05-7833-4bd7-d7fb-25b34aca5bcd"
   },
   "outputs": [],
   "source": [
    "print(df.shape)\n",
    "\n",
    "df.head()"
   ]
  },
  {
   "cell_type": "code",
   "execution_count": null,
   "metadata": {
    "colab": {
     "base_uri": "https://localhost:8080/"
    },
    "executionInfo": {
     "elapsed": 2355,
     "status": "ok",
     "timestamp": 1665324602602,
     "user": {
      "displayName": "한성",
      "userId": "01280908312724634418"
     },
     "user_tz": -540
    },
    "id": "wQ0-cOU_m46W",
    "outputId": "b426e716-ec77-4a32-9022-dcccf4d9f12e"
   },
   "outputs": [],
   "source": [
    "import tensorflow_datasets as tfds\n",
    "\n",
    "tfds.list_builders()[:5]"
   ]
  },
  {
   "cell_type": "code",
   "execution_count": null,
   "metadata": {
    "colab": {
     "base_uri": "https://localhost:8080/",
     "height": 135,
     "referenced_widgets": [
      "6eb4f62f262f48f585524071c4bc139e",
      "4ead96f23c6946219a5872ecad273c70",
      "59ed361682e84e12b86b6e1f947d0ea3",
      "d2175d18aa6d4d2c8d7a738f5c990e7d",
      "57afadf199d248e6a89f08436e6131d1",
      "5d08d119019a4ccc924a9ab245270b1e",
      "1c8ffaa7fa7a4a54b9e588b447ca7cd7",
      "3fca8b6259204b4a80870651082bcb16",
      "ae18550933ce439a85294cb6c850e35c",
      "0456f3c143704a75b69e107d16b9bbe1",
      "032c9cbdfcb44b46a2a5cb20b6d8fd78",
      "d0eb070c2fa144a796413b8fb8b1121f",
      "6a2ea2a2bb1140f9af40009e89479412",
      "9dbefa6280aa41d7b5367b5c7d6ed5a5",
      "593ad060d4a846ed9ce63827cfe58907",
      "7994cda63d814499922c1f3324326f1f",
      "79b77d2d2a7f4d15b0f4015ce6c5c53d",
      "82804e670a6c45f3bb72e07f7d123d49",
      "bb2ef85791e64242bb3bb4bcbb73be41",
      "d60b08ce2d5841d7a7e82027be02cb93",
      "0e6e3a798a024bdfac336e92a4d42ec1",
      "0bf030da2d9644389e55b61dbfd6f4e1",
      "d7510ea083e84fb087eb4d3a37680f9a",
      "140dea88318b49efaf34d9bfcba7595d",
      "2b5e1f9a0c264107820a7e962dffcd11",
      "fbd949dc5c8e4a239f4b602b7cb4c653",
      "dd3c792ab7234337b818f037da84613d",
      "3059e6a77bed48d3924e029e6c1c8273",
      "a3562c0c263e4e87924e9c765b910dc9",
      "09308a7de55f408a8ec94a3760e91e4f",
      "030b93d5f255487a87d551ecf63a6937",
      "fb711203acc544bc8598e0af5308d392",
      "f9742b35504a43cda4f61b22de5331d6",
      "72671fcf1e41466eb9c321a248e4035a",
      "c36a3096576c47ab90fa2a3c29b75cc9",
      "bdca6d813c09413baa8833944efbf0d2",
      "f532e0bb4a914675b407c2968e9bf1af",
      "c5e304056b2a4d1f9b956092dc7a41a8",
      "743de78d723b4bd6a44f4269c24b0787",
      "94ce9c207d7b4ba78136b9d3d897b239",
      "db50f5da021d4088a4e553ec3f593ea6",
      "898d5997a02f460a8d56be2be6fec679",
      "8a611b3c168048309b814c9536692c53",
      "d6346664f82f4ee1b9c2001828e37497",
      "576f55a6dbcd4db29744349b72d2dfd3",
      "0fcd7ce89e4a453299847830340612bb",
      "872e20a8ecca4dd2b0c9c7edfe71de49",
      "38e21a982ca74cd19bfa50c01cb6dacc",
      "86432c7083934648a0a82744b73a15ae",
      "fa0f6a6bb61f4af49c90396d1bf62978",
      "9c71422dede84bf69802937ffac79950",
      "eeca1ed153584b83a92601d8f800b5ec",
      "8e5f488097a744789bec83d763b3297e",
      "880a463c4474462488772cf4dd710547",
      "2f612c69bd134a5db9de1763d8f8cd63"
     ]
    },
    "executionInfo": {
     "elapsed": 3794,
     "status": "ok",
     "timestamp": 1665324608242,
     "user": {
      "displayName": "한성",
      "userId": "01280908312724634418"
     },
     "user_tz": -540
    },
    "id": "d2qii9qVm7Wy",
    "outputId": "75faecc0-d99c-47d5-cdf1-e50ddda517d3"
   },
   "outputs": [],
   "source": [
    "import tensorflow_datasets as tfds\n",
    "\n",
    "ds, info = tfds.load('titanic', split='train', with_info=True)\n",
    "\n",
    "type(ds)"
   ]
  },
  {
   "cell_type": "code",
   "execution_count": null,
   "metadata": {
    "colab": {
     "base_uri": "https://localhost:8080/"
    },
    "executionInfo": {
     "elapsed": 336,
     "status": "ok",
     "timestamp": 1665324616937,
     "user": {
      "displayName": "한성",
      "userId": "01280908312724634418"
     },
     "user_tz": -540
    },
    "id": "wN0pENlpm_Zv",
    "outputId": "41a91ef5-e5e7-4178-91fa-69949179a7b4"
   },
   "outputs": [],
   "source": [
    "info"
   ]
  },
  {
   "cell_type": "code",
   "execution_count": null,
   "metadata": {
    "colab": {
     "base_uri": "https://localhost:8080/",
     "height": 126
    },
    "executionInfo": {
     "elapsed": 421,
     "status": "ok",
     "timestamp": 1665324647519,
     "user": {
      "displayName": "한성",
      "userId": "01280908312724634418"
     },
     "user_tz": -540
    },
    "id": "9kZyEE8gnE8R",
    "outputId": "9e147840-479c-490d-a5a3-b9aa10022d32"
   },
   "outputs": [],
   "source": [
    "tfds.as_dataframe(ds.take(4), info)"
   ]
  },
  {
   "cell_type": "markdown",
   "metadata": {
    "id": "DkMQBHuKnQN9"
   },
   "source": [
    "## 3.8.3 모델에서 활용할 수 있도록 데이터 전처리"
   ]
  },
  {
   "cell_type": "code",
   "execution_count": null,
   "metadata": {
    "colab": {
     "base_uri": "https://localhost:8080/"
    },
    "executionInfo": {
     "elapsed": 384,
     "status": "ok",
     "timestamp": 1665324670751,
     "user": {
      "displayName": "한성",
      "userId": "01280908312724634418"
     },
     "user_tz": -540
    },
    "id": "VUHqfAIEnKVk",
    "outputId": "a7f895d4-96c7-47c1-cfbd-fa581d166b89"
   },
   "outputs": [],
   "source": [
    "import pandas as pd\n",
    "\n",
    "url = 'https://storage.googleapis.com/tf-datasets/titanic/train.csv'\n",
    "df = pd.read_csv(url)\n",
    "\n",
    "df.info()"
   ]
  },
  {
   "cell_type": "code",
   "execution_count": null,
   "metadata": {
    "colab": {
     "base_uri": "https://localhost:8080/",
     "height": 671
    },
    "executionInfo": {
     "elapsed": 1120,
     "status": "ok",
     "timestamp": 1665324681232,
     "user": {
      "displayName": "한성",
      "userId": "01280908312724634418"
     },
     "user_tz": -540
    },
    "id": "nCyK7OYYnM_A",
    "outputId": "be911d95-07ad-4d50-ae18-05a155a7733d"
   },
   "outputs": [],
   "source": [
    "import missingno\n",
    "\n",
    "missingno.matrix(df)"
   ]
  },
  {
   "cell_type": "code",
   "execution_count": null,
   "metadata": {
    "colab": {
     "base_uri": "https://localhost:8080/",
     "height": 206
    },
    "executionInfo": {
     "elapsed": 375,
     "status": "ok",
     "timestamp": 1665324705177,
     "user": {
      "displayName": "한성",
      "userId": "01280908312724634418"
     },
     "user_tz": -540
    },
    "id": "Jz7fYgVAneQi",
    "outputId": "56e44ef6-5b2b-4027-996d-cc4786d122aa"
   },
   "outputs": [],
   "source": [
    "# from sklearn.preprocessing import LabelEncoder\n",
    "\n",
    "# le = LabelEncoder()\n",
    "# le = df[['sex', 'class', 'deck', 'embark_town','alone']].apply(le.fit_transform)\n",
    "\n",
    "# df['sex'] = le['sex']\n",
    "# df['class'] = le['class']\n",
    "# df['deck'] = le['deck']\n",
    "# df['embark_town'] = le['embark_town']\n",
    "# df['alone'] = le['alone']\n",
    "\n",
    "# df.head()\n",
    "# -----------------------------------------\n",
    "\n",
    "# 여러개의 컬럼인 경우 OrdinalEncoder 권장\n",
    "from sklearn.preprocessing import OrdinalEncoder\n",
    "import numpy as np\n",
    "col_names = [\"sex\", \"class\", \"deck\", \"embark_town\", \"alone\"]\n",
    "oe = OrdinalEncoder()\n",
    "df[col_names] = oe.fit_transform(df[col_names]).astype(np.int32)\n",
    "\n",
    "df.head()"
   ]
  },
  {
   "cell_type": "code",
   "execution_count": null,
   "metadata": {
    "id": "fLoZmxwTnheh"
   },
   "outputs": [],
   "source": [
    "df_y = df.pop('survived')\n",
    "df_x = df.loc[:,['age','fare']].copy()"
   ]
  },
  {
   "cell_type": "code",
   "execution_count": null,
   "metadata": {
    "colab": {
     "base_uri": "https://localhost:8080/"
    },
    "executionInfo": {
     "elapsed": 289,
     "status": "ok",
     "timestamp": 1663489198193,
     "user": {
      "displayName": "한성",
      "userId": "01280908312724634418"
     },
     "user_tz": -540
    },
    "id": "yi1XBexHnkiN",
    "outputId": "4859bdcf-7212-4fc8-afb7-4726b0bd622f"
   },
   "outputs": [],
   "source": [
    "df_y"
   ]
  },
  {
   "cell_type": "code",
   "execution_count": null,
   "metadata": {
    "colab": {
     "base_uri": "https://localhost:8080/",
     "height": 141
    },
    "executionInfo": {
     "elapsed": 388,
     "status": "ok",
     "timestamp": 1665324723698,
     "user": {
      "displayName": "한성",
      "userId": "01280908312724634418"
     },
     "user_tz": -540
    },
    "id": "9YEmylzZnnqB",
    "outputId": "93ad1bb4-188b-44cd-c6cc-6dfb5e737748"
   },
   "outputs": [],
   "source": [
    "df_x.T"
   ]
  },
  {
   "cell_type": "code",
   "execution_count": null,
   "metadata": {
    "colab": {
     "base_uri": "https://localhost:8080/"
    },
    "executionInfo": {
     "elapsed": 429,
     "status": "ok",
     "timestamp": 1665324732497,
     "user": {
      "displayName": "한성",
      "userId": "01280908312724634418"
     },
     "user_tz": -540
    },
    "id": "keOn5552nqO3",
    "outputId": "25fc9831-34dd-49b8-9c13-676f99b1a952"
   },
   "outputs": [],
   "source": [
    "from sklearn.model_selection import train_test_split\n",
    "\n",
    "x_train, x_test, y_train, y_test = train_test_split(df_x, df_y, test_size=0.2)\n",
    "\n",
    "print('train dataset :', x_train.shape, y_train.shape)\n",
    "print('test dataset :', x_test.shape, y_test.shape)"
   ]
  },
  {
   "cell_type": "markdown",
   "metadata": {
    "id": "hA9fYuGanvSg"
   },
   "source": [
    "## 3.8.4 다양한 레이어로 순차적인 모델 빌드\n"
   ]
  },
  {
   "cell_type": "code",
   "execution_count": null,
   "metadata": {
    "colab": {
     "base_uri": "https://localhost:8080/"
    },
    "executionInfo": {
     "elapsed": 369,
     "status": "ok",
     "timestamp": 1665324879017,
     "user": {
      "displayName": "한성",
      "userId": "01280908312724634418"
     },
     "user_tz": -540
    },
    "id": "Hb1QCBRKnsmD",
    "outputId": "658a76e5-3fe5-4893-9148-dce4c53841aa"
   },
   "outputs": [],
   "source": [
    "import keras\n",
    "model = keras.Sequential()\n",
    "model.add(keras.layers.Input(shape=(2,)))\n",
    "model.add(keras.layers.Dense(32, activation=\"relu\"))\n",
    "model.add(keras.layers.Dense(16, activation=\"relu\"))\n",
    "model.add(keras.layers.Dense(1, activation=\"sigmoid\"))\n",
    "\n",
    "model.summary()"
   ]
  },
  {
   "cell_type": "markdown",
   "metadata": {
    "id": "o-j0KFDXn1g7"
   },
   "source": [
    "## 3.8.5 이진 분류에 대한 모델 컴파일"
   ]
  },
  {
   "cell_type": "code",
   "execution_count": null,
   "metadata": {
    "id": "PNScZuCMnyqx"
   },
   "outputs": [],
   "source": [
    "model.compile(loss='binary_crossentropy',\n",
    "              optimizer='adam',\n",
    "              metrics=['accuracy'])"
   ]
  },
  {
   "cell_type": "markdown",
   "metadata": {
    "id": "_tLXQuGon5rF"
   },
   "source": [
    "## 3.8.6 모델을 활용하여 학습 및 예측"
   ]
  },
  {
   "cell_type": "code",
   "execution_count": null,
   "metadata": {
    "colab": {
     "base_uri": "https://localhost:8080/"
    },
    "executionInfo": {
     "elapsed": 5873,
     "status": "ok",
     "timestamp": 1665324945801,
     "user": {
      "displayName": "한성",
      "userId": "01280908312724634418"
     },
     "user_tz": -540
    },
    "id": "U3COlcrin39V",
    "outputId": "b7ecbd4d-5e7c-49bd-ec86-246115e6bc65"
   },
   "outputs": [],
   "source": [
    "history = model.fit(x_train, y_train,\n",
    "          validation_split=0.2,\n",
    "          batch_size = 1, # 기본값 32\n",
    "          epochs=5)"
   ]
  },
  {
   "cell_type": "code",
   "execution_count": null,
   "metadata": {
    "colab": {
     "base_uri": "https://localhost:8080/"
    },
    "executionInfo": {
     "elapsed": 677,
     "status": "ok",
     "timestamp": 1665324988101,
     "user": {
      "displayName": "한성",
      "userId": "01280908312724634418"
     },
     "user_tz": -540
    },
    "id": "5cfgbsjvn8LJ",
    "outputId": "6da5d454-a34c-46c1-f7fb-a19fdf1bd177"
   },
   "outputs": [],
   "source": [
    "loss, accuracy = model.evaluate(x_test, y_test)\n",
    "\n",
    "print('test accuracy :', accuracy)"
   ]
  },
  {
   "cell_type": "code",
   "execution_count": null,
   "metadata": {
    "colab": {
     "base_uri": "https://localhost:8080/"
    },
    "executionInfo": {
     "elapsed": 5,
     "status": "ok",
     "timestamp": 1665324990749,
     "user": {
      "displayName": "한성",
      "userId": "01280908312724634418"
     },
     "user_tz": -540
    },
    "id": "GsQFzHIpoFGn",
    "outputId": "55ead3c7-8eb1-4044-bf27-cbcde0b3a6e3"
   },
   "outputs": [],
   "source": [
    "from sklearn.model_selection import train_test_split\n",
    "\n",
    "df_x = df.copy()\n",
    "df_y = df_y.copy()\n",
    "\n",
    "x_train, x_test, y_train, y_test = train_test_split(df_x, df_y, test_size=0.2)\n",
    "\n",
    "print('train dataset :', x_train.shape, y_train.shape)\n",
    "print('test dataset :', x_test.shape, y_test.shape)"
   ]
  },
  {
   "cell_type": "code",
   "execution_count": null,
   "metadata": {
    "colab": {
     "base_uri": "https://localhost:8080/"
    },
    "executionInfo": {
     "elapsed": 4755,
     "status": "ok",
     "timestamp": 1665325006037,
     "user": {
      "displayName": "한성",
      "userId": "01280908312724634418"
     },
     "user_tz": -540
    },
    "id": "ZLv0_kJooHRm",
    "outputId": "9dd547dc-6084-4bf7-f048-a29b5287e4e9"
   },
   "outputs": [],
   "source": [
    "import keras\n",
    "\n",
    "model = keras.Sequential()\n",
    "model.add(keras.layers.Input(shape=(9,)))\n",
    "model.add(keras.layers.Dense(32, activation=\"relu\"))\n",
    "model.add(keras.layers.Dense(16, activation=\"relu\"))\n",
    "model.add(keras.layers.Dense(1, activation=\"sigmoid\"))\n",
    "\n",
    "model.compile(loss='binary_crossentropy',\n",
    "              optimizer='adam',\n",
    "              metrics=['accuracy'])\n",
    "\n",
    "callback_EarlyStopping = keras.callbacks.EarlyStopping(monitor='val_loss', patience=5, verbose=1)\n",
    "\n",
    "history = model.fit(x_train, y_train,\n",
    "          validation_split=0.2,\n",
    "          batch_size = 16, # 기본값 32\n",
    "          epochs=100,\n",
    "          callbacks=callback_EarlyStopping)"
   ]
  },
  {
   "cell_type": "code",
   "execution_count": null,
   "metadata": {
    "colab": {
     "base_uri": "https://localhost:8080/"
    },
    "executionInfo": {
     "elapsed": 915,
     "status": "ok",
     "timestamp": 1665325083811,
     "user": {
      "displayName": "한성",
      "userId": "01280908312724634418"
     },
     "user_tz": -540
    },
    "id": "JXseioKroKe0",
    "outputId": "2cd06a4e-4efa-4cb6-dcbd-56f57def7043"
   },
   "outputs": [],
   "source": [
    "loss, accuracy = model.evaluate(x_test, y_test)\n",
    "\n",
    "print('test accuracy :', accuracy)"
   ]
  },
  {
   "cell_type": "code",
   "execution_count": null,
   "metadata": {},
   "outputs": [],
   "source": [
    "y_test.head()"
   ]
  },
  {
   "cell_type": "code",
   "execution_count": null,
   "metadata": {
    "colab": {
     "base_uri": "https://localhost:8080/"
    },
    "executionInfo": {
     "elapsed": 427,
     "status": "ok",
     "timestamp": 1665325095510,
     "user": {
      "displayName": "한성",
      "userId": "01280908312724634418"
     },
     "user_tz": -540
    },
    "id": "zDHqhZRzoROY",
    "outputId": "82bd0ce4-93b9-4dbf-ed5e-5685d4aac964"
   },
   "outputs": [],
   "source": [
    "predictions = model.predict(x_test)\n",
    "\n",
    "print(\"predictions:\", predictions[0:5], sep=\"\\n\")\n",
    "print('y_test:', y_test.head(5), sep=\"\\n\")"
   ]
  },
  {
   "cell_type": "markdown",
   "metadata": {
    "id": "yH4AUqtaobH7"
   },
   "source": [
    "## 3.8.7 훈련된 모델의 플롯 손실 및 정확도"
   ]
  },
  {
   "cell_type": "code",
   "execution_count": null,
   "metadata": {
    "colab": {
     "base_uri": "https://localhost:8080/",
     "height": 542
    },
    "executionInfo": {
     "elapsed": 1802,
     "status": "ok",
     "timestamp": 1665325122710,
     "user": {
      "displayName": "한성",
      "userId": "01280908312724634418"
     },
     "user_tz": -540
    },
    "id": "9E92EhDV_9b3",
    "outputId": "f5804d37-f40b-48e0-b83d-294ac1ebed22"
   },
   "outputs": [],
   "source": [
    "from plotly.subplots import make_subplots\n",
    "import plotly.graph_objects as go\n",
    "\n",
    "fig = make_subplots(specs=[[{\"secondary_y\": True}]])\n",
    "\n",
    "# model history\n",
    "epoch = history.epoch\n",
    "\n",
    "loss = history.history['loss']\n",
    "val_loss = history.history['val_loss']\n",
    "accuracy = history.history['accuracy']\n",
    "val_accuracy = history.history['val_accuracy']\n",
    "\n",
    "# Scatter\n",
    "fig.add_trace(go.Scatter(x=epoch, y=loss, name=\"loss\"),secondary_y=False,)\n",
    "fig.add_trace(go.Scatter(x=epoch, y=val_loss, name=\"val_loss\"),secondary_y=False,)\n",
    "fig.add_trace(go.Scatter(x=epoch, y=accuracy, name=\"accuracy\"),secondary_y=True,)\n",
    "fig.add_trace(go.Scatter(x=epoch, y=val_accuracy, name=\"val_accuracy\"),secondary_y=True,)\n",
    "\n",
    "# Templates configuration, Default template: 'plotly'\n",
    "# Available templates: ['ggplot2', 'seaborn', 'simple_white', 'plotly','plotly_white', \n",
    "#                       'plotly_dark', 'presentation', 'xgridoff','ygridoff', 'gridon', 'none']\n",
    "fig.update_layout(title_text=\"<b>Loss/Accuracy of Model</b>\", template='plotly')\n",
    "\n",
    "fig.update_xaxes(title_text=\"Epoch\")\n",
    "fig.update_yaxes(title_text=\"Loss\", secondary_y=False)\n",
    "fig.update_yaxes(title_text=\"Accuracy\", secondary_y=True)\n",
    "\n",
    "fig.show()"
   ]
  },
  {
   "cell_type": "code",
   "execution_count": null,
   "metadata": {
    "id": "Vqo34B4kod-3"
   },
   "outputs": [],
   "source": []
  }
 ],
 "metadata": {
  "colab": {
   "authorship_tag": "ABX9TyM0cX1Kl6mRxjYn4RWkVGX7",
   "collapsed_sections": [],
   "provenance": []
  },
  "kernelspec": {
   "display_name": "base",
   "language": "python",
   "name": "python3"
  },
  "language_info": {
   "codemirror_mode": {
    "name": "ipython",
    "version": 3
   },
   "file_extension": ".py",
   "mimetype": "text/x-python",
   "name": "python",
   "nbconvert_exporter": "python",
   "pygments_lexer": "ipython3",
   "version": "3.11.12"
  }
 },
 "nbformat": 4,
 "nbformat_minor": 0
}
