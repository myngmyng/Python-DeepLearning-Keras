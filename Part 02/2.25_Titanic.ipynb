{
 "cells": [
  {
   "cell_type": "markdown",
   "metadata": {
    "id": "ASaC9V0LELN_"
   },
   "source": [
    "# 3.8 타이타닉 생존율 예측"
   ]
  },
  {
   "cell_type": "markdown",
   "metadata": {
    "id": "kBC2sAw-EQc5"
   },
   "source": [
    "##3.8.1 문제 정의"
   ]
  },
  {
   "cell_type": "code",
   "execution_count": 1,
   "metadata": {
    "id": "v2L8vtGmmE6Q"
   },
   "outputs": [],
   "source": [
    "import tensorflow as tf\n",
    "import keras"
   ]
  },
  {
   "cell_type": "markdown",
   "metadata": {
    "id": "uLu2cc5ynUx4"
   },
   "source": [
    "## 3.8.2 다양한 형태로 데이터 구성 및 준비하기"
   ]
  },
  {
   "cell_type": "code",
   "execution_count": 2,
   "metadata": {
    "colab": {
     "base_uri": "https://localhost:8080/"
    },
    "executionInfo": {
     "elapsed": 326,
     "status": "ok",
     "timestamp": 1665324595064,
     "user": {
      "displayName": "한성",
      "userId": "01280908312724634418"
     },
     "user_tz": -540
    },
    "id": "ONO67pzymuai",
    "outputId": "b00a2a13-9a0b-4c3c-fd33-056628428ec3"
   },
   "outputs": [
    {
     "data": {
      "text/plain": [
       "pandas.core.frame.DataFrame"
      ]
     },
     "execution_count": 2,
     "metadata": {},
     "output_type": "execute_result"
    }
   ],
   "source": [
    "import pandas as pd\n",
    "\n",
    "URL = 'https://storage.googleapis.com/tf-datasets/titanic/train.csv'\n",
    "df = pd.read_csv(URL)\n",
    "\n",
    "type(df)"
   ]
  },
  {
   "cell_type": "code",
   "execution_count": 3,
   "metadata": {
    "colab": {
     "base_uri": "https://localhost:8080/",
     "height": 224
    },
    "executionInfo": {
     "elapsed": 410,
     "status": "ok",
     "timestamp": 1665324597385,
     "user": {
      "displayName": "한성",
      "userId": "01280908312724634418"
     },
     "user_tz": -540
    },
    "id": "AmMA1bY4m2XN",
    "outputId": "21fe5c05-7833-4bd7-d7fb-25b34aca5bcd"
   },
   "outputs": [
    {
     "name": "stdout",
     "output_type": "stream",
     "text": [
      "(627, 10)\n"
     ]
    },
    {
     "data": {
      "text/html": [
       "<div>\n",
       "<style scoped>\n",
       "    .dataframe tbody tr th:only-of-type {\n",
       "        vertical-align: middle;\n",
       "    }\n",
       "\n",
       "    .dataframe tbody tr th {\n",
       "        vertical-align: top;\n",
       "    }\n",
       "\n",
       "    .dataframe thead th {\n",
       "        text-align: right;\n",
       "    }\n",
       "</style>\n",
       "<table border=\"1\" class=\"dataframe\">\n",
       "  <thead>\n",
       "    <tr style=\"text-align: right;\">\n",
       "      <th></th>\n",
       "      <th>survived</th>\n",
       "      <th>sex</th>\n",
       "      <th>age</th>\n",
       "      <th>n_siblings_spouses</th>\n",
       "      <th>parch</th>\n",
       "      <th>fare</th>\n",
       "      <th>class</th>\n",
       "      <th>deck</th>\n",
       "      <th>embark_town</th>\n",
       "      <th>alone</th>\n",
       "    </tr>\n",
       "  </thead>\n",
       "  <tbody>\n",
       "    <tr>\n",
       "      <th>0</th>\n",
       "      <td>0</td>\n",
       "      <td>male</td>\n",
       "      <td>22.0</td>\n",
       "      <td>1</td>\n",
       "      <td>0</td>\n",
       "      <td>7.2500</td>\n",
       "      <td>Third</td>\n",
       "      <td>unknown</td>\n",
       "      <td>Southampton</td>\n",
       "      <td>n</td>\n",
       "    </tr>\n",
       "    <tr>\n",
       "      <th>1</th>\n",
       "      <td>1</td>\n",
       "      <td>female</td>\n",
       "      <td>38.0</td>\n",
       "      <td>1</td>\n",
       "      <td>0</td>\n",
       "      <td>71.2833</td>\n",
       "      <td>First</td>\n",
       "      <td>C</td>\n",
       "      <td>Cherbourg</td>\n",
       "      <td>n</td>\n",
       "    </tr>\n",
       "    <tr>\n",
       "      <th>2</th>\n",
       "      <td>1</td>\n",
       "      <td>female</td>\n",
       "      <td>26.0</td>\n",
       "      <td>0</td>\n",
       "      <td>0</td>\n",
       "      <td>7.9250</td>\n",
       "      <td>Third</td>\n",
       "      <td>unknown</td>\n",
       "      <td>Southampton</td>\n",
       "      <td>y</td>\n",
       "    </tr>\n",
       "    <tr>\n",
       "      <th>3</th>\n",
       "      <td>1</td>\n",
       "      <td>female</td>\n",
       "      <td>35.0</td>\n",
       "      <td>1</td>\n",
       "      <td>0</td>\n",
       "      <td>53.1000</td>\n",
       "      <td>First</td>\n",
       "      <td>C</td>\n",
       "      <td>Southampton</td>\n",
       "      <td>n</td>\n",
       "    </tr>\n",
       "    <tr>\n",
       "      <th>4</th>\n",
       "      <td>0</td>\n",
       "      <td>male</td>\n",
       "      <td>28.0</td>\n",
       "      <td>0</td>\n",
       "      <td>0</td>\n",
       "      <td>8.4583</td>\n",
       "      <td>Third</td>\n",
       "      <td>unknown</td>\n",
       "      <td>Queenstown</td>\n",
       "      <td>y</td>\n",
       "    </tr>\n",
       "  </tbody>\n",
       "</table>\n",
       "</div>"
      ],
      "text/plain": [
       "   survived     sex   age  n_siblings_spouses  parch     fare  class     deck  \\\n",
       "0         0    male  22.0                   1      0   7.2500  Third  unknown   \n",
       "1         1  female  38.0                   1      0  71.2833  First        C   \n",
       "2         1  female  26.0                   0      0   7.9250  Third  unknown   \n",
       "3         1  female  35.0                   1      0  53.1000  First        C   \n",
       "4         0    male  28.0                   0      0   8.4583  Third  unknown   \n",
       "\n",
       "   embark_town alone  \n",
       "0  Southampton     n  \n",
       "1    Cherbourg     n  \n",
       "2  Southampton     y  \n",
       "3  Southampton     n  \n",
       "4   Queenstown     y  "
      ]
     },
     "execution_count": 3,
     "metadata": {},
     "output_type": "execute_result"
    }
   ],
   "source": [
    "print(df.shape)\n",
    "\n",
    "df.head()"
   ]
  },
  {
   "cell_type": "code",
   "execution_count": 4,
   "metadata": {
    "colab": {
     "base_uri": "https://localhost:8080/"
    },
    "executionInfo": {
     "elapsed": 2355,
     "status": "ok",
     "timestamp": 1665324602602,
     "user": {
      "displayName": "한성",
      "userId": "01280908312724634418"
     },
     "user_tz": -540
    },
    "id": "wQ0-cOU_m46W",
    "outputId": "b426e716-ec77-4a32-9022-dcccf4d9f12e"
   },
   "outputs": [
    {
     "data": {
      "text/plain": [
       "['abstract_reasoning', 'accentdb', 'aeslc', 'aflw2k3d', 'ag_news_subset']"
      ]
     },
     "execution_count": 4,
     "metadata": {},
     "output_type": "execute_result"
    }
   ],
   "source": [
    "import tensorflow_datasets as tfds\n",
    "\n",
    "tfds.list_builders()[:5]"
   ]
  },
  {
   "cell_type": "code",
   "execution_count": 5,
   "metadata": {
    "colab": {
     "base_uri": "https://localhost:8080/",
     "height": 135,
     "referenced_widgets": [
      "6eb4f62f262f48f585524071c4bc139e",
      "4ead96f23c6946219a5872ecad273c70",
      "59ed361682e84e12b86b6e1f947d0ea3",
      "d2175d18aa6d4d2c8d7a738f5c990e7d",
      "57afadf199d248e6a89f08436e6131d1",
      "5d08d119019a4ccc924a9ab245270b1e",
      "1c8ffaa7fa7a4a54b9e588b447ca7cd7",
      "3fca8b6259204b4a80870651082bcb16",
      "ae18550933ce439a85294cb6c850e35c",
      "0456f3c143704a75b69e107d16b9bbe1",
      "032c9cbdfcb44b46a2a5cb20b6d8fd78",
      "d0eb070c2fa144a796413b8fb8b1121f",
      "6a2ea2a2bb1140f9af40009e89479412",
      "9dbefa6280aa41d7b5367b5c7d6ed5a5",
      "593ad060d4a846ed9ce63827cfe58907",
      "7994cda63d814499922c1f3324326f1f",
      "79b77d2d2a7f4d15b0f4015ce6c5c53d",
      "82804e670a6c45f3bb72e07f7d123d49",
      "bb2ef85791e64242bb3bb4bcbb73be41",
      "d60b08ce2d5841d7a7e82027be02cb93",
      "0e6e3a798a024bdfac336e92a4d42ec1",
      "0bf030da2d9644389e55b61dbfd6f4e1",
      "d7510ea083e84fb087eb4d3a37680f9a",
      "140dea88318b49efaf34d9bfcba7595d",
      "2b5e1f9a0c264107820a7e962dffcd11",
      "fbd949dc5c8e4a239f4b602b7cb4c653",
      "dd3c792ab7234337b818f037da84613d",
      "3059e6a77bed48d3924e029e6c1c8273",
      "a3562c0c263e4e87924e9c765b910dc9",
      "09308a7de55f408a8ec94a3760e91e4f",
      "030b93d5f255487a87d551ecf63a6937",
      "fb711203acc544bc8598e0af5308d392",
      "f9742b35504a43cda4f61b22de5331d6",
      "72671fcf1e41466eb9c321a248e4035a",
      "c36a3096576c47ab90fa2a3c29b75cc9",
      "bdca6d813c09413baa8833944efbf0d2",
      "f532e0bb4a914675b407c2968e9bf1af",
      "c5e304056b2a4d1f9b956092dc7a41a8",
      "743de78d723b4bd6a44f4269c24b0787",
      "94ce9c207d7b4ba78136b9d3d897b239",
      "db50f5da021d4088a4e553ec3f593ea6",
      "898d5997a02f460a8d56be2be6fec679",
      "8a611b3c168048309b814c9536692c53",
      "d6346664f82f4ee1b9c2001828e37497",
      "576f55a6dbcd4db29744349b72d2dfd3",
      "0fcd7ce89e4a453299847830340612bb",
      "872e20a8ecca4dd2b0c9c7edfe71de49",
      "38e21a982ca74cd19bfa50c01cb6dacc",
      "86432c7083934648a0a82744b73a15ae",
      "fa0f6a6bb61f4af49c90396d1bf62978",
      "9c71422dede84bf69802937ffac79950",
      "eeca1ed153584b83a92601d8f800b5ec",
      "8e5f488097a744789bec83d763b3297e",
      "880a463c4474462488772cf4dd710547",
      "2f612c69bd134a5db9de1763d8f8cd63"
     ]
    },
    "executionInfo": {
     "elapsed": 3794,
     "status": "ok",
     "timestamp": 1665324608242,
     "user": {
      "displayName": "한성",
      "userId": "01280908312724634418"
     },
     "user_tz": -540
    },
    "id": "d2qii9qVm7Wy",
    "outputId": "75faecc0-d99c-47d5-cdf1-e50ddda517d3"
   },
   "outputs": [
    {
     "name": "stderr",
     "output_type": "stream",
     "text": [
      "WARNING:absl:You use TensorFlow DType <dtype: 'string'> in tfds.features This will soon be deprecated in favor of NumPy DTypes. In the meantime it was converted to object.\n",
      "WARNING:absl:You use TensorFlow DType <dtype: 'float32'> in tfds.features This will soon be deprecated in favor of NumPy DTypes. In the meantime it was converted to float32.\n",
      "WARNING:absl:You use TensorFlow DType <dtype: 'int32'> in tfds.features This will soon be deprecated in favor of NumPy DTypes. In the meantime it was converted to int32.\n"
     ]
    },
    {
     "data": {
      "text/plain": [
       "tensorflow.python.data.ops.prefetch_op._PrefetchDataset"
      ]
     },
     "execution_count": 5,
     "metadata": {},
     "output_type": "execute_result"
    }
   ],
   "source": [
    "import tensorflow_datasets as tfds\n",
    "\n",
    "ds, info = tfds.load('titanic', split='train', with_info=True)\n",
    "\n",
    "type(ds)"
   ]
  },
  {
   "cell_type": "code",
   "execution_count": 6,
   "metadata": {
    "colab": {
     "base_uri": "https://localhost:8080/"
    },
    "executionInfo": {
     "elapsed": 336,
     "status": "ok",
     "timestamp": 1665324616937,
     "user": {
      "displayName": "한성",
      "userId": "01280908312724634418"
     },
     "user_tz": -540
    },
    "id": "wN0pENlpm_Zv",
    "outputId": "41a91ef5-e5e7-4178-91fa-69949179a7b4"
   },
   "outputs": [
    {
     "data": {
      "text/plain": [
       "tfds.core.DatasetInfo(\n",
       "    name='titanic',\n",
       "    full_name='titanic/4.0.0',\n",
       "    description=\"\"\"\n",
       "    Dataset describing the survival status of individual passengers on the Titanic.\n",
       "    Missing values in the original dataset are represented using ?. Float and int\n",
       "    missing values are replaced with -1, string missing values are replaced with\n",
       "    'Unknown'.\n",
       "    \"\"\",\n",
       "    homepage='https://www.openml.org/d/40945',\n",
       "    data_dir='C:\\\\Users\\\\myngmyng\\\\tensorflow_datasets\\\\titanic\\\\4.0.0',\n",
       "    file_format=tfrecord,\n",
       "    download_size=114.98 KiB,\n",
       "    dataset_size=382.58 KiB,\n",
       "    features=FeaturesDict({\n",
       "        'age': float32,\n",
       "        'boat': string,\n",
       "        'body': int32,\n",
       "        'cabin': string,\n",
       "        'embarked': ClassLabel(shape=(), dtype=int64, num_classes=4),\n",
       "        'fare': float32,\n",
       "        'home.dest': string,\n",
       "        'name': string,\n",
       "        'parch': int32,\n",
       "        'pclass': ClassLabel(shape=(), dtype=int64, num_classes=3),\n",
       "        'sex': ClassLabel(shape=(), dtype=int64, num_classes=2),\n",
       "        'sibsp': int32,\n",
       "        'survived': ClassLabel(shape=(), dtype=int64, num_classes=2),\n",
       "        'ticket': string,\n",
       "    }),\n",
       "    supervised_keys=({'age': 'age', 'boat': 'boat', 'body': 'body', 'cabin': 'cabin', 'embarked': 'embarked', 'fare': 'fare', 'home.dest': 'home.dest', 'name': 'name', 'parch': 'parch', 'pclass': 'pclass', 'sex': 'sex', 'sibsp': 'sibsp', 'ticket': 'ticket'}, 'survived'),\n",
       "    disable_shuffling=False,\n",
       "    nondeterministic_order=False,\n",
       "    splits={\n",
       "        'train': <SplitInfo num_examples=1309, num_shards=1>,\n",
       "    },\n",
       "    citation=\"\"\"@ONLINE {titanic,\n",
       "    author = \"Frank E. Harrell Jr., Thomas Cason\",\n",
       "    title  = \"Titanic dataset\",\n",
       "    month  = \"oct\",\n",
       "    year   = \"2017\",\n",
       "    url    = \"https://www.openml.org/d/40945\"\n",
       "    }\"\"\",\n",
       ")"
      ]
     },
     "execution_count": 6,
     "metadata": {},
     "output_type": "execute_result"
    }
   ],
   "source": [
    "info"
   ]
  },
  {
   "cell_type": "code",
   "execution_count": 7,
   "metadata": {
    "colab": {
     "base_uri": "https://localhost:8080/",
     "height": 126
    },
    "executionInfo": {
     "elapsed": 421,
     "status": "ok",
     "timestamp": 1665324647519,
     "user": {
      "displayName": "한성",
      "userId": "01280908312724634418"
     },
     "user_tz": -540
    },
    "id": "9kZyEE8gnE8R",
    "outputId": "9e147840-479c-490d-a5a3-b9aa10022d32"
   },
   "outputs": [
    {
     "data": {
      "text/html": [
       "<style type=\"text/css\">\n",
       "</style>\n",
       "<table id=\"T_348ac\">\n",
       "  <thead>\n",
       "    <tr>\n",
       "      <th class=\"blank level0\" >&nbsp;</th>\n",
       "      <th id=\"T_348ac_level0_col0\" class=\"col_heading level0 col0\" >age</th>\n",
       "      <th id=\"T_348ac_level0_col1\" class=\"col_heading level0 col1\" >boat</th>\n",
       "      <th id=\"T_348ac_level0_col2\" class=\"col_heading level0 col2\" >body</th>\n",
       "      <th id=\"T_348ac_level0_col3\" class=\"col_heading level0 col3\" >cabin</th>\n",
       "      <th id=\"T_348ac_level0_col4\" class=\"col_heading level0 col4\" >embarked</th>\n",
       "      <th id=\"T_348ac_level0_col5\" class=\"col_heading level0 col5\" >fare</th>\n",
       "      <th id=\"T_348ac_level0_col6\" class=\"col_heading level0 col6\" >home.dest</th>\n",
       "      <th id=\"T_348ac_level0_col7\" class=\"col_heading level0 col7\" >name</th>\n",
       "      <th id=\"T_348ac_level0_col8\" class=\"col_heading level0 col8\" >parch</th>\n",
       "      <th id=\"T_348ac_level0_col9\" class=\"col_heading level0 col9\" >pclass</th>\n",
       "      <th id=\"T_348ac_level0_col10\" class=\"col_heading level0 col10\" >sex</th>\n",
       "      <th id=\"T_348ac_level0_col11\" class=\"col_heading level0 col11\" >sibsp</th>\n",
       "      <th id=\"T_348ac_level0_col12\" class=\"col_heading level0 col12\" >survived</th>\n",
       "      <th id=\"T_348ac_level0_col13\" class=\"col_heading level0 col13\" >ticket</th>\n",
       "    </tr>\n",
       "  </thead>\n",
       "  <tbody>\n",
       "    <tr>\n",
       "      <th id=\"T_348ac_level0_row0\" class=\"row_heading level0 row0\" >0</th>\n",
       "      <td id=\"T_348ac_row0_col0\" class=\"data row0 col0\" >30.0</td>\n",
       "      <td id=\"T_348ac_row0_col1\" class=\"data row0 col1\" >b&#x27;Unknown&#x27;</td>\n",
       "      <td id=\"T_348ac_row0_col2\" class=\"data row0 col2\" >-1</td>\n",
       "      <td id=\"T_348ac_row0_col3\" class=\"data row0 col3\" >b&#x27;Unknown&#x27;</td>\n",
       "      <td id=\"T_348ac_row0_col4\" class=\"data row0 col4\" >2 (Southampton)</td>\n",
       "      <td id=\"T_348ac_row0_col5\" class=\"data row0 col5\" >13.0</td>\n",
       "      <td id=\"T_348ac_row0_col6\" class=\"data row0 col6\" >b&#x27;Sarnia, ON&#x27;</td>\n",
       "      <td id=\"T_348ac_row0_col7\" class=\"data row0 col7\" >b&#x27;McCrie, Mr. James Matthew&#x27;</td>\n",
       "      <td id=\"T_348ac_row0_col8\" class=\"data row0 col8\" >0</td>\n",
       "      <td id=\"T_348ac_row0_col9\" class=\"data row0 col9\" >1 (2nd_class)</td>\n",
       "      <td id=\"T_348ac_row0_col10\" class=\"data row0 col10\" >0 (male)</td>\n",
       "      <td id=\"T_348ac_row0_col11\" class=\"data row0 col11\" >0</td>\n",
       "      <td id=\"T_348ac_row0_col12\" class=\"data row0 col12\" >0 (died)</td>\n",
       "      <td id=\"T_348ac_row0_col13\" class=\"data row0 col13\" >b&#x27;233478&#x27;</td>\n",
       "    </tr>\n",
       "    <tr>\n",
       "      <th id=\"T_348ac_level0_row1\" class=\"row_heading level0 row1\" >1</th>\n",
       "      <td id=\"T_348ac_row1_col0\" class=\"data row1 col0\" >37.0</td>\n",
       "      <td id=\"T_348ac_row1_col1\" class=\"data row1 col1\" >b&#x27;Unknown&#x27;</td>\n",
       "      <td id=\"T_348ac_row1_col2\" class=\"data row1 col2\" >98</td>\n",
       "      <td id=\"T_348ac_row1_col3\" class=\"data row1 col3\" >b&#x27;Unknown&#x27;</td>\n",
       "      <td id=\"T_348ac_row1_col4\" class=\"data row1 col4\" >2 (Southampton)</td>\n",
       "      <td id=\"T_348ac_row1_col5\" class=\"data row1 col5\" >7.925000190734863</td>\n",
       "      <td id=\"T_348ac_row1_col6\" class=\"data row1 col6\" >b&#x27;Ruotsinphytaa, Finland New York, NY&#x27;</td>\n",
       "      <td id=\"T_348ac_row1_col7\" class=\"data row1 col7\" >b&#x27;Gustafsson, Mr. Anders Vilhelm&#x27;</td>\n",
       "      <td id=\"T_348ac_row1_col8\" class=\"data row1 col8\" >0</td>\n",
       "      <td id=\"T_348ac_row1_col9\" class=\"data row1 col9\" >2 (3rd_class)</td>\n",
       "      <td id=\"T_348ac_row1_col10\" class=\"data row1 col10\" >0 (male)</td>\n",
       "      <td id=\"T_348ac_row1_col11\" class=\"data row1 col11\" >2</td>\n",
       "      <td id=\"T_348ac_row1_col12\" class=\"data row1 col12\" >0 (died)</td>\n",
       "      <td id=\"T_348ac_row1_col13\" class=\"data row1 col13\" >b&#x27;3101276&#x27;</td>\n",
       "    </tr>\n",
       "    <tr>\n",
       "      <th id=\"T_348ac_level0_row2\" class=\"row_heading level0 row2\" >2</th>\n",
       "      <td id=\"T_348ac_row2_col0\" class=\"data row2 col0\" >28.0</td>\n",
       "      <td id=\"T_348ac_row2_col1\" class=\"data row2 col1\" >b&#x27;9&#x27;</td>\n",
       "      <td id=\"T_348ac_row2_col2\" class=\"data row2 col2\" >-1</td>\n",
       "      <td id=\"T_348ac_row2_col3\" class=\"data row2 col3\" >b&#x27;Unknown&#x27;</td>\n",
       "      <td id=\"T_348ac_row2_col4\" class=\"data row2 col4\" >2 (Southampton)</td>\n",
       "      <td id=\"T_348ac_row2_col5\" class=\"data row2 col5\" >13.0</td>\n",
       "      <td id=\"T_348ac_row2_col6\" class=\"data row2 col6\" >b&#x27;Spain&#x27;</td>\n",
       "      <td id=\"T_348ac_row2_col7\" class=\"data row2 col7\" >b&#x27;Reynaldo, Ms. Encarnacion&#x27;</td>\n",
       "      <td id=\"T_348ac_row2_col8\" class=\"data row2 col8\" >0</td>\n",
       "      <td id=\"T_348ac_row2_col9\" class=\"data row2 col9\" >1 (2nd_class)</td>\n",
       "      <td id=\"T_348ac_row2_col10\" class=\"data row2 col10\" >1 (female)</td>\n",
       "      <td id=\"T_348ac_row2_col11\" class=\"data row2 col11\" >0</td>\n",
       "      <td id=\"T_348ac_row2_col12\" class=\"data row2 col12\" >1 (survived)</td>\n",
       "      <td id=\"T_348ac_row2_col13\" class=\"data row2 col13\" >b&#x27;230434&#x27;</td>\n",
       "    </tr>\n",
       "    <tr>\n",
       "      <th id=\"T_348ac_level0_row3\" class=\"row_heading level0 row3\" >3</th>\n",
       "      <td id=\"T_348ac_row3_col0\" class=\"data row3 col0\" >18.0</td>\n",
       "      <td id=\"T_348ac_row3_col1\" class=\"data row3 col1\" >b&#x27;Unknown&#x27;</td>\n",
       "      <td id=\"T_348ac_row3_col2\" class=\"data row3 col2\" >-1</td>\n",
       "      <td id=\"T_348ac_row3_col3\" class=\"data row3 col3\" >b&#x27;Unknown&#x27;</td>\n",
       "      <td id=\"T_348ac_row3_col4\" class=\"data row3 col4\" >2 (Southampton)</td>\n",
       "      <td id=\"T_348ac_row3_col5\" class=\"data row3 col5\" >73.5</td>\n",
       "      <td id=\"T_348ac_row3_col6\" class=\"data row3 col6\" >b&#x27;Lyndhurst, England&#x27;</td>\n",
       "      <td id=\"T_348ac_row3_col7\" class=\"data row3 col7\" >b&#x27;Davies, Mr. Charles Henry&#x27;</td>\n",
       "      <td id=\"T_348ac_row3_col8\" class=\"data row3 col8\" >0</td>\n",
       "      <td id=\"T_348ac_row3_col9\" class=\"data row3 col9\" >1 (2nd_class)</td>\n",
       "      <td id=\"T_348ac_row3_col10\" class=\"data row3 col10\" >0 (male)</td>\n",
       "      <td id=\"T_348ac_row3_col11\" class=\"data row3 col11\" >0</td>\n",
       "      <td id=\"T_348ac_row3_col12\" class=\"data row3 col12\" >0 (died)</td>\n",
       "      <td id=\"T_348ac_row3_col13\" class=\"data row3 col13\" >b&#x27;S.O.C. 14879&#x27;</td>\n",
       "    </tr>\n",
       "  </tbody>\n",
       "</table>\n"
      ],
      "text/plain": [
       "    age        boat  body       cabin  embarked    fare  \\\n",
       "0  30.0  b'Unknown'    -1  b'Unknown'         2  13.000   \n",
       "1  37.0  b'Unknown'    98  b'Unknown'         2   7.925   \n",
       "2  28.0        b'9'    -1  b'Unknown'         2  13.000   \n",
       "3  18.0  b'Unknown'    -1  b'Unknown'         2  73.500   \n",
       "\n",
       "                                home.dest                               name  \\\n",
       "0                           b'Sarnia, ON'       b'McCrie, Mr. James Matthew'   \n",
       "1  b'Ruotsinphytaa, Finland New York, NY'  b'Gustafsson, Mr. Anders Vilhelm'   \n",
       "2                                b'Spain'       b'Reynaldo, Ms. Encarnacion'   \n",
       "3                   b'Lyndhurst, England'       b'Davies, Mr. Charles Henry'   \n",
       "\n",
       "   parch  pclass  sex  sibsp  survived           ticket  \n",
       "0      0       1    0      0         0        b'233478'  \n",
       "1      0       2    0      2         0       b'3101276'  \n",
       "2      0       1    1      0         1        b'230434'  \n",
       "3      0       1    0      0         0  b'S.O.C. 14879'  "
      ]
     },
     "execution_count": 7,
     "metadata": {},
     "output_type": "execute_result"
    }
   ],
   "source": [
    "tfds.as_dataframe(ds.take(4), info)"
   ]
  },
  {
   "cell_type": "markdown",
   "metadata": {
    "id": "DkMQBHuKnQN9"
   },
   "source": [
    "## 3.8.3 모델에서 활용할 수 있도록 데이터 전처리"
   ]
  },
  {
   "cell_type": "code",
   "execution_count": 8,
   "metadata": {
    "colab": {
     "base_uri": "https://localhost:8080/"
    },
    "executionInfo": {
     "elapsed": 384,
     "status": "ok",
     "timestamp": 1665324670751,
     "user": {
      "displayName": "한성",
      "userId": "01280908312724634418"
     },
     "user_tz": -540
    },
    "id": "VUHqfAIEnKVk",
    "outputId": "a7f895d4-96c7-47c1-cfbd-fa581d166b89"
   },
   "outputs": [
    {
     "name": "stdout",
     "output_type": "stream",
     "text": [
      "<class 'pandas.core.frame.DataFrame'>\n",
      "RangeIndex: 627 entries, 0 to 626\n",
      "Data columns (total 10 columns):\n",
      " #   Column              Non-Null Count  Dtype  \n",
      "---  ------              --------------  -----  \n",
      " 0   survived            627 non-null    int64  \n",
      " 1   sex                 627 non-null    object \n",
      " 2   age                 627 non-null    float64\n",
      " 3   n_siblings_spouses  627 non-null    int64  \n",
      " 4   parch               627 non-null    int64  \n",
      " 5   fare                627 non-null    float64\n",
      " 6   class               627 non-null    object \n",
      " 7   deck                627 non-null    object \n",
      " 8   embark_town         627 non-null    object \n",
      " 9   alone               627 non-null    object \n",
      "dtypes: float64(2), int64(3), object(5)\n",
      "memory usage: 49.1+ KB\n"
     ]
    }
   ],
   "source": [
    "import pandas as pd\n",
    "\n",
    "url = 'https://storage.googleapis.com/tf-datasets/titanic/train.csv'\n",
    "df = pd.read_csv(url)\n",
    "\n",
    "df.info()"
   ]
  },
  {
   "cell_type": "code",
   "execution_count": 9,
   "metadata": {
    "colab": {
     "base_uri": "https://localhost:8080/",
     "height": 671
    },
    "executionInfo": {
     "elapsed": 1120,
     "status": "ok",
     "timestamp": 1665324681232,
     "user": {
      "displayName": "한성",
      "userId": "01280908312724634418"
     },
     "user_tz": -540
    },
    "id": "nCyK7OYYnM_A",
    "outputId": "be911d95-07ad-4d50-ae18-05a155a7733d"
   },
   "outputs": [
    {
     "data": {
      "text/plain": [
       "<Axes: >"
      ]
     },
     "execution_count": 9,
     "metadata": {},
     "output_type": "execute_result"
    },
    {
     "data": {
      "image/png": "[encoded data removed]",
      "text/plain": [
       "<Figure size 2500x1000 with 2 Axes>"
      ]
     },
     "metadata": {},
     "output_type": "display_data"
    }
   ],
   "source": [
    "import missingno\n",
    "\n",
    "missingno.matrix(df)"
   ]
  },
  {
   "cell_type": "code",
   "execution_count": 10,
   "metadata": {
    "colab": {
     "base_uri": "https://localhost:8080/",
     "height": 206
    },
    "executionInfo": {
     "elapsed": 375,
     "status": "ok",
     "timestamp": 1665324705177,
     "user": {
      "displayName": "한성",
      "userId": "01280908312724634418"
     },
     "user_tz": -540
    },
    "id": "Jz7fYgVAneQi",
    "outputId": "56e44ef6-5b2b-4027-996d-cc4786d122aa"
   },
   "outputs": [
    {
     "data": {
      "text/html": [
       "<div>\n",
       "<style scoped>\n",
       "    .dataframe tbody tr th:only-of-type {\n",
       "        vertical-align: middle;\n",
       "    }\n",
       "\n",
       "    .dataframe tbody tr th {\n",
       "        vertical-align: top;\n",
       "    }\n",
       "\n",
       "    .dataframe thead th {\n",
       "        text-align: right;\n",
       "    }\n",
       "</style>\n",
       "<table border=\"1\" class=\"dataframe\">\n",
       "  <thead>\n",
       "    <tr style=\"text-align: right;\">\n",
       "      <th></th>\n",
       "      <th>survived</th>\n",
       "      <th>sex</th>\n",
       "      <th>age</th>\n",
       "      <th>n_siblings_spouses</th>\n",
       "      <th>parch</th>\n",
       "      <th>fare</th>\n",
       "      <th>class</th>\n",
       "      <th>deck</th>\n",
       "      <th>embark_town</th>\n",
       "      <th>alone</th>\n",
       "    </tr>\n",
       "  </thead>\n",
       "  <tbody>\n",
       "    <tr>\n",
       "      <th>0</th>\n",
       "      <td>0</td>\n",
       "      <td>1</td>\n",
       "      <td>22.0</td>\n",
       "      <td>1</td>\n",
       "      <td>0</td>\n",
       "      <td>7.2500</td>\n",
       "      <td>2</td>\n",
       "      <td>7</td>\n",
       "      <td>2</td>\n",
       "      <td>0</td>\n",
       "    </tr>\n",
       "    <tr>\n",
       "      <th>1</th>\n",
       "      <td>1</td>\n",
       "      <td>0</td>\n",
       "      <td>38.0</td>\n",
       "      <td>1</td>\n",
       "      <td>0</td>\n",
       "      <td>71.2833</td>\n",
       "      <td>0</td>\n",
       "      <td>2</td>\n",
       "      <td>0</td>\n",
       "      <td>0</td>\n",
       "    </tr>\n",
       "    <tr>\n",
       "      <th>2</th>\n",
       "      <td>1</td>\n",
       "      <td>0</td>\n",
       "      <td>26.0</td>\n",
       "      <td>0</td>\n",
       "      <td>0</td>\n",
       "      <td>7.9250</td>\n",
       "      <td>2</td>\n",
       "      <td>7</td>\n",
       "      <td>2</td>\n",
       "      <td>1</td>\n",
       "    </tr>\n",
       "    <tr>\n",
       "      <th>3</th>\n",
       "      <td>1</td>\n",
       "      <td>0</td>\n",
       "      <td>35.0</td>\n",
       "      <td>1</td>\n",
       "      <td>0</td>\n",
       "      <td>53.1000</td>\n",
       "      <td>0</td>\n",
       "      <td>2</td>\n",
       "      <td>2</td>\n",
       "      <td>0</td>\n",
       "    </tr>\n",
       "    <tr>\n",
       "      <th>4</th>\n",
       "      <td>0</td>\n",
       "      <td>1</td>\n",
       "      <td>28.0</td>\n",
       "      <td>0</td>\n",
       "      <td>0</td>\n",
       "      <td>8.4583</td>\n",
       "      <td>2</td>\n",
       "      <td>7</td>\n",
       "      <td>1</td>\n",
       "      <td>1</td>\n",
       "    </tr>\n",
       "  </tbody>\n",
       "</table>\n",
       "</div>"
      ],
      "text/plain": [
       "   survived  sex   age  n_siblings_spouses  parch     fare  class  deck  \\\n",
       "0         0    1  22.0                   1      0   7.2500      2     7   \n",
       "1         1    0  38.0                   1      0  71.2833      0     2   \n",
       "2         1    0  26.0                   0      0   7.9250      2     7   \n",
       "3         1    0  35.0                   1      0  53.1000      0     2   \n",
       "4         0    1  28.0                   0      0   8.4583      2     7   \n",
       "\n",
       "   embark_town  alone  \n",
       "0            2      0  \n",
       "1            0      0  \n",
       "2            2      1  \n",
       "3            2      0  \n",
       "4            1      1  "
      ]
     },
     "execution_count": 10,
     "metadata": {},
     "output_type": "execute_result"
    }
   ],
   "source": [
    "# from sklearn.preprocessing import LabelEncoder\n",
    "\n",
    "# le = LabelEncoder()\n",
    "# le = df[['sex', 'class', 'deck', 'embark_town','alone']].apply(le.fit_transform)\n",
    "\n",
    "# df['sex'] = le['sex']\n",
    "# df['class'] = le['class']\n",
    "# df['deck'] = le['deck']\n",
    "# df['embark_town'] = le['embark_town']\n",
    "# df['alone'] = le['alone']\n",
    "\n",
    "# df.head()\n",
    "# -----------------------------------------\n",
    "\n",
    "# 여러개의 컬럼인 경우 OrdinalEncoder 권장\n",
    "from sklearn.preprocessing import OrdinalEncoder\n",
    "import numpy as np\n",
    "col_names = [\"sex\", \"class\", \"deck\", \"embark_town\", \"alone\"]\n",
    "oe = OrdinalEncoder()\n",
    "df[col_names] = oe.fit_transform(df[col_names]).astype(np.int32)\n",
    "\n",
    "df.head()"
   ]
  },
  {
   "cell_type": "code",
   "execution_count": 11,
   "metadata": {
    "id": "fLoZmxwTnheh"
   },
   "outputs": [],
   "source": [
    "df_y = df.pop('survived')\n",
    "df_x = df.loc[:,['age','fare']].copy()"
   ]
  },
  {
   "cell_type": "code",
   "execution_count": 12,
   "metadata": {
    "colab": {
     "base_uri": "https://localhost:8080/"
    },
    "executionInfo": {
     "elapsed": 289,
     "status": "ok",
     "timestamp": 1663489198193,
     "user": {
      "displayName": "한성",
      "userId": "01280908312724634418"
     },
     "user_tz": -540
    },
    "id": "yi1XBexHnkiN",
    "outputId": "4859bdcf-7212-4fc8-afb7-4726b0bd622f"
   },
   "outputs": [
    {
     "data": {
      "text/plain": [
       "0      0\n",
       "1      1\n",
       "2      1\n",
       "3      1\n",
       "4      0\n",
       "      ..\n",
       "622    0\n",
       "623    0\n",
       "624    1\n",
       "625    0\n",
       "626    0\n",
       "Name: survived, Length: 627, dtype: int64"
      ]
     },
     "execution_count": 12,
     "metadata": {},
     "output_type": "execute_result"
    }
   ],
   "source": [
    "df_y"
   ]
  },
  {
   "cell_type": "code",
   "execution_count": 13,
   "metadata": {
    "colab": {
     "base_uri": "https://localhost:8080/",
     "height": 141
    },
    "executionInfo": {
     "elapsed": 388,
     "status": "ok",
     "timestamp": 1665324723698,
     "user": {
      "displayName": "한성",
      "userId": "01280908312724634418"
     },
     "user_tz": -540
    },
    "id": "9YEmylzZnnqB",
    "outputId": "93ad1bb4-188b-44cd-c6cc-6dfb5e737748"
   },
   "outputs": [
    {
     "data": {
      "text/html": [
       "<div>\n",
       "<style scoped>\n",
       "    .dataframe tbody tr th:only-of-type {\n",
       "        vertical-align: middle;\n",
       "    }\n",
       "\n",
       "    .dataframe tbody tr th {\n",
       "        vertical-align: top;\n",
       "    }\n",
       "\n",
       "    .dataframe thead th {\n",
       "        text-align: right;\n",
       "    }\n",
       "</style>\n",
       "<table border=\"1\" class=\"dataframe\">\n",
       "  <thead>\n",
       "    <tr style=\"text-align: right;\">\n",
       "      <th></th>\n",
       "      <th>0</th>\n",
       "      <th>1</th>\n",
       "      <th>2</th>\n",
       "      <th>3</th>\n",
       "      <th>4</th>\n",
       "      <th>5</th>\n",
       "      <th>6</th>\n",
       "      <th>7</th>\n",
       "      <th>8</th>\n",
       "      <th>9</th>\n",
       "      <th>...</th>\n",
       "      <th>617</th>\n",
       "      <th>618</th>\n",
       "      <th>619</th>\n",
       "      <th>620</th>\n",
       "      <th>621</th>\n",
       "      <th>622</th>\n",
       "      <th>623</th>\n",
       "      <th>624</th>\n",
       "      <th>625</th>\n",
       "      <th>626</th>\n",
       "    </tr>\n",
       "  </thead>\n",
       "  <tbody>\n",
       "    <tr>\n",
       "      <th>age</th>\n",
       "      <td>22.00</td>\n",
       "      <td>38.0000</td>\n",
       "      <td>26.000</td>\n",
       "      <td>35.0</td>\n",
       "      <td>28.0000</td>\n",
       "      <td>2.000</td>\n",
       "      <td>27.0000</td>\n",
       "      <td>14.0000</td>\n",
       "      <td>4.0</td>\n",
       "      <td>20.00</td>\n",
       "      <td>...</td>\n",
       "      <td>15.000</td>\n",
       "      <td>20.0000</td>\n",
       "      <td>19.0000</td>\n",
       "      <td>28.0000</td>\n",
       "      <td>22.0000</td>\n",
       "      <td>28.0</td>\n",
       "      <td>25.00</td>\n",
       "      <td>19.0</td>\n",
       "      <td>28.00</td>\n",
       "      <td>32.00</td>\n",
       "    </tr>\n",
       "    <tr>\n",
       "      <th>fare</th>\n",
       "      <td>7.25</td>\n",
       "      <td>71.2833</td>\n",
       "      <td>7.925</td>\n",
       "      <td>53.1</td>\n",
       "      <td>8.4583</td>\n",
       "      <td>21.075</td>\n",
       "      <td>11.1333</td>\n",
       "      <td>30.0708</td>\n",
       "      <td>16.7</td>\n",
       "      <td>8.05</td>\n",
       "      <td>...</td>\n",
       "      <td>7.225</td>\n",
       "      <td>9.8458</td>\n",
       "      <td>7.8958</td>\n",
       "      <td>7.8958</td>\n",
       "      <td>10.5167</td>\n",
       "      <td>10.5</td>\n",
       "      <td>7.05</td>\n",
       "      <td>30.0</td>\n",
       "      <td>23.45</td>\n",
       "      <td>7.75</td>\n",
       "    </tr>\n",
       "  </tbody>\n",
       "</table>\n",
       "<p>2 rows × 627 columns</p>\n",
       "</div>"
      ],
      "text/plain": [
       "        0        1       2     3        4       5        6        7     8    \\\n",
       "age   22.00  38.0000  26.000  35.0  28.0000   2.000  27.0000  14.0000   4.0   \n",
       "fare   7.25  71.2833   7.925  53.1   8.4583  21.075  11.1333  30.0708  16.7   \n",
       "\n",
       "        9    ...     617      618      619      620      621   622    623  \\\n",
       "age   20.00  ...  15.000  20.0000  19.0000  28.0000  22.0000  28.0  25.00   \n",
       "fare   8.05  ...   7.225   9.8458   7.8958   7.8958  10.5167  10.5   7.05   \n",
       "\n",
       "       624    625    626  \n",
       "age   19.0  28.00  32.00  \n",
       "fare  30.0  23.45   7.75  \n",
       "\n",
       "[2 rows x 627 columns]"
      ]
     },
     "execution_count": 13,
     "metadata": {},
     "output_type": "execute_result"
    }
   ],
   "source": [
    "df_x.T"
   ]
  },
  {
   "cell_type": "code",
   "execution_count": 14,
   "metadata": {
    "colab": {
     "base_uri": "https://localhost:8080/"
    },
    "executionInfo": {
     "elapsed": 429,
     "status": "ok",
     "timestamp": 1665324732497,
     "user": {
      "displayName": "한성",
      "userId": "01280908312724634418"
     },
     "user_tz": -540
    },
    "id": "keOn5552nqO3",
    "outputId": "25fc9831-34dd-49b8-9c13-676f99b1a952"
   },
   "outputs": [
    {
     "name": "stdout",
     "output_type": "stream",
     "text": [
      "train dataset : (501, 2) (501,)\n",
      "test dataset : (126, 2) (126,)\n"
     ]
    }
   ],
   "source": [
    "from sklearn.model_selection import train_test_split\n",
    "\n",
    "x_train, x_test, y_train, y_test = train_test_split(df_x, df_y, test_size=0.2)\n",
    "\n",
    "print('train dataset :', x_train.shape, y_train.shape)\n",
    "print('test dataset :', x_test.shape, y_test.shape)"
   ]
  },
  {
   "cell_type": "markdown",
   "metadata": {
    "id": "hA9fYuGanvSg"
   },
   "source": [
    "## 3.8.4 다양한 레이어로 순차적인 모델 빌드\n"
   ]
  },
  {
   "cell_type": "code",
   "execution_count": 15,
   "metadata": {
    "colab": {
     "base_uri": "https://localhost:8080/"
    },
    "executionInfo": {
     "elapsed": 369,
     "status": "ok",
     "timestamp": 1665324879017,
     "user": {
      "displayName": "한성",
      "userId": "01280908312724634418"
     },
     "user_tz": -540
    },
    "id": "Hb1QCBRKnsmD",
    "outputId": "658a76e5-3fe5-4893-9148-dce4c53841aa"
   },
   "outputs": [
    {
     "data": {
      "text/html": [
       "<pre style=\"white-space:pre;overflow-x:auto;line-height:normal;font-family:Menlo,'DejaVu Sans Mono',consolas,'Courier New',monospace\"><span style=\"font-weight: bold\">Model: \"sequential\"</span>\n",
       "</pre>\n"
      ],
      "text/plain": [
       "\u001b[1mModel: \"sequential\"\u001b[0m\n"
      ]
     },
     "metadata": {},
     "output_type": "display_data"
    },
    {
     "data": {
      "text/html": [
       "<pre style=\"white-space:pre;overflow-x:auto;line-height:normal;font-family:Menlo,'DejaVu Sans Mono',consolas,'Courier New',monospace\">┏━━━━━━━━━━━━━━━━━━━━━━━━━━━━━━━━━┳━━━━━━━━━━━━━━━━━━━━━━━━┳━━━━━━━━━━━━━━━┓\n",
       "┃<span style=\"font-weight: bold\"> Layer (type)                    </span>┃<span style=\"font-weight: bold\"> Output Shape           </span>┃<span style=\"font-weight: bold\">       Param # </span>┃\n",
       "┡━━━━━━━━━━━━━━━━━━━━━━━━━━━━━━━━━╇━━━━━━━━━━━━━━━━━━━━━━━━╇━━━━━━━━━━━━━━━┩\n",
       "│ dense (<span style=\"color: #0087ff; text-decoration-color: #0087ff\">Dense</span>)                   │ (<span style=\"color: #00d7ff; text-decoration-color: #00d7ff\">None</span>, <span style=\"color: #00af00; text-decoration-color: #00af00\">32</span>)             │            <span style=\"color: #00af00; text-decoration-color: #00af00\">96</span> │\n",
       "├─────────────────────────────────┼────────────────────────┼───────────────┤\n",
       "│ dense_1 (<span style=\"color: #0087ff; text-decoration-color: #0087ff\">Dense</span>)                 │ (<span style=\"color: #00d7ff; text-decoration-color: #00d7ff\">None</span>, <span style=\"color: #00af00; text-decoration-color: #00af00\">16</span>)             │           <span style=\"color: #00af00; text-decoration-color: #00af00\">528</span> │\n",
       "├─────────────────────────────────┼────────────────────────┼───────────────┤\n",
       "│ dense_2 (<span style=\"color: #0087ff; text-decoration-color: #0087ff\">Dense</span>)                 │ (<span style=\"color: #00d7ff; text-decoration-color: #00d7ff\">None</span>, <span style=\"color: #00af00; text-decoration-color: #00af00\">1</span>)              │            <span style=\"color: #00af00; text-decoration-color: #00af00\">17</span> │\n",
       "└─────────────────────────────────┴────────────────────────┴───────────────┘\n",
       "</pre>\n"
      ],
      "text/plain": [
       "┏━━━━━━━━━━━━━━━━━━━━━━━━━━━━━━━━━┳━━━━━━━━━━━━━━━━━━━━━━━━┳━━━━━━━━━━━━━━━┓\n",
       "┃\u001b[1m \u001b[0m\u001b[1mLayer (type)                   \u001b[0m\u001b[1m \u001b[0m┃\u001b[1m \u001b[0m\u001b[1mOutput Shape          \u001b[0m\u001b[1m \u001b[0m┃\u001b[1m \u001b[0m\u001b[1m      Param #\u001b[0m\u001b[1m \u001b[0m┃\n",
       "┡━━━━━━━━━━━━━━━━━━━━━━━━━━━━━━━━━╇━━━━━━━━━━━━━━━━━━━━━━━━╇━━━━━━━━━━━━━━━┩\n",
       "│ dense (\u001b[38;5;33mDense\u001b[0m)                   │ (\u001b[38;5;45mNone\u001b[0m, \u001b[38;5;34m32\u001b[0m)             │            \u001b[38;5;34m96\u001b[0m │\n",
       "├─────────────────────────────────┼────────────────────────┼───────────────┤\n",
       "│ dense_1 (\u001b[38;5;33mDense\u001b[0m)                 │ (\u001b[38;5;45mNone\u001b[0m, \u001b[38;5;34m16\u001b[0m)             │           \u001b[38;5;34m528\u001b[0m │\n",
       "├─────────────────────────────────┼────────────────────────┼───────────────┤\n",
       "│ dense_2 (\u001b[38;5;33mDense\u001b[0m)                 │ (\u001b[38;5;45mNone\u001b[0m, \u001b[38;5;34m1\u001b[0m)              │            \u001b[38;5;34m17\u001b[0m │\n",
       "└─────────────────────────────────┴────────────────────────┴───────────────┘\n"
      ]
     },
     "metadata": {},
     "output_type": "display_data"
    },
    {
     "data": {
      "text/html": [
       "<pre style=\"white-space:pre;overflow-x:auto;line-height:normal;font-family:Menlo,'DejaVu Sans Mono',consolas,'Courier New',monospace\"><span style=\"font-weight: bold\"> Total params: </span><span style=\"color: #00af00; text-decoration-color: #00af00\">641</span> (2.50 KB)\n",
       "</pre>\n"
      ],
      "text/plain": [
       "\u001b[1m Total params: \u001b[0m\u001b[38;5;34m641\u001b[0m (2.50 KB)\n"
      ]
     },
     "metadata": {},
     "output_type": "display_data"
    },
    {
     "data": {
      "text/html": [
       "<pre style=\"white-space:pre;overflow-x:auto;line-height:normal;font-family:Menlo,'DejaVu Sans Mono',consolas,'Courier New',monospace\"><span style=\"font-weight: bold\"> Trainable params: </span><span style=\"color: #00af00; text-decoration-color: #00af00\">641</span> (2.50 KB)\n",
       "</pre>\n"
      ],
      "text/plain": [
       "\u001b[1m Trainable params: \u001b[0m\u001b[38;5;34m641\u001b[0m (2.50 KB)\n"
      ]
     },
     "metadata": {},
     "output_type": "display_data"
    },
    {
     "data": {
      "text/html": [
       "<pre style=\"white-space:pre;overflow-x:auto;line-height:normal;font-family:Menlo,'DejaVu Sans Mono',consolas,'Courier New',monospace\"><span style=\"font-weight: bold\"> Non-trainable params: </span><span style=\"color: #00af00; text-decoration-color: #00af00\">0</span> (0.00 B)\n",
       "</pre>\n"
      ],
      "text/plain": [
       "\u001b[1m Non-trainable params: \u001b[0m\u001b[38;5;34m0\u001b[0m (0.00 B)\n"
      ]
     },
     "metadata": {},
     "output_type": "display_data"
    }
   ],
   "source": [
    "import keras\n",
    "model = keras.Sequential()\n",
    "model.add(keras.layers.Input(shape=(2,)))\n",
    "model.add(keras.layers.Dense(32, activation=\"relu\"))\n",
    "model.add(keras.layers.Dense(16, activation=\"relu\"))\n",
    "model.add(keras.layers.Dense(1, activation=\"sigmoid\"))\n",
    "\n",
    "model.summary()"
   ]
  },
  {
   "cell_type": "markdown",
   "metadata": {
    "id": "o-j0KFDXn1g7"
   },
   "source": [
    "## 3.8.5 이진 분류에 대한 모델 컴파일"
   ]
  },
  {
   "cell_type": "code",
   "execution_count": 16,
   "metadata": {
    "id": "PNScZuCMnyqx"
   },
   "outputs": [],
   "source": [
    "model.compile(loss='binary_crossentropy',\n",
    "              optimizer='adam',\n",
    "              metrics=['accuracy'])"
   ]
  },
  {
   "cell_type": "markdown",
   "metadata": {
    "id": "_tLXQuGon5rF"
   },
   "source": [
    "## 3.8.6 모델을 활용하여 학습 및 예측"
   ]
  },
  {
   "cell_type": "code",
   "execution_count": 17,
   "metadata": {
    "colab": {
     "base_uri": "https://localhost:8080/"
    },
    "executionInfo": {
     "elapsed": 5873,
     "status": "ok",
     "timestamp": 1665324945801,
     "user": {
      "displayName": "한성",
      "userId": "01280908312724634418"
     },
     "user_tz": -540
    },
    "id": "U3COlcrin39V",
    "outputId": "b7ecbd4d-5e7c-49bd-ec86-246115e6bc65"
   },
   "outputs": [
    {
     "name": "stdout",
     "output_type": "stream",
     "text": [
      "Epoch 1/5\n",
      "\u001b[1m400/400\u001b[0m \u001b[32m━━━━━━━━━━━━━━━━━━━━\u001b[0m\u001b[37m\u001b[0m \u001b[1m2s\u001b[0m 2ms/step - accuracy: 0.5207 - loss: 1.2180 - val_accuracy: 0.6832 - val_loss: 0.5968\n",
      "Epoch 2/5\n",
      "\u001b[1m400/400\u001b[0m \u001b[32m━━━━━━━━━━━━━━━━━━━━\u001b[0m\u001b[37m\u001b[0m \u001b[1m1s\u001b[0m 2ms/step - accuracy: 0.6457 - loss: 0.8904 - val_accuracy: 0.7030 - val_loss: 0.5902\n",
      "Epoch 3/5\n",
      "\u001b[1m400/400\u001b[0m \u001b[32m━━━━━━━━━━━━━━━━━━━━\u001b[0m\u001b[37m\u001b[0m \u001b[1m1s\u001b[0m 2ms/step - accuracy: 0.6799 - loss: 0.6977 - val_accuracy: 0.6832 - val_loss: 0.6001\n",
      "Epoch 4/5\n",
      "\u001b[1m400/400\u001b[0m \u001b[32m━━━━━━━━━━━━━━━━━━━━\u001b[0m\u001b[37m\u001b[0m \u001b[1m1s\u001b[0m 2ms/step - accuracy: 0.6869 - loss: 0.6535 - val_accuracy: 0.6733 - val_loss: 0.6282\n",
      "Epoch 5/5\n",
      "\u001b[1m400/400\u001b[0m \u001b[32m━━━━━━━━━━━━━━━━━━━━\u001b[0m\u001b[37m\u001b[0m \u001b[1m1s\u001b[0m 2ms/step - accuracy: 0.6541 - loss: 0.6376 - val_accuracy: 0.6535 - val_loss: 0.6181\n"
     ]
    }
   ],
   "source": [
    "history = model.fit(x_train, y_train,\n",
    "          validation_split=0.2,\n",
    "          batch_size = 1, # 기본값 32\n",
    "          epochs=5)"
   ]
  },
  {
   "cell_type": "code",
   "execution_count": 18,
   "metadata": {
    "colab": {
     "base_uri": "https://localhost:8080/"
    },
    "executionInfo": {
     "elapsed": 677,
     "status": "ok",
     "timestamp": 1665324988101,
     "user": {
      "displayName": "한성",
      "userId": "01280908312724634418"
     },
     "user_tz": -540
    },
    "id": "5cfgbsjvn8LJ",
    "outputId": "6da5d454-a34c-46c1-f7fb-a19fdf1bd177"
   },
   "outputs": [
    {
     "name": "stdout",
     "output_type": "stream",
     "text": [
      "\u001b[1m4/4\u001b[0m \u001b[32m━━━━━━━━━━━━━━━━━━━━\u001b[0m\u001b[37m\u001b[0m \u001b[1m0s\u001b[0m 7ms/step - accuracy: 0.6562 - loss: 0.5886  \n",
      "test accuracy : 0.658730149269104\n"
     ]
    }
   ],
   "source": [
    "loss, accuracy = model.evaluate(x_test, y_test)\n",
    "\n",
    "print('test accuracy :', accuracy)"
   ]
  },
  {
   "cell_type": "code",
   "execution_count": 19,
   "metadata": {
    "colab": {
     "base_uri": "https://localhost:8080/"
    },
    "executionInfo": {
     "elapsed": 5,
     "status": "ok",
     "timestamp": 1665324990749,
     "user": {
      "displayName": "한성",
      "userId": "01280908312724634418"
     },
     "user_tz": -540
    },
    "id": "GsQFzHIpoFGn",
    "outputId": "55ead3c7-8eb1-4044-bf27-cbcde0b3a6e3"
   },
   "outputs": [
    {
     "name": "stdout",
     "output_type": "stream",
     "text": [
      "train dataset : (501, 9) (501,)\n",
      "test dataset : (126, 9) (126,)\n"
     ]
    }
   ],
   "source": [
    "from sklearn.model_selection import train_test_split\n",
    "\n",
    "df_x = df.copy()\n",
    "df_y = df_y.copy()\n",
    "\n",
    "x_train, x_test, y_train, y_test = train_test_split(df_x, df_y, test_size=0.2)\n",
    "\n",
    "print('train dataset :', x_train.shape, y_train.shape)\n",
    "print('test dataset :', x_test.shape, y_test.shape)"
   ]
  },
  {
   "cell_type": "code",
   "execution_count": 20,
   "metadata": {
    "colab": {
     "base_uri": "https://localhost:8080/"
    },
    "executionInfo": {
     "elapsed": 4755,
     "status": "ok",
     "timestamp": 1665325006037,
     "user": {
      "displayName": "한성",
      "userId": "01280908312724634418"
     },
     "user_tz": -540
    },
    "id": "ZLv0_kJooHRm",
    "outputId": "9dd547dc-6084-4bf7-f048-a29b5287e4e9"
   },
   "outputs": [
    {
     "name": "stdout",
     "output_type": "stream",
     "text": [
      "Epoch 1/100\n",
      "\u001b[1m25/25\u001b[0m \u001b[32m━━━━━━━━━━━━━━━━━━━━\u001b[0m\u001b[37m\u001b[0m \u001b[1m1s\u001b[0m 10ms/step - accuracy: 0.6744 - loss: 1.9806 - val_accuracy: 0.7129 - val_loss: 0.9499\n",
      "Epoch 2/100\n",
      "\u001b[1m25/25\u001b[0m \u001b[32m━━━━━━━━━━━━━━━━━━━━\u001b[0m\u001b[37m\u001b[0m \u001b[1m0s\u001b[0m 4ms/step - accuracy: 0.6990 - loss: 0.7723 - val_accuracy: 0.7426 - val_loss: 0.6682\n",
      "Epoch 3/100\n",
      "\u001b[1m25/25\u001b[0m \u001b[32m━━━━━━━━━━━━━━━━━━━━\u001b[0m\u001b[37m\u001b[0m \u001b[1m0s\u001b[0m 4ms/step - accuracy: 0.6589 - loss: 0.6985 - val_accuracy: 0.7327 - val_loss: 0.5453\n",
      "Epoch 4/100\n",
      "\u001b[1m25/25\u001b[0m \u001b[32m━━━━━━━━━━━━━━━━━━━━\u001b[0m\u001b[37m\u001b[0m \u001b[1m0s\u001b[0m 4ms/step - accuracy: 0.6797 - loss: 0.5747 - val_accuracy: 0.8119 - val_loss: 0.5782\n",
      "Epoch 5/100\n",
      "\u001b[1m25/25\u001b[0m \u001b[32m━━━━━━━━━━━━━━━━━━━━\u001b[0m\u001b[37m\u001b[0m \u001b[1m0s\u001b[0m 4ms/step - accuracy: 0.7145 - loss: 0.6356 - val_accuracy: 0.7525 - val_loss: 0.5241\n",
      "Epoch 6/100\n",
      "\u001b[1m25/25\u001b[0m \u001b[32m━━━━━━━━━━━━━━━━━━━━\u001b[0m\u001b[37m\u001b[0m \u001b[1m0s\u001b[0m 4ms/step - accuracy: 0.6889 - loss: 0.5907 - val_accuracy: 0.7723 - val_loss: 0.5181\n",
      "Epoch 7/100\n",
      "\u001b[1m25/25\u001b[0m \u001b[32m━━━━━━━━━━━━━━━━━━━━\u001b[0m\u001b[37m\u001b[0m \u001b[1m0s\u001b[0m 4ms/step - accuracy: 0.6897 - loss: 0.5695 - val_accuracy: 0.7228 - val_loss: 0.6115\n",
      "Epoch 8/100\n",
      "\u001b[1m25/25\u001b[0m \u001b[32m━━━━━━━━━━━━━━━━━━━━\u001b[0m\u001b[37m\u001b[0m \u001b[1m0s\u001b[0m 5ms/step - accuracy: 0.6294 - loss: 0.7259 - val_accuracy: 0.7129 - val_loss: 0.5484\n",
      "Epoch 9/100\n",
      "\u001b[1m25/25\u001b[0m \u001b[32m━━━━━━━━━━━━━━━━━━━━\u001b[0m\u001b[37m\u001b[0m \u001b[1m0s\u001b[0m 4ms/step - accuracy: 0.6902 - loss: 0.6027 - val_accuracy: 0.7525 - val_loss: 0.5230\n",
      "Epoch 10/100\n",
      "\u001b[1m25/25\u001b[0m \u001b[32m━━━━━━━━━━━━━━━━━━━━\u001b[0m\u001b[37m\u001b[0m \u001b[1m0s\u001b[0m 4ms/step - accuracy: 0.7114 - loss: 0.5508 - val_accuracy: 0.7525 - val_loss: 0.5113\n",
      "Epoch 11/100\n",
      "\u001b[1m25/25\u001b[0m \u001b[32m━━━━━━━━━━━━━━━━━━━━\u001b[0m\u001b[37m\u001b[0m \u001b[1m0s\u001b[0m 4ms/step - accuracy: 0.7079 - loss: 0.5456 - val_accuracy: 0.7624 - val_loss: 0.5005\n",
      "Epoch 12/100\n",
      "\u001b[1m25/25\u001b[0m \u001b[32m━━━━━━━━━━━━━━━━━━━━\u001b[0m\u001b[37m\u001b[0m \u001b[1m0s\u001b[0m 4ms/step - accuracy: 0.7624 - loss: 0.4858 - val_accuracy: 0.7822 - val_loss: 0.5311\n",
      "Epoch 13/100\n",
      "\u001b[1m25/25\u001b[0m \u001b[32m━━━━━━━━━━━━━━━━━━━━\u001b[0m\u001b[37m\u001b[0m \u001b[1m0s\u001b[0m 4ms/step - accuracy: 0.7669 - loss: 0.5194 - val_accuracy: 0.7723 - val_loss: 0.5049\n",
      "Epoch 14/100\n",
      "\u001b[1m25/25\u001b[0m \u001b[32m━━━━━━━━━━━━━━━━━━━━\u001b[0m\u001b[37m\u001b[0m \u001b[1m0s\u001b[0m 4ms/step - accuracy: 0.7456 - loss: 0.5022 - val_accuracy: 0.7327 - val_loss: 0.4891\n",
      "Epoch 15/100\n",
      "\u001b[1m25/25\u001b[0m \u001b[32m━━━━━━━━━━━━━━━━━━━━\u001b[0m\u001b[37m\u001b[0m \u001b[1m0s\u001b[0m 4ms/step - accuracy: 0.7489 - loss: 0.5136 - val_accuracy: 0.7723 - val_loss: 0.5088\n",
      "Epoch 16/100\n",
      "\u001b[1m25/25\u001b[0m \u001b[32m━━━━━━━━━━━━━━━━━━━━\u001b[0m\u001b[37m\u001b[0m \u001b[1m0s\u001b[0m 4ms/step - accuracy: 0.7160 - loss: 0.5287 - val_accuracy: 0.7723 - val_loss: 0.5139\n",
      "Epoch 17/100\n",
      "\u001b[1m25/25\u001b[0m \u001b[32m━━━━━━━━━━━━━━━━━━━━\u001b[0m\u001b[37m\u001b[0m \u001b[1m0s\u001b[0m 4ms/step - accuracy: 0.7773 - loss: 0.5087 - val_accuracy: 0.7624 - val_loss: 0.4839\n",
      "Epoch 18/100\n",
      "\u001b[1m25/25\u001b[0m \u001b[32m━━━━━━━━━━━━━━━━━━━━\u001b[0m\u001b[37m\u001b[0m \u001b[1m0s\u001b[0m 4ms/step - accuracy: 0.7315 - loss: 0.5407 - val_accuracy: 0.7723 - val_loss: 0.4761\n",
      "Epoch 19/100\n",
      "\u001b[1m25/25\u001b[0m \u001b[32m━━━━━━━━━━━━━━━━━━━━\u001b[0m\u001b[37m\u001b[0m \u001b[1m0s\u001b[0m 4ms/step - accuracy: 0.7675 - loss: 0.4961 - val_accuracy: 0.7921 - val_loss: 0.4875\n",
      "Epoch 20/100\n",
      "\u001b[1m25/25\u001b[0m \u001b[32m━━━━━━━━━━━━━━━━━━━━\u001b[0m\u001b[37m\u001b[0m \u001b[1m0s\u001b[0m 4ms/step - accuracy: 0.7780 - loss: 0.4903 - val_accuracy: 0.7822 - val_loss: 0.5540\n",
      "Epoch 21/100\n",
      "\u001b[1m25/25\u001b[0m \u001b[32m━━━━━━━━━━━━━━━━━━━━\u001b[0m\u001b[37m\u001b[0m \u001b[1m0s\u001b[0m 4ms/step - accuracy: 0.7867 - loss: 0.5044 - val_accuracy: 0.7030 - val_loss: 0.5975\n",
      "Epoch 22/100\n",
      "\u001b[1m25/25\u001b[0m \u001b[32m━━━━━━━━━━━━━━━━━━━━\u001b[0m\u001b[37m\u001b[0m \u001b[1m0s\u001b[0m 4ms/step - accuracy: 0.7362 - loss: 0.5281 - val_accuracy: 0.7822 - val_loss: 0.5027\n",
      "Epoch 23/100\n",
      "\u001b[1m25/25\u001b[0m \u001b[32m━━━━━━━━━━━━━━━━━━━━\u001b[0m\u001b[37m\u001b[0m \u001b[1m0s\u001b[0m 4ms/step - accuracy: 0.7948 - loss: 0.5061 - val_accuracy: 0.7624 - val_loss: 0.4950\n",
      "Epoch 23: early stopping\n"
     ]
    }
   ],
   "source": [
    "import keras\n",
    "\n",
    "model = keras.Sequential()\n",
    "model.add(keras.layers.Input(shape=(9,)))\n",
    "model.add(keras.layers.Dense(32, activation=\"relu\"))\n",
    "model.add(keras.layers.Dense(16, activation=\"relu\"))\n",
    "model.add(keras.layers.Dense(1, activation=\"sigmoid\"))\n",
    "\n",
    "model.compile(loss='binary_crossentropy',\n",
    "              optimizer='adam',\n",
    "              metrics=['accuracy'])\n",
    "\n",
    "callback_EarlyStopping = keras.callbacks.EarlyStopping(monitor='val_loss', patience=5, verbose=1)\n",
    "\n",
    "history = model.fit(x_train, y_train,\n",
    "          validation_split=0.2,\n",
    "          batch_size = 16, # 기본값 32\n",
    "          epochs=100,\n",
    "          callbacks=callback_EarlyStopping)"
   ]
  },
  {
   "cell_type": "code",
   "execution_count": 21,
   "metadata": {
    "colab": {
     "base_uri": "https://localhost:8080/"
    },
    "executionInfo": {
     "elapsed": 915,
     "status": "ok",
     "timestamp": 1665325083811,
     "user": {
      "displayName": "한성",
      "userId": "01280908312724634418"
     },
     "user_tz": -540
    },
    "id": "JXseioKroKe0",
    "outputId": "2cd06a4e-4efa-4cb6-dcbd-56f57def7043"
   },
   "outputs": [
    {
     "name": "stdout",
     "output_type": "stream",
     "text": [
      "\u001b[1m4/4\u001b[0m \u001b[32m━━━━━━━━━━━━━━━━━━━━\u001b[0m\u001b[37m\u001b[0m \u001b[1m0s\u001b[0m 7ms/step - accuracy: 0.7778 - loss: 0.4542 \n",
      "test accuracy : 0.7857142686843872\n"
     ]
    }
   ],
   "source": [
    "loss, accuracy = model.evaluate(x_test, y_test)\n",
    "\n",
    "print('test accuracy :', accuracy)"
   ]
  },
  {
   "cell_type": "code",
   "execution_count": 22,
   "metadata": {},
   "outputs": [
    {
     "data": {
      "text/plain": [
       "546    1\n",
       "451    1\n",
       "290    0\n",
       "19     0\n",
       "18     1\n",
       "Name: survived, dtype: int64"
      ]
     },
     "execution_count": 22,
     "metadata": {},
     "output_type": "execute_result"
    }
   ],
   "source": [
    "y_test.head()"
   ]
  },
  {
   "cell_type": "code",
   "execution_count": 23,
   "metadata": {
    "colab": {
     "base_uri": "https://localhost:8080/"
    },
    "executionInfo": {
     "elapsed": 427,
     "status": "ok",
     "timestamp": 1665325095510,
     "user": {
      "displayName": "한성",
      "userId": "01280908312724634418"
     },
     "user_tz": -540
    },
    "id": "zDHqhZRzoROY",
    "outputId": "82bd0ce4-93b9-4dbf-ed5e-5685d4aac964"
   },
   "outputs": [
    {
     "name": "stdout",
     "output_type": "stream",
     "text": [
      "\u001b[1m4/4\u001b[0m \u001b[32m━━━━━━━━━━━━━━━━━━━━\u001b[0m\u001b[37m\u001b[0m \u001b[1m0s\u001b[0m 14ms/step \n",
      "predictions:\n",
      "[[0.7883884 ]\n",
      " [0.3552467 ]\n",
      " [0.14662662]\n",
      " [0.15910812]\n",
      " [0.44838336]]\n",
      "y_test:\n",
      "546    1\n",
      "451    1\n",
      "290    0\n",
      "19     0\n",
      "18     1\n",
      "Name: survived, dtype: int64\n"
     ]
    }
   ],
   "source": [
    "predictions = model.predict(x_test)\n",
    "\n",
    "print(\"predictions:\", predictions[0:5], sep=\"\\n\")\n",
    "print('y_test:', y_test.head(5), sep=\"\\n\")"
   ]
  },
  {
   "cell_type": "markdown",
   "metadata": {
    "id": "yH4AUqtaobH7"
   },
   "source": [
    "## 3.8.7 훈련된 모델의 플롯 손실 및 정확도"
   ]
  },
  {
   "cell_type": "code",
   "execution_count": 24,
   "metadata": {
    "colab": {
     "base_uri": "https://localhost:8080/",
     "height": 542
    },
    "executionInfo": {
     "elapsed": 1802,
     "status": "ok",
     "timestamp": 1665325122710,
     "user": {
      "displayName": "한성",
      "userId": "01280908312724634418"
     },
     "user_tz": -540
    },
    "id": "9E92EhDV_9b3",
    "outputId": "f5804d37-f40b-48e0-b83d-294ac1ebed22"
   },
   "outputs": [
    {
     "data": {
      "application/vnd.plotly.v1+json": {
       "config": {
        "plotlyServerURL": "https://plot.ly"
       },
       "data": [
        {
         "name": "loss",
         "type": "scatter",
         "x": [
          0,
          1,
          2,
          3,
          4,
          5,
          6,
          7,
          8,
          9,
          10,
          11,
          12,
          13,
          14,
          15,
          16,
          17,
          18,
          19,
          20,
          21,
          22
         ],
         "xaxis": "x",
         "y": [
          1.6985526084899902,
          0.7753185033798218,
          0.6705700159072876,
          0.6195939779281616,
          0.618266761302948,
          0.5633569359779358,
          0.6119483709335327,
          0.6400370001792908,
          0.5497167706489563,
          0.5616852045059204,
          0.5295556783676147,
          0.5143450498580933,
          0.5286502242088318,
          0.5095208287239075,
          0.5042809844017029,
          0.5391895771026611,
          0.512373685836792,
          0.4971470534801483,
          0.4906585216522217,
          0.5011229515075684,
          0.5457629561424255,
          0.5347330570220947,
          0.521067202091217
         ],
         "yaxis": "y"
        },
        {
         "name": "val_loss",
         "type": "scatter",
         "x": [
          0,
          1,
          2,
          3,
          4,
          5,
          6,
          7,
          8,
          9,
          10,
          11,
          12,
          13,
          14,
          15,
          16,
          17,
          18,
          19,
          20,
          21,
          22
         ],
         "xaxis": "x",
         "y": [
          0.9499466419219971,
          0.6681631803512573,
          0.5452584624290466,
          0.578228771686554,
          0.524127721786499,
          0.5180577635765076,
          0.6115043759346008,
          0.5483846664428711,
          0.5230453610420227,
          0.5113487839698792,
          0.5005270838737488,
          0.5311175584793091,
          0.5048817992210388,
          0.4890611469745636,
          0.5088111758232117,
          0.5139201283454895,
          0.48394516110420227,
          0.47609028220176697,
          0.48754289746284485,
          0.554021954536438,
          0.597476065158844,
          0.5027414560317993,
          0.49497002363204956
         ],
         "yaxis": "y"
        },
        {
         "name": "accuracy",
         "type": "scatter",
         "x": [
          0,
          1,
          2,
          3,
          4,
          5,
          6,
          7,
          8,
          9,
          10,
          11,
          12,
          13,
          14,
          15,
          16,
          17,
          18,
          19,
          20,
          21,
          22
         ],
         "xaxis": "x",
         "y": [
          0.675000011920929,
          0.6625000238418579,
          0.6625000238418579,
          0.6625000238418579,
          0.7149999737739563,
          0.6899999976158142,
          0.7200000286102295,
          0.6775000095367432,
          0.7350000143051147,
          0.7174999713897705,
          0.7250000238418579,
          0.7300000190734863,
          0.7524999976158142,
          0.7524999976158142,
          0.7574999928474426,
          0.7174999713897705,
          0.7574999928474426,
          0.7724999785423279,
          0.7724999785423279,
          0.7724999785423279,
          0.7475000023841858,
          0.75,
          0.7825000286102295
         ],
         "yaxis": "y2"
        },
        {
         "name": "val_accuracy",
         "type": "scatter",
         "x": [
          0,
          1,
          2,
          3,
          4,
          5,
          6,
          7,
          8,
          9,
          10,
          11,
          12,
          13,
          14,
          15,
          16,
          17,
          18,
          19,
          20,
          21,
          22
         ],
         "xaxis": "x",
         "y": [
          0.7128713130950928,
          0.7425742745399475,
          0.7326732873916626,
          0.8118811845779419,
          0.7524752616882324,
          0.7722772359848022,
          0.7227723002433777,
          0.7128713130950928,
          0.7524752616882324,
          0.7524752616882324,
          0.7623762488365173,
          0.7821782231330872,
          0.7722772359848022,
          0.7326732873916626,
          0.7722772359848022,
          0.7722772359848022,
          0.7623762488365173,
          0.7722772359848022,
          0.7920792102813721,
          0.7821782231330872,
          0.7029703259468079,
          0.7821782231330872,
          0.7623762488365173
         ],
         "yaxis": "y2"
        }
       ],
       "layout": {
        "template": {
         "data": {
          "bar": [
           {
            "error_x": {
             "color": "#2a3f5f"
            },
            "error_y": {
             "color": "#2a3f5f"
            },
            "marker": {
             "line": {
              "color": "#E5ECF6",
              "width": 0.5
             },
             "pattern": {
              "fillmode": "overlay",
              "size": 10,
              "solidity": 0.2
             }
            },
            "type": "bar"
           }
          ],
          "barpolar": [
           {
            "marker": {
             "line": {
              "color": "#E5ECF6",
              "width": 0.5
             },
             "pattern": {
              "fillmode": "overlay",
              "size": 10,
              "solidity": 0.2
             }
            },
            "type": "barpolar"
           }
          ],
          "carpet": [
           {
            "aaxis": {
             "endlinecolor": "#2a3f5f",
             "gridcolor": "white",
             "linecolor": "white",
             "minorgridcolor": "white",
             "startlinecolor": "#2a3f5f"
            },
            "baxis": {
             "endlinecolor": "#2a3f5f",
             "gridcolor": "white",
             "linecolor": "white",
             "minorgridcolor": "white",
             "startlinecolor": "#2a3f5f"
            },
            "type": "carpet"
           }
          ],
          "choropleth": [
           {
            "colorbar": {
             "outlinewidth": 0,
             "ticks": ""
            },
            "type": "choropleth"
           }
          ],
          "contour": [
           {
            "colorbar": {
             "outlinewidth": 0,
             "ticks": ""
            },
            "colorscale": [
             [
              0,
              "#0d0887"
             ],
             [
              0.1111111111111111,
              "#46039f"
             ],
             [
              0.2222222222222222,
              "#7201a8"
             ],
             [
              0.3333333333333333,
              "#9c179e"
             ],
             [
              0.4444444444444444,
              "#bd3786"
             ],
             [
              0.5555555555555556,
              "#d8576b"
             ],
             [
              0.6666666666666666,
              "#ed7953"
             ],
             [
              0.7777777777777778,
              "#fb9f3a"
             ],
             [
              0.8888888888888888,
              "#fdca26"
             ],
             [
              1,
              "#f0f921"
             ]
            ],
            "type": "contour"
           }
          ],
          "contourcarpet": [
           {
            "colorbar": {
             "outlinewidth": 0,
             "ticks": ""
            },
            "type": "contourcarpet"
           }
          ],
          "heatmap": [
           {
            "colorbar": {
             "outlinewidth": 0,
             "ticks": ""
            },
            "colorscale": [
             [
              0,
              "#0d0887"
             ],
             [
              0.1111111111111111,
              "#46039f"
             ],
             [
              0.2222222222222222,
              "#7201a8"
             ],
             [
              0.3333333333333333,
              "#9c179e"
             ],
             [
              0.4444444444444444,
              "#bd3786"
             ],
             [
              0.5555555555555556,
              "#d8576b"
             ],
             [
              0.6666666666666666,
              "#ed7953"
             ],
             [
              0.7777777777777778,
              "#fb9f3a"
             ],
             [
              0.8888888888888888,
              "#fdca26"
             ],
             [
              1,
              "#f0f921"
             ]
            ],
            "type": "heatmap"
           }
          ],
          "histogram": [
           {
            "marker": {
             "pattern": {
              "fillmode": "overlay",
              "size": 10,
              "solidity": 0.2
             }
            },
            "type": "histogram"
           }
          ],
          "histogram2d": [
           {
            "colorbar": {
             "outlinewidth": 0,
             "ticks": ""
            },
            "colorscale": [
             [
              0,
              "#0d0887"
             ],
             [
              0.1111111111111111,
              "#46039f"
             ],
             [
              0.2222222222222222,
              "#7201a8"
             ],
             [
              0.3333333333333333,
              "#9c179e"
             ],
             [
              0.4444444444444444,
              "#bd3786"
             ],
             [
              0.5555555555555556,
              "#d8576b"
             ],
             [
              0.6666666666666666,
              "#ed7953"
             ],
             [
              0.7777777777777778,
              "#fb9f3a"
             ],
             [
              0.8888888888888888,
              "#fdca26"
             ],
             [
              1,
              "#f0f921"
             ]
            ],
            "type": "histogram2d"
           }
          ],
          "histogram2dcontour": [
           {
            "colorbar": {
             "outlinewidth": 0,
             "ticks": ""
            },
            "colorscale": [
             [
              0,
              "#0d0887"
             ],
             [
              0.1111111111111111,
              "#46039f"
             ],
             [
              0.2222222222222222,
              "#7201a8"
             ],
             [
              0.3333333333333333,
              "#9c179e"
             ],
             [
              0.4444444444444444,
              "#bd3786"
             ],
             [
              0.5555555555555556,
              "#d8576b"
             ],
             [
              0.6666666666666666,
              "#ed7953"
             ],
             [
              0.7777777777777778,
              "#fb9f3a"
             ],
             [
              0.8888888888888888,
              "#fdca26"
             ],
             [
              1,
              "#f0f921"
             ]
            ],
            "type": "histogram2dcontour"
           }
          ],
          "mesh3d": [
           {
            "colorbar": {
             "outlinewidth": 0,
             "ticks": ""
            },
            "type": "mesh3d"
           }
          ],
          "parcoords": [
           {
            "line": {
             "colorbar": {
              "outlinewidth": 0,
              "ticks": ""
             }
            },
            "type": "parcoords"
           }
          ],
          "pie": [
           {
            "automargin": true,
            "type": "pie"
           }
          ],
          "scatter": [
           {
            "fillpattern": {
             "fillmode": "overlay",
             "size": 10,
             "solidity": 0.2
            },
            "type": "scatter"
           }
          ],
          "scatter3d": [
           {
            "line": {
             "colorbar": {
              "outlinewidth": 0,
              "ticks": ""
             }
            },
            "marker": {
             "colorbar": {
              "outlinewidth": 0,
              "ticks": ""
             }
            },
            "type": "scatter3d"
           }
          ],
          "scattercarpet": [
           {
            "marker": {
             "colorbar": {
              "outlinewidth": 0,
              "ticks": ""
             }
            },
            "type": "scattercarpet"
           }
          ],
          "scattergeo": [
           {
            "marker": {
             "colorbar": {
              "outlinewidth": 0,
              "ticks": ""
             }
            },
            "type": "scattergeo"
           }
          ],
          "scattergl": [
           {
            "marker": {
             "colorbar": {
              "outlinewidth": 0,
              "ticks": ""
             }
            },
            "type": "scattergl"
           }
          ],
          "scattermap": [
           {
            "marker": {
             "colorbar": {
              "outlinewidth": 0,
              "ticks": ""
             }
            },
            "type": "scattermap"
           }
          ],
          "scattermapbox": [
           {
            "marker": {
             "colorbar": {
              "outlinewidth": 0,
              "ticks": ""
             }
            },
            "type": "scattermapbox"
           }
          ],
          "scatterpolar": [
           {
            "marker": {
             "colorbar": {
              "outlinewidth": 0,
              "ticks": ""
             }
            },
            "type": "scatterpolar"
           }
          ],
          "scatterpolargl": [
           {
            "marker": {
             "colorbar": {
              "outlinewidth": 0,
              "ticks": ""
             }
            },
            "type": "scatterpolargl"
           }
          ],
          "scatterternary": [
           {
            "marker": {
             "colorbar": {
              "outlinewidth": 0,
              "ticks": ""
             }
            },
            "type": "scatterternary"
           }
          ],
          "surface": [
           {
            "colorbar": {
             "outlinewidth": 0,
             "ticks": ""
            },
            "colorscale": [
             [
              0,
              "#0d0887"
             ],
             [
              0.1111111111111111,
              "#46039f"
             ],
             [
              0.2222222222222222,
              "#7201a8"
             ],
             [
              0.3333333333333333,
              "#9c179e"
             ],
             [
              0.4444444444444444,
              "#bd3786"
             ],
             [
              0.5555555555555556,
              "#d8576b"
             ],
             [
              0.6666666666666666,
              "#ed7953"
             ],
             [
              0.7777777777777778,
              "#fb9f3a"
             ],
             [
              0.8888888888888888,
              "#fdca26"
             ],
             [
              1,
              "#f0f921"
             ]
            ],
            "type": "surface"
           }
          ],
          "table": [
           {
            "cells": {
             "fill": {
              "color": "#EBF0F8"
             },
             "line": {
              "color": "white"
             }
            },
            "header": {
             "fill": {
              "color": "#C8D4E3"
             },
             "line": {
              "color": "white"
             }
            },
            "type": "table"
           }
          ]
         },
         "layout": {
          "annotationdefaults": {
           "arrowcolor": "#2a3f5f",
           "arrowhead": 0,
           "arrowwidth": 1
          },
          "autotypenumbers": "strict",
          "coloraxis": {
           "colorbar": {
            "outlinewidth": 0,
            "ticks": ""
           }
          },
          "colorscale": {
           "diverging": [
            [
             0,
             "#8e0152"
            ],
            [
             0.1,
             "#c51b7d"
            ],
            [
             0.2,
             "#de77ae"
            ],
            [
             0.3,
             "#f1b6da"
            ],
            [
             0.4,
             "#fde0ef"
            ],
            [
             0.5,
             "#f7f7f7"
            ],
            [
             0.6,
             "#e6f5d0"
            ],
            [
             0.7,
             "#b8e186"
            ],
            [
             0.8,
             "#7fbc41"
            ],
            [
             0.9,
             "#4d9221"
            ],
            [
             1,
             "#276419"
            ]
           ],
           "sequential": [
            [
             0,
             "#0d0887"
            ],
            [
             0.1111111111111111,
             "#46039f"
            ],
            [
             0.2222222222222222,
             "#7201a8"
            ],
            [
             0.3333333333333333,
             "#9c179e"
            ],
            [
             0.4444444444444444,
             "#bd3786"
            ],
            [
             0.5555555555555556,
             "#d8576b"
            ],
            [
             0.6666666666666666,
             "#ed7953"
            ],
            [
             0.7777777777777778,
             "#fb9f3a"
            ],
            [
             0.8888888888888888,
             "#fdca26"
            ],
            [
             1,
             "#f0f921"
            ]
           ],
           "sequentialminus": [
            [
             0,
             "#0d0887"
            ],
            [
             0.1111111111111111,
             "#46039f"
            ],
            [
             0.2222222222222222,
             "#7201a8"
            ],
            [
             0.3333333333333333,
             "#9c179e"
            ],
            [
             0.4444444444444444,
             "#bd3786"
            ],
            [
             0.5555555555555556,
             "#d8576b"
            ],
            [
             0.6666666666666666,
             "#ed7953"
            ],
            [
             0.7777777777777778,
             "#fb9f3a"
            ],
            [
             0.8888888888888888,
             "#fdca26"
            ],
            [
             1,
             "#f0f921"
            ]
           ]
          },
          "colorway": [
           "#636efa",
           "#EF553B",
           "#00cc96",
           "#ab63fa",
           "#FFA15A",
           "#19d3f3",
           "#FF6692",
           "#B6E880",
           "#FF97FF",
           "#FECB52"
          ],
          "font": {
           "color": "#2a3f5f"
          },
          "geo": {
           "bgcolor": "white",
           "lakecolor": "white",
           "landcolor": "#E5ECF6",
           "showlakes": true,
           "showland": true,
           "subunitcolor": "white"
          },
          "hoverlabel": {
           "align": "left"
          },
          "hovermode": "closest",
          "mapbox": {
           "style": "light"
          },
          "paper_bgcolor": "white",
          "plot_bgcolor": "#E5ECF6",
          "polar": {
           "angularaxis": {
            "gridcolor": "white",
            "linecolor": "white",
            "ticks": ""
           },
           "bgcolor": "#E5ECF6",
           "radialaxis": {
            "gridcolor": "white",
            "linecolor": "white",
            "ticks": ""
           }
          },
          "scene": {
           "xaxis": {
            "backgroundcolor": "#E5ECF6",
            "gridcolor": "white",
            "gridwidth": 2,
            "linecolor": "white",
            "showbackground": true,
            "ticks": "",
            "zerolinecolor": "white"
           },
           "yaxis": {
            "backgroundcolor": "#E5ECF6",
            "gridcolor": "white",
            "gridwidth": 2,
            "linecolor": "white",
            "showbackground": true,
            "ticks": "",
            "zerolinecolor": "white"
           },
           "zaxis": {
            "backgroundcolor": "#E5ECF6",
            "gridcolor": "white",
            "gridwidth": 2,
            "linecolor": "white",
            "showbackground": true,
            "ticks": "",
            "zerolinecolor": "white"
           }
          },
          "shapedefaults": {
           "line": {
            "color": "#2a3f5f"
           }
          },
          "ternary": {
           "aaxis": {
            "gridcolor": "white",
            "linecolor": "white",
            "ticks": ""
           },
           "baxis": {
            "gridcolor": "white",
            "linecolor": "white",
            "ticks": ""
           },
           "bgcolor": "#E5ECF6",
           "caxis": {
            "gridcolor": "white",
            "linecolor": "white",
            "ticks": ""
           }
          },
          "title": {
           "x": 0.05
          },
          "xaxis": {
           "automargin": true,
           "gridcolor": "white",
           "linecolor": "white",
           "ticks": "",
           "title": {
            "standoff": 15
           },
           "zerolinecolor": "white",
           "zerolinewidth": 2
          },
          "yaxis": {
           "automargin": true,
           "gridcolor": "white",
           "linecolor": "white",
           "ticks": "",
           "title": {
            "standoff": 15
           },
           "zerolinecolor": "white",
           "zerolinewidth": 2
          }
         }
        },
        "title": {
         "text": "<b>Loss/Accuracy of Model</b>"
        },
        "xaxis": {
         "anchor": "y",
         "domain": [
          0,
          0.94
         ],
         "title": {
          "text": "Epoch"
         }
        },
        "yaxis": {
         "anchor": "x",
         "domain": [
          0,
          1
         ],
         "title": {
          "text": "Loss"
         }
        },
        "yaxis2": {
         "anchor": "x",
         "overlaying": "y",
         "side": "right",
         "title": {
          "text": "Accuracy"
         }
        }
       }
      }
     },
     "metadata": {},
     "output_type": "display_data"
    }
   ],
   "source": [
    "from plotly.subplots import make_subplots\n",
    "import plotly.graph_objects as go\n",
    "\n",
    "fig = make_subplots(specs=[[{\"secondary_y\": True}]])\n",
    "\n",
    "# model history\n",
    "epoch = history.epoch\n",
    "\n",
    "loss = history.history['loss']\n",
    "val_loss = history.history['val_loss']\n",
    "accuracy = history.history['accuracy']\n",
    "val_accuracy = history.history['val_accuracy']\n",
    "\n",
    "# Scatter\n",
    "fig.add_trace(go.Scatter(x=epoch, y=loss, name=\"loss\"),secondary_y=False,)\n",
    "fig.add_trace(go.Scatter(x=epoch, y=val_loss, name=\"val_loss\"),secondary_y=False,)\n",
    "fig.add_trace(go.Scatter(x=epoch, y=accuracy, name=\"accuracy\"),secondary_y=True,)\n",
    "fig.add_trace(go.Scatter(x=epoch, y=val_accuracy, name=\"val_accuracy\"),secondary_y=True,)\n",
    "\n",
    "# Templates configuration, Default template: 'plotly'\n",
    "# Available templates: ['ggplot2', 'seaborn', 'simple_white', 'plotly','plotly_white', \n",
    "#                       'plotly_dark', 'presentation', 'xgridoff','ygridoff', 'gridon', 'none']\n",
    "fig.update_layout(title_text=\"<b>Loss/Accuracy of Model</b>\", template='plotly')\n",
    "\n",
    "fig.update_xaxes(title_text=\"Epoch\")\n",
    "fig.update_yaxes(title_text=\"Loss\", secondary_y=False)\n",
    "fig.update_yaxes(title_text=\"Accuracy\", secondary_y=True)\n",
    "\n",
    "fig.show()"
   ]
  },
  {
   "cell_type": "code",
   "execution_count": null,
   "metadata": {
    "id": "Vqo34B4kod-3"
   },
   "outputs": [],
   "source": []
  }
 ],
 "metadata": {
  "colab": {
   "authorship_tag": "ABX9TyM0cX1Kl6mRxjYn4RWkVGX7",
   "collapsed_sections": [],
   "provenance": []
  },
  "kernelspec": {
   "display_name": "base",
   "language": "python",
   "name": "python3"
  },
  "language_info": {
   "codemirror_mode": {
    "name": "ipython",
    "version": 3
   },
   "file_extension": ".py",
   "mimetype": "text/x-python",
   "name": "python",
   "nbconvert_exporter": "python",
   "pygments_lexer": "ipython3",
   "version": "3.11.12"
  }
 },
 "nbformat": 4,
 "nbformat_minor": 0
}
