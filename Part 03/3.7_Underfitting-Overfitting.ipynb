{
 "cells": [
  {
   "cell_type": "markdown",
   "metadata": {
    "id": "OxIYHhB2UQCW"
   },
   "source": [
    "## 1.2.5 과대적합과 과소적합"
   ]
  },
  {
   "cell_type": "code",
   "execution_count": 1,
   "metadata": {
    "executionInfo": {
     "elapsed": 2447,
     "status": "ok",
     "timestamp": 1665328722573,
     "user": {
      "displayName": "한성",
      "userId": "01280908312724634418"
     },
     "user_tz": -540
    },
    "id": "aeVZVlfu1c5h"
   },
   "outputs": [],
   "source": [
    "import pandas as pd\n",
    "from sklearn.model_selection import train_test_split\n",
    "\n",
    "# 데이터 구성 및 준비하기\n",
    "data = pd.read_csv('../data/NHANES Weight and Height/data.csv')\n",
    "\n",
    "feature_cols = ['Weight (kg)', 'Standing Height (cm)']\n",
    "\n",
    "label = data.pop('BMI(kg/m**2)')\n",
    "feature = data[feature_cols].copy()"
   ]
  },
  {
   "cell_type": "code",
   "execution_count": 2,
   "metadata": {
    "colab": {
     "base_uri": "https://localhost:8080/"
    },
    "executionInfo": {
     "elapsed": 2917,
     "status": "ok",
     "timestamp": 1665328725487,
     "user": {
      "displayName": "한성",
      "userId": "01280908312724634418"
     },
     "user_tz": -540
    },
    "id": "oj1zcmXp1qy4",
    "outputId": "3fffb76f-024f-422a-b688-cad4a72675eb"
   },
   "outputs": [
    {
     "data": {
      "text/html": [
       "<pre style=\"white-space:pre;overflow-x:auto;line-height:normal;font-family:Menlo,'DejaVu Sans Mono',consolas,'Courier New',monospace\"><span style=\"font-weight: bold\">Model: \"sequential\"</span>\n",
       "</pre>\n"
      ],
      "text/plain": [
       "\u001b[1mModel: \"sequential\"\u001b[0m\n"
      ]
     },
     "metadata": {},
     "output_type": "display_data"
    },
    {
     "data": {
      "text/html": [
       "<pre style=\"white-space:pre;overflow-x:auto;line-height:normal;font-family:Menlo,'DejaVu Sans Mono',consolas,'Courier New',monospace\">┏━━━━━━━━━━━━━━━━━━━━━━━━━━━━━━━━━┳━━━━━━━━━━━━━━━━━━━━━━━━┳━━━━━━━━━━━━━━━┓\n",
       "┃<span style=\"font-weight: bold\"> Layer (type)                    </span>┃<span style=\"font-weight: bold\"> Output Shape           </span>┃<span style=\"font-weight: bold\">       Param # </span>┃\n",
       "┡━━━━━━━━━━━━━━━━━━━━━━━━━━━━━━━━━╇━━━━━━━━━━━━━━━━━━━━━━━━╇━━━━━━━━━━━━━━━┩\n",
       "│ dense (<span style=\"color: #0087ff; text-decoration-color: #0087ff\">Dense</span>)                   │ (<span style=\"color: #00d7ff; text-decoration-color: #00d7ff\">None</span>, <span style=\"color: #00af00; text-decoration-color: #00af00\">64</span>)             │           <span style=\"color: #00af00; text-decoration-color: #00af00\">192</span> │\n",
       "├─────────────────────────────────┼────────────────────────┼───────────────┤\n",
       "│ dense_1 (<span style=\"color: #0087ff; text-decoration-color: #0087ff\">Dense</span>)                 │ (<span style=\"color: #00d7ff; text-decoration-color: #00d7ff\">None</span>, <span style=\"color: #00af00; text-decoration-color: #00af00\">32</span>)             │         <span style=\"color: #00af00; text-decoration-color: #00af00\">2,080</span> │\n",
       "├─────────────────────────────────┼────────────────────────┼───────────────┤\n",
       "│ dense_2 (<span style=\"color: #0087ff; text-decoration-color: #0087ff\">Dense</span>)                 │ (<span style=\"color: #00d7ff; text-decoration-color: #00d7ff\">None</span>, <span style=\"color: #00af00; text-decoration-color: #00af00\">16</span>)             │           <span style=\"color: #00af00; text-decoration-color: #00af00\">528</span> │\n",
       "├─────────────────────────────────┼────────────────────────┼───────────────┤\n",
       "│ dense_3 (<span style=\"color: #0087ff; text-decoration-color: #0087ff\">Dense</span>)                 │ (<span style=\"color: #00d7ff; text-decoration-color: #00d7ff\">None</span>, <span style=\"color: #00af00; text-decoration-color: #00af00\">1</span>)              │            <span style=\"color: #00af00; text-decoration-color: #00af00\">17</span> │\n",
       "└─────────────────────────────────┴────────────────────────┴───────────────┘\n",
       "</pre>\n"
      ],
      "text/plain": [
       "┏━━━━━━━━━━━━━━━━━━━━━━━━━━━━━━━━━┳━━━━━━━━━━━━━━━━━━━━━━━━┳━━━━━━━━━━━━━━━┓\n",
       "┃\u001b[1m \u001b[0m\u001b[1mLayer (type)                   \u001b[0m\u001b[1m \u001b[0m┃\u001b[1m \u001b[0m\u001b[1mOutput Shape          \u001b[0m\u001b[1m \u001b[0m┃\u001b[1m \u001b[0m\u001b[1m      Param #\u001b[0m\u001b[1m \u001b[0m┃\n",
       "┡━━━━━━━━━━━━━━━━━━━━━━━━━━━━━━━━━╇━━━━━━━━━━━━━━━━━━━━━━━━╇━━━━━━━━━━━━━━━┩\n",
       "│ dense (\u001b[38;5;33mDense\u001b[0m)                   │ (\u001b[38;5;45mNone\u001b[0m, \u001b[38;5;34m64\u001b[0m)             │           \u001b[38;5;34m192\u001b[0m │\n",
       "├─────────────────────────────────┼────────────────────────┼───────────────┤\n",
       "│ dense_1 (\u001b[38;5;33mDense\u001b[0m)                 │ (\u001b[38;5;45mNone\u001b[0m, \u001b[38;5;34m32\u001b[0m)             │         \u001b[38;5;34m2,080\u001b[0m │\n",
       "├─────────────────────────────────┼────────────────────────┼───────────────┤\n",
       "│ dense_2 (\u001b[38;5;33mDense\u001b[0m)                 │ (\u001b[38;5;45mNone\u001b[0m, \u001b[38;5;34m16\u001b[0m)             │           \u001b[38;5;34m528\u001b[0m │\n",
       "├─────────────────────────────────┼────────────────────────┼───────────────┤\n",
       "│ dense_3 (\u001b[38;5;33mDense\u001b[0m)                 │ (\u001b[38;5;45mNone\u001b[0m, \u001b[38;5;34m1\u001b[0m)              │            \u001b[38;5;34m17\u001b[0m │\n",
       "└─────────────────────────────────┴────────────────────────┴───────────────┘\n"
      ]
     },
     "metadata": {},
     "output_type": "display_data"
    },
    {
     "data": {
      "text/html": [
       "<pre style=\"white-space:pre;overflow-x:auto;line-height:normal;font-family:Menlo,'DejaVu Sans Mono',consolas,'Courier New',monospace\"><span style=\"font-weight: bold\"> Total params: </span><span style=\"color: #00af00; text-decoration-color: #00af00\">2,817</span> (11.00 KB)\n",
       "</pre>\n"
      ],
      "text/plain": [
       "\u001b[1m Total params: \u001b[0m\u001b[38;5;34m2,817\u001b[0m (11.00 KB)\n"
      ]
     },
     "metadata": {},
     "output_type": "display_data"
    },
    {
     "data": {
      "text/html": [
       "<pre style=\"white-space:pre;overflow-x:auto;line-height:normal;font-family:Menlo,'DejaVu Sans Mono',consolas,'Courier New',monospace\"><span style=\"font-weight: bold\"> Trainable params: </span><span style=\"color: #00af00; text-decoration-color: #00af00\">2,817</span> (11.00 KB)\n",
       "</pre>\n"
      ],
      "text/plain": [
       "\u001b[1m Trainable params: \u001b[0m\u001b[38;5;34m2,817\u001b[0m (11.00 KB)\n"
      ]
     },
     "metadata": {},
     "output_type": "display_data"
    },
    {
     "data": {
      "text/html": [
       "<pre style=\"white-space:pre;overflow-x:auto;line-height:normal;font-family:Menlo,'DejaVu Sans Mono',consolas,'Courier New',monospace\"><span style=\"font-weight: bold\"> Non-trainable params: </span><span style=\"color: #00af00; text-decoration-color: #00af00\">0</span> (0.00 B)\n",
       "</pre>\n"
      ],
      "text/plain": [
       "\u001b[1m Non-trainable params: \u001b[0m\u001b[38;5;34m0\u001b[0m (0.00 B)\n"
      ]
     },
     "metadata": {},
     "output_type": "display_data"
    }
   ],
   "source": [
    "import keras\n",
    "\n",
    "# 모델 생성 \n",
    "model = keras.Sequential([\n",
    "    keras.layers.Input(shape=(2,)),\n",
    "    keras.layers.Dense(units=64, activation='relu'),\n",
    "    keras.layers.Dense(units=32, activation='relu'),\n",
    "    keras.layers.Dense(units=16, activation='relu'),\n",
    "    keras.layers.Dense(units=1) # activation='linear'\n",
    "])\n",
    "\n",
    "model.summary()"
   ]
  },
  {
   "cell_type": "code",
   "execution_count": 3,
   "metadata": {
    "executionInfo": {
     "elapsed": 446,
     "status": "ok",
     "timestamp": 1665328731662,
     "user": {
      "displayName": "한성",
      "userId": "01280908312724634418"
     },
     "user_tz": -540
    },
    "id": "5xvQgOuk1xhV"
   },
   "outputs": [],
   "source": [
    "# 모델 컴파일 \n",
    "model.compile(loss='mae',\n",
    "              optimizer='adam',\n",
    "              metrics=['mae', 'mse'])"
   ]
  },
  {
   "cell_type": "code",
   "execution_count": 4,
   "metadata": {
    "executionInfo": {
     "elapsed": 4,
     "status": "ok",
     "timestamp": 1665328732027,
     "user": {
      "displayName": "한성",
      "userId": "01280908312724634418"
     },
     "user_tz": -540
    },
    "id": "Jre5T6SI10R1"
   },
   "outputs": [],
   "source": [
    "import keras\n",
    "\n",
    "# EarlyStopping\n",
    "early_stopping = keras.callbacks.EarlyStopping(patience = 20)"
   ]
  },
  {
   "cell_type": "code",
   "execution_count": 5,
   "metadata": {
    "colab": {
     "base_uri": "https://localhost:8080/"
    },
    "executionInfo": {
     "elapsed": 310,
     "status": "ok",
     "timestamp": 1665328737358,
     "user": {
      "displayName": "한성",
      "userId": "01280908312724634418"
     },
     "user_tz": -540
    },
    "id": "pPBDh2eD12TA",
    "outputId": "68cc8585-0226-47ae-8a4b-341dd54efc37"
   },
   "outputs": [
    {
     "name": "stdout",
     "output_type": "stream",
     "text": [
      "train dataset : (5368, 2) (5368,)\n",
      "validation dataset : (1342, 2) (1342,)\n",
      "test dataset : (1678, 2) (1678,)\n"
     ]
    }
   ],
   "source": [
    "from sklearn.model_selection import train_test_split\n",
    "\n",
    "# 학습과 테스트 데이터 분리 (학습 80%, 테스트 20%)\n",
    "train_x, test_x, train_y, test_y = train_test_split(feature, label, test_size=0.2)\n",
    "# 학습과 검증 데이터 분리 (학습 80%, 검증 20%)\n",
    "train_x, val_x, train_y, val_y = train_test_split(train_x, train_y, test_size=0.2)\n",
    "\n",
    "print('train dataset :', train_x.shape, train_y.shape)\n",
    "print('validation dataset :', val_x.shape, val_y.shape)\n",
    "print('test dataset :', test_x.shape, test_y.shape)"
   ]
  },
  {
   "cell_type": "code",
   "execution_count": 6,
   "metadata": {
    "colab": {
     "base_uri": "https://localhost:8080/"
    },
    "executionInfo": {
     "elapsed": 88618,
     "status": "ok",
     "timestamp": 1665328848092,
     "user": {
      "displayName": "한성",
      "userId": "01280908312724634418"
     },
     "user_tz": -540
    },
    "id": "Yf7ORUW514jV",
    "outputId": "ed9360e4-5c80-44cb-e513-4268f1da418a"
   },
   "outputs": [
    {
     "name": "stdout",
     "output_type": "stream",
     "text": [
      "Epoch 1/1000\n",
      "\u001b[1m168/168\u001b[0m \u001b[32m━━━━━━━━━━━━━━━━━━━━\u001b[0m\u001b[37m\u001b[0m \u001b[1m2s\u001b[0m 3ms/step - loss: 7.3956 - mae: 7.3956 - mse: 126.0925 - val_loss: 2.9718 - val_mae: 2.9718 - val_mse: 13.7614\n",
      "Epoch 2/1000\n",
      "\u001b[1m168/168\u001b[0m \u001b[32m━━━━━━━━━━━━━━━━━━━━\u001b[0m\u001b[37m\u001b[0m \u001b[1m0s\u001b[0m 2ms/step - loss: 2.9329 - mae: 2.9329 - mse: 13.6635 - val_loss: 2.9637 - val_mae: 2.9637 - val_mse: 13.7296\n",
      "Epoch 3/1000\n",
      "\u001b[1m168/168\u001b[0m \u001b[32m━━━━━━━━━━━━━━━━━━━━\u001b[0m\u001b[37m\u001b[0m \u001b[1m0s\u001b[0m 2ms/step - loss: 2.9611 - mae: 2.9611 - mse: 13.7655 - val_loss: 2.9441 - val_mae: 2.9441 - val_mse: 13.5117\n",
      "Epoch 4/1000\n",
      "\u001b[1m168/168\u001b[0m \u001b[32m━━━━━━━━━━━━━━━━━━━━\u001b[0m\u001b[37m\u001b[0m \u001b[1m0s\u001b[0m 2ms/step - loss: 2.8981 - mae: 2.8981 - mse: 13.3190 - val_loss: 3.1124 - val_mae: 3.1124 - val_mse: 15.2017\n",
      "Epoch 5/1000\n",
      "\u001b[1m168/168\u001b[0m \u001b[32m━━━━━━━━━━━━━━━━━━━━\u001b[0m\u001b[37m\u001b[0m \u001b[1m0s\u001b[0m 2ms/step - loss: 2.9062 - mae: 2.9062 - mse: 13.3909 - val_loss: 3.4315 - val_mae: 3.4315 - val_mse: 18.9818\n",
      "Epoch 6/1000\n",
      "\u001b[1m168/168\u001b[0m \u001b[32m━━━━━━━━━━━━━━━━━━━━\u001b[0m\u001b[37m\u001b[0m \u001b[1m0s\u001b[0m 2ms/step - loss: 2.8649 - mae: 2.8649 - mse: 12.9943 - val_loss: 2.8960 - val_mae: 2.8960 - val_mse: 13.1142\n",
      "Epoch 7/1000\n",
      "\u001b[1m168/168\u001b[0m \u001b[32m━━━━━━━━━━━━━━━━━━━━\u001b[0m\u001b[37m\u001b[0m \u001b[1m0s\u001b[0m 2ms/step - loss: 2.8860 - mae: 2.8860 - mse: 13.3221 - val_loss: 2.8819 - val_mae: 2.8819 - val_mse: 13.0216\n",
      "Epoch 8/1000\n",
      "\u001b[1m168/168\u001b[0m \u001b[32m━━━━━━━━━━━━━━━━━━━━\u001b[0m\u001b[37m\u001b[0m \u001b[1m0s\u001b[0m 2ms/step - loss: 2.8093 - mae: 2.8093 - mse: 12.6126 - val_loss: 2.8936 - val_mae: 2.8936 - val_mse: 13.1790\n",
      "Epoch 9/1000\n",
      "\u001b[1m168/168\u001b[0m \u001b[32m━━━━━━━━━━━━━━━━━━━━\u001b[0m\u001b[37m\u001b[0m \u001b[1m0s\u001b[0m 2ms/step - loss: 2.8508 - mae: 2.8508 - mse: 12.9149 - val_loss: 2.8692 - val_mae: 2.8692 - val_mse: 12.8576\n",
      "Epoch 10/1000\n",
      "\u001b[1m168/168\u001b[0m \u001b[32m━━━━━━━━━━━━━━━━━━━━\u001b[0m\u001b[37m\u001b[0m \u001b[1m0s\u001b[0m 2ms/step - loss: 2.8571 - mae: 2.8571 - mse: 12.9912 - val_loss: 2.8902 - val_mae: 2.8902 - val_mse: 13.0308\n",
      "Epoch 11/1000\n",
      "\u001b[1m168/168\u001b[0m \u001b[32m━━━━━━━━━━━━━━━━━━━━\u001b[0m\u001b[37m\u001b[0m \u001b[1m0s\u001b[0m 2ms/step - loss: 2.9177 - mae: 2.9177 - mse: 13.3693 - val_loss: 2.8498 - val_mae: 2.8498 - val_mse: 12.7289\n",
      "Epoch 12/1000\n",
      "\u001b[1m168/168\u001b[0m \u001b[32m━━━━━━━━━━━━━━━━━━━━\u001b[0m\u001b[37m\u001b[0m \u001b[1m0s\u001b[0m 2ms/step - loss: 2.8036 - mae: 2.8036 - mse: 12.4502 - val_loss: 2.8472 - val_mae: 2.8472 - val_mse: 12.7676\n",
      "Epoch 13/1000\n",
      "\u001b[1m168/168\u001b[0m \u001b[32m━━━━━━━━━━━━━━━━━━━━\u001b[0m\u001b[37m\u001b[0m \u001b[1m0s\u001b[0m 2ms/step - loss: 2.8280 - mae: 2.8280 - mse: 12.8134 - val_loss: 2.8469 - val_mae: 2.8469 - val_mse: 12.7227\n",
      "Epoch 14/1000\n",
      "\u001b[1m168/168\u001b[0m \u001b[32m━━━━━━━━━━━━━━━━━━━━\u001b[0m\u001b[37m\u001b[0m \u001b[1m0s\u001b[0m 2ms/step - loss: 2.8375 - mae: 2.8375 - mse: 12.5110 - val_loss: 2.8308 - val_mae: 2.8308 - val_mse: 12.5796\n",
      "Epoch 15/1000\n",
      "\u001b[1m168/168\u001b[0m \u001b[32m━━━━━━━━━━━━━━━━━━━━\u001b[0m\u001b[37m\u001b[0m \u001b[1m0s\u001b[0m 2ms/step - loss: 2.7941 - mae: 2.7941 - mse: 12.5251 - val_loss: 2.8367 - val_mae: 2.8367 - val_mse: 12.7269\n",
      "Epoch 16/1000\n",
      "\u001b[1m168/168\u001b[0m \u001b[32m━━━━━━━━━━━━━━━━━━━━\u001b[0m\u001b[37m\u001b[0m \u001b[1m0s\u001b[0m 2ms/step - loss: 2.8201 - mae: 2.8201 - mse: 12.6198 - val_loss: 2.8515 - val_mae: 2.8515 - val_mse: 13.0302\n",
      "Epoch 17/1000\n",
      "\u001b[1m168/168\u001b[0m \u001b[32m━━━━━━━━━━━━━━━━━━━━\u001b[0m\u001b[37m\u001b[0m \u001b[1m0s\u001b[0m 2ms/step - loss: 2.8066 - mae: 2.8066 - mse: 12.3443 - val_loss: 2.9966 - val_mae: 2.9966 - val_mse: 13.9596\n",
      "Epoch 18/1000\n",
      "\u001b[1m168/168\u001b[0m \u001b[32m━━━━━━━━━━━━━━━━━━━━\u001b[0m\u001b[37m\u001b[0m \u001b[1m0s\u001b[0m 2ms/step - loss: 2.7975 - mae: 2.7975 - mse: 12.5023 - val_loss: 2.7920 - val_mae: 2.7920 - val_mse: 12.2575\n",
      "Epoch 19/1000\n",
      "\u001b[1m168/168\u001b[0m \u001b[32m━━━━━━━━━━━━━━━━━━━━\u001b[0m\u001b[37m\u001b[0m \u001b[1m0s\u001b[0m 2ms/step - loss: 2.7821 - mae: 2.7821 - mse: 12.3603 - val_loss: 2.8463 - val_mae: 2.8463 - val_mse: 12.6834\n",
      "Epoch 20/1000\n",
      "\u001b[1m168/168\u001b[0m \u001b[32m━━━━━━━━━━━━━━━━━━━━\u001b[0m\u001b[37m\u001b[0m \u001b[1m0s\u001b[0m 2ms/step - loss: 2.7597 - mae: 2.7597 - mse: 12.3437 - val_loss: 2.7695 - val_mae: 2.7695 - val_mse: 12.0325\n",
      "Epoch 21/1000\n",
      "\u001b[1m168/168\u001b[0m \u001b[32m━━━━━━━━━━━━━━━━━━━━\u001b[0m\u001b[37m\u001b[0m \u001b[1m0s\u001b[0m 2ms/step - loss: 2.7746 - mae: 2.7746 - mse: 12.1086 - val_loss: 2.8289 - val_mae: 2.8289 - val_mse: 12.6545\n",
      "Epoch 22/1000\n",
      "\u001b[1m168/168\u001b[0m \u001b[32m━━━━━━━━━━━━━━━━━━━━\u001b[0m\u001b[37m\u001b[0m \u001b[1m0s\u001b[0m 2ms/step - loss: 2.7065 - mae: 2.7065 - mse: 11.7905 - val_loss: 2.7590 - val_mae: 2.7590 - val_mse: 12.0165\n",
      "Epoch 23/1000\n",
      "\u001b[1m168/168\u001b[0m \u001b[32m━━━━━━━━━━━━━━━━━━━━\u001b[0m\u001b[37m\u001b[0m \u001b[1m0s\u001b[0m 2ms/step - loss: 2.7527 - mae: 2.7527 - mse: 11.9888 - val_loss: 2.7565 - val_mae: 2.7565 - val_mse: 11.9515\n",
      "Epoch 24/1000\n",
      "\u001b[1m168/168\u001b[0m \u001b[32m━━━━━━━━━━━━━━━━━━━━\u001b[0m\u001b[37m\u001b[0m \u001b[1m0s\u001b[0m 2ms/step - loss: 2.7595 - mae: 2.7595 - mse: 12.1267 - val_loss: 2.7410 - val_mae: 2.7410 - val_mse: 11.8526\n",
      "Epoch 25/1000\n",
      "\u001b[1m168/168\u001b[0m \u001b[32m━━━━━━━━━━━━━━━━━━━━\u001b[0m\u001b[37m\u001b[0m \u001b[1m0s\u001b[0m 2ms/step - loss: 2.6966 - mae: 2.6966 - mse: 11.5900 - val_loss: 2.7378 - val_mae: 2.7378 - val_mse: 11.8207\n",
      "Epoch 26/1000\n",
      "\u001b[1m168/168\u001b[0m \u001b[32m━━━━━━━━━━━━━━━━━━━━\u001b[0m\u001b[37m\u001b[0m \u001b[1m0s\u001b[0m 2ms/step - loss: 2.7680 - mae: 2.7680 - mse: 12.0343 - val_loss: 2.6975 - val_mae: 2.6975 - val_mse: 11.4748\n",
      "Epoch 27/1000\n",
      "\u001b[1m168/168\u001b[0m \u001b[32m━━━━━━━━━━━━━━━━━━━━\u001b[0m\u001b[37m\u001b[0m \u001b[1m0s\u001b[0m 2ms/step - loss: 2.6563 - mae: 2.6563 - mse: 11.1468 - val_loss: 2.7232 - val_mae: 2.7232 - val_mse: 11.6869\n",
      "Epoch 28/1000\n",
      "\u001b[1m168/168\u001b[0m \u001b[32m━━━━━━━━━━━━━━━━━━━━\u001b[0m\u001b[37m\u001b[0m \u001b[1m0s\u001b[0m 2ms/step - loss: 2.6599 - mae: 2.6599 - mse: 11.4784 - val_loss: 2.6677 - val_mae: 2.6677 - val_mse: 11.2722\n",
      "Epoch 29/1000\n",
      "\u001b[1m168/168\u001b[0m \u001b[32m━━━━━━━━━━━━━━━━━━━━\u001b[0m\u001b[37m\u001b[0m \u001b[1m0s\u001b[0m 2ms/step - loss: 2.6755 - mae: 2.6755 - mse: 11.4841 - val_loss: 2.7121 - val_mae: 2.7121 - val_mse: 11.6850\n",
      "Epoch 30/1000\n",
      "\u001b[1m168/168\u001b[0m \u001b[32m━━━━━━━━━━━━━━━━━━━━\u001b[0m\u001b[37m\u001b[0m \u001b[1m0s\u001b[0m 2ms/step - loss: 2.6366 - mae: 2.6366 - mse: 10.9959 - val_loss: 2.7801 - val_mae: 2.7801 - val_mse: 12.1549\n",
      "Epoch 31/1000\n",
      "\u001b[1m168/168\u001b[0m \u001b[32m━━━━━━━━━━━━━━━━━━━━\u001b[0m\u001b[37m\u001b[0m \u001b[1m0s\u001b[0m 2ms/step - loss: 2.5794 - mae: 2.5794 - mse: 10.7964 - val_loss: 2.6270 - val_mae: 2.6270 - val_mse: 10.9690\n",
      "Epoch 32/1000\n",
      "\u001b[1m168/168\u001b[0m \u001b[32m━━━━━━━━━━━━━━━━━━━━\u001b[0m\u001b[37m\u001b[0m \u001b[1m0s\u001b[0m 2ms/step - loss: 2.6229 - mae: 2.6229 - mse: 10.9234 - val_loss: 2.9122 - val_mae: 2.9122 - val_mse: 13.4449\n",
      "Epoch 33/1000\n",
      "\u001b[1m168/168\u001b[0m \u001b[32m━━━━━━━━━━━━━━━━━━━━\u001b[0m\u001b[37m\u001b[0m \u001b[1m0s\u001b[0m 2ms/step - loss: 2.6094 - mae: 2.6094 - mse: 10.9915 - val_loss: 2.5920 - val_mae: 2.5920 - val_mse: 10.6521\n",
      "Epoch 34/1000\n",
      "\u001b[1m168/168\u001b[0m \u001b[32m━━━━━━━━━━━━━━━━━━━━\u001b[0m\u001b[37m\u001b[0m \u001b[1m0s\u001b[0m 2ms/step - loss: 2.5288 - mae: 2.5288 - mse: 10.2938 - val_loss: 2.5438 - val_mae: 2.5438 - val_mse: 10.2786\n",
      "Epoch 35/1000\n",
      "\u001b[1m168/168\u001b[0m \u001b[32m━━━━━━━━━━━━━━━━━━━━\u001b[0m\u001b[37m\u001b[0m \u001b[1m0s\u001b[0m 2ms/step - loss: 2.5553 - mae: 2.5553 - mse: 10.5976 - val_loss: 2.8993 - val_mae: 2.8993 - val_mse: 13.2750\n",
      "Epoch 36/1000\n",
      "\u001b[1m168/168\u001b[0m \u001b[32m━━━━━━━━━━━━━━━━━━━━\u001b[0m\u001b[37m\u001b[0m \u001b[1m0s\u001b[0m 2ms/step - loss: 2.5130 - mae: 2.5130 - mse: 10.2525 - val_loss: 2.5909 - val_mae: 2.5909 - val_mse: 10.6064\n",
      "Epoch 37/1000\n",
      "\u001b[1m168/168\u001b[0m \u001b[32m━━━━━━━━━━━━━━━━━━━━\u001b[0m\u001b[37m\u001b[0m \u001b[1m0s\u001b[0m 2ms/step - loss: 2.5011 - mae: 2.5011 - mse: 10.2785 - val_loss: 2.4436 - val_mae: 2.4436 - val_mse: 9.5652\n",
      "Epoch 38/1000\n",
      "\u001b[1m168/168\u001b[0m \u001b[32m━━━━━━━━━━━━━━━━━━━━\u001b[0m\u001b[37m\u001b[0m \u001b[1m0s\u001b[0m 2ms/step - loss: 2.3998 - mae: 2.3998 - mse: 9.3401 - val_loss: 2.3889 - val_mae: 2.3889 - val_mse: 9.1663\n",
      "Epoch 39/1000\n",
      "\u001b[1m168/168\u001b[0m \u001b[32m━━━━━━━━━━━━━━━━━━━━\u001b[0m\u001b[37m\u001b[0m \u001b[1m0s\u001b[0m 2ms/step - loss: 2.4295 - mae: 2.4295 - mse: 9.7152 - val_loss: 2.6122 - val_mae: 2.6122 - val_mse: 11.1099\n",
      "Epoch 40/1000\n",
      "\u001b[1m168/168\u001b[0m \u001b[32m━━━━━━━━━━━━━━━━━━━━\u001b[0m\u001b[37m\u001b[0m \u001b[1m0s\u001b[0m 2ms/step - loss: 2.3669 - mae: 2.3669 - mse: 9.3577 - val_loss: 2.3512 - val_mae: 2.3512 - val_mse: 8.8382\n",
      "Epoch 41/1000\n",
      "\u001b[1m168/168\u001b[0m \u001b[32m━━━━━━━━━━━━━━━━━━━━\u001b[0m\u001b[37m\u001b[0m \u001b[1m0s\u001b[0m 2ms/step - loss: 2.2650 - mae: 2.2650 - mse: 8.5037 - val_loss: 2.2022 - val_mae: 2.2022 - val_mse: 7.8152\n",
      "Epoch 42/1000\n",
      "\u001b[1m168/168\u001b[0m \u001b[32m━━━━━━━━━━━━━━━━━━━━\u001b[0m\u001b[37m\u001b[0m \u001b[1m0s\u001b[0m 2ms/step - loss: 2.1977 - mae: 2.1977 - mse: 8.0422 - val_loss: 2.1192 - val_mae: 2.1192 - val_mse: 7.4662\n",
      "Epoch 43/1000\n",
      "\u001b[1m168/168\u001b[0m \u001b[32m━━━━━━━━━━━━━━━━━━━━\u001b[0m\u001b[37m\u001b[0m \u001b[1m0s\u001b[0m 2ms/step - loss: 2.1091 - mae: 2.1091 - mse: 7.4945 - val_loss: 2.0339 - val_mae: 2.0339 - val_mse: 6.8751\n",
      "Epoch 44/1000\n",
      "\u001b[1m168/168\u001b[0m \u001b[32m━━━━━━━━━━━━━━━━━━━━\u001b[0m\u001b[37m\u001b[0m \u001b[1m0s\u001b[0m 2ms/step - loss: 2.1042 - mae: 2.1042 - mse: 7.4117 - val_loss: 1.8214 - val_mae: 1.8214 - val_mse: 5.6561\n",
      "Epoch 45/1000\n",
      "\u001b[1m168/168\u001b[0m \u001b[32m━━━━━━━━━━━━━━━━━━━━\u001b[0m\u001b[37m\u001b[0m \u001b[1m0s\u001b[0m 2ms/step - loss: 1.9951 - mae: 1.9951 - mse: 6.6941 - val_loss: 1.8887 - val_mae: 1.8887 - val_mse: 5.6849\n",
      "Epoch 46/1000\n",
      "\u001b[1m168/168\u001b[0m \u001b[32m━━━━━━━━━━━━━━━━━━━━\u001b[0m\u001b[37m\u001b[0m \u001b[1m0s\u001b[0m 2ms/step - loss: 1.7997 - mae: 1.7997 - mse: 5.5796 - val_loss: 1.5105 - val_mae: 1.5105 - val_mse: 4.0678\n",
      "Epoch 47/1000\n",
      "\u001b[1m168/168\u001b[0m \u001b[32m━━━━━━━━━━━━━━━━━━━━\u001b[0m\u001b[37m\u001b[0m \u001b[1m0s\u001b[0m 2ms/step - loss: 1.7356 - mae: 1.7356 - mse: 5.1220 - val_loss: 1.5425 - val_mae: 1.5425 - val_mse: 4.2937\n",
      "Epoch 48/1000\n",
      "\u001b[1m168/168\u001b[0m \u001b[32m━━━━━━━━━━━━━━━━━━━━\u001b[0m\u001b[37m\u001b[0m \u001b[1m0s\u001b[0m 2ms/step - loss: 1.4174 - mae: 1.4174 - mse: 3.7212 - val_loss: 1.1878 - val_mae: 1.1878 - val_mse: 2.9052\n",
      "Epoch 49/1000\n",
      "\u001b[1m168/168\u001b[0m \u001b[32m━━━━━━━━━━━━━━━━━━━━\u001b[0m\u001b[37m\u001b[0m \u001b[1m0s\u001b[0m 2ms/step - loss: 1.3659 - mae: 1.3659 - mse: 3.5577 - val_loss: 1.0885 - val_mae: 1.0885 - val_mse: 2.3670\n",
      "Epoch 50/1000\n",
      "\u001b[1m168/168\u001b[0m \u001b[32m━━━━━━━━━━━━━━━━━━━━\u001b[0m\u001b[37m\u001b[0m \u001b[1m0s\u001b[0m 2ms/step - loss: 1.1848 - mae: 1.1848 - mse: 2.7989 - val_loss: 0.8721 - val_mae: 0.8721 - val_mse: 1.6553\n",
      "Epoch 51/1000\n",
      "\u001b[1m168/168\u001b[0m \u001b[32m━━━━━━━━━━━━━━━━━━━━\u001b[0m\u001b[37m\u001b[0m \u001b[1m0s\u001b[0m 2ms/step - loss: 0.9796 - mae: 0.9796 - mse: 2.0467 - val_loss: 0.8154 - val_mae: 0.8154 - val_mse: 1.4775\n",
      "Epoch 52/1000\n",
      "\u001b[1m168/168\u001b[0m \u001b[32m━━━━━━━━━━━━━━━━━━━━\u001b[0m\u001b[37m\u001b[0m \u001b[1m0s\u001b[0m 2ms/step - loss: 0.9461 - mae: 0.9461 - mse: 1.9322 - val_loss: 1.3949 - val_mae: 1.3949 - val_mse: 2.9287\n",
      "Epoch 53/1000\n",
      "\u001b[1m168/168\u001b[0m \u001b[32m━━━━━━━━━━━━━━━━━━━━\u001b[0m\u001b[37m\u001b[0m \u001b[1m0s\u001b[0m 2ms/step - loss: 0.9031 - mae: 0.9031 - mse: 1.6416 - val_loss: 0.9533 - val_mae: 0.9533 - val_mse: 1.6745\n",
      "Epoch 54/1000\n",
      "\u001b[1m168/168\u001b[0m \u001b[32m━━━━━━━━━━━━━━━━━━━━\u001b[0m\u001b[37m\u001b[0m \u001b[1m0s\u001b[0m 2ms/step - loss: 0.8404 - mae: 0.8404 - mse: 1.4560 - val_loss: 0.7150 - val_mae: 0.7150 - val_mse: 1.2158\n",
      "Epoch 55/1000\n",
      "\u001b[1m168/168\u001b[0m \u001b[32m━━━━━━━━━━━━━━━━━━━━\u001b[0m\u001b[37m\u001b[0m \u001b[1m0s\u001b[0m 2ms/step - loss: 0.9100 - mae: 0.9100 - mse: 1.6043 - val_loss: 0.7691 - val_mae: 0.7691 - val_mse: 1.1475\n",
      "Epoch 56/1000\n",
      "\u001b[1m168/168\u001b[0m \u001b[32m━━━━━━━━━━━━━━━━━━━━\u001b[0m\u001b[37m\u001b[0m \u001b[1m0s\u001b[0m 2ms/step - loss: 0.7138 - mae: 0.7138 - mse: 1.1675 - val_loss: 0.8458 - val_mae: 0.8458 - val_mse: 1.0758\n",
      "Epoch 57/1000\n",
      "\u001b[1m168/168\u001b[0m \u001b[32m━━━━━━━━━━━━━━━━━━━━\u001b[0m\u001b[37m\u001b[0m \u001b[1m0s\u001b[0m 2ms/step - loss: 0.8619 - mae: 0.8619 - mse: 1.5496 - val_loss: 0.7630 - val_mae: 0.7630 - val_mse: 1.0407\n",
      "Epoch 58/1000\n",
      "\u001b[1m168/168\u001b[0m \u001b[32m━━━━━━━━━━━━━━━━━━━━\u001b[0m\u001b[37m\u001b[0m \u001b[1m0s\u001b[0m 2ms/step - loss: 0.6425 - mae: 0.6425 - mse: 0.9903 - val_loss: 0.4419 - val_mae: 0.4419 - val_mse: 0.6595\n",
      "Epoch 59/1000\n",
      "\u001b[1m168/168\u001b[0m \u001b[32m━━━━━━━━━━━━━━━━━━━━\u001b[0m\u001b[37m\u001b[0m \u001b[1m0s\u001b[0m 2ms/step - loss: 0.7936 - mae: 0.7936 - mse: 1.3480 - val_loss: 0.9966 - val_mae: 0.9966 - val_mse: 1.3038\n",
      "Epoch 60/1000\n",
      "\u001b[1m168/168\u001b[0m \u001b[32m━━━━━━━━━━━━━━━━━━━━\u001b[0m\u001b[37m\u001b[0m \u001b[1m0s\u001b[0m 2ms/step - loss: 0.7356 - mae: 0.7356 - mse: 1.1346 - val_loss: 0.4992 - val_mae: 0.4992 - val_mse: 0.5496\n",
      "Epoch 61/1000\n",
      "\u001b[1m168/168\u001b[0m \u001b[32m━━━━━━━━━━━━━━━━━━━━\u001b[0m\u001b[37m\u001b[0m \u001b[1m0s\u001b[0m 2ms/step - loss: 0.5520 - mae: 0.5520 - mse: 0.7758 - val_loss: 1.3085 - val_mae: 1.3085 - val_mse: 2.3393\n",
      "Epoch 62/1000\n",
      "\u001b[1m168/168\u001b[0m \u001b[32m━━━━━━━━━━━━━━━━━━━━\u001b[0m\u001b[37m\u001b[0m \u001b[1m0s\u001b[0m 2ms/step - loss: 0.6343 - mae: 0.6343 - mse: 0.9232 - val_loss: 0.6748 - val_mae: 0.6748 - val_mse: 0.8590\n",
      "Epoch 63/1000\n",
      "\u001b[1m168/168\u001b[0m \u001b[32m━━━━━━━━━━━━━━━━━━━━\u001b[0m\u001b[37m\u001b[0m \u001b[1m0s\u001b[0m 2ms/step - loss: 0.5772 - mae: 0.5772 - mse: 0.8368 - val_loss: 0.6976 - val_mae: 0.6976 - val_mse: 0.8901\n",
      "Epoch 64/1000\n",
      "\u001b[1m168/168\u001b[0m \u001b[32m━━━━━━━━━━━━━━━━━━━━\u001b[0m\u001b[37m\u001b[0m \u001b[1m0s\u001b[0m 2ms/step - loss: 0.7941 - mae: 0.7941 - mse: 1.2086 - val_loss: 0.7659 - val_mae: 0.7659 - val_mse: 0.9336\n",
      "Epoch 65/1000\n",
      "\u001b[1m168/168\u001b[0m \u001b[32m━━━━━━━━━━━━━━━━━━━━\u001b[0m\u001b[37m\u001b[0m \u001b[1m0s\u001b[0m 2ms/step - loss: 0.7150 - mae: 0.7150 - mse: 1.0605 - val_loss: 0.2725 - val_mae: 0.2725 - val_mse: 0.3185\n",
      "Epoch 66/1000\n",
      "\u001b[1m168/168\u001b[0m \u001b[32m━━━━━━━━━━━━━━━━━━━━\u001b[0m\u001b[37m\u001b[0m \u001b[1m0s\u001b[0m 2ms/step - loss: 0.4963 - mae: 0.4963 - mse: 0.6159 - val_loss: 0.2861 - val_mae: 0.2861 - val_mse: 0.3439\n",
      "Epoch 67/1000\n",
      "\u001b[1m168/168\u001b[0m \u001b[32m━━━━━━━━━━━━━━━━━━━━\u001b[0m\u001b[37m\u001b[0m \u001b[1m0s\u001b[0m 2ms/step - loss: 0.7293 - mae: 0.7293 - mse: 1.2304 - val_loss: 0.3114 - val_mae: 0.3114 - val_mse: 0.3633\n",
      "Epoch 68/1000\n",
      "\u001b[1m168/168\u001b[0m \u001b[32m━━━━━━━━━━━━━━━━━━━━\u001b[0m\u001b[37m\u001b[0m \u001b[1m0s\u001b[0m 2ms/step - loss: 0.5624 - mae: 0.5624 - mse: 0.7246 - val_loss: 0.5096 - val_mae: 0.5096 - val_mse: 0.5656\n",
      "Epoch 69/1000\n",
      "\u001b[1m168/168\u001b[0m \u001b[32m━━━━━━━━━━━━━━━━━━━━\u001b[0m\u001b[37m\u001b[0m \u001b[1m0s\u001b[0m 2ms/step - loss: 0.5497 - mae: 0.5497 - mse: 0.7037 - val_loss: 0.2737 - val_mae: 0.2737 - val_mse: 0.2885\n",
      "Epoch 70/1000\n",
      "\u001b[1m168/168\u001b[0m \u001b[32m━━━━━━━━━━━━━━━━━━━━\u001b[0m\u001b[37m\u001b[0m \u001b[1m0s\u001b[0m 2ms/step - loss: 0.7056 - mae: 0.7056 - mse: 0.9904 - val_loss: 0.7203 - val_mae: 0.7203 - val_mse: 0.8332\n",
      "Epoch 71/1000\n",
      "\u001b[1m168/168\u001b[0m \u001b[32m━━━━━━━━━━━━━━━━━━━━\u001b[0m\u001b[37m\u001b[0m \u001b[1m0s\u001b[0m 2ms/step - loss: 0.5070 - mae: 0.5070 - mse: 0.5942 - val_loss: 0.9992 - val_mae: 0.9992 - val_mse: 1.4264\n",
      "Epoch 72/1000\n",
      "\u001b[1m168/168\u001b[0m \u001b[32m━━━━━━━━━━━━━━━━━━━━\u001b[0m\u001b[37m\u001b[0m \u001b[1m0s\u001b[0m 2ms/step - loss: 0.7245 - mae: 0.7245 - mse: 0.9520 - val_loss: 0.3777 - val_mae: 0.3777 - val_mse: 0.3239\n",
      "Epoch 73/1000\n",
      "\u001b[1m168/168\u001b[0m \u001b[32m━━━━━━━━━━━━━━━━━━━━\u001b[0m\u001b[37m\u001b[0m \u001b[1m0s\u001b[0m 2ms/step - loss: 0.5920 - mae: 0.5920 - mse: 0.7263 - val_loss: 1.0150 - val_mae: 1.0150 - val_mse: 1.1776\n",
      "Epoch 74/1000\n",
      "\u001b[1m168/168\u001b[0m \u001b[32m━━━━━━━━━━━━━━━━━━━━\u001b[0m\u001b[37m\u001b[0m \u001b[1m0s\u001b[0m 2ms/step - loss: 0.5865 - mae: 0.5865 - mse: 0.6705 - val_loss: 0.3185 - val_mae: 0.3185 - val_mse: 0.2818\n",
      "Epoch 75/1000\n",
      "\u001b[1m168/168\u001b[0m \u001b[32m━━━━━━━━━━━━━━━━━━━━\u001b[0m\u001b[37m\u001b[0m \u001b[1m0s\u001b[0m 2ms/step - loss: 0.5239 - mae: 0.5239 - mse: 0.6325 - val_loss: 0.3199 - val_mae: 0.3199 - val_mse: 0.2927\n",
      "Epoch 76/1000\n",
      "\u001b[1m168/168\u001b[0m \u001b[32m━━━━━━━━━━━━━━━━━━━━\u001b[0m\u001b[37m\u001b[0m \u001b[1m0s\u001b[0m 2ms/step - loss: 0.5368 - mae: 0.5368 - mse: 0.6888 - val_loss: 0.2183 - val_mae: 0.2183 - val_mse: 0.2662\n",
      "Epoch 77/1000\n",
      "\u001b[1m168/168\u001b[0m \u001b[32m━━━━━━━━━━━━━━━━━━━━\u001b[0m\u001b[37m\u001b[0m \u001b[1m0s\u001b[0m 2ms/step - loss: 0.6450 - mae: 0.6450 - mse: 0.8535 - val_loss: 0.3438 - val_mae: 0.3438 - val_mse: 0.2704\n",
      "Epoch 78/1000\n",
      "\u001b[1m168/168\u001b[0m \u001b[32m━━━━━━━━━━━━━━━━━━━━\u001b[0m\u001b[37m\u001b[0m \u001b[1m0s\u001b[0m 2ms/step - loss: 0.4978 - mae: 0.4978 - mse: 0.5512 - val_loss: 0.6936 - val_mae: 0.6936 - val_mse: 0.6214\n",
      "Epoch 79/1000\n",
      "\u001b[1m168/168\u001b[0m \u001b[32m━━━━━━━━━━━━━━━━━━━━\u001b[0m\u001b[37m\u001b[0m \u001b[1m0s\u001b[0m 2ms/step - loss: 0.6915 - mae: 0.6915 - mse: 0.8908 - val_loss: 0.4141 - val_mae: 0.4141 - val_mse: 0.3624\n",
      "Epoch 80/1000\n",
      "\u001b[1m168/168\u001b[0m \u001b[32m━━━━━━━━━━━━━━━━━━━━\u001b[0m\u001b[37m\u001b[0m \u001b[1m0s\u001b[0m 2ms/step - loss: 0.6136 - mae: 0.6136 - mse: 0.7584 - val_loss: 0.2143 - val_mae: 0.2143 - val_mse: 0.2254\n",
      "Epoch 81/1000\n",
      "\u001b[1m168/168\u001b[0m \u001b[32m━━━━━━━━━━━━━━━━━━━━\u001b[0m\u001b[37m\u001b[0m \u001b[1m0s\u001b[0m 2ms/step - loss: 0.4139 - mae: 0.4139 - mse: 0.4763 - val_loss: 0.3026 - val_mae: 0.3026 - val_mse: 0.4262\n",
      "Epoch 82/1000\n",
      "\u001b[1m168/168\u001b[0m \u001b[32m━━━━━━━━━━━━━━━━━━━━\u001b[0m\u001b[37m\u001b[0m \u001b[1m0s\u001b[0m 2ms/step - loss: 0.5100 - mae: 0.5100 - mse: 0.6323 - val_loss: 0.4135 - val_mae: 0.4135 - val_mse: 0.4200\n",
      "Epoch 83/1000\n",
      "\u001b[1m168/168\u001b[0m \u001b[32m━━━━━━━━━━━━━━━━━━━━\u001b[0m\u001b[37m\u001b[0m \u001b[1m0s\u001b[0m 2ms/step - loss: 0.4857 - mae: 0.4857 - mse: 0.4624 - val_loss: 0.3168 - val_mae: 0.3168 - val_mse: 0.2896\n",
      "Epoch 84/1000\n",
      "\u001b[1m168/168\u001b[0m \u001b[32m━━━━━━━━━━━━━━━━━━━━\u001b[0m\u001b[37m\u001b[0m \u001b[1m0s\u001b[0m 2ms/step - loss: 0.4554 - mae: 0.4554 - mse: 0.5475 - val_loss: 0.5739 - val_mae: 0.5739 - val_mse: 0.6089\n",
      "Epoch 85/1000\n",
      "\u001b[1m168/168\u001b[0m \u001b[32m━━━━━━━━━━━━━━━━━━━━\u001b[0m\u001b[37m\u001b[0m \u001b[1m0s\u001b[0m 2ms/step - loss: 0.4345 - mae: 0.4345 - mse: 0.4576 - val_loss: 0.8202 - val_mae: 0.8202 - val_mse: 0.8793\n",
      "Epoch 86/1000\n",
      "\u001b[1m168/168\u001b[0m \u001b[32m━━━━━━━━━━━━━━━━━━━━\u001b[0m\u001b[37m\u001b[0m \u001b[1m0s\u001b[0m 2ms/step - loss: 0.4720 - mae: 0.4720 - mse: 0.4506 - val_loss: 0.3973 - val_mae: 0.3973 - val_mse: 0.3258\n",
      "Epoch 87/1000\n",
      "\u001b[1m168/168\u001b[0m \u001b[32m━━━━━━━━━━━━━━━━━━━━\u001b[0m\u001b[37m\u001b[0m \u001b[1m0s\u001b[0m 2ms/step - loss: 0.3922 - mae: 0.3922 - mse: 0.3479 - val_loss: 0.2845 - val_mae: 0.2845 - val_mse: 0.2879\n",
      "Epoch 88/1000\n",
      "\u001b[1m168/168\u001b[0m \u001b[32m━━━━━━━━━━━━━━━━━━━━\u001b[0m\u001b[37m\u001b[0m \u001b[1m0s\u001b[0m 2ms/step - loss: 0.4364 - mae: 0.4364 - mse: 0.4210 - val_loss: 0.3872 - val_mae: 0.3872 - val_mse: 0.3383\n",
      "Epoch 89/1000\n",
      "\u001b[1m168/168\u001b[0m \u001b[32m━━━━━━━━━━━━━━━━━━━━\u001b[0m\u001b[37m\u001b[0m \u001b[1m0s\u001b[0m 2ms/step - loss: 0.4470 - mae: 0.4470 - mse: 0.4455 - val_loss: 0.4940 - val_mae: 0.4940 - val_mse: 0.5059\n",
      "Epoch 90/1000\n",
      "\u001b[1m168/168\u001b[0m \u001b[32m━━━━━━━━━━━━━━━━━━━━\u001b[0m\u001b[37m\u001b[0m \u001b[1m0s\u001b[0m 2ms/step - loss: 0.4638 - mae: 0.4638 - mse: 0.4696 - val_loss: 0.7496 - val_mae: 0.7496 - val_mse: 0.7873\n",
      "Epoch 91/1000\n",
      "\u001b[1m168/168\u001b[0m \u001b[32m━━━━━━━━━━━━━━━━━━━━\u001b[0m\u001b[37m\u001b[0m \u001b[1m0s\u001b[0m 2ms/step - loss: 0.4672 - mae: 0.4672 - mse: 0.4827 - val_loss: 0.5329 - val_mae: 0.5329 - val_mse: 0.4213\n",
      "Epoch 92/1000\n",
      "\u001b[1m168/168\u001b[0m \u001b[32m━━━━━━━━━━━━━━━━━━━━\u001b[0m\u001b[37m\u001b[0m \u001b[1m0s\u001b[0m 2ms/step - loss: 0.4323 - mae: 0.4323 - mse: 0.4062 - val_loss: 0.2283 - val_mae: 0.2283 - val_mse: 0.1603\n",
      "Epoch 93/1000\n",
      "\u001b[1m168/168\u001b[0m \u001b[32m━━━━━━━━━━━━━━━━━━━━\u001b[0m\u001b[37m\u001b[0m \u001b[1m0s\u001b[0m 2ms/step - loss: 0.6130 - mae: 0.6130 - mse: 0.7129 - val_loss: 0.7083 - val_mae: 0.7083 - val_mse: 0.7127\n",
      "Epoch 94/1000\n",
      "\u001b[1m168/168\u001b[0m \u001b[32m━━━━━━━━━━━━━━━━━━━━\u001b[0m\u001b[37m\u001b[0m \u001b[1m0s\u001b[0m 2ms/step - loss: 0.4855 - mae: 0.4855 - mse: 0.4740 - val_loss: 0.2448 - val_mae: 0.2448 - val_mse: 0.2260\n",
      "Epoch 95/1000\n",
      "\u001b[1m168/168\u001b[0m \u001b[32m━━━━━━━━━━━━━━━━━━━━\u001b[0m\u001b[37m\u001b[0m \u001b[1m0s\u001b[0m 2ms/step - loss: 0.5677 - mae: 0.5677 - mse: 0.6281 - val_loss: 0.6680 - val_mae: 0.6680 - val_mse: 0.5165\n",
      "Epoch 96/1000\n",
      "\u001b[1m168/168\u001b[0m \u001b[32m━━━━━━━━━━━━━━━━━━━━\u001b[0m\u001b[37m\u001b[0m \u001b[1m0s\u001b[0m 2ms/step - loss: 0.6596 - mae: 0.6596 - mse: 0.8421 - val_loss: 0.6698 - val_mae: 0.6698 - val_mse: 0.6135\n",
      "Epoch 97/1000\n",
      "\u001b[1m168/168\u001b[0m \u001b[32m━━━━━━━━━━━━━━━━━━━━\u001b[0m\u001b[37m\u001b[0m \u001b[1m0s\u001b[0m 2ms/step - loss: 0.4661 - mae: 0.4661 - mse: 0.4717 - val_loss: 0.7904 - val_mae: 0.7904 - val_mse: 0.8152\n",
      "Epoch 98/1000\n",
      "\u001b[1m168/168\u001b[0m \u001b[32m━━━━━━━━━━━━━━━━━━━━\u001b[0m\u001b[37m\u001b[0m \u001b[1m0s\u001b[0m 2ms/step - loss: 0.5693 - mae: 0.5693 - mse: 0.5823 - val_loss: 0.2986 - val_mae: 0.2986 - val_mse: 0.1590\n",
      "Epoch 99/1000\n",
      "\u001b[1m168/168\u001b[0m \u001b[32m━━━━━━━━━━━━━━━━━━━━\u001b[0m\u001b[37m\u001b[0m \u001b[1m0s\u001b[0m 2ms/step - loss: 0.3896 - mae: 0.3896 - mse: 0.3836 - val_loss: 0.3193 - val_mae: 0.3193 - val_mse: 0.2147\n",
      "Epoch 100/1000\n",
      "\u001b[1m168/168\u001b[0m \u001b[32m━━━━━━━━━━━━━━━━━━━━\u001b[0m\u001b[37m\u001b[0m \u001b[1m0s\u001b[0m 2ms/step - loss: 0.5326 - mae: 0.5326 - mse: 0.5585 - val_loss: 0.2130 - val_mae: 0.2130 - val_mse: 0.1775\n",
      "Epoch 101/1000\n",
      "\u001b[1m168/168\u001b[0m \u001b[32m━━━━━━━━━━━━━━━━━━━━\u001b[0m\u001b[37m\u001b[0m \u001b[1m0s\u001b[0m 2ms/step - loss: 0.6382 - mae: 0.6382 - mse: 0.7426 - val_loss: 0.3576 - val_mae: 0.3576 - val_mse: 0.3319\n",
      "Epoch 102/1000\n",
      "\u001b[1m168/168\u001b[0m \u001b[32m━━━━━━━━━━━━━━━━━━━━\u001b[0m\u001b[37m\u001b[0m \u001b[1m0s\u001b[0m 2ms/step - loss: 0.4858 - mae: 0.4858 - mse: 0.4740 - val_loss: 0.7007 - val_mae: 0.7007 - val_mse: 0.6945\n",
      "Epoch 103/1000\n",
      "\u001b[1m168/168\u001b[0m \u001b[32m━━━━━━━━━━━━━━━━━━━━\u001b[0m\u001b[37m\u001b[0m \u001b[1m0s\u001b[0m 2ms/step - loss: 0.6386 - mae: 0.6386 - mse: 0.7549 - val_loss: 0.3167 - val_mae: 0.3167 - val_mse: 0.1840\n",
      "Epoch 104/1000\n",
      "\u001b[1m168/168\u001b[0m \u001b[32m━━━━━━━━━━━━━━━━━━━━\u001b[0m\u001b[37m\u001b[0m \u001b[1m0s\u001b[0m 2ms/step - loss: 0.4924 - mae: 0.4924 - mse: 0.5432 - val_loss: 0.2665 - val_mae: 0.2665 - val_mse: 0.2021\n",
      "Epoch 105/1000\n",
      "\u001b[1m168/168\u001b[0m \u001b[32m━━━━━━━━━━━━━━━━━━━━\u001b[0m\u001b[37m\u001b[0m \u001b[1m0s\u001b[0m 2ms/step - loss: 0.3466 - mae: 0.3466 - mse: 0.2888 - val_loss: 1.0492 - val_mae: 1.0492 - val_mse: 1.3065\n",
      "Epoch 106/1000\n",
      "\u001b[1m168/168\u001b[0m \u001b[32m━━━━━━━━━━━━━━━━━━━━\u001b[0m\u001b[37m\u001b[0m \u001b[1m0s\u001b[0m 2ms/step - loss: 0.6852 - mae: 0.6852 - mse: 0.7717 - val_loss: 0.2640 - val_mae: 0.2640 - val_mse: 0.1638\n",
      "Epoch 107/1000\n",
      "\u001b[1m168/168\u001b[0m \u001b[32m━━━━━━━━━━━━━━━━━━━━\u001b[0m\u001b[37m\u001b[0m \u001b[1m0s\u001b[0m 2ms/step - loss: 0.5083 - mae: 0.5083 - mse: 0.4869 - val_loss: 0.7947 - val_mae: 0.7947 - val_mse: 0.8511\n",
      "Epoch 108/1000\n",
      "\u001b[1m168/168\u001b[0m \u001b[32m━━━━━━━━━━━━━━━━━━━━\u001b[0m\u001b[37m\u001b[0m \u001b[1m0s\u001b[0m 2ms/step - loss: 0.4263 - mae: 0.4263 - mse: 0.3679 - val_loss: 0.4917 - val_mae: 0.4917 - val_mse: 0.4615\n",
      "Epoch 109/1000\n",
      "\u001b[1m168/168\u001b[0m \u001b[32m━━━━━━━━━━━━━━━━━━━━\u001b[0m\u001b[37m\u001b[0m \u001b[1m0s\u001b[0m 2ms/step - loss: 0.4810 - mae: 0.4810 - mse: 0.5086 - val_loss: 0.2805 - val_mae: 0.2805 - val_mse: 0.1446\n",
      "Epoch 110/1000\n",
      "\u001b[1m168/168\u001b[0m \u001b[32m━━━━━━━━━━━━━━━━━━━━\u001b[0m\u001b[37m\u001b[0m \u001b[1m0s\u001b[0m 2ms/step - loss: 0.4785 - mae: 0.4785 - mse: 0.4442 - val_loss: 0.3220 - val_mae: 0.3220 - val_mse: 0.2234\n",
      "Epoch 111/1000\n",
      "\u001b[1m168/168\u001b[0m \u001b[32m━━━━━━━━━━━━━━━━━━━━\u001b[0m\u001b[37m\u001b[0m \u001b[1m0s\u001b[0m 2ms/step - loss: 0.4997 - mae: 0.4997 - mse: 0.4612 - val_loss: 0.5726 - val_mae: 0.5726 - val_mse: 0.5532\n",
      "Epoch 112/1000\n",
      "\u001b[1m168/168\u001b[0m \u001b[32m━━━━━━━━━━━━━━━━━━━━\u001b[0m\u001b[37m\u001b[0m \u001b[1m0s\u001b[0m 2ms/step - loss: 0.5250 - mae: 0.5250 - mse: 0.5200 - val_loss: 0.4863 - val_mae: 0.4863 - val_mse: 0.3437\n",
      "Epoch 113/1000\n",
      "\u001b[1m168/168\u001b[0m \u001b[32m━━━━━━━━━━━━━━━━━━━━\u001b[0m\u001b[37m\u001b[0m \u001b[1m0s\u001b[0m 2ms/step - loss: 0.4040 - mae: 0.4040 - mse: 0.3760 - val_loss: 0.2018 - val_mae: 0.2018 - val_mse: 0.1415\n",
      "Epoch 114/1000\n",
      "\u001b[1m168/168\u001b[0m \u001b[32m━━━━━━━━━━━━━━━━━━━━\u001b[0m\u001b[37m\u001b[0m \u001b[1m0s\u001b[0m 2ms/step - loss: 0.5490 - mae: 0.5490 - mse: 0.5719 - val_loss: 0.4341 - val_mae: 0.4341 - val_mse: 0.3343\n",
      "Epoch 115/1000\n",
      "\u001b[1m168/168\u001b[0m \u001b[32m━━━━━━━━━━━━━━━━━━━━\u001b[0m\u001b[37m\u001b[0m \u001b[1m0s\u001b[0m 2ms/step - loss: 0.6121 - mae: 0.6121 - mse: 0.6981 - val_loss: 0.4763 - val_mae: 0.4763 - val_mse: 0.3870\n",
      "Epoch 116/1000\n",
      "\u001b[1m168/168\u001b[0m \u001b[32m━━━━━━━━━━━━━━━━━━━━\u001b[0m\u001b[37m\u001b[0m \u001b[1m0s\u001b[0m 2ms/step - loss: 0.5133 - mae: 0.5133 - mse: 0.5284 - val_loss: 0.4407 - val_mae: 0.4407 - val_mse: 0.3857\n",
      "Epoch 117/1000\n",
      "\u001b[1m168/168\u001b[0m \u001b[32m━━━━━━━━━━━━━━━━━━━━\u001b[0m\u001b[37m\u001b[0m \u001b[1m0s\u001b[0m 3ms/step - loss: 0.4431 - mae: 0.4431 - mse: 0.4066 - val_loss: 0.4544 - val_mae: 0.4544 - val_mse: 0.5324\n",
      "Epoch 118/1000\n",
      "\u001b[1m168/168\u001b[0m \u001b[32m━━━━━━━━━━━━━━━━━━━━\u001b[0m\u001b[37m\u001b[0m \u001b[1m0s\u001b[0m 2ms/step - loss: 0.4475 - mae: 0.4475 - mse: 0.4106 - val_loss: 0.8027 - val_mae: 0.8027 - val_mse: 0.7464\n",
      "Epoch 119/1000\n",
      "\u001b[1m168/168\u001b[0m \u001b[32m━━━━━━━━━━━━━━━━━━━━\u001b[0m\u001b[37m\u001b[0m \u001b[1m0s\u001b[0m 2ms/step - loss: 0.4579 - mae: 0.4579 - mse: 0.4048 - val_loss: 0.3821 - val_mae: 0.3821 - val_mse: 0.2354\n",
      "Epoch 120/1000\n",
      "\u001b[1m168/168\u001b[0m \u001b[32m━━━━━━━━━━━━━━━━━━━━\u001b[0m\u001b[37m\u001b[0m \u001b[1m0s\u001b[0m 2ms/step - loss: 0.4528 - mae: 0.4528 - mse: 0.4770 - val_loss: 0.3946 - val_mae: 0.3946 - val_mse: 0.2990\n",
      "Epoch 121/1000\n",
      "\u001b[1m168/168\u001b[0m \u001b[32m━━━━━━━━━━━━━━━━━━━━\u001b[0m\u001b[37m\u001b[0m \u001b[1m0s\u001b[0m 2ms/step - loss: 0.4165 - mae: 0.4165 - mse: 0.3294 - val_loss: 0.7949 - val_mae: 0.7949 - val_mse: 0.7892\n",
      "Epoch 122/1000\n",
      "\u001b[1m168/168\u001b[0m \u001b[32m━━━━━━━━━━━━━━━━━━━━\u001b[0m\u001b[37m\u001b[0m \u001b[1m0s\u001b[0m 2ms/step - loss: 0.6005 - mae: 0.6005 - mse: 0.6843 - val_loss: 0.2934 - val_mae: 0.2934 - val_mse: 0.2428\n",
      "Epoch 123/1000\n",
      "\u001b[1m168/168\u001b[0m \u001b[32m━━━━━━━━━━━━━━━━━━━━\u001b[0m\u001b[37m\u001b[0m \u001b[1m0s\u001b[0m 2ms/step - loss: 0.4470 - mae: 0.4470 - mse: 0.4278 - val_loss: 0.5030 - val_mae: 0.5030 - val_mse: 0.3691\n",
      "Epoch 124/1000\n",
      "\u001b[1m168/168\u001b[0m \u001b[32m━━━━━━━━━━━━━━━━━━━━\u001b[0m\u001b[37m\u001b[0m \u001b[1m0s\u001b[0m 2ms/step - loss: 0.4240 - mae: 0.4240 - mse: 0.3969 - val_loss: 0.2285 - val_mae: 0.2285 - val_mse: 0.1323\n",
      "Epoch 125/1000\n",
      "\u001b[1m168/168\u001b[0m \u001b[32m━━━━━━━━━━━━━━━━━━━━\u001b[0m\u001b[37m\u001b[0m \u001b[1m0s\u001b[0m 2ms/step - loss: 0.5829 - mae: 0.5829 - mse: 0.7075 - val_loss: 0.4961 - val_mae: 0.4961 - val_mse: 0.3794\n",
      "Epoch 126/1000\n",
      "\u001b[1m168/168\u001b[0m \u001b[32m━━━━━━━━━━━━━━━━━━━━\u001b[0m\u001b[37m\u001b[0m \u001b[1m0s\u001b[0m 2ms/step - loss: 0.4599 - mae: 0.4599 - mse: 0.4369 - val_loss: 0.3431 - val_mae: 0.3431 - val_mse: 0.2948\n",
      "Epoch 127/1000\n",
      "\u001b[1m168/168\u001b[0m \u001b[32m━━━━━━━━━━━━━━━━━━━━\u001b[0m\u001b[37m\u001b[0m \u001b[1m0s\u001b[0m 2ms/step - loss: 0.4430 - mae: 0.4430 - mse: 0.4098 - val_loss: 0.2964 - val_mae: 0.2964 - val_mse: 0.1383\n",
      "Epoch 128/1000\n",
      "\u001b[1m168/168\u001b[0m \u001b[32m━━━━━━━━━━━━━━━━━━━━\u001b[0m\u001b[37m\u001b[0m \u001b[1m0s\u001b[0m 2ms/step - loss: 0.4625 - mae: 0.4625 - mse: 0.4251 - val_loss: 0.8979 - val_mae: 0.8979 - val_mse: 1.1421\n",
      "Epoch 129/1000\n",
      "\u001b[1m168/168\u001b[0m \u001b[32m━━━━━━━━━━━━━━━━━━━━\u001b[0m\u001b[37m\u001b[0m \u001b[1m0s\u001b[0m 2ms/step - loss: 0.4214 - mae: 0.4214 - mse: 0.3576 - val_loss: 0.4189 - val_mae: 0.4189 - val_mse: 0.4284\n",
      "Epoch 130/1000\n",
      "\u001b[1m168/168\u001b[0m \u001b[32m━━━━━━━━━━━━━━━━━━━━\u001b[0m\u001b[37m\u001b[0m \u001b[1m0s\u001b[0m 2ms/step - loss: 0.5288 - mae: 0.5288 - mse: 0.5982 - val_loss: 0.5655 - val_mae: 0.5655 - val_mse: 0.4629\n",
      "Epoch 131/1000\n",
      "\u001b[1m168/168\u001b[0m \u001b[32m━━━━━━━━━━━━━━━━━━━━\u001b[0m\u001b[37m\u001b[0m \u001b[1m0s\u001b[0m 2ms/step - loss: 0.4869 - mae: 0.4869 - mse: 0.4361 - val_loss: 0.6007 - val_mae: 0.6007 - val_mse: 0.8914\n",
      "Epoch 132/1000\n",
      "\u001b[1m168/168\u001b[0m \u001b[32m━━━━━━━━━━━━━━━━━━━━\u001b[0m\u001b[37m\u001b[0m \u001b[1m0s\u001b[0m 2ms/step - loss: 0.5154 - mae: 0.5154 - mse: 0.5162 - val_loss: 0.2481 - val_mae: 0.2481 - val_mse: 0.1186\n",
      "Epoch 133/1000\n",
      "\u001b[1m168/168\u001b[0m \u001b[32m━━━━━━━━━━━━━━━━━━━━\u001b[0m\u001b[37m\u001b[0m \u001b[1m0s\u001b[0m 2ms/step - loss: 0.4283 - mae: 0.4283 - mse: 0.3807 - val_loss: 0.5179 - val_mae: 0.5179 - val_mse: 0.3589\n"
     ]
    }
   ],
   "source": [
    "history = model.fit(train_x, \n",
    "                    train_y,\n",
    "                    validation_data=(val_x, val_y),\n",
    "                    epochs=1000,\n",
    "                    callbacks=[early_stopping])"
   ]
  },
  {
   "cell_type": "code",
   "execution_count": 7,
   "metadata": {
    "colab": {
     "base_uri": "https://localhost:8080/",
     "height": 542
    },
    "executionInfo": {
     "elapsed": 51699,
     "status": "ok",
     "timestamp": 1665328902902,
     "user": {
      "displayName": "한성",
      "userId": "01280908312724634418"
     },
     "user_tz": -540
    },
    "id": "MZxLejHZVIcv",
    "outputId": "498c5e91-120b-4d32-a9a6-8888627812e3"
   },
   "outputs": [
    {
     "data": {
      "application/vnd.plotly.v1+json": {
       "config": {
        "plotlyServerURL": "https://plot.ly"
       },
       "data": [
        {
         "name": "loss",
         "type": "scattergl",
         "y": [
          4.192443370819092,
          2.9470925331115723,
          2.9320642948150635,
          2.921243906021118,
          2.8939356803894043,
          2.8858282566070557,
          2.8979384899139404,
          2.863107442855835,
          2.8775060176849365,
          2.8782403469085693,
          2.8614187240600586,
          2.808868646621704,
          2.816317558288574,
          2.8062822818756104,
          2.815316915512085,
          2.802307367324829,
          2.777020215988159,
          2.8014488220214844,
          2.7969307899475098,
          2.77231502532959,
          2.755908250808716,
          2.755808115005493,
          2.721141815185547,
          2.713007688522339,
          2.6951253414154053,
          2.698333978652954,
          2.6635515689849854,
          2.654977321624756,
          2.681314468383789,
          2.6399145126342773,
          2.6008691787719727,
          2.6099135875701904,
          2.5869855880737305,
          2.5355513095855713,
          2.620683431625366,
          2.51850962638855,
          2.468322515487671,
          2.431046485900879,
          2.4107275009155273,
          2.3187692165374756,
          2.237600326538086,
          2.2015531063079834,
          2.0538814067840576,
          2.0219669342041016,
          1.9335864782333374,
          1.754676342010498,
          1.6589242219924927,
          1.429531216621399,
          1.3218861818313599,
          1.1192854642868042,
          1.0843932628631592,
          1.050782561302185,
          0.8761425018310547,
          0.8526353240013123,
          0.8928329348564148,
          0.714407205581665,
          0.895263135433197,
          0.6830249428749084,
          0.7134955525398254,
          0.6628254652023315,
          0.6286543607711792,
          0.62436842918396,
          0.6200534701347351,
          0.7368175387382507,
          0.684631884098053,
          0.5899536609649658,
          0.7541788220405579,
          0.7407860159873962,
          0.5256537199020386,
          0.6029306650161743,
          0.5381406545639038,
          0.6549407839775085,
          0.5749545097351074,
          0.5626190304756165,
          0.597009539604187,
          0.5863298177719116,
          0.5909257531166077,
          0.510687530040741,
          0.657203733921051,
          0.6121441125869751,
          0.5085965394973755,
          0.6036148071289062,
          0.4880557954311371,
          0.4697984755039215,
          0.5011368989944458,
          0.5467996597290039,
          0.41943469643592834,
          0.45459967851638794,
          0.48313432931900024,
          0.5021361112594604,
          0.5619305968284607,
          0.47927409410476685,
          0.599778950214386,
          0.45960569381713867,
          0.5567036271095276,
          0.5751364827156067,
          0.5207338333129883,
          0.5083897709846497,
          0.41787174344062805,
          0.5197186470031738,
          0.6268625259399414,
          0.48094961047172546,
          0.5526068210601807,
          0.47143954038619995,
          0.3845965266227722,
          0.5917487144470215,
          0.5150352120399475,
          0.4546116292476654,
          0.4128592014312744,
          0.5183532238006592,
          0.5072278380393982,
          0.5558674335479736,
          0.40443000197410583,
          0.5340374112129211,
          0.6110135912895203,
          0.5129624605178833,
          0.4216196835041046,
          0.4360654056072235,
          0.4469439387321472,
          0.5283157825469971,
          0.43923717737197876,
          0.542726457118988,
          0.46333402395248413,
          0.5255616903305054,
          0.5464929342269897,
          0.5200363397598267,
          0.41144829988479614,
          0.5250352025032043,
          0.37898585200309753,
          0.4771834909915924,
          0.5132938623428345,
          0.5566367506980896,
          0.4326663017272949
         ]
        },
        {
         "name": "val_loss",
         "type": "scattergl",
         "y": [
          2.9718010425567627,
          2.963721513748169,
          2.9441275596618652,
          3.112415313720703,
          3.431520938873291,
          2.8960187435150146,
          2.8818519115448,
          2.893552303314209,
          2.8692305088043213,
          2.890174150466919,
          2.8498430252075195,
          2.847170829772949,
          2.846907377243042,
          2.8307948112487793,
          2.83669376373291,
          2.851478338241577,
          2.996624231338501,
          2.7919647693634033,
          2.846259593963623,
          2.769522190093994,
          2.8288516998291016,
          2.759021043777466,
          2.7564759254455566,
          2.740950584411621,
          2.7377874851226807,
          2.69746732711792,
          2.723151445388794,
          2.6677184104919434,
          2.71205735206604,
          2.780069589614868,
          2.6270360946655273,
          2.9121627807617188,
          2.59201979637146,
          2.543792247772217,
          2.8992631435394287,
          2.5909082889556885,
          2.443614959716797,
          2.388859510421753,
          2.6121737957000732,
          2.3512465953826904,
          2.202216386795044,
          2.1191930770874023,
          2.033942461013794,
          1.8214000463485718,
          1.8886853456497192,
          1.5104862451553345,
          1.5424853563308716,
          1.1877977848052979,
          1.0885487794876099,
          0.8721270561218262,
          0.8154245018959045,
          1.3949161767959595,
          0.9533092975616455,
          0.714968204498291,
          0.7691161632537842,
          0.8457797765731812,
          0.7630019783973694,
          0.44189903140068054,
          0.9966330528259277,
          0.4992046654224396,
          1.3084771633148193,
          0.67476886510849,
          0.697587788105011,
          0.7658955454826355,
          0.2725028693675995,
          0.2860648036003113,
          0.3113536536693573,
          0.5095530152320862,
          0.2736843228340149,
          0.7203241586685181,
          0.999247670173645,
          0.3777432143688202,
          1.0149897336959839,
          0.3185428977012634,
          0.319869726896286,
          0.2182903289794922,
          0.3437509834766388,
          0.6935545802116394,
          0.4141371250152588,
          0.21428236365318298,
          0.30260664224624634,
          0.4135186970233917,
          0.31682443618774414,
          0.5738881230354309,
          0.8202254772186279,
          0.3973025381565094,
          0.28446075320243835,
          0.3872316777706146,
          0.4940483868122101,
          0.7496296763420105,
          0.5329251289367676,
          0.22830024361610413,
          0.7083061933517456,
          0.24481922388076782,
          0.6679943203926086,
          0.6697787046432495,
          0.7904133796691895,
          0.29855409264564514,
          0.3192950487136841,
          0.21300356090068817,
          0.35763391852378845,
          0.7007305026054382,
          0.3166853189468384,
          0.2665414810180664,
          1.0491762161254883,
          0.2639593183994293,
          0.7946998476982117,
          0.49168601632118225,
          0.28046029806137085,
          0.322016179561615,
          0.5725885629653931,
          0.48628783226013184,
          0.20182636380195618,
          0.434079110622406,
          0.4763203263282776,
          0.4407445192337036,
          0.45441073179244995,
          0.8026570677757263,
          0.38207653164863586,
          0.39457017183303833,
          0.794912576675415,
          0.2933621108531952,
          0.5029729008674622,
          0.22852730751037598,
          0.49607259035110474,
          0.34308210015296936,
          0.2964465916156769,
          0.8979217410087585,
          0.41890284419059753,
          0.5655453205108643,
          0.6006667017936707,
          0.24811586737632751,
          0.5179479122161865
         ]
        }
       ],
       "layout": {
        "template": {
         "data": {
          "bar": [
           {
            "error_x": {
             "color": "#2a3f5f"
            },
            "error_y": {
             "color": "#2a3f5f"
            },
            "marker": {
             "line": {
              "color": "#E5ECF6",
              "width": 0.5
             },
             "pattern": {
              "fillmode": "overlay",
              "size": 10,
              "solidity": 0.2
             }
            },
            "type": "bar"
           }
          ],
          "barpolar": [
           {
            "marker": {
             "line": {
              "color": "#E5ECF6",
              "width": 0.5
             },
             "pattern": {
              "fillmode": "overlay",
              "size": 10,
              "solidity": 0.2
             }
            },
            "type": "barpolar"
           }
          ],
          "carpet": [
           {
            "aaxis": {
             "endlinecolor": "#2a3f5f",
             "gridcolor": "white",
             "linecolor": "white",
             "minorgridcolor": "white",
             "startlinecolor": "#2a3f5f"
            },
            "baxis": {
             "endlinecolor": "#2a3f5f",
             "gridcolor": "white",
             "linecolor": "white",
             "minorgridcolor": "white",
             "startlinecolor": "#2a3f5f"
            },
            "type": "carpet"
           }
          ],
          "choropleth": [
           {
            "colorbar": {
             "outlinewidth": 0,
             "ticks": ""
            },
            "type": "choropleth"
           }
          ],
          "contour": [
           {
            "colorbar": {
             "outlinewidth": 0,
             "ticks": ""
            },
            "colorscale": [
             [
              0,
              "#0d0887"
             ],
             [
              0.1111111111111111,
              "#46039f"
             ],
             [
              0.2222222222222222,
              "#7201a8"
             ],
             [
              0.3333333333333333,
              "#9c179e"
             ],
             [
              0.4444444444444444,
              "#bd3786"
             ],
             [
              0.5555555555555556,
              "#d8576b"
             ],
             [
              0.6666666666666666,
              "#ed7953"
             ],
             [
              0.7777777777777778,
              "#fb9f3a"
             ],
             [
              0.8888888888888888,
              "#fdca26"
             ],
             [
              1,
              "#f0f921"
             ]
            ],
            "type": "contour"
           }
          ],
          "contourcarpet": [
           {
            "colorbar": {
             "outlinewidth": 0,
             "ticks": ""
            },
            "type": "contourcarpet"
           }
          ],
          "heatmap": [
           {
            "colorbar": {
             "outlinewidth": 0,
             "ticks": ""
            },
            "colorscale": [
             [
              0,
              "#0d0887"
             ],
             [
              0.1111111111111111,
              "#46039f"
             ],
             [
              0.2222222222222222,
              "#7201a8"
             ],
             [
              0.3333333333333333,
              "#9c179e"
             ],
             [
              0.4444444444444444,
              "#bd3786"
             ],
             [
              0.5555555555555556,
              "#d8576b"
             ],
             [
              0.6666666666666666,
              "#ed7953"
             ],
             [
              0.7777777777777778,
              "#fb9f3a"
             ],
             [
              0.8888888888888888,
              "#fdca26"
             ],
             [
              1,
              "#f0f921"
             ]
            ],
            "type": "heatmap"
           }
          ],
          "histogram": [
           {
            "marker": {
             "pattern": {
              "fillmode": "overlay",
              "size": 10,
              "solidity": 0.2
             }
            },
            "type": "histogram"
           }
          ],
          "histogram2d": [
           {
            "colorbar": {
             "outlinewidth": 0,
             "ticks": ""
            },
            "colorscale": [
             [
              0,
              "#0d0887"
             ],
             [
              0.1111111111111111,
              "#46039f"
             ],
             [
              0.2222222222222222,
              "#7201a8"
             ],
             [
              0.3333333333333333,
              "#9c179e"
             ],
             [
              0.4444444444444444,
              "#bd3786"
             ],
             [
              0.5555555555555556,
              "#d8576b"
             ],
             [
              0.6666666666666666,
              "#ed7953"
             ],
             [
              0.7777777777777778,
              "#fb9f3a"
             ],
             [
              0.8888888888888888,
              "#fdca26"
             ],
             [
              1,
              "#f0f921"
             ]
            ],
            "type": "histogram2d"
           }
          ],
          "histogram2dcontour": [
           {
            "colorbar": {
             "outlinewidth": 0,
             "ticks": ""
            },
            "colorscale": [
             [
              0,
              "#0d0887"
             ],
             [
              0.1111111111111111,
              "#46039f"
             ],
             [
              0.2222222222222222,
              "#7201a8"
             ],
             [
              0.3333333333333333,
              "#9c179e"
             ],
             [
              0.4444444444444444,
              "#bd3786"
             ],
             [
              0.5555555555555556,
              "#d8576b"
             ],
             [
              0.6666666666666666,
              "#ed7953"
             ],
             [
              0.7777777777777778,
              "#fb9f3a"
             ],
             [
              0.8888888888888888,
              "#fdca26"
             ],
             [
              1,
              "#f0f921"
             ]
            ],
            "type": "histogram2dcontour"
           }
          ],
          "mesh3d": [
           {
            "colorbar": {
             "outlinewidth": 0,
             "ticks": ""
            },
            "type": "mesh3d"
           }
          ],
          "parcoords": [
           {
            "line": {
             "colorbar": {
              "outlinewidth": 0,
              "ticks": ""
             }
            },
            "type": "parcoords"
           }
          ],
          "pie": [
           {
            "automargin": true,
            "type": "pie"
           }
          ],
          "scatter": [
           {
            "fillpattern": {
             "fillmode": "overlay",
             "size": 10,
             "solidity": 0.2
            },
            "type": "scatter"
           }
          ],
          "scatter3d": [
           {
            "line": {
             "colorbar": {
              "outlinewidth": 0,
              "ticks": ""
             }
            },
            "marker": {
             "colorbar": {
              "outlinewidth": 0,
              "ticks": ""
             }
            },
            "type": "scatter3d"
           }
          ],
          "scattercarpet": [
           {
            "marker": {
             "colorbar": {
              "outlinewidth": 0,
              "ticks": ""
             }
            },
            "type": "scattercarpet"
           }
          ],
          "scattergeo": [
           {
            "marker": {
             "colorbar": {
              "outlinewidth": 0,
              "ticks": ""
             }
            },
            "type": "scattergeo"
           }
          ],
          "scattergl": [
           {
            "marker": {
             "colorbar": {
              "outlinewidth": 0,
              "ticks": ""
             }
            },
            "type": "scattergl"
           }
          ],
          "scattermap": [
           {
            "marker": {
             "colorbar": {
              "outlinewidth": 0,
              "ticks": ""
             }
            },
            "type": "scattermap"
           }
          ],
          "scattermapbox": [
           {
            "marker": {
             "colorbar": {
              "outlinewidth": 0,
              "ticks": ""
             }
            },
            "type": "scattermapbox"
           }
          ],
          "scatterpolar": [
           {
            "marker": {
             "colorbar": {
              "outlinewidth": 0,
              "ticks": ""
             }
            },
            "type": "scatterpolar"
           }
          ],
          "scatterpolargl": [
           {
            "marker": {
             "colorbar": {
              "outlinewidth": 0,
              "ticks": ""
             }
            },
            "type": "scatterpolargl"
           }
          ],
          "scatterternary": [
           {
            "marker": {
             "colorbar": {
              "outlinewidth": 0,
              "ticks": ""
             }
            },
            "type": "scatterternary"
           }
          ],
          "surface": [
           {
            "colorbar": {
             "outlinewidth": 0,
             "ticks": ""
            },
            "colorscale": [
             [
              0,
              "#0d0887"
             ],
             [
              0.1111111111111111,
              "#46039f"
             ],
             [
              0.2222222222222222,
              "#7201a8"
             ],
             [
              0.3333333333333333,
              "#9c179e"
             ],
             [
              0.4444444444444444,
              "#bd3786"
             ],
             [
              0.5555555555555556,
              "#d8576b"
             ],
             [
              0.6666666666666666,
              "#ed7953"
             ],
             [
              0.7777777777777778,
              "#fb9f3a"
             ],
             [
              0.8888888888888888,
              "#fdca26"
             ],
             [
              1,
              "#f0f921"
             ]
            ],
            "type": "surface"
           }
          ],
          "table": [
           {
            "cells": {
             "fill": {
              "color": "#EBF0F8"
             },
             "line": {
              "color": "white"
             }
            },
            "header": {
             "fill": {
              "color": "#C8D4E3"
             },
             "line": {
              "color": "white"
             }
            },
            "type": "table"
           }
          ]
         },
         "layout": {
          "annotationdefaults": {
           "arrowcolor": "#2a3f5f",
           "arrowhead": 0,
           "arrowwidth": 1
          },
          "autotypenumbers": "strict",
          "coloraxis": {
           "colorbar": {
            "outlinewidth": 0,
            "ticks": ""
           }
          },
          "colorscale": {
           "diverging": [
            [
             0,
             "#8e0152"
            ],
            [
             0.1,
             "#c51b7d"
            ],
            [
             0.2,
             "#de77ae"
            ],
            [
             0.3,
             "#f1b6da"
            ],
            [
             0.4,
             "#fde0ef"
            ],
            [
             0.5,
             "#f7f7f7"
            ],
            [
             0.6,
             "#e6f5d0"
            ],
            [
             0.7,
             "#b8e186"
            ],
            [
             0.8,
             "#7fbc41"
            ],
            [
             0.9,
             "#4d9221"
            ],
            [
             1,
             "#276419"
            ]
           ],
           "sequential": [
            [
             0,
             "#0d0887"
            ],
            [
             0.1111111111111111,
             "#46039f"
            ],
            [
             0.2222222222222222,
             "#7201a8"
            ],
            [
             0.3333333333333333,
             "#9c179e"
            ],
            [
             0.4444444444444444,
             "#bd3786"
            ],
            [
             0.5555555555555556,
             "#d8576b"
            ],
            [
             0.6666666666666666,
             "#ed7953"
            ],
            [
             0.7777777777777778,
             "#fb9f3a"
            ],
            [
             0.8888888888888888,
             "#fdca26"
            ],
            [
             1,
             "#f0f921"
            ]
           ],
           "sequentialminus": [
            [
             0,
             "#0d0887"
            ],
            [
             0.1111111111111111,
             "#46039f"
            ],
            [
             0.2222222222222222,
             "#7201a8"
            ],
            [
             0.3333333333333333,
             "#9c179e"
            ],
            [
             0.4444444444444444,
             "#bd3786"
            ],
            [
             0.5555555555555556,
             "#d8576b"
            ],
            [
             0.6666666666666666,
             "#ed7953"
            ],
            [
             0.7777777777777778,
             "#fb9f3a"
            ],
            [
             0.8888888888888888,
             "#fdca26"
            ],
            [
             1,
             "#f0f921"
            ]
           ]
          },
          "colorway": [
           "#636efa",
           "#EF553B",
           "#00cc96",
           "#ab63fa",
           "#FFA15A",
           "#19d3f3",
           "#FF6692",
           "#B6E880",
           "#FF97FF",
           "#FECB52"
          ],
          "font": {
           "color": "#2a3f5f"
          },
          "geo": {
           "bgcolor": "white",
           "lakecolor": "white",
           "landcolor": "#E5ECF6",
           "showlakes": true,
           "showland": true,
           "subunitcolor": "white"
          },
          "hoverlabel": {
           "align": "left"
          },
          "hovermode": "closest",
          "mapbox": {
           "style": "light"
          },
          "paper_bgcolor": "white",
          "plot_bgcolor": "#E5ECF6",
          "polar": {
           "angularaxis": {
            "gridcolor": "white",
            "linecolor": "white",
            "ticks": ""
           },
           "bgcolor": "#E5ECF6",
           "radialaxis": {
            "gridcolor": "white",
            "linecolor": "white",
            "ticks": ""
           }
          },
          "scene": {
           "xaxis": {
            "backgroundcolor": "#E5ECF6",
            "gridcolor": "white",
            "gridwidth": 2,
            "linecolor": "white",
            "showbackground": true,
            "ticks": "",
            "zerolinecolor": "white"
           },
           "yaxis": {
            "backgroundcolor": "#E5ECF6",
            "gridcolor": "white",
            "gridwidth": 2,
            "linecolor": "white",
            "showbackground": true,
            "ticks": "",
            "zerolinecolor": "white"
           },
           "zaxis": {
            "backgroundcolor": "#E5ECF6",
            "gridcolor": "white",
            "gridwidth": 2,
            "linecolor": "white",
            "showbackground": true,
            "ticks": "",
            "zerolinecolor": "white"
           }
          },
          "shapedefaults": {
           "line": {
            "color": "#2a3f5f"
           }
          },
          "ternary": {
           "aaxis": {
            "gridcolor": "white",
            "linecolor": "white",
            "ticks": ""
           },
           "baxis": {
            "gridcolor": "white",
            "linecolor": "white",
            "ticks": ""
           },
           "bgcolor": "#E5ECF6",
           "caxis": {
            "gridcolor": "white",
            "linecolor": "white",
            "ticks": ""
           }
          },
          "title": {
           "x": 0.05
          },
          "xaxis": {
           "automargin": true,
           "gridcolor": "white",
           "linecolor": "white",
           "ticks": "",
           "title": {
            "standoff": 15
           },
           "zerolinecolor": "white",
           "zerolinewidth": 2
          },
          "yaxis": {
           "automargin": true,
           "gridcolor": "white",
           "linecolor": "white",
           "ticks": "",
           "title": {
            "standoff": 15
           },
           "zerolinecolor": "white",
           "zerolinewidth": 2
          }
         }
        },
        "title": {
         "text": "<b>Loss of Model</b>"
        },
        "xaxis": {
         "title": {
          "text": "Epoch"
         }
        },
        "yaxis": {
         "title": {
          "text": "Loss"
         }
        }
       }
      }
     },
     "metadata": {},
     "output_type": "display_data"
    }
   ],
   "source": [
    "import plotly.graph_objects as go\n",
    "\n",
    "fig = go.Figure( ) \n",
    "fig.add_trace(go.Scattergl(y=history.history['loss'],name='loss')) \n",
    "fig.add_trace(go.Scattergl(y=history.history['val_loss'],name='val_loss')) \n",
    "fig.update_layout(title=\"<b>Loss of Model</b>\", xaxis_title='Epoch', yaxis_title='Loss')\n",
    "fig.show( )"
   ]
  },
  {
   "cell_type": "code",
   "execution_count": 9,
   "metadata": {
    "colab": {
     "base_uri": "https://localhost:8080/"
    },
    "executionInfo": {
     "elapsed": 10,
     "status": "ok",
     "timestamp": 1657989037255,
     "user": {
      "displayName": "한성",
      "userId": "01280908312724634418"
     },
     "user_tz": -540
    },
    "id": "_cjQ1DXl1_Z-",
    "outputId": "d28985b4-ef2e-464e-a929-ea0e0c744762"
   },
   "outputs": [
    {
     "name": "stdout",
     "output_type": "stream",
     "text": [
      "\u001b[1m1/1\u001b[0m \u001b[32m━━━━━━━━━━━━━━━━━━━━\u001b[0m\u001b[37m\u001b[0m \u001b[1m0s\u001b[0m 66ms/step\n",
      "[[38.56941]]\n"
     ]
    }
   ],
   "source": [
    "import numpy as np\n",
    "x_test = np.array([(91.1, 152.7)])\n",
    "#y_test = [39.1]\n",
    "\n",
    "print(model.predict(x_test))"
   ]
  },
  {
   "cell_type": "code",
   "execution_count": null,
   "metadata": {
    "colab": {
     "base_uri": "https://localhost:8080/"
    },
    "executionInfo": {
     "elapsed": 469,
     "status": "ok",
     "timestamp": 1657989037719,
     "user": {
      "displayName": "한성",
      "userId": "01280908312724634418"
     },
     "user_tz": -540
    },
    "id": "EsNaKGgs2Bj7",
    "outputId": "df41486a-7eae-4de3-f1d6-9b87d8a6c2ed"
   },
   "outputs": [
    {
     "name": "stdout",
     "output_type": "stream",
     "text": [
      "53/53 [==============================] - 0s 1ms/step - loss: 0.3616 - mae: 0.3616 - mse: 0.4038\n"
     ]
    },
    {
     "data": {
      "text/plain": [
       "[0.36158815026283264, 0.36158815026283264, 0.4038422703742981]"
      ]
     },
     "execution_count": 10,
     "metadata": {},
     "output_type": "execute_result"
    }
   ],
   "source": [
    "model.evaluate(test_x, test_y)"
   ]
  },
  {
   "cell_type": "code",
   "execution_count": null,
   "metadata": {
    "id": "cQ-UI4Ah2EOl"
   },
   "outputs": [],
   "source": []
  }
 ],
 "metadata": {
  "colab": {
   "authorship_tag": "ABX9TyPN4FDNS6c3TA4AKJ0woZlV",
   "collapsed_sections": [],
   "provenance": []
  },
  "kernelspec": {
   "display_name": "base",
   "language": "python",
   "name": "python3"
  },
  "language_info": {
   "codemirror_mode": {
    "name": "ipython",
    "version": 3
   },
   "file_extension": ".py",
   "mimetype": "text/x-python",
   "name": "python",
   "nbconvert_exporter": "python",
   "pygments_lexer": "ipython3",
   "version": "3.11.12"
  }
 },
 "nbformat": 4,
 "nbformat_minor": 0
}
