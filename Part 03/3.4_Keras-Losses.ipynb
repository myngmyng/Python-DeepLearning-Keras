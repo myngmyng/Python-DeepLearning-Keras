{
 "cells": [
  {
   "cell_type": "markdown",
   "metadata": {
    "id": "rKCZtrO9PKox"
   },
   "source": [
    "## 1.2.3 손실 함수"
   ]
  },
  {
   "cell_type": "code",
   "execution_count": 2,
   "metadata": {
    "colab": {
     "base_uri": "https://localhost:8080/"
    },
    "executionInfo": {
     "elapsed": 2126,
     "status": "ok",
     "timestamp": 1665327234231,
     "user": {
      "displayName": "한성",
      "userId": "01280908312724634418"
     },
     "user_tz": -540
    },
    "id": "a5GopS6AvRYi",
    "outputId": "7f00abab-212f-4404-bf28-e0aaad0c3332"
   },
   "outputs": [
    {
     "data": {
      "text/plain": [
       "<tf.Tensor: shape=(), dtype=float32, numpy=3.0>"
      ]
     },
     "execution_count": 2,
     "metadata": {},
     "output_type": "execute_result"
    }
   ],
   "source": [
    "import keras\n",
    "\n",
    "y_true = [8, 10]\n",
    "y_pred = [6, 14]\n",
    "\n",
    "mae = keras.losses.MeanAbsoluteError()\n",
    "mae(y_true, y_pred)"
   ]
  },
  {
   "cell_type": "code",
   "execution_count": 3,
   "metadata": {
    "colab": {
     "base_uri": "https://localhost:8080/"
    },
    "executionInfo": {
     "elapsed": 7,
     "status": "ok",
     "timestamp": 1665327234232,
     "user": {
      "displayName": "한성",
      "userId": "01280908312724634418"
     },
     "user_tz": -540
    },
    "id": "XMBlLjNZvVY3",
    "outputId": "2133a9ab-3d52-46ea-8dbb-b2b0b4772fe3"
   },
   "outputs": [
    {
     "name": "stdout",
     "output_type": "stream",
     "text": [
      "2\n",
      "4 \n",
      "\n",
      "3.0\n"
     ]
    }
   ],
   "source": [
    "# loss = abs(y_true - y_pred)\n",
    "print(abs(8 - 6))\n",
    "print(abs(10 - 14), '\\n')\n",
    "\n",
    "print((abs(8 - 6) + abs(10 - 14)) / 2)"
   ]
  },
  {
   "cell_type": "code",
   "execution_count": null,
   "metadata": {
    "id": "IIto_XDKvdK6"
   },
   "outputs": [],
   "source": []
  }
 ],
 "metadata": {
  "colab": {
   "authorship_tag": "ABX9TyNRXeg23MjjNXqTV26z7tv3",
   "collapsed_sections": [],
   "provenance": []
  },
  "kernelspec": {
   "display_name": "base",
   "language": "python",
   "name": "python3"
  },
  "language_info": {
   "codemirror_mode": {
    "name": "ipython",
    "version": 3
   },
   "file_extension": ".py",
   "mimetype": "text/x-python",
   "name": "python",
   "nbconvert_exporter": "python",
   "pygments_lexer": "ipython3",
   "version": "3.11.12"
  }
 },
 "nbformat": 4,
 "nbformat_minor": 0
}
